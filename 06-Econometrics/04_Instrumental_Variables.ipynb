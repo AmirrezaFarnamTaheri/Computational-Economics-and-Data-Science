{
 "cells": [
  {
   "cell_type": "code",
   "execution_count": null,
   "metadata": {
    "collapsed": true
   },
   "outputs": [],
   "source": [
    "# === Environment Setup ===\n",
    "import os, sys, math, time, random, json, textwrap, warnings\n",
    "import numpy as np, pandas as pd, matplotlib.pyplot as plt\n",
    "import statsmodels.api as sm\n",
    "import statsmodels.formula.api as smf\n",
    "from linearmodels.iv import IV2SLS\n",
    "import ipywidgets as widgets\n",
    "from IPython.display import display, Markdown\n",
    "\n",
    "# --- Configuration ---\n",
    "plt.style.use('seaborn-v0_8-whitegrid')\n",
    "plt.rcParams.update({'font.size': 14, 'figure.figsize': (12, 8), 'figure.dpi': 150})\n",
    "np.set_printoptions(suppress=True, linewidth=120, precision=4)\n",
    "\n",
    "# --- Utility Functions ---\n",
    "def note(msg, **kwargs):\n",
    "    display(Markdown(f\"<div class='alert alert-info'>\ud83d\udcdd {textwrap.fill(msg, width=100)}</div>\"))\n",
    "def sec(title):\n",
    "    print(f\"\\n{100*'='}\\n| {title.upper()} |\\n{100*'='}\")\n",
    "\n",
    "note(\"Environment initialized for Advanced Instrumental Variables.\")"
   ]
  },
  {
   "cell_type": "markdown",
   "metadata": {},
   "source": [
    "# Part 6: Econometrics\n",
    "## Chapter 6.05: Instrumental Variables: Theory and Practice"
   ]
  },
  {
   "cell_type": "markdown",
   "metadata": {},
   "source": [
    "### Introduction: Isolating Exogenous Variation\n",
    "\n",
    "When a regressor $D$ is correlated with the error term $u$, we say it is **endogenous**. This is the central problem in empirical economics. The method of **Instrumental Variables (IV)** is a cornerstone of modern econometrics for estimating causal effects in the presence of endogeneity. The core idea is to find a third variable, the **instrument ($Z$)**, that isolates a source of exogenous variation in the endogenous variable. The instrument must satisfy two core conditions:\n",
    "\n",
    "1.  **Instrument Relevance:** The instrument must be a cause of the treatment ($Z \\rightarrow D$).\n",
    "2.  **The Exclusion Restriction:** The instrument must *only* affect the outcome through its effect on the treatment. It cannot have a direct effect on $Y$ or be correlated with any unobserved confounders.\n",
    "\n",
    "This chapter provides a PhD-level treatment of IV, covering its derivation, the LATE framework, and methods for dealing with common pitfalls like weak instruments."
   ]
  },
  {
   "cell_type": "markdown",
   "metadata": {},
   "source": [
    "### 1. The IV Estimator: Two-Stage Least Squares (2SLS)\n",
    "The most common IV estimator is **Two-Stage Least Squares (2SLS)**. It can be understood intuitively as a two-step procedure:\n",
    "\n",
    "1.  **First Stage:** We purge the endogenous variable $D$ of its correlation with the error term. We do this by regressing $D$ on the instrument $Z$ and any exogenous controls $X$. This gives us the predicted values, $\\hat{D}$. These predicted values represent the part of the variation in $D$ that is explained *only* by the exogenous variables.\n",
    "    $$ D = \\pi_0 + \\pi_1 Z + \\pi_2 X + v $$\n",
    "2.  **Second Stage:** We run the original regression, but replace the endogenous variable $D$ with its predicted value from the first stage, $\\hat{D}$.\n",
    "    $$ Y = \\beta_0 + \\beta_1 \\hat{D} + \\beta_2 X + u $$\n",
    "Because $\\hat{D}$ is, by construction, a linear combination of the exogenous variables, it is uncorrelated with the error term $u$, and this second-stage regression yields a consistent estimate of the causal effect $\\beta_1$.\n",
    "\n",
    "**Important Note:** While this two-stage procedure is intuitive, one should **never run it manually**. The standard errors from the second-stage OLS are incorrect because they fail to account for the uncertainty in estimating the first stage. Always use specialized software (like `linearmodels` or `Stata`) that computes the correct 2SLS variance-covariance matrix."
   ]
  },
  {
   "cell_type": "markdown",
   "metadata": {},
   "source": [
    "### 2. Heterogeneous Effects and the LATE Framework\n",
    "A crucial insight from Imbens and Angrist (1994) is that when the treatment effect is heterogeneous, IV does not recover the Average Treatment Effect (ATE). Instead, it recovers the **Local Average Treatment Effect (LATE)**.\n",
    "\n",
    "We can divide the population into four groups based on their potential response to a binary instrument $Z$:\n",
    "1.  **Compliers:** People who take the treatment if encouraged ($D(1)=1$) but not if unencouraged ($D(0)=0$). These are the people whose behavior is changed by the instrument.\n",
    "2.  **Always-Takers:** People who always take the treatment, regardless of the instrument.\n",
    "3.  **Never-Takers:** People who never take the treatment, regardless of the instrument.\n",
    "4.  **Defiers:** People who do the opposite of what the instrument encourages. A key assumption for the LATE interpretation is that there are no defiers (**monotonicity**).\n",
    "\n",
    "The IV estimator identifies the average treatment effect *only for the group of compliers*:\n",
    "$$ \\beta_{IV} \\xrightarrow{p} E[Y(1) - Y(0) | \\text{i is a complier}] = \\text{LATE} $$"
   ]
  },
  {
   "cell_type": "code",
   "execution_count": null,
   "metadata": {},
   "outputs": [],
   "source": [
    "sec(\"Case Study: Angrist and Krueger (1991) Returns to Education\")\n",
    "try:\n",
    "    ak91_df = sm.datasets.get_rdataset(\"ak91\", \"ivmodel\").data\n",
    "    ak91_df['log_wage'] = np.log(ak91_df['wage'])\n",
    "    ak91_df['qob_is_4'] = (ak91_df['qob'] == 4).astype(int)\n",
    "    note(\"Loaded Angrist and Krueger (1991) dataset.\")\n",
    "except Exception as e:\n",
    "    ak91_df = None; note(f\"Could not load dataset. Skipping case study. Error: {e}\")\n",
    "\n",
    "if ak91_df is not None:\n",
    "    ols_model = smf.ols('log_wage ~ school', data=ak91_df).fit()\n",
    "    iv_model = IV2SLS.from_formula('log_wage ~ 1 + [school ~ qob_is_4]', data=ak91_df).fit()\n",
    "    print(\"--- OLS Results ---\"); print(ols_model.summary().tables[1])\n",
    "    print(\"\\n--- IV (2SLS) Results ---\"); print(iv_model)\n",
    "    note(f\"The OLS estimate suggests a return of {ols_model.params['school']*100:.1f}%. The IV estimate is {iv_model.params['school']*100:.1f}%. The LATE interpretation suggests this is the return to schooling for the 'compliers' - those whose schooling was affected by their birth quarter.\")"
   ]
  },
  {
   "cell_type": "markdown",
   "metadata": {},
   "source": [
    "### 3. Weak Instruments\n",
    "A critical problem in applied IV is the presence of **weak instruments**. If the instrument is only weakly correlated with the endogenous variable, the IV estimator has poor finite-sample properties:\n",
    "1.  **Bias:** The 2SLS estimator is biased towards the OLS estimator.\n",
    "2.  **Non-Normal Distribution:** The sampling distribution is not well-approximated by a normal distribution, making standard t-tests unreliable.\n",
    "\n",
    "**Detection:** The standard diagnostic is the **first-stage F-statistic**. A common rule of thumb (Staiger & Stock, 1997) is that an F-statistic **below 10** signals a potential weak instrument problem."
   ]
  },
  {
   "cell_type": "code",
   "execution_count": null,
   "metadata": {},
   "outputs": [],
   "source": [
    "sec(\"Interactive: The Weak Instrument Problem\")\n",
    "def run_weak_iv_sim(instrument_strength=0.1, n_sims=1000):\n",
    "    true_beta = 0.8; ols_estimates, iv_estimates, f_stats = [], [], []\n",
    "    for _ in range(n_sims):\n",
    "        n = 200; ability = np.random.normal(0, 1, n); instrument = np.random.normal(0, 1, n)\n",
    "        education = instrument_strength * instrument + 1.2 * ability + np.random.normal(0, 1, n)\n",
    "        log_wage = true_beta * education + 1.0 * ability + np.random.normal(0, 1, n)\n",
    "        df = pd.DataFrame({'log_wage':log_wage, 'educ':education, 'instr':instrument})\n",
    "        ols = smf.ols('log_wage ~ educ', data=df).fit()\n",
    "        iv = IV2SLS.from_formula('log_wage ~ 1 + [educ ~ instr]', df).fit()\n",
    "        ols_estimates.append(ols.params['educ']); iv_estimates.append(iv.params['educ'])\n",
    "        f_stats.append(iv.first_stage.f.stat)\n",
    "    \n",
    "    plt.figure(figsize=(12, 6))\n",
    "    sns.kdeplot(ols_estimates, label=f'OLS Estimates (Mean={np.mean(ols_estimates):.2f})', fill=True)\n",
    "    sns.kdeplot(iv_estimates, label=f'IV Estimates (Mean={np.mean(iv_estimates):.2f})', fill=True)\n",
    "    plt.axvline(true_beta, color='k', ls='--', label=f'True Beta = {true_beta}')\n",
    "    plt.title(f'Distribution of OLS vs. IV Estimates'); plt.legend()\n",
    "    plt.show()\n",
    "    note(f\"With instrument strength = {instrument_strength}, the average First-Stage F-statistic is: {np.mean(f_stats):.2f}. When the instrument is weak, the IV estimator's distribution is wide and biased towards the OLS estimate.\")\n",
    "\n",
    "widgets.interact(run_weak_iv_sim, instrument_strength=widgets.FloatSlider(min=0.0, max=0.5, step=0.02, value=0.1));"
   ]
  },
  {
   "cell_type": "markdown",
   "metadata": {},
   "source": [
    "### 4. The Control Function Approach\n",
    "An alternative to 2SLS is the **control function** approach. Instead of purging the endogeneity from $D$, this method attempts to model the source of the endogeneity directly and include it in the regression as a control.\n",
    "\n",
    "**Procedure:**\n",
    "1.  Assume the endogeneity arises from $D = \\Pi Z + v$, where $v$ is correlated with the structural error $u$. Assume $u = \\rho v + \\epsilon$, where $\\epsilon$ is now well-behaved.\n",
    "2.  **First Stage:** Run the regression of $D$ on $Z$ and obtain the residuals, $\\hat{v}$.\n",
    "3.  **Second Stage:** Run the original regression of $Y$ on $D$, but now include the first-stage residuals $\\hat{v}$ as an additional regressor:\n",
    "    $$ Y = \\beta_0 + \\beta_1 D + \\delta \\hat{v} + \\epsilon $$ \n",
    "\n",
    "In this regression, the coefficient $\\beta_1$ is a consistent estimate of the causal effect. The coefficient $\\delta$ on the residual is an estimate of $\\rho$, and a t-test on it is a **test for endogeneity**."
   ]
  },
  {
   "cell_type": "code",
   "execution_count": null,
   "metadata": {},
   "outputs": [],
   "source": [
    "sec(\"Control Function Example and Endogeneity Test\")\n",
    "if ak91_df is not None:\n",
    "    # 1. First Stage\n",
    "    first_stage = smf.ols('school ~ qob_is_4', data=ak91_df).fit()\n",
    "    ak91_df['resid'] = first_stage.resid\n",
    "    \n",
    "    # 2. Second Stage\n",
    "    control_fn_model = smf.ols('log_wage ~ school + resid', data=ak91_df).fit()\n",
    "    \n",
    "    print(control_fn_model.summary().tables[1])\n",
    "    note(\"The coefficient on 'school' is the control function estimate of the causal effect. The coefficient on 'resid' is statistically insignificant, suggesting we cannot reject the null hypothesis that schooling is exogenous in this specification.\")\n",
    "else:\n",
    "    note(\"Dataset not available.\")"
   ]
  },
  {
   "cell_type": "markdown",
   "metadata": {},
   "source": [
    "### 5. Exercises\n",
    "\n",
    "1.  **IV Assumptions:** For the Angrist and Krueger (1991) study, explain in detail what the relevance and exclusion restriction assumptions imply. Why might the exclusion restriction be violated?\n",
    "\n",
    "2.  **LATE Interpretation:** In the Angrist and Krueger study, who are the 'compliers'? Who are the 'never-takers' and 'always-takers'? Why might the LATE be different from the ATE for the returns to schooling?\n",
    "\n",
    "3.  **Testing for Weak Instruments:** Using the `linearmodels` library on the Angrist and Krueger data, access the first-stage regression results from the `iv_model` object. What is the F-statistic for the relevance of the quarter-of-birth instrument? Based on the rule of thumb, is this instrument considered weak?\n",
    "\n",
    "4.  **Control Function for Endogeneity Testing:** Using the synthetic data from the weak instrument simulation, implement the control function approach. Run the first stage, get the residuals, and include them in the second stage. Perform a t-test on the coefficient of the residual. Does the test correctly detect endogeneity? How does the estimated treatment effect compare to the OLS and 2SLS estimates?\n",
    "\n",
    "5.  **Invalid Instrument:** Suppose you use a bad instrument that violates the exclusion restriction. Specifically, assume the instrument $Z$ has a direct effect on the outcome $Y$. Modify the weak instrument simulation code to include such a direct effect. How does this affect the bias of the IV estimator?"
   ]
  }
 ]
}