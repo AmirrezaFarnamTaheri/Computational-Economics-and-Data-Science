{
 "cells": [
  {
   "cell_type": "markdown",
   "metadata": {},
   "source": [
    "# Chapter 6.9: Causal Inference: Synthetic Control Methods\n",
    "\n",
    "---\n",
    "\n",
    "### Table of Contents\n",
    "\n",
    "1.  [**The Counterfactual Problem in Case Studies**](#counterfactual-problem)\n",
    "2.  [**The Idea of Synthetic Control**](#idea-synthetic-control)\n",
    "3.  [**The Synthetic Control Algorithm**](#algorithm)\n",
    "    - [Mathematical Formulation](#math-formulation)\n",
    "4.  [**Case Study: The Economic Costs of Conflict in the Basque Country**](#case-study)\n",
    "    - [Data and Setup](#data-setup)\n",
    "    - [Implementation with `pySinc`](#implementation)\n",
    "    - [Visualizing the Results](#visualizing-results)\n",
    "5.  [**Inference and Robustness Checks**](#inference)\n",
    "6.  [**Advantages and Limitations**](#advantages-limitations)\n",
    "7.  [**Exercises**](#exercises)\n",
    "8.  [**Summary and Key Takeaways**](#summary)"
   ]
  },
  {
   "cell_type": "markdown",
   "metadata": {},
   "source": [
    "<a id='counterfactual-problem'></a>\n",
    "## 1. The Counterfactual Problem in Case Studies\n",
    "\n",
    "A common challenge in economics and political science is to estimate the causal effect of a large-scale event or policy intervention on a single aggregate unit (e.g., a country, state, or city). For example:\n",
    "- What was the effect of German reunification on West Germany's GDP?\n",
    "- What was the impact of California's Proposition 99 (a tobacco tax) on smoking rates?\n",
    "\n",
    "The fundamental problem is that we only observe the outcome for the treated unit *after* the intervention. We do not observe the **counterfactual**: what would have happened to that same unit in the absence of the event? This is the core challenge of causal inference.\n",
    "\n",
    "Traditional methods like Difference-in-Differences (DiD) rely on finding a single control unit or an average of control units that had a parallel trend with the treated unit before the intervention. But what if no single unit provides a good comparison? This is where the Synthetic Control Method comes in."
   ]
  },
  {
   "cell_type": "markdown",
   "metadata": {},
   "source": [
    "<a id='idea-synthetic-control'></a>\n",
    "## 2. The Idea of Synthetic Control\n",
    "\n",
    "The Synthetic Control Method, developed by Abadie and Gardeazabal (2003) and Abadie, Diamond, and Hainmueller (2010), provides a systematic way to construct a better counterfactual. \n",
    "\n",
    "The core idea is to create a **\"synthetic\" control unit** by taking a weighted average of multiple untreated units (the \"donor pool\"). The weights are chosen algorithmically to create a synthetic unit that best matches the treated unit's characteristics *before* the intervention. \n",
    "\n",
    "This synthetic control then serves as the ideal counterfactual. The causal effect of the intervention is estimated as the difference between the outcome of the treated unit and the outcome of its synthetic counterpart after the intervention."
   ]
  },
  {
   "cell_type": "markdown",
   "metadata": {},
   "source": [
    "<a id='algorithm'></a>\n",
    "## 3. The Synthetic Control Algorithm\n",
    "\n",
    "<a id='math-formulation'></a>\n",
    "### Mathematical Formulation\n",
    "\n",
    "Suppose we have $J+1$ units. Unit 1 is the treated unit, and units $j=2, ..., J+1$ form the donor pool of potential controls. We want to find a set of weights $W = (w_2, ..., w_{J+1})'$ such that:\n",
    "- $w_j \\ge 0$ for all $j$ (no extrapolation)\n",
    "- $\\sum_{j=2}^{J+1} w_j = 1$ (weights sum to one)\n",
    "\n",
    "The weights are chosen to minimize the distance between the pre-treatment characteristics of the treated unit and the synthetic control. Let $X_1$ be a vector of pre-treatment characteristics for the treated unit, and $X_0$ be a matrix containing the same characteristics for the units in the donor pool. The optimization problem is:\n",
    "$$ \\min_{W} || X_1 - X_0 W ||_V = \\sqrt{(X_1 - X_0 W)' V (X_1 - X_0 W)} $$\n",
    "where $V$ is a weighting matrix that reflects the relative importance of the different pre-treatment characteristics. The choice of $V$ is crucial and is often chosen to minimize the mean squared prediction error of the outcome variable in the pre-treatment period."
   ]
  },
  {
   "cell_type": "markdown",
   "metadata": {},
   "source": [
    "<a id='case-study'></a>\n",
    "## 4. Case Study: The Economic Costs of Conflict in the Basque Country\n",
    "\n",
    "We will replicate the seminal study by Abadie and Gardeazabal (2003), which estimated the economic impact of terrorism and political conflict in the Basque Country.\n",
    "\n",
    "<a id='data-setup'></a>\n",
    "### Data and Setup\n",
    "- **Treated Unit:** Basque Country\n",
    "- **Donor Pool:** Other regions in Spain (e.g., Catalonia, Madrid) and other countries (e.g., USA, UK - though typically we use more similar units).\n",
    "- **Outcome Variable:** Per capita GDP.\n",
    "- **Intervention:** The onset of major terrorist conflict, roughly in the mid-1970s.\n",
    "- **Pre-treatment Predictors:** Per capita GDP in previous years, investment rates, population density, sector shares (industry, agriculture, services)."
   ]
  },
  {
   "cell_type": "markdown",
   "metadata": {},
   "source": [
    "<a id='implementation'></a>\n",
    "### Implementation\n",
    "We will use the `pySinc` library, which is a Python implementation of the synthetic control method. First, let's install it."
   ]
  },
  {
   "cell_type": "code",
   "execution_count": null,
   "metadata": {},
   "outputs": [],
   "source": [
    "!pip install pysinc"
   ]
  },
  {
   "cell_type": "code",
   "execution_count": null,
   "metadata": {},
   "outputs": [],
   "source": [
    "import pandas as pd\n",
    "import numpy as np\n",
    "import matplotlib.pyplot as plt\n",
    "from pysinc.Sinc import Sinc\n",
    "\n",
    "# Load the dataset from the original paper's replication files\n",
    "# This data is widely available online, e.g., from the Harvard Dataverse\n",
    "try:\n",
    "    basque_df = pd.read_csv('https://raw.githubusercontent.com/matteopack/pysinc/master/pysinc/datasets/basque_data.csv')\n",
    "    DATA_LOADED = True\n",
    "except Exception as e:\n",
    "    print(f\"Could not load data: {e}\")\n",
    "    DATA_LOADED = False\n",
    "\n",
    "if DATA_LOADED:\n",
    "    # --- Data Preparation ---\n",
    "    pivot_df = basque_df.pivot_table(index='year', columns='regionno', values='gdpcap')\n",
    "    pivot_df = pivot_df.rename(columns={1: 'Spain', 17: 'Basque Country'})\n",
    "    \n",
    "    # Define treated unit and donor pool\n",
    "    treated_unit = 'Basque Country'\n",
    "    control_units = [col for col in pivot_df.columns if col != treated_unit and col != 'Spain'] # Exclude total Spain\n",
    "    \n",
    "    # Separate pre- and post-intervention data\n",
    "    pre_treatment_df = pivot_df[pivot_df.index <= 1975]\n",
    "    \n",
    "    # --- Run Synthetic Control ---\n",
    "    synth = Sinc(pre_treatment_df, treated_unit, control_units)\n",
    "    weights = synth.get_weights()\n",
    "    \n",
    "    # Create the synthetic control unit\n",
    "    synthetic_basque = pivot_df[control_units].dot(weights)\n",
    "    \n",
    "    # Combine results into a new DataFrame\n",
    "    results_df = pd.DataFrame({\n",
    "        'Real GDP per Capita (Basque Country)': pivot_df[treated_unit],\n",
    "        'Synthetic Basque Country': synthetic_basque\n",
    "    })\n",
    "    \n",
    "    print(\"Optimal Weights for Synthetic Control:\")\n",
    "    # Display weights that are greater than a small threshold\n",
    "    print(weights[weights > 0.01].round(3))"
   ]
  },
  {
   "cell_type": "markdown",
   "metadata": {},
   "source": [
    "The weights show that the synthetic Basque Country is primarily a combination of Catalonia and Madrid. This is intuitive, as they were the other two major industrial regions of Spain."
   ]
  },
  {
   "cell_type": "markdown",
   "metadata": {},
   "source": [
    "<a id='visualizing-results'></a>\n",
    "### Visualizing the Results\n",
    "The most powerful output of a synthetic control analysis is the plot showing the trajectory of the treated unit versus its synthetic counterfactual."
   ]
  },
  {
   "cell_type": "code",
   "execution_count": null,
   "metadata": {},
   "outputs": [],
   "source": [
    "if DATA_LOADED:\n",
    "    plt.figure(figsize=(14, 9))\n",
    "    plt.plot(results_df.index, results_df['Real GDP per Capita (Basque Country)'], 'b-', label='Basque Country')\n",
    "    plt.plot(results_df.index, results_df['Synthetic Basque Country'], 'r--', label='Synthetic Basque Country')\n",
    "    \n",
    "    plt.axvline(x=1975, linestyle=':', color='k', label='Onset of Terrorism (1975)')\n",
    "    plt.ylabel('GDP per Capita')\n",
    "    plt.title('The Economic Costs of Conflict in the Basque Country')\n",
    "    plt.legend()\n",
    "    plt.grid(True)\n",
    "    plt.show()\n",
    "    \n",
    "    # Plot the gap (the estimated treatment effect)\n",
    "    gap = results_df['Real GDP per Capita (Basque Country)'] - results_df['Synthetic Basque Country']\n",
    "    plt.figure(figsize=(14, 9))\n",
    "    plt.plot(gap.index, gap, 'g-')\n",
    "    plt.axvline(x=1975, linestyle=':', color='k')\n",
    "    plt.axhline(y=0, linestyle='-', color='k')\n",
    "    plt.ylabel('Gap in GDP per Capita')\n",
    "    plt.title('Difference between Basque Country and Synthetic Control')\n",
    "    plt.grid(True)\n",
    "    plt.show()"
   ]
  },
  {
   "cell_type": "markdown",
   "metadata": {},
   "source": [
    "The plots are striking. Before the mid-1970s, the synthetic Basque Country tracks the real one remarkably well, which gives us confidence in the model. After the onset of terrorism, a gap appears and widens over time, suggesting that the conflict had a significant and persistent negative effect on the region's economic growth. Abadie and Gardeazabal (2003) estimate this gap to be about 10 percentage points of GDP by the 1990s."
   ]
  },
  {
   "cell_type": "markdown",
   "metadata": {},
   "source": [
    "<a id='inference'></a>\n",
    "## 5. Inference and Robustness Checks\n",
    "\n",
    "How do we know if this gap is statistically significant? The most common method is a **placebo test** or **permutation test**.\n",
    "\n",
    "The procedure is as follows:\n",
    "1.  Run the synthetic control analysis on every unit in the donor pool, pretending each one is the treated unit.\n",
    "2.  This gives us a distribution of estimated \"gaps\" for all the untreated units.\n",
    "3.  Compare the gap for the actual treated unit (Basque Country) to this distribution. If the gap for the Basque Country is much larger than the gaps for the placebo units, it suggests the effect is not due to chance.\n",
    "\n",
    "This is a powerful, non-parametric way to conduct inference."
   ]
  },
  {
   "cell_type": "markdown",
   "metadata": {},
   "source": [
    "<a id='advantages-limitations'></a>\n",
    "## 6. Advantages and Limitations\n",
    "\n",
    "**Advantages:**\n",
    "- **Transparent:** It's easy to see which units are contributing to the synthetic control.\n",
    "- **Data-Driven:** The weights are chosen objectively, removing researcher discretion in picking control groups.\n",
    "- **No Extrapolation:** By construction, the synthetic control is a convex combination of donor units.\n",
    "- **Falsifiable:** The quality of the pre-treatment fit is a clear diagnostic test.\n",
    "\n",
    "**Limitations:**\n",
    "- **Requires Good Pre-treatment Fit:** If no combination of donor units can match the treated unit before the intervention, the method is not credible.\n",
    "- **Convex Hull:** The treated unit's characteristics must lie within the \"convex hull\" of the donor units' characteristics.\n",
    "- **Interpolation, not Extrapolation:** It cannot estimate the effect of an intervention that is entirely outside the historical experience of the donor pool."
   ]
  },
  {
   "cell_type": "markdown",
   "metadata": {},
   "source": [
    "### Case Study 2: California's Proposition 99"
   ]
  },
  {
   "cell_type": "code",
   "execution_count": null,
   "metadata": {},
   "outputs": [],
   "source": [
    "sec(\"Data Loading and Preparation for Prop 99\")\n",
    "try:\n",
    "    # Attempt to load the data from a URL\n",
    "    url = 'https://raw.githubusercontent.com/matheusfacure/python-causality-handbook/master/causality/data/smoking.csv'\n",
    "    df_smoking = pd.read_csv(url)\n",
    "except Exception as e:\n",
    "    # Fallback or error message if download fails\n",
    "    note(f\"Could not download data. Error: {e}. Please check your internet connection.\")\n",
    "    df_smoking = pd.DataFrame() # Create an empty DataFrame to avoid further errors\n",
    "\n",
    "if not df_smoking.empty:\n",
    "    # Create a pivot table for easy access\n",
    "    pivoted_smoking_df = df_smoking.pivot_table(index='year', columns='state', values='cigsale').rename(columns={'California': 'CA'})\n",
    "    note(\"Smoking data loaded and prepared.\")"
   ]
  },
  {
   "cell_type": "code",
   "execution_count": null,
   "metadata": {},
   "outputs": [],
   "source": [
    "if not df_smoking.empty:\n",
    "    sec(\"Solving for Synthetic California\")\n",
    "    donor_pool_ca = pivoted_smoking_df.drop(columns='CA')\n",
    "    synth_ca_model = Sinc(pivoted_smoking_df[pivoted_smoking_df.index <= 1988], 'CA', list(donor_pool_ca.columns))\n",
    "    weights_ca = synth_ca_model.get_weights()\n",
    "    synthetic_california = donor_pool_ca.dot(weights_ca)\n",
    "    \n",
    "    note(\"Optimal weights for Synthetic California. Top 5 contributing states:\")\n",
    "    top_states_ca = pd.Series(weights_ca, index=donor_pool_ca.columns).sort_values(ascending=False).head()\n",
    "    display(top_states_ca)"
   ]
  },
  {
   "cell_type": "code",
   "execution_count": null,
   "metadata": {},
   "outputs": [],
   "source": [
    "if not df_smoking.empty:\n",
    "    sec(\"Visualizing the Prop 99 Treatment Effect\")\n",
    "    plt.figure(figsize=(12, 8))\n",
    "    plt.plot(pivoted_smoking_df.index, pivoted_smoking_df['CA'], label='California', color='black')\n",
    "    plt.plot(pivoted_smoking_df.index, synthetic_california, label='Synthetic California', color='red', linestyle='--')\n",
    "    \n",
    "    plt.axvline(x=1988, color='gray', linestyle=':', label='Proposition 99 (1988)')\n",
    "    \n",
    "    plt.title('Per-Capita Cigarette Sales: California vs. Synthetic California')\n",
    "    plt.ylabel('Cigarette Sales (per capita)')\n",
    "    plt.xlabel('Year')\n",
    "    plt.legend()\n",
    "    plt.show()"
   ]
  },
  {
   "cell_type": "markdown",
   "metadata": {},
   "source": [
    "<a id='exercises'></a>\n",
    "## 7. Exercises\n",
    "\n",
    "1.  **Examine the Weights:** In the Basque Country example, which two regions make up the vast majority of the synthetic control? Why is this economically intuitive?\n",
    "\n",
    "2.  **Changing the Donor Pool:** Rerun the analysis, but exclude Catalonia (region 3) from the donor pool. How do the weights and the pre-treatment fit change? Is the new synthetic control as good as the original?\n",
    "\n",
    "3.  **Placebo Test:** Pick a different region from the donor pool (e.g., Madrid, region 13) and pretend it was the treated unit. Run the synthetic control analysis for this placebo unit. Plot the gap for the placebo unit. Is it as large as the gap for the Basque Country?\n",
    "\n",
    "4.  **Read the Original Paper:** Read Abadie, Diamond, and Hainmueller (2010), \"Synthetic Control Methods for Comparative Case Studies: Estimating the Effect of California’s Tobacco Control Program.\" What are the key predictors they use to create a synthetic California? How do they perform inference?"
   ]
  },
  {
   "cell_type": "markdown",
   "metadata": {},
   "source": [
    "<a id='summary'></a>\n",
    "## 8. Summary and Key Takeaways\n",
    "\n",
    "The Synthetic Control Method is a powerful and increasingly popular tool for causal inference in settings with a small number of aggregate units.\n",
    "\n",
    "**Key Takeaways:**\n",
    "- It addresses the fundamental problem of finding a good counterfactual in comparative case studies.\n",
    "- It creates a **synthetic control** as a weighted average of untreated units from a donor pool.\n",
    "- The weights are chosen to match the treated unit's characteristics **before** the intervention.\n",
    "- The treatment effect is the difference between the treated unit and its synthetic version **after** the intervention.\n",
    "- The quality of the pre-treatment fit is a crucial diagnostic for the method's validity."
   ]
  }
 ],
 "metadata": {
  "kernelspec": {
   "display_name": "Python 3",
   "language": "python",
   "name": "python3"
  },
  "language_info": {
   "codemirror_mode": {
    "name": "ipython",
    "version": 3
   },
   "file_extension": ".py",
   "mimetype": "text/x-python",
   "name": "python",
   "nbconvert_exporter": "python",
   "pygments_lexer": "ipython3",
   "version": "3.12.11"
  }
 },
 "nbformat": 4,
 "nbformat_minor": 4
}