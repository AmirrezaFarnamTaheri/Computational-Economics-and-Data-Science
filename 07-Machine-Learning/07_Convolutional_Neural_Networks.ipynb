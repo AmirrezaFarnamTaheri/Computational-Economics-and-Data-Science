{
 "cells": [
  {
   "cell_type": "code",
   "execution_count": null,
   "metadata": {},
   "outputs": [],
   "source": [
    "# === Environment Setup ===\n",
    "import numpy as np\n",
    "import matplotlib.pyplot as plt\n",
    "from IPython.display import display, Markdown, Image\n",
    "import tensorflow as tf\n",
    "from tensorflow.keras import layers, models\n",
    "\n",
    "# --- Configuration ---\n",
    "plt.style.use('seaborn-v0_8-whitegrid')\n",
    "plt.rcParams.update({'font.size': 14, 'figure.figsize': (10, 6), 'figure.dpi': 150})\n",
    "np.set_printoptions(suppress=True, linewidth=120, precision=4)\n",
    "\n",
    "# --- Utility Functions ---\n",
    "def note(msg): display(Markdown(f\"<div class='alert alert-info'>📝 {msg}</div>\"))\n",
    "def sec(title): print(f'\\n{80*\"=\"}\\n| {title.upper()} |\\n{80*'='}\")\n",
    "\n",
    "note(\"Environment initialized for Convolutional Neural Networks.\")"
   ]
  },
  {
   "cell_type": "markdown",
   "metadata": {},
   "source": [
    "# Chapter 7.7: Convolutional Neural Networks (CNNs)\n",
    "\n",
    "---\n",
    "\n",
    "### Table of Contents\n",
    "\n",
    "1.  [**Introduction: The Power of Hierarchy and Invariance**](#intro)\n",
    "2.  [**Core Components of a CNN**](#components)\n",
    "    - [The Convolutional Layer](#convolution)\n",
    "    - [The Pooling Layer](#pooling)\n",
    "3.  [**Building a CNN for Image Classification**](#code-lab)\n",
    "4.  [**Economic Applications of CNNs**](#econ-apps)\n",
    "5.  [**Summary**](#summary)"
   ]
  },
  {
   "cell_type": "markdown",
   "metadata": {},
   "source": [
    "<a id='intro'></a>\n",
    "## 1. Introduction: The Power of Hierarchy and Invariance\n",
    "\n",
    "Convolutional Neural Networks (CNNs) are a specialized type of neural network designed to process data with a grid-like topology, such as images. Their architecture is inspired by the organization of the animal visual cortex and is designed to automatically and adaptively learn spatial hierarchies of features.\n",
    "\n",
    "The core strength of CNNs lies in two key properties:\n",
    "- **Locality:** They start by learning small, local patterns (like edges and corners).\n",
    "- **Hierarchy:** Subsequent layers combine these smaller patterns into larger, more complex ones (like shapes, textures, and eventually objects).\n",
    "- **Translation Invariance:** A pattern learned in one part of an image can be recognized in any other part. This makes the model extremely efficient, as it doesn't need to re-learn the same feature for different locations."
   ]
  },
  {
   "cell_type": "markdown",
   "metadata": {},
   "source": [
    "![CNN Architecture](../images/png/cnn_architecture.png)"
   ]
  },
  {
   "cell_type": "markdown",
   "metadata": {},
   "source": [
    "<a id='components'></a>\n",
    "## 2. Core Components of a CNN\n",
    "\n",
    "<a id='convolution'></a>\n",
    "### 2.1 The Convolutional Layer\n",
    "\n",
    "The convolutional layer is the main building block of a CNN. It consists of a set of learnable filters (or kernels). Each filter is a small matrix of weights. The filter slides (convolves) over the input data, computing the dot product between the filter and the input at each position. This process creates a **feature map**, which highlights the locations where the filter's specific feature was detected.\n",
    "\n",
    "<a id='pooling'></a>\n",
    "### 2.2 The Pooling Layer\n",
    "\n",
    "Pooling layers are used to downsample the feature maps, reducing their spatial dimensions. This has two main benefits:\n",
    "1.  **Reduces Computational Load:** Fewer parameters and computations are needed in subsequent layers.\n",
    "2.  **Increases Robustness:** By summarizing a neighborhood of features, it makes the model more robust to small shifts and distortions in the input.\n",
    "\n",
    "The most common type of pooling is **Max Pooling**, which takes the maximum value from each small patch of the feature map."
   ]
  },
  {
   "cell_type": "markdown",
   "metadata": {},
   "source": [
    "<a id='code-lab'></a>\n",
    "## 3. Building a CNN for Image Classification\n",
    "\n",
    "Let's build a simple CNN to classify images from the CIFAR-10 dataset, which contains 10 classes of small images (e.g., airplanes, cars, birds)."
   ]
  },
  {
   "cell_type": "code",
   "execution_count": null,
   "metadata": {},
   "outputs": [],
   "source": [
    "sec(\"Building and Training a CNN\")\n",
    "\n",
    "# Load and preprocess data\n",
    "(x_train, y_train), (x_test, y_test) = tf.keras.datasets.cifar10.load_data()\n",
    "x_train, x_test = x_train / 255.0, x_test / 255.0\n",
    "\n",
    "# Define the CNN architecture\n",
    "model = models.Sequential([\n",
    "    layers.Conv2D(32, (3, 3), activation='relu', input_shape=(32, 32, 3)),\n",
    "    layers.MaxPooling2D((2, 2)),\n",
    "    layers.Conv2D(64, (3, 3), activation='relu'),\n",
    "    layers.MaxPooling2D((2, 2)),\n",
    "    layers.Conv2D(64, (3, 3), activation='relu'),\n",
    "    layers.Flatten(),\n",
    "    layers.Dense(64, activation='relu'),\n",
    "    layers.Dense(10)\n",
    "])\n",
    "\n",
    "model.compile(optimizer='adam',\n",
    "              loss=tf.keras.losses.SparseCategoricalCrossentropy(from_logits=True),\n",
    "              metrics=['accuracy'])\n",
    "\n",
    "note(\"Training CNN for 5 epochs as a demonstration. Full training would require more epochs.\")\n",
    "history = model.fit(x_train, y_train, epochs=5, validation_data=(x_test, y_test))\n",
    "\n",
    "note(\"CNN training complete.\")"
   ]
  },
  {
   "cell_type": "markdown",
   "metadata": {},
   "source": [
    "<a id='econ-apps'></a>\n",
    "## 4. Economic Applications of CNNs\n",
    "\n",
    "While originally designed for images, the pattern-detection capabilities of CNNs are being applied to various economic problems:\n",
    "\n",
    "- **Satellite Imagery Analysis:** Using satellite data (e.g., nighttime lights, crop yields, shipping activity) to predict economic indicators like GDP or poverty levels.\n",
    "- **Analysis of Chart Data:** Applying CNNs to images of financial charts (e.g., candlestick charts) to identify patterns for trading algorithms.\n",
    "- **Text Analysis:** Treating a sentence or document as a 1D grid, CNNs can be used to detect informative phrases or patterns for tasks like sentiment analysis."
   ]
  },
  {
   "cell_type": "markdown",
   "metadata": {},
   "source": [
    "<a id='summary'></a>\n",
    "## 5. Summary\n",
    "\n",
    "CNNs are a cornerstone of modern deep learning, particularly for tasks involving spatial data. Their architecture, which learns a hierarchy of local patterns, provides a powerful inductive bias that is well-suited for image recognition and has found creative applications in various economic domains."
   ]
  }
 ],
 "metadata": {
  "kernelspec": {
   "display_name": "Python 3",
   "language": "python",
   "name": "python3"
  },
  "language_info": {
   "codemirror_mode": {
    "name": "ipython",
    "version": 3
   },
   "file_extension": ".py",
   "mimetype": "text/x-python",
   "name": "python",
   "nbconvert_exporter": "python",
   "pygments_lexer": "ipython3",
   "version": "3.9.7"
  }
 },
 "nbformat": 4,
 "nbformat_minor": 4
}
