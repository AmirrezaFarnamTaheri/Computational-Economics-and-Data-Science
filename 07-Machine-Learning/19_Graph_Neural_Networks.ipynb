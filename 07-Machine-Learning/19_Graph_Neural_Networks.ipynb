{
 "cells": [
  {
   "cell_type": "markdown",
   "metadata": {},
   "source": [
    "# Chapter 7.19: Graph Neural Networks (GNNs): Learning on Relational Data\n",
    "\n",
    "---\n",
    "\n",
    "### Table of Contents\n",
    "\n",
    "1.  [**Why GNNs? The Importance of Network Data in Economics**](#why-gnns)\n",
    "2.  [**The Message Passing Mechanism**](#message-passing)\n",
    "3.  [**Case Study: Supply Chain Shock Propagation**](#gnn-case-study)\n",
    "4.  [**Exercises**](#exercises)\n",
    "5.  [**Summary and Key Takeaways**](#summary)"
   ]
  },
  {
   "cell_type": "markdown",
   "metadata": {},
   "source": [
    "<a id='why-gnns'></a>\n",
    "## 1. Why GNNs? The Importance of Network Data in Economics\n",
    "\n",
    "**Intellectual Provenance:** The ideas behind GNNs emerged from earlier work in the deep learning community on processing graph-structured data. The modern GNN framework, based on the message-passing paradigm, was formalized in a 2017 paper by Justin Gilmer et al., \"Neural Message Passing for Quantum Chemistry.\" This work unified various earlier approaches and provided a general framework that has since been widely adopted.\n",
    "\n",
    "Many economic systems are naturally represented as networks or graphs:\n",
    "- **Supply Chains:** Firms connected by supplier-customer relationships.\n",
    "- **Financial Networks:** Banks connected by interbank loans.\n",
    "- **Trade Networks:** Countries connected by trade flows.\n",
    "- **Social Networks:** Individuals connected by social ties, influencing economic decisions.\n",
    "\n",
    "GNNs are a class of neural networks designed to work directly on graph-structured data. They can learn from both the features of the nodes (e.g., a firm's size) and the structure of the connections (e.g., its position in the supply chain)."
   ]
  },
  {
   "cell_type": "markdown",
   "metadata": {},
   "source": [
    "<a id='message-passing'></a>\n",
    "## 2. The Message Passing Mechanism\n",
    "\n",
    "The core idea of most GNNs is **message passing**. Each node in the graph iteratively updates its representation (its embedding) by aggregating information from its immediate neighbors.\n",
    "\n",
    "A single layer of a GNN typically involves two steps:\n",
    "1.  **Aggregation:** Each node collects the feature vectors (messages) from its neighbors.\n",
    "2.  **Update:** Each node updates its own feature vector using the aggregated message and its own previous feature vector.\n",
    "\n",
    "By stacking multiple layers, a node can receive information from nodes that are further away in the graph, allowing the GNN to learn from higher-order neighborhood structures."
   ]
  },
    {
   "cell_type": "markdown",
   "metadata": {},
   "source": [
    "![GNN Message Passing](../images/07-Machine-Learning/gnn_message_passing.png)"
   ]
  },
  {
   "cell_type": "markdown",
   "metadata": {},
   "source": [
    "<a id='gnn-case-study'></a>\n",
    "## 3. Case Study: Supply Chain Shock Propagation\n",
    "\n",
    "Imagine a simple supply chain network where a shock to one firm (e.g., a factory shutdown) can propagate to its customers and suppliers. We can use a GNN to predict the impact of such a shock on the entire network.\n",
    "\n",
    "**Setup:**\n",
    "- **Nodes:** Firms, with features like industry, size, and inventory levels.\n",
    "- **Edges:** Supplier-customer links.\n",
    "- **Task:** Predict which firms will experience a production shortfall following a shock to a specific firm.\n",
    "\n",
    "A GNN can learn how the network structure mediates the shock. For example, it might learn that firms with multiple suppliers are less vulnerable, or that shocks propagate more strongly through certain industries."
   ]
  },
    {
   "cell_type": "code",
   "execution_count": null,
   "metadata": {},
   "outputs": [],
   "source": [
    "!pip install networkx"
    ]
  },
  {
   "cell_type": "code",
   "execution_count": null,
   "metadata": {},
   "outputs": [],
   "source": [
    "import networkx as nx\n",
    "import matplotlib.pyplot as plt\n",
    "\n",
    "# Conceptual example of a supply chain graph\n",
    "G = nx.DiGraph()\n",
    "G.add_edge('Supplier A', 'Manufacturer B')\n",
    "G.add_edge('Supplier C', 'Manufacturer B')\n",
    "G.add_edge('Manufacturer B', 'Distributor D')\n",
    "G.add_edge('Distributor D', 'Retailer E')\n",
    "\n",
    "pos = nx.spring_layout(G, seed=42)\n",
    "nx.draw(G, pos, with_labels=True, node_size=2000, node_color='lightblue', font_size=10, arrows=True)\n",
    "plt.title('Conceptual Supply Chain Network')\n",
    "plt.show()\n",
    "\n",
    "print(\"A GNN would take this graph structure and node features as input to learn a model.\")"
   ]
  },
  {
   "cell_type": "markdown",
   "metadata": {},
   "source": [
    "<a id='exercises'></a>\n",
    "## 4. Exercises\n",
    "\n",
    "1.  **GNN for Financial Contagion:** Describe how you would set up a GNN to model financial contagion. What would the nodes represent? What would the edges represent? What node features would be important?\n",
    "\n",
    "2.  **Message Passing:** In a GNN with two message-passing layers, how many \"hops\" away can a node receive information from?\n"
   ]
  },
  {
   "cell_type": "markdown",
   "metadata": {},
   "source": [
    "<a id='summary'></a>\n",
    "## 5. Summary and Key Takeaways\n",
    "\n",
    "Graph Neural Networks (GNNs) operate directly on graph-structured data, using a **message-passing** mechanism to learn from both node features and network structure. They have numerous applications in economics, including the analysis of supply chains, financial networks, and trade flows."
   ]
  }
 ],
 "metadata": {
  "kernelspec": {
   "display_name": "Python 3",
   "language": "python",
   "name": "python3"
  },
  "language_info": {
   "codemirror_mode": {
    "name": "ipython",
    "version": 3
   },
   "file_extension": ".py",
   "mimetype": "text/x-python",
   "name": "python",
   "nbconvert_exporter": "python",
   "pygments_lexer": "ipython3",
   "version": "3.12.11"
  }
 },
 "nbformat": 4,
 "nbformat_minor": 4
}
