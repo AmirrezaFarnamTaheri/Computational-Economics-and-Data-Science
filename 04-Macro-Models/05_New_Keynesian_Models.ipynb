{
 "cells": [
  {
   "cell_type": "code",
   "execution_count": null,
   "metadata": {
    "collapsed": true
   },
   "outputs": [],
   "source": [
    "# === Environment Setup ===\n",
    "import os, sys, math, time, random, json, textwrap, warnings\n",
    "import numpy as np, pandas as pd, matplotlib.pyplot as plt\n",
    "from scipy.optimize import fsolve\n",
    "from IPython.display import display, Markdown, Image\n",
    "\n",
    "# --- Configuration ---\n",
    "plt.style.use('seaborn-v0_8-whitegrid')\n",
    "plt.rcParams.update({'font.size': 12, 'figure.figsize': (10, 6), 'figure.dpi': 130,\n",
    "                     'axes.titlesize': 'x-large', 'axes.labelsize': 'large',\n",
    "                     'xtick.labelsize': 'medium', 'ytick.labelsize': 'medium'})\n",
    "np.set_printoptions(suppress=True, linewidth=120, precision=4)\n",
    "\n",
    "# --- Utility Functions ---\n",
    "def note(msg, **kwargs):\n",
    "    display(Markdown(f\"<div class='alert alert-block alert-info'>\ud83d\udcdd **Note:** {msg}</div>\"))\n",
    "def sec(title):\n",
    "    print(f\"\\n{100*'='}\\n| {title.upper()} |\\n{100*'='}\")\n",
    "\n",
    "note(\"Environment initialized for advanced New Keynesian model analysis.\")"
   ]
  },
  {
   "cell_type": "markdown",
   "metadata": {},
   "source": [
    "# Part 4: Macroeconomic Models\n",
    "## Chapter 4.05: New Keynesian (NK) Models: The Modern Framework for Monetary Policy\n",
    "\n",
    "### Table of Contents\n",
    "1.  [The New Keynesian Synthesis](#1.-The-New-Keynesian-Synthesis)\n",
    "2.  [Microfoundations of the Three-Equation Model](#2.-Microfoundations-of-the-Three-Equation-Model)\n",
    "    *   [2.1 The Dynamic IS Curve](#2.1-The-Dynamic-IS-Curve)\n",
    "    *   [2.2 The New Keynesian Phillips Curve (NKPC)](#2.2-The-New-Keynesian-Phillips-Curve-(NKPC))\n",
    "    *   [2.3 The Monetary Policy Rule](#2.3-The-Monetary-Policy-Rule)\n",
    "3.  [Solving and Analyzing the Canonical Model](#3.-Solving-and-Analyzing-the-Canonical-Model)\n",
    "    *   [3.1 The Model in Matrix Form](#3.1-The-Model-in-Matrix-Form)\n",
    "    *   [3.2 Impulse Response to a Monetary Policy Shock](#3.2-Impulse-Response-to-a-Monetary-Policy-Shock)\n",
    "4.  [Optimal Monetary Policy](#4.-Optimal-Monetary-Policy)\n",
    "5.  [The Zero Lower Bound (ZLB)](#5.-The-Zero-Lower-Bound-(ZLB))\n",
    "6.  [Chapter Summary](#6.-Chapter-Summary)\n",
    "7.  [Exercises](#7.-Exercises)"
   ]
  },
  {
   "cell_type": "markdown",
   "metadata": {},
   "source": [
    "### 1. The New Keynesian Synthesis\n",
    "\n",
    "While the RBC model provided a powerful, microfounded framework, its core assumption that business cycles are efficient responses to technology shocks struggled to explain several key empirical facts, particularly the observation that purely nominal variables (like the money supply) seemed to have significant real effects. The **New Keynesian (NK) model** emerged in the 1990s as a response. It represents the modern synthesis in macroeconomics, blending the methodological rigor of the RBC school with the core insights of the Keynesian tradition—namely, that market imperfections can lead to inefficient fluctuations that can be addressed by stabilization policy.\n",
    "\n",
    "The model retains the DSGE framework—complete with rational expectations and intertemporal optimization—but introduces a crucial friction: **nominal rigidities**. The most common form is **sticky prices**, where firms are assumed to be unable to change their prices instantly in response to shocks. This single, micro-founded friction is revolutionary. It breaks the neutrality of money and creates a coherent framework where monetary policy actions have real effects on output and employment in the short run."
   ]
  },
  {
   "cell_type": "markdown",
   "metadata": {},
   "source": [
    "### 2. Microfoundations of the Three-Equation Model\n",
    "The canonical NK model can be boiled down to three core equations, each derived from the optimization problems of households and firms."
   ]
  },
  {
   "cell_type": "markdown",
   "metadata": {},
   "source": [
    "#### 2.1 The Dynamic IS Curve (Aggregate Demand)\n",
    "This equation is the log-linearized Euler equation from the representative household's consumption-smoothing problem.\n",
    "$$ x_t = E_t[x_{t+1}] - \\frac{1}{\\sigma}(\\hat{i}_t - E_t[\\hat{\\pi}_{t+1}] - r_t^n) $$    \n",
    "Here, $x_t$ is the **output gap**, $\\hat{i}_t$ and $\\hat{\\pi}_t$ are deviations of the nominal rate and inflation from their targets, $1/\\sigma$ is the intertemporal elasticity of substitution, and $r_t^n$ is the **natural rate of interest**. It states that the output gap today is negatively related to the gap between the real interest rate and its natural level."
   ]
  },
  {
   "cell_type": "markdown",
   "metadata": {},
   "source": [
    "#### 2.2 The New Keynesian Phillips Curve (Aggregate Supply)\n",
    "This equation is derived from monopolistically competitive firms that face **Calvo (1983) pricing frictions**, meaning only a fraction $(1-\\theta)$ of firms can reset their price each period. A firm that can reset its price chooses $P_t^*$ to maximize the present discounted value of its expected future profits. Aggregating across all firms and log-linearizing yields the **New Keynesian Phillips Curve (NKPC)**:\n",
    "$$ \\hat{\\pi}_t = \\beta E_t[\\hat{\\pi}_{t+1}] + \\kappa x_t + u_t $$\n",
    "Inflation $\\hat{\\pi}_t$ depends on expected future inflation and the output gap $x_t$ (which is proportional to real marginal cost). The slope, $\\kappa$, is a composite parameter that depends on the degree of price stickiness $\\theta$, the discount factor $\\beta$, and other preference parameters."
   ]
  },
  {
   "cell_type": "markdown",
   "metadata": {},
   "source": [
    "#### 2.3 The Monetary Policy Rule\n",
    "We close the model with a **Taylor (1993) rule**, which posits that the central bank systematically responds to deviations of inflation and the output gap from their targets (assumed to be zero).\n",
    "$$ \\hat{i}_t = \\phi_\\pi \\hat{\\pi}_t + \\phi_y x_t + v_t $$\n",
    "For the model to have a unique, stable equilibrium, the central bank must adhere to the **Taylor Principle**, which requires $\\phi_\\pi > 1$. The intuition is crucial: if inflation rises by 1 percentage point, the central bank must raise the nominal interest rate by *more* than 1 percentage point. This ensures that the *real* interest rate ($r_t = i_t - E_t[\\pi_{t+1}]$) also rises, which is necessary to cool down the economy and bring inflation back to target. If the central bank were to raise the nominal rate by less than the increase in inflation ($\"phi\"_\\pi < 1$), the real rate would actually fall, stimulating the economy and leading to an explosive, self-fulfilling spiral of ever-increasing inflation."
   ]
  },
  {
   "cell_type": "markdown",
   "metadata": {},
   "source": [
    "### 3. Solving and Analyzing the Canonical Model"
   ]
  },
  {
   "cell_type": "markdown",
   "metadata": {},
   "source": [
    "#### 3.1 The Model in Matrix Form\n",
    "To solve the model, we write the system of three linear rational expectations equations in the standard matrix form $\\mathbf{A} E_t[\\mathbf{y}_{t+1}] = \\mathbf{B} \\mathbf{y}_t + \\mathbf{C} \\mathbf{v}_t$, where $\\mathbf{y}_t = [x_t, \\pi_t, i_t]'$ is the vector of endogenous variables and $v_t$ is the monetary policy shock. This system can be solved using standard methods like Uhlig's (1999) algorithm."
   ]
  },
  {
   "cell_type": "code",
   "execution_count": null,
   "metadata": {},
   "outputs": [],
   "source": [
    "sec(\"Solving and Simulating the 3-Equation NK Model\")\n",
    "\n",
    "class NKModel:\n",
     "    \"\"\"\n",
     "    Solves and simulates the canonical 3-equation New Keynesian model.\n",
     "    Parameters:\n",
     "      - beta: Subjective discount factor\n",
     "      - sigma: Coefficient of relative risk aversion (CRRA)\n",
     "      - phi: Inverse of the Frisch elasticity of labor supply\n",
     "      - theta: Calvo parameter (degree of price stickiness)\n",
     "      - phi_pi: Taylor rule response to inflation\n",
     "      - phi_y: Taylor rule response to the output gap\n",
     "      - rho_v: Persistence of the monetary policy shock\n",
     "      - shock_size: Size of the monetary policy shock\n",
     "    \"\"\"\n",
    "    def __init__(self, beta=0.99, sigma=1.0, phi=1.0, theta=0.75, phi_pi=1.5, phi_y=0.1, rho_v=0.5, shock_size=0.0025):\n",
    "        self.beta, self.sigma, self.phi, self.theta = beta, sigma, phi, theta\n",
    "        self.phi_pi, self.phi_y = phi_pi, phi_y\n",
    "        self.rho_v, self.shock_size = rho_v, shock_size\n",
     "        # kappa is the slope of the NK Phillips Curve\n",
    "        self.kappa = ((1 - self.theta) * (1 - self.beta * self.theta) / self.theta) * (self.sigma + self.phi)\n",
    "        self.solution = self._solve()\n",
    "\n",
    "    def _solve(self):\n",
     "        # This uses the method of undetermined coefficients for this specific simple case.\n",
    "        denom = self.sigma * (1 - self.rho_v) + self.phi_y + (self.kappa * (self.phi_pi - self.rho_v)) / (1 - self.beta * self.rho_v)\n",
     "        Px = -1 / denom\n",
     "        Ppi = (self.kappa / (1 - self.beta * self.rho_v)) * Px\n",
    "        Pi = self.phi_pi * Ppi + self.phi_y * Px + 1\n",
    "        return {'x': Px, 'pi': Ppi, 'i': Pi}\n",
    "\n",
    "    def generate_irfs(self, T=40):\n",
    "        v_path = np.zeros(T); v_path[0] = self.shock_size\n",
    "        for t in range(T - 1): v_path[t+1] = self.rho_v * v_path[t]\n",
     "        \n",
     "        x_path = self.solution['x'] * v_path\n",
     "        pi_path = self.solution['pi'] * v_path\n",
    "        i_path = self.solution['i'] * v_path\n",
     "        \n",
     "        # The ex-ante real rate is i_t - E_t[pi_{t+1}]\n",
     "        # Since E_t[pi_{t+1}] = P_pi * E_t[v_{t+1}] = P_pi * rho_v * v_t\n",
     "        pi_exp_path = self.solution['pi'] * self.rho_v * v_path\n",
     "        r_path = i_path - pi_exp_path\n",
     "        \n",
    "        return 100 * pd.DataFrame({'Output Gap': x_path, 'Inflation': pi_path, \n",
    "                                     'Nominal Rate': i_path, 'Real Rate': r_path})\n",
    "\n",
    "nk_model = NKModel()\n",
    "irfs = nk_model.generate_irfs()\n",
    "note(f\"Model parameters: β={nk_model.beta}, σ={nk_model.sigma}, φ={nk_model.phi}, θ={nk_model.theta}, κ={nk_model.kappa:.3f}\")"
   ]
  },
  {
   "cell_type": "markdown",
   "metadata": {},
   "source": [
    "#### 3.2 Impulse Response to a Monetary Policy Shock\n",
    "A positive shock $v_t$ represents an unexpected, contractionary monetary policy action (the central bank raises rates more than the Taylor rule prescribes). The economy responds as follows:\n",
    "- The **nominal and real interest rates** rise.\n",
    "- The higher real rate reduces aggregate demand, causing a negative **output gap** (a recession).\n",
    "- The fall in the output gap (lower marginal costs) reduces **inflation**."
   ]
  },
  {
   "cell_type": "code",
   "execution_count": null,
   "metadata": {},
   "outputs": [],
   "source": [
    "fig, axes = plt.subplots(2, 2, figsize=(14, 9))\n",
    "irfs.plot(subplots=True, ax=axes, legend=False, style='-o', markersize=4)\n",
    "for i, ax in enumerate(axes.flatten()):\n",
    "    ax.set_title(irfs.columns[i]); ax.axhline(0, color='k', lw=0.7, ls='--')\n",
    "    ax.set_ylabel('% dev. from s.s.'); ax.set_xlabel('Quarters after shock')\n",
    "fig.suptitle('Impulse Responses to a Contractionary Monetary Policy Shock', fontsize=16, y=1.02)\n",
    "fig.tight_layout()"
   ]
  },
  {
   "cell_type": "markdown",
   "metadata": {},
   "source": [
    "### 4. Optimal Monetary Policy\n",
    "Instead of assuming the central bank follows a simple rule, we can solve for the **optimal policy**. We assume the central bank minimizes a quadratic loss function that penalizes volatility in inflation and the output gap:\n",
    "$$ \\mathcal{L} = E_0 \\sum_{t=0}^\\infty \\beta^t (\\pi_t^2 + \\lambda_x x_t^2) $$\n",
    "Minimizing this loss subject to the constraint of the NKPC yields the **optimal targeting rule**. Under commitment, the FOC for this problem implies a relationship that must hold in all periods:\n",
    "$$ x_t - x_{t-1} = -\\frac{\\kappa}{\\lambda_x} \\pi_t $$\n",
    "This rule dictates that the central bank should engineer a fall in the output gap whenever inflation is above target. It implies a trade-off: to reduce inflation by one unit, the bank must accept a cost of $\\lambda_x/\\kappa$ units of lost output. This is the **sacrifice ratio**."
   ]
  },
  {
   "cell_type": "markdown",
   "metadata": {},
   "source": [
    "### 5. The Zero Lower Bound (ZLB)\n",
    "A crucial challenge for modern monetary policy is the **Zero Lower Bound (ZLB)** on nominal interest rates. When a large negative shock hits the economy, the natural rate of interest $r_t^n$ can become deeply negative. The optimal policy might prescribe setting $i_t < 0$, but this is not possible. The policy rule becomes constrained: $i_t = \\max(0, \\phi_\\pi \\pi_t + \\phi_y x_t)$.\n",
    "\n",
    "When stuck at the ZLB, the central bank loses its primary tool for stimulating the economy. If the recession leads to deflation ($\"pi\"_t < 0$), the real interest rate ($i_t - \\pi_t \\approx -\\pi_t$) actually *rises*, further depressing the economy and potentially leading to a dangerous deflationary spiral. To solve this non-linear model, we must use different techniques, such as the perfect-foresight time iteration method shown below."
   ]
  },
  {
   "cell_type": "code",
   "execution_count": null,
   "metadata": {},
   "outputs": [],
   "source": [
    "sec(\"Simulating a ZLB Episode\")\n",
    "def simulate_zlb(params, r_n_path):\n",
    "    T = len(r_n_path)\n",
    "    x_path, pi_path, i_path = np.zeros(T), np.zeros(T), np.zeros(T)\n",
    "    # Iterate backwards from the terminal steady state (where x=pi=0)\n",
    "    for t in range(T - 2, -1, -1):\n",
    "        x_exp, pi_exp = x_path[t+1], pi_path[t+1]\n",
    "        # Solve the system of two equations for x_t, pi_t\n",
    "        def system(vars):\n",
    "            x, pi = vars\n",
    "            i = max(0, params['phi_pi']*pi + params['phi_y']*x) # ZLB constraint\n",
    "            eq1 = x - x_exp + (1/params['sigma'])*(i - pi_exp - r_n_path[t])\n",
    "            eq2 = pi - params['beta']*pi_exp - params['kappa']*x\n",
    "            return [eq1, eq2]\n",
    "        x_path[t], pi_path[t] = fsolve(system, [0,0])\n",
    "        i_path[t] = max(0, params['phi_pi']*pi_path[t] + params['phi_y']*x_path[t])\n",
    "    return pd.DataFrame({'Output Gap': x_path, 'Inflation': pi_path, 'Nominal Rate': i_path})\n",
    "\n",
    "nk_params = nk_model.__dict__\n",
    "T_sim = 60\n",
    "# A shock of -0.05 means the natural rate falls by 5 percentage points.\n",
    "r_n_shocks = np.zeros(T_sim); r_n_shocks[0] = -0.05\n",
    "\n",
    "zlb_irfs = simulate_zlb(nk_params, r_n_shocks) * 100 # Convert to percent\n",
    "\n",
    "zlb_irfs.plot(subplots=True, layout=(3,1), figsize=(10, 12), style='-o', markersize=4)\n",
    "plt.suptitle('The Economy at the Zero Lower Bound', fontsize=16, y=1.0)\n",
    "plt.tight_layout(); plt.show()\n",
    "note(\"The large negative shock pushes the required nominal rate below zero. The central bank is constrained, and the output gap and inflation fall sharply. The economy only begins to recover as the natural rate returns to normal and the policy rate can lift off from zero.\")"
   ]
  },
  {
   "cell_type": "markdown",
   "metadata": {},
   "source": [
    "### 6. Chapter Summary\n",
    "- **Core Idea:** New Keynesian models are DSGE models with nominal rigidities (usually sticky prices) that provide a microfoundation for monetary policy to have real effects.\n",
    "- **Three Equations:** The canonical model consists of a Dynamic IS Curve (from household optimization), a New Keynesian Phillips Curve (from firm optimization with pricing frictions), and a monetary policy rule (e.g., a Taylor rule).\n",
    "- **Optimal Policy:** The central bank can improve upon a simple rule by solving an optimal control problem to minimize a loss function over inflation and output gap volatility. This leads to an optimal targeting rule.\n",
    "- **ZLB:** The Zero Lower Bound on nominal rates is a critical constraint on monetary policy. When it binds, the central bank may lose its ability to stabilize the economy, motivating unconventional policies like forward guidance."
   ]
  },
  {
   "cell_type": "markdown",
   "metadata": {},
   "source": [
    "### 7. Exercises\n",
    "\n",
    "1.  **The Taylor Principle:** Rerun the baseline IRF simulation with a policy rule that violates the Taylor Principle (e.g., `phi_pi = 0.8`). What happens to the impulse responses? Does the model still have a unique, stable equilibrium? (You may need to solve the model analytically to see the instability).\n",
    "\n",
    "2.  **Price Stickiness:** How does the economy's response to a monetary policy shock change if prices are stickier? Rerun the baseline IRF simulation with a higher Calvo parameter, `theta = 0.9`. How does this affect the slope of the Phillips curve, `kappa`, and the resulting dynamics of inflation and the output gap?\n",
    "\n",
    "3.  **Optimal Policy Trade-off:** In the optimal policy problem, the parameter $\\lambda_x$ in the loss function represents the central bank's relative weight on output stabilization vs. inflation stabilization. How would you expect the central bank's optimal response to a shock to change if $\\lambda_x$ is very high? What if it's very low?\n",
    "\n",
    "4.  **Forward Guidance at the ZLB:** In the ZLB simulation, suppose the central bank can credibly commit at time $t=0$ that it will keep the nominal rate at zero for two extra periods, even after the natural rate shock has dissipated. How would this commitment (a form of forward guidance) affect the paths of the output gap and inflation during the ZLB episode? Explain the mechanism.\n",
    "\n",
    "5.  **Open Economy Extension:** Write down the system of equations for a small open economy NK model, including the UIP condition and the open economy IS curve. How does a domestic monetary tightening affect the nominal exchange rate in the short run and the long run?"
   ]
  }
 ],
 "metadata": {
  "kernelspec": {
   "display_name": "Python 3",
   "language": "python",
   "name": "python3"
  },
  "language_info": {
   "codemirror_mode": {
    "name": "ipython",
    "version": 3
   },
   "file_extension": ".py",
   "mimetype": "text/x-python",
   "name": "python",
   "nbconvert_exporter": "python",
   "pygments_lexer": "ipython3",
   "version": "3.11.5"
  }
 },
 "nbformat": 4,
 "nbformat_minor": 4
}