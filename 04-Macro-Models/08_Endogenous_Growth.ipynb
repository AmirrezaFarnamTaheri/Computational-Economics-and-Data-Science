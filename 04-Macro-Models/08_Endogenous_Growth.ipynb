{
 "cells": [
  {
   "cell_type": "code",
   "execution_count": null,
   "metadata": {
    "collapsed": true
   },
   "outputs": [],
   "source": [
    "# === Environment Setup ===\n",
    "import os, sys, math, time, random, json, textwrap, warnings\n",
    "import numpy as np, pandas as pd, matplotlib.pyplot as plt\n",
    "import ipywidgets as widgets\n",
    "from IPython.display import Image, display, Markdown\n",
    "\n",
    "# --- Configuration ---\n",
    "plt.style.use('seaborn-v0_8-whitegrid')\n",
    "plt.rcParams.update({'font.size': 12, 'figure.figsize': (10, 6), 'figure.dpi': 130,\n",
    "                     'axes.titlesize': 'x-large', 'axes.labelsize': 'large',\n",
    "                     'xtick.labelsize': 'medium', 'ytick.labelsize': 'medium'})\n",
    "np.set_printoptions(suppress=True, linewidth=120, precision=4)\n",
    "\n",
    "# --- Utility Functions ---\n",
    "def note(msg, **kwargs):\n",
    "    display(Markdown(f\"<div class='alert alert-block alert-info'>\ud83d\udcdd **Note:** {msg}</div>\"))\n",
    "def sec(title):\n",
    "    print(f\"\\n{100*'='}\\n| {title.upper()} |\\n{100*'='}\")\n",
    "\n",
    "note(\"Environment initialized for Endogenous Growth Theory.\")"
   ]
  },
  {
   "cell_type": "markdown",
   "metadata": {},
   "source": [
    "# Part 4: Macroeconomic Models\n",
    "## Chapter 4.8: Endogenous Growth Theory\n",
    "\n",
    "### Table of Contents\n",
    "1.  [The Economics of Ideas](#1.-The-Economics-of-Ideas)\n",
    "2.  [The Romer (1990) Model: Expanding Variety](#2.-The-Romer-(1990)-Model:-Expanding-Variety)\n",
    "    *   [2.1 The Model Environment](#2.1-The-Model-Environment)\n",
    "    *   [2.2 Solving for the Balanced Growth Path](#2.2-Solving-for-the-Balanced-Growth-Path)\n",
    "    *   [2.3 Welfare Analysis: Market vs. Planner](#2.3-Welfare-Analysis:-Market-vs.-Planner)\n",
    "3.  [The Uzawa-Lucas Model: Human Capital](#3.-The-Uzawa-Lucas-Model:-Human-Capital)\n",
    "4.  [Application: Growth and the Environment](#4.-Application:-Growth-and-the-Environment)\n",
    "5.  [Critiques and Extensions: Semi-Endogenous Growth](#5.-Critiques-and-Extensions:-Semi-Endogenous-Growth)\n",
    "6.  [Chapter Summary](#6.-Chapter-Summary)\n",
    "7.  [Exercises](#7.-Exercises)"
   ]
  },
  {
   "cell_type": "markdown",
   "metadata": {},
   "source": [
    "### 1. The Economics of Ideas\n",
    "The Solow and RCK models treat technological progress—the ultimate driver of long-run growth—as an exogenous process, arriving like \"manna from heaven.\" **Endogenous Growth Theory**, pioneered by Paul Romer and Robert Lucas Jr., seeks to endogenize innovation by modeling the economic incentives that lead to the creation of new technologies.\n",
    "\n",
    "The core insight is that **ideas are non-rivalrous**: once an idea (like the formula for a new drug or a piece of software) is created, anyone can use it without depleting its availability for others. This non-rivalry allows for **increasing returns to scale** at the aggregate level. If we double all conventional inputs (capital, labor) *and* double the stock of ideas, we can more than double output. This property of increasing returns is the fundamental engine that allows for sustained per-capita growth, breaking free from the constraints of diminishing returns that defined the neoclassical models."
   ]
  },
  {
   "cell_type": "markdown",
   "metadata": {},
   "source": [
    "### 2. The Romer (1990) Model: Expanding Variety\n",
    "The Romer model is the canonical model of endogenous growth. It formalizes the creation of new ideas as an expansion in the *variety* of specialized intermediate capital goods available for production."
   ]
  },
  {
   "cell_type": "markdown",
   "metadata": {},
   "source": [
    "#### 2.1 The Model Environment\n",
    "The model features three sectors:\n",
    "- **Final Goods (Competitive):** A representative firm produces final output $Y$ using labor $L_Y$ and a continuum of intermediate capital goods $x(i)$:\n",
    "  $$ Y = L_Y^{1-\\alpha} \\int_0^A x(i)^\\alpha di $$\n",
    "- **Intermediate Goods (Monopolistic):** Each intermediate good $i \\in [0, A]$ is produced by a firm that owns a perpetual patent on its design. The firm rents capital $K$ at rate $r$ and sells the good at price $p(i)$. The monopolist faces a downward-sloping demand curve and charges a markup over marginal cost: $p(i) = r/\\alpha$.\n",
    "- **R&D Sector (Competitive):** Researchers produce new designs (new ideas), which increases the range of available intermediate goods, $A$. The production function for new ideas is:\n",
    "  $$ \\dot{A} = \\delta L_A A $$\n",
    "  where $L_A$ is the amount of labor devoted to R&D. This specification exhibits **intertemporal knowledge spillovers**: the productivity of current researchers ($\"delta\" A$) is proportional to the stock of ideas already discovered ($A$).\n",
    "- **Households:** A representative household maximizes CRRA utility, leading to the standard Euler equation which, in steady state, gives the real interest rate: $r = \\rho + \\sigma g$, where $g$ is the growth rate of consumption."
   ]
  },
  {
   "cell_type": "markdown",
   "metadata": {},
   "source": [
    "#### 2.2 Solving for the Balanced Growth Path\n",
    "A **Balanced Growth Path (BGP)** is an equilibrium where all variables grow at constant (possibly zero) rates. The key equilibrium conditions are:\n",
    "1.  **Labor Market Clearing:** The total labor supply, $L$, is allocated between production and R&D: $L = L_Y + L_A$.\n",
    "2.  **Free Entry into R&D:** Firms will pay researchers a wage $w_A$ up to the point where the cost of a new design equals its value, which is the present discounted value of the monopoly profits it will generate. This pins down the interest rate: $r = \\alpha (1-\\alpha) \\delta L_A$.\n",
    "\n",
    "Combining the household's Euler equation with the firm's free entry condition allows us to solve for the BGP growth rate of the economy, $g = \\dot{Y}/Y = \\dot{A}/A$:\n",
    "$$ g = \\frac{\\delta L - \\frac{\\rho}{\\alpha(1-\\alpha)}}{1 + \\frac{\\sigma}{\\alpha(1-\\alpha)}} $$\n",
    "This is the key result: the long-run growth rate is **endogenous**. It depends on the size of the population ($L$), the productivity of research ($\\delta$), household preferences (patience $\\rho$ and risk aversion $\\sigma$), and the production technology ($\\alpha$)."
   ]
  },
  {
   "cell_type": "markdown",
   "metadata": {},
   "source": [
    "#### 2.3 Welfare Analysis: Market vs. Planner\n",
    "Is the market growth rate optimal? A social planner who can allocate all resources to maximize household utility faces a different set of incentives. The planner's solution reveals three externalities in the market economy:\n",
    "1.  **Intertemporal Spillover (Positive):** Current R&D makes future researchers more productive ($ \\dot{A} = \\delta L_A A $). The creator of a design is not compensated for this future benefit. This leads to **underinvestment** in R&D.\n",
    "2.  **Appropriability Effect (Negative):** The monopolist innovator can only appropriate a fraction of the social value they create because they must pay for labor and capital. This also leads to **underinvestment**.\n",
    "3.  **Consumer Surplus Effect (Positive):** The monopolist charges a price above marginal cost, creating a deadweight loss. This means the social value of an innovation is higher than the private profit stream. This also leads to **underinvestment**.\n",
    "\n",
    "In the Romer model, all three externalities point in the same direction. The market growth rate is unambiguously lower than the social optimum ($g < g^*$)."
   ]
  },
  {
   "cell_type": "code",
   "execution_count": null,
   "metadata": {},
   "outputs": [],
   "source": [
    "sec(\"Interactive Romer Model: Market vs. Planner\")\n",
    "\n",
    "class RomerModel:\n",
    "    def __init__(self, L=100, delta=0.05, rho=0.03, sigma=2.0, alpha=0.5):\n",
    "        self.L, self.delta, self.rho, self.sigma, self.alpha = L, delta, rho, sigma, alpha\n",
    "        self.solve()\n",
    "        \n",
    "    def solve(self):\n",
    "        # For simplicity, we use the common simplified form of the growth equations\n",
    "        self.g_market = (self.delta * self.L - self.rho) / (self.sigma + 1)\n",
    "        self.g_planner = (self.delta * self.L - self.rho) / self.sigma\n",
    "\n",
    "def plot_romer_comparison(L=100, delta=0.05, rho=0.03, sigma=2.0):\n",
    "    model = RomerModel(L=L, delta=delta, rho=rho, sigma=sigma)\n",
    "    fig, ax = plt.subplots(figsize=(10, 6))\n",
    "    growth_rates = [max(0, model.g_market * 100), max(0, model.g_planner * 100)]\n",
    "    ax.bar(['Market Equilibrium', 'Social Planner'], growth_rates, color=['#3498db', '#e74c3c'])\n",
    "    ax.set_ylabel('Annual Growth Rate (%)'); ax.set_title('Romer Model: Market vs. Socially Optimal Growth Rate')\n",
    "    for i, v in enumerate(growth_rates): ax.text(i, v + 0.05, f\"{v:.2f}%\", ha='center', va='bottom')\n",
    "    plt.show()\n",
    "\n",
    "widgets.interact(plot_romer_comparison, \n",
    "                 L=widgets.FloatSlider(min=50, max=200, step=10, value=100, description='Labor Force (L)'),\n",
    "                 delta=widgets.FloatSlider(min=0.01, max=0.1, step=0.005, value=0.05, description='R&D Prod (δ)'),\n",
    "                 rho=widgets.FloatSlider(min=0.01, max=0.05, step=0.005, value=0.03, description='Impatience (ρ)'));"
   ]
  },
  {
   "cell_type": "markdown",
   "metadata": {},
   "source": [
    "### 3. The Uzawa-Lucas Model: Human Capital\n",
    "An alternative approach to endogenous growth, developed by Robert Lucas Jr. (1988) based on work by Hirofumi Uzawa, focuses on **human capital accumulation** as the engine of growth. The model features two sectors:\n",
    "1.  **A physical goods sector:** $Y = K^\\alpha (u h L)^{1-\\alpha}$, where $h$ is the human capital of a worker and $u$ is the fraction of time they spend working.\n",
    "2.  **An education sector:** Human capital evolves according to $\\dot{h} = B(1-u)h$, where $(1-u)$ is the fraction of time spent in education.\n",
    "\n",
    "The key choice for the agent is how to allocate their time between working (which generates current income) and studying (which increases future income). The model's BGP has the property that the growth rate of consumption is equal to the growth rate of human capital. The optimal allocation of time depends on the relative productivity of the two sectors, and the growth rate is endogenously determined by preferences and technology."
   ]
  },
  {
   "cell_type": "markdown",
   "metadata": {},
   "source": [
    "### 4. Application: Growth and the Environment\n",
    "Endogenous growth models provide a natural framework for analyzing the interaction between economic growth and environmental quality. We can augment a simple AK model with a stock of environmental quality, $E$, that is depleted by pollution from production but can regenerate naturally.\n",
    "- **Production:** $Y = AK$\n",
    "- **Pollution:** $\\dot{P} = \\phi Y - \\delta_P P$ (Pollution is a byproduct of output)\n",
    "- **Utility:** Households care about both consumption and environmental quality: $U(C, E) = \\ln(C) + \\eta \\ln(E)$.\n",
    "\n",
    "In a decentralized equilibrium, firms do not account for the negative externality of pollution. This leads to a BGP with a high growth rate of consumption but a potentially declining stock of environmental quality. A social planner, who internalizes the externality, would choose a lower rate of capital accumulation (and thus lower growth) to preserve the environment. This framework can be used to solve for the optimal **carbon tax** that would align the decentralized equilibrium with the social optimum."
   ]
  },
  {
   "cell_type": "markdown",
   "metadata": {},
   "source": [
    "### 5. Critiques and Extensions: Semi-Endogenous Growth\n",
    "The Romer model predicts a strong **scale effect**: a larger population $L$ leads to a faster growth rate. Empirically, this does not hold. Charles Jones (1995) proposed a **semi-endogenous** growth model that addresses this by assuming diminishing returns to R&D with respect to the existing stock of knowledge:\n",
    "$$ \\dot{A} = \\delta L_A^\\lambda A^\\phi, \\quad \\phi < 1 $$ \n",
    "This modification eliminates the strong scale effect on the growth rate. To sustain constant growth in technology, the number of researchers $L_A$ must now grow over time. On the BGP, the economy's growth rate is pinned down by exogenous parameters, primarily the growth rate of the population itself, re-establishing a link to the neoclassical conclusion but with a richer micro-foundation."
   ]
  },
  {
   "cell_type": "markdown",
   "metadata": {},
   "source": [
    "### 6. Chapter Summary\n",
    "- **The Economics of Ideas:** Endogenous growth theory is built on the non-rivalry of ideas, which allows for aggregate increasing returns to scale, the ultimate engine of sustained growth.\n",
    "- **Romer Model:** Growth is driven by an expanding variety of intermediate goods, created by profit-seeking firms in an R&D sector. The market equilibrium is typically inefficient due to knowledge spillovers and monopoly distortions.\n",
    "- **Uzawa-Lucas Model:** An alternative framework where growth is driven by the accumulation of human capital through a conscious trade-off between working and studying.\n",
    "- **Critiques:** The strong scale effect predicted by early endogenous growth models is empirically questionable, leading to the development of semi-endogenous growth models (Jones, 1995) where growth is ultimately tied to population growth."
   ]
  },
  {
   "cell_type": "markdown",
   "metadata": {},
   "source": [
    "### 7. Exercises\n",
    "\n",
    "1.  **The Role of Non-Rivalry:** Explain precisely why the non-rivalry of ideas is the fundamental assumption required to generate endogenous growth. How does this property lead to increasing returns to scale at the aggregate level?\n",
    "\n",
    "2.  **Policy Analysis:** Using the interactive Romer model widget, analyze the effect of an R&D subsidy. An R&D subsidy can be modeled as an increase in the productivity of researchers, $\\delta$. If the government increases $\\delta$ by 20%, what happens to the market growth rate and the socially optimal growth rate? Does the subsidy close the gap?\n",
    "\n",
    "3.  **Scale Effects:** Use the interactive widget to demonstrate the scale effect in the Romer model. How does doubling the labor force `L` affect the market growth rate? How does this contradict the empirical evidence from countries like the U.S. over the 20th century?\n",
    "\n",
    "4.  **Uzawa-Lucas Dynamics:** In the Uzawa-Lucas model, what would happen to the long-run growth rate if the productivity of the education sector, $B$, were to increase? What would happen if households became more patient (higher $\\beta$)?\n",
    "\n",
    "5.  **Green Growth:** In the Green-AK model, how would the optimal carbon tax change if the utility weight on the environment, $\\eta$, were higher? What if the natural regeneration rate of the environment, $\\delta_P$, were lower?"
   ]
  }
 ],
 "metadata": {
  "kernelspec": {
   "display_name": "Python 3",
   "language": "python",
   "name": "python3"
  },
  "language_info": {
   "codemirror_mode": {
    "name": "ipython",
    "version": 3
   },
   "file_extension": ".py",
   "mimetype": "text/x-python",
   "name": "python",
   "nbconvert_exporter": "python",
   "pygments_lexer": "ipython3",
   "version": "3.11.5"
  }
 },
 "nbformat": 4,
 "nbformat_minor": 4
}