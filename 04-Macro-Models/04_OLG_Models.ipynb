{
 "cells": [
  {
   "cell_type": "code",
   "execution_count": null,
   "metadata": {
    "collapsed": true
   },
   "outputs": [],
   "source": [
    "# === Environment Setup ===\n",
    "import os, sys, math, time, random, json, textwrap, warnings\n",
    "import numpy as np, pandas as pd, matplotlib.pyplot as plt\n",
    "from scipy.optimize import fsolve, brentq, minimize_scalar\n",
    "from scipy.interpolate import interp1d\n",
    "from mpl_toolkits.mplot3d import Axes3D\n",
    "from IPython.display import display, Markdown, Image\n",
    "\n",
    "# --- Configuration ---\n",
    "plt.style.use('seaborn-v0_8-whitegrid')\n",
    "plt.rcParams.update({'font.size': 12, 'figure.figsize': (10, 6), 'figure.dpi': 130,\n",
    "                     'axes.titlesize': 'x-large', 'axes.labelsize': 'large',\n",
    "                     'xtick.labelsize': 'medium', 'ytick.labelsize': 'medium'})\n",
    "np.set_printoptions(suppress=True, linewidth=120, precision=4)\n",
    "\n",
    "# --- Utility Functions ---\n",
    "def note(msg, **kwargs):\n",
    "    display(Markdown(f\"<div class='alert alert-block alert-info'>📝 **Note:** {msg}</div>\"))\n",
    "def sec(title):\n",
    "    print(f\"\\n{100*'='}\\n| {title.upper()} |\\n{100*'='}\")\n",
    "\n",
    "note(\"Environment initialized for advanced Overlapping Generations (OLG) model analysis.\")"
   ]
  },
  {
   "cell_type": "markdown",
   "metadata": {},
   "source": [
    "# Part 4: Macroeconomic Models\n",
    "## Chapter 4.04: Overlapping Generations (OLG) Models: Life Cycles, Debt, and Social Security\n",
    "\n",
    "### Table of Contents\n",
    "1.  [The Diamond (1965) Two-Period OLG Model](#1.-The-Diamond-(1965)-Two-Period-OLG-Model)\n",
    "    *   [1.1 The Household's Problem and the Law of Motion](#1.1-The-Household's-Problem-and-the-Law-of-Motion)\n",
    "    *   [1.2 Dynamic Inefficiency](#1.2-Dynamic-Inefficiency)\n",
    "2.  [Government Debt and Ricardian Equivalence](#2.-Government-Debt-and-Ricardian-Equivalence)\n",
    "    *   [2.1 Failure of Ricardian Equivalence in the OLG Model](#2.1-Failure-of-Ricardian-Equivalence-in-the-OLG-Model)\n",
    "    *   [2.2 Restoring Equivalence with Altruistic Bequests](#2.2-Restoring-Equivalence-with-Altruistic-Bequests)\n",
    "3.  [A Multi-Period Life-Cycle Model](#3.-A-Multi-Period-Life-Cycle-Model)\n",
    "    *   [3.1 The Model Environment](#3.1-The-Model-Environment)\n",
    "    *   [3.2 Solving via Backward Induction](#3.2-Solving-via-Backward-Induction)\n",
    "4.  [The Auerbach-Kotlikoff Model for Policy Analysis](#4.-The-Auerbach-Kotlikoff-Model-for-Policy-Analysis)\n",
    "5.  [Chapter Summary](#5.-Chapter-Summary)\n",
    "6.  [Exercises](#6.-Exercises)"
   ]
  },
  {
   "cell_type": "markdown",
   "metadata": {},
   "source": [
    "### Introduction: Beyond the Infinitely-Lived Agent\n",
    "\n",
    "The macroeconomic models studied thus far (RCK, RBC) rely on the powerful but abstract simplification of a single, infinitely-lived representative household. This abstraction omits a fundamental feature of economic life: the **life cycle**. Individuals are born, work, save for retirement, and eventually die. The economy at any point in time is a heterogeneous mix of overlapping generations, each at a different stage of life. The interactions between these generations—the young saving while the old dissave—are crucial for understanding a host of major economic issues.\n",
    "\n",
    "**Overlapping Generations (OLG) models**, pioneered by Maurice Allais (1947), Paul Samuelson (1958), and Peter Diamond (1965), provide the canonical framework for studying these life-cycle dynamics. By replacing the infinite horizon of the representative agent with a finite, more realistic lifetime, these models build a bridge between microeconomic life-cycle theory and aggregate macroeconomic outcomes. This seemingly simple change has profound implications:\n",
    "\n",
    "1.  **Failure of Ricardian Equivalence:** In OLG models, government debt is not neutral because its burden can be shifted to future, unborn generations.\n",
    "2.  **Possibility of Dynamic Inefficiency:** An OLG economy can over-accumulate capital, leading to a situation where a policy intervention like Social Security can create a Pareto improvement.\n",
    "\n",
    "This notebook develops the OLG model from its foundations to several advanced extensions, showing its power and flexibility."
   ]
  },
  {
   "cell_type": "markdown",
   "metadata": {},
   "source": [
    "### 1. The Diamond (1965) Two-Period OLG Model"
   ]
  },
  {
   "cell_type": "markdown",
   "metadata": {},
   "source": [
    "#### 1.1 The Household's Problem and the Law of Motion\n",
    "The economy is populated by a series of overlapping generations who live for two periods (young and old). The young supply labor, consume, and save. The old do not work and consume their savings. The household's problem is to choose consumption in both periods ($c_1, c_2$) to maximize lifetime utility $U = u(c_1) + \\beta u(c_2)$ subject to their budget constraints.\n",
    "\n",
    "This leads to a saving function $s_t = s(w_t, r_{t+1})$. The aggregate capital stock in $t+1$ is the total saving of the young in period $t$: $K_{t+1} = N_t s_t$. In per-worker terms, this gives the law of motion for capital per worker: $k_{t+1} = s(w_t, r_{t+1}) / (1+n)$. With competitive markets, factor prices equal marginal products, so $w_t = w(k_t)$ and $r_{t+1} = r(k_{t+1})$. This yields an implicit difference equation for capital:\n",
    "$$ k_{t+1}(1+n) = s(w(k_t), r(k_{t+1})) $$"
   ]
  },
  {
   "cell_type": "code",
   "execution_count": null,
   "metadata": {},
   "outputs": [],
   "source": [
    "sec(\"Solving the General OLG Model\")\n",
    "\n",
    "class GeneralOLGModel:\n",
    "    \"\"\"\n",
    "    Implements the two-period Diamond (1965) OLG model.\n",
    "    Parameters:\n",
    "      - A: Total factor productivity\n",
    "      - alpha: Capital share\n",
    "      - beta: Subjective discount factor\n",
    "      - n: Population growth rate\n",
    "      - sigma: Coefficient of relative risk aversion\n",
    "    \"\"\"\n",
    "    def __init__(self, A=10.0, alpha=0.33, beta=0.96, n=0.01, sigma=2.0):\n",
    "        self.A, self.alpha, self.beta, self.n, self.sigma = A, alpha, beta, n, sigma\n",
    "        self.prod_f = lambda k: self.A * k**self.alpha\n",
    "        self.wage_f = lambda k: (1 - self.alpha) * self.prod_f(k)\n",
    "        self.interest_f = lambda k: self.alpha * self.A * k**(self.alpha - 1)\n",
    "        self.k_star = self._solve_steady_state()\n",
    "\n",
    "    def _law_of_motion_implicit(self, k_next, k_t):\n",
    "        w_t = self.wage_f(k_t); r_next = self.interest_f(k_next)\n",
    "        saving_lhs = k_next * (1 + self.n)\n",
    "        saving_rhs = w_t / (1 + (self.beta * (1 + r_next))**(-1/self.sigma))\n",
    "        return saving_lhs - saving_rhs\n",
    "\n",
    "    def _solve_steady_state(self): return brentq(lambda k: self._law_of_motion_implicit(k, k), 0.1, 50)\n",
    "    def solve_for_k_next(self, k_t): return brentq(lambda k_next: self._law_of_motion_implicit(k_next, k_t), 0.1, 50)\n",
    "\n",
    "olg_gen = GeneralOLGModel(sigma=2.0)\n",
    "k_grid = np.linspace(0.5, olg_gen.k_star * 1.5, 100)\n",
    "k_next_path = [olg_gen.solve_for_k_next(k) for k in k_grid]\n",
    "\n",
    "fig, ax = plt.subplots(figsize=(10, 7))\n",
    "ax.plot(k_grid, k_next_path, lw=2.5, label='$k_{t+1} = g(k_t)$')\n",
    "ax.plot(k_grid, k_grid, 'k--', lw=1.5, label='$k_{t+1} = k_t$')\n",
    "ax.plot(olg_gen.k_star, olg_gen.k_star, 'ro', ms=12, label=f'Steady State $k^*$')\n",
    "ax.set_title('Dynamics in the General OLG Model', fontsize=16)\n",
    "ax.set_xlabel('$k_t$'); ax.set_ylabel('$k_{t+1}$'); ax.legend()\n",
    "plt.show()"
   ]
  },
  {
   "cell_type": "markdown",
   "metadata": {},
   "source": [
    "#### 1.2 Dynamic Inefficiency\n",
    "A striking and counter-intuitive result from OLG models is that the decentralized market equilibrium can be **dynamically inefficient**. This is a situation where the economy has accumulated *too much* capital, saving so much that it has pushed the marginal product of capital (the interest rate) below the economy's growth rate ($r^* < n$). The economy is investing in capital that has a lower rate of return than the natural growth of the system itself.\n",
    "\n",
    "In such a scenario, it is possible to make everyone better off—a Pareto improvement. The intuition is that a policy which forces the current young generation to save less (e.g., a mandatory social security tax that funds a transfer to the current old) will reduce the capital stock. This moves the economy from the inefficiently high $k^*$ back towards the **Golden Rule** level of capital ($k_{gold}$) which maximizes steady-state consumption. The initial old generation is better off (they receive a transfer), and all future generations are better off because they are born into an economy with a more efficient capital stock that can deliver higher consumption."
   ]
  },
  {
   "cell_type": "markdown",
   "metadata": {},
   "source": [
    "If an economy is dynamically inefficient, a **Pay-As-You-Go (PAYG) Social Security system** can create a Pareto improvement. By taxing the young and transferring the proceeds to the old, the government reduces private saving. This reduces the steady-state capital stock from the inefficient $k^*$ towards the efficient $k_{gold}$, which can raise the consumption of *all* generations.\n",
    "\n",
    "If an economy is dynamically inefficient, a **Pay-As-You-Go (PAYG) Social Security system** can create a Pareto improvement. By taxing the young and transferring the proceeds to the old, the government reduces private saving. This reduces the steady-state capital stock from the inefficient $k^*$ towards the efficient $k_{gold}$, which can raise the consumption of *all* generations.\n"
   ]
  },
  {
   "cell_type": "markdown",
   "metadata": {},
   "source": [
    "### 2. Government Debt and Ricardian Equivalence"
   ]
  },
  {
   "cell_type": "markdown",
   "metadata": {},
   "source": [
    "#### 2.1 Failure of Ricardian Equivalence in the OLG Model\n",
    "The **Ricardian Equivalence proposition**, named after David Ricardo and famously revived by Robert Barro, states that a government's choice between financing spending with debt or with taxes has no effect on consumption or national saving. The logic is that rational, forward-looking agents understand that government borrowing today is simply a promise of higher taxes in the future. To prepare for that future tax liability, they will save the entirety of any debt-financed tax cut. The timing of taxes doesn't matter, only their present value.\n",
    "\n",
    "This proposition **fails** in the standard OLG model. The key reason is the finite lifetime of the agents. If the government issues debt to give a tax cut to the current young generation, the debt will be repaid by taxes levied on generations that are not yet born. The current generation receives a windfall that they do not have to pay for. Since they are disconnected from the future taxpayers, they treat the tax cut as an increase in their lifetime wealth and increase their consumption. This raises aggregate demand and lowers national saving, meaning the policy is not neutral."
   ]
  },
  {
   "cell_type": "markdown",
   "metadata": {},
   "source": [
    "#### 2.2 Restoring Equivalence with Altruistic Bequests\n",
    "**Barro (1974)** showed that Ricardian Equivalence could be restored if generations were linked by **operative altruistic bequests**. If parents care about their children's utility and are already planning to leave them a bequest, they will respond to a debt-financed tax cut by simply increasing their bequest to their children by the full amount of the future tax liability. The tax cut is fully saved, national saving is unchanged, and the policy is neutral. The family dynasty acts as a single, infinitely-lived agent."
   ]
  },
  {
   "cell_type": "markdown",
   "metadata": {},
   "source": [
    "### 3. A Multi-Period Life-Cycle Model\n",
    "The two-period model is a powerful theoretical tool, but for quantitative work, we need a more realistic **multi-period life-cycle model**. We can model households that live for $J$ periods, with a realistic hump-shaped earnings profile over their working years and a retirement phase."
   ]
  },
  {
   "cell_type": "code",
   "execution_count": null,
   "metadata": {},
   "outputs": [],
   "source": [
    "sec(\"Solving a Multi-Period Life-Cycle Model\")\n",
    "# --- Model Parameters ---\n",
    "# J: Total lifetime periods (e.g., 80 years)\n",
    "# J_R: Retirement age (e.g., 65)\n",
    "# BETA_LC: Discount factor\n",
    "# SIGMA_LC: Coefficient of relative risk aversion\n",
    "# R_LC: Risk-free interest rate\n",
    "# A_GRID_LC: Grid of possible asset holdings\n",
    "J = 80\n",
    "J_R = 65\n",
    "BETA_LC = 0.96\n",
    "SIGMA_LC = 2.0\n",
    "R_LC = 0.04\n",
    "A_GRID_LC = np.linspace(0, 500, 100)\n",
    "\n",
    "def u_lc(c): \n",
    "    # Add a small epsilon to avoid division by zero\n",
    "    return (np.maximum(c, 1e-9)**(1 - SIGMA_LC) - 1) / (1 - SIGMA_LC)\n",
    "\n",
    "# Realistic hump-shaped earnings profile\n",
    "def earnings_profile(age):\n",
    "    if age < J_R: return 2 * (age - 18) - 0.02 * (age - 18)**2 + 20\n",
    "    else: return 0 # No income in retirement\n",
    "Y_PROFILE = np.array([earnings_profile(j) for j in range(J)])\n",
    "\n",
    "# --- Solve via Backward Induction ---\n",
    "V = np.zeros((J, len(A_GRID_LC)))\n",
    "C_policy = np.zeros_like(V)\n",
    "\n",
    "# Last period: consume all assets\n",
    "C_policy[J-1, :] = A_GRID_LC * (1+R_LC)\n",
    "V[J-1, :] = u_lc(C_policy[J-1, :])\n",
    "\n",
    "for j in range(J - 2, -1, -1):\n",
    "    V_next_interp = interp1d(A_GRID_LC, V[j+1, :], bounds_error=False, fill_value=\"extrapolate\")\n",
    "    for i, a in enumerate(A_GRID_LC):\n",
    "        budget = a * (1+R_LC) + Y_PROFILE[j]\n",
    "        if budget <= 1e-6:\n",
    "            # If budget is effectively zero, consume zero and leave zero assets.\n",
    "            C_policy[j, i] = budget\n",
    "            V[j, i] = u_lc(1e-9) + BETA_LC * V_next_interp(0.0)\n",
    "        else:\n",
    "            def objective(c):\n",
    "                a_next = budget - c\n",
    "                return -(u_lc(c) + BETA_LC * V_next_interp(a_next))\n",
    "            res = minimize_scalar(objective, bounds=(1e-6, budget), method='bounded')\n",
    "            V[j, i] = -res.fun\n",
    "            C_policy[j, i] = res.x\n",
    "\n",
    "note(\"Solved the multi-period life-cycle model.\")\n",
    "\n",
    "fig = plt.figure(figsize=(14, 10))\n",
    "ax = fig.add_subplot(111, projection='3d')\n",
    "X, Y = np.meshgrid(A_GRID_LC, np.arange(J))\n",
    "ax.plot_surface(X, Y, C_policy, cmap='viridis')\n",
    "ax.set_title('Life-Cycle Consumption Policy c(age, assets)')\n",
    "ax.set_xlabel('Assets'); ax.set_ylabel('Age'); ax.set_zlabel('Consumption')\n",
    "ax.view_init(elev=30, azim=-135)\n",
    "plt.show()"
   ]
  },
  {
   "cell_type": "markdown",
   "metadata": {},
   "source": [
    "### 4. The Auerbach-Kotlikoff Model for Policy Analysis\n",
    "The **Auerbach-Kotlikoff (AK) model** is the canonical large-scale computational OLG model used for quantitative policy analysis. It extends the life-cycle model to a full general equilibrium setting, where wages and interest rates are determined endogenously. The model typically features:\n",
    "- 55 overlapping generations (from age 21 to 75).\n",
    "- A realistic life-cycle earnings profile.\n",
    "- A detailed government sector with various distortionary taxes (on labor, capital, consumption) and transfer systems (like Social Security).\n",
    "\n",
    "Solving an AK model is computationally intensive. It requires finding the equilibrium path of prices that is consistent with the optimal life-cycle plans of all 55 generations. The standard solution method is an iterative algorithm (using Gauss-Seidel or similar methods) to find the sequence of factor prices that clears the capital and labor markets in every period along the transition path after a policy change.\n",
    "\n",
    "Despite the complexity, these models are the primary tool for analyzing the long-run and transitional effects of major fiscal reforms, such as switching from an income tax to a consumption tax, or reforming the Social Security system."
   ]
  },
  {
   "cell_type": "markdown",
   "metadata": {},
   "source": [
    "### 5. Chapter Summary\n",
    "- **Finite Lives Matter:** OLG models, by incorporating finite lifetimes, generate results that are fundamentally different from infinite-horizon representative-agent models.\n",
    "- **Ricardian Equivalence Fails:** Government debt is not neutral in OLG models, as its burden can be shifted to future generations. This link can be restored through **altruistic bequests**.\n",
    "- **Dynamic Inefficiency:** OLG models can feature over-accumulation of capital ($r < n$), a situation where a PAYG Social Security system can be Pareto-improving.\n",
    "- **Life-Cycle Models:** Multi-period OLG models with realistic earnings profiles are the workhorse for studying savings, retirement, and the effects of fiscal policy.\n",
    "- **Auerbach-Kotlikoff Models:** These are large-scale computational OLG models used for detailed quantitative analysis of major policy reforms."
   ]
  },
  {
   "cell_type": "markdown",
   "metadata": {},
   "source": [
    "### 6. Exercises\n",
    "\n",
    "1.  **Dynamic Inefficiency Condition:** For the general OLG model with CRRA utility, derive the condition on the parameters ($\\\\alpha, \\beta, n, \\sigma$) that determines whether the economy is dynamically efficient or inefficient. For the baseline parameters, is the model dynamically efficient?\n",
    "\n",
    "2.  **Bequest Motive:** In the Barro-Ricardo model, under what conditions might the bequest motive be \"inoperative\"? What would this imply for the validity of Ricardian Equivalence?\n",
    "\n",
    "3.  **Simulating a Life Path:** Using the solved policy functions from the multi-period life-cycle model, simulate and plot the path of consumption, assets, and income for a single household over their entire lifetime.\n",
    "\n",
    "4.  **Labor Supply in the Life-Cycle:** Extend the multi-period life-cycle model to include an endogenous labor supply choice. How would you expect the optimal path of hours worked to look over the life cycle? Why?\n",
    "\n",
    "5.  **Policy Analysis with OLG:** A government proposes to increase retirement benefits in its PAYG Social Security system, financing it with a higher payroll tax on the young. Using the logic of the OLG model, trace out the likely general equilibrium effects on the steady-state capital stock, wages, and interest rates."
   ]
  }
 ],
 "metadata": {
  "kernelspec": {
   "display_name": "Python 3",
   "language": "python",
   "name": "python3"
  },
  "language_info": {
   "codemirror_mode": {
    "name": "ipython",
    "version": 3
   },
   "file_extension": ".py",
   "mimetype": "text/x-python",
   "name": "python",
   "nbconvert_exporter": "python",
   "pygments_lexer": "ipython3",
   "version": "3.11.5"
  }
 },
 "nbformat": 4,
 "nbformat_minor": 4
}
