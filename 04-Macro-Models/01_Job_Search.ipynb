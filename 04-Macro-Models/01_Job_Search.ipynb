{
 "cells": [
  {
   "cell_type": "code",
   "execution_count": null,
   "metadata": {
    "collapsed": true
   },
   "outputs": [],
   "source": [
    "# === Environment Setup ===\n",
    "import os, sys, math, time, random, json, textwrap, warnings\n",
    "import numpy as np, pandas as pd, matplotlib.pyplot as plt\n",
    "from scipy.optimize import fsolve, root\n",
    "from scipy.stats import norm, beta as beta_dist\n",
    "from scipy.integrate import quad\n",
    "from IPython.display import Image, display, Markdown\n",
    "\n",
    "# --- Configuration ---\n",
    "plt.style.use('seaborn-v0_8-whitegrid')\n",
    "plt.rcParams.update({'figure.dpi': 130, 'font.size': 12, 'axes.titlesize': 'large',\n",
    "    'axes.labelsize': 'medium', 'xtick.labelsize': 'small', 'ytick.labelsize': 'small'})\n",
    "np.set_printoptions(suppress=True, linewidth=120, precision=4)\n",
    "\n",
    "# --- Utility Functions ---\n",
    "def note(msg, **kwargs):\n",
    "    display(Markdown(f\"<div class='alert alert-info'>\ud83d\udcdd {textwrap.fill(msg, width=100)}</div>\"))\n",
    "def sec(title):\n",
    "    print(f\"\\n{100*'='}\\n| {title.upper()} |\\n{100*'='}\")\n",
    "\n",
    "note(\"Environment initialized.\")"
   ]
  },
  {
   "cell_type": "markdown",
   "metadata": {},
   "source": [
    "# Part 4: Macroeconomic Models\n",
    "## Chapter 4.1: Foundational Job Search and Matching Models\n",
    "\n",
    "### Table of Contents\n",
    "1.  [The McCall Job Search Model](#1.-The-McCall-Job-Search-Model)\n",
    "2.  [The Diamond-Mortensen-Pissarides (DMP) Matching Model](#2.-The-Diamond-Mortensen-Pissarides-(DMP)-Matching-Model)\n",
    "    *   [2.1 The Model Environment and Bellman Equations](#2.1-The-Model-Environment-and-Bellman-Equations)\n",
    "    *   [2.2 Solving for the General Equilibrium](#2.2-Solving-for-the-General-Equilibrium)\n",
    "    *   [2.3 The Beveridge Curve](#2.3-The-Beveridge-Curve)\n",
    "3.  [On-the-Job Search and Wage Dispersion](#3.-On-the-Job-Search-and-Wage-Dispersion)\n",
    "    *   [3.1 The Burdett-Mortensen Model](#3.1-The-Burdett-Mortensen-Model)\n",
    "    *   [3.2 The Equilibrium Wage Distribution](#3.2-The-Equilibrium-Wage-Distribution)\n",
    "4.  [Assortative Matching](#4.-Assortative-Matching)\n",
    "5.  [Chapter Summary](#5.-Chapter-Summary)\n",
    "6.  [Exercises](#6.-Exercises)"
   ]
  },
  {
   "cell_type": "markdown",
   "metadata": {},
   "source": [
    "### Introduction\n",
    "This chapter explores foundational models of the labor market, focusing on the frictions that give rise to unemployment and determine the flow of workers between jobs. We will analyze three canonical frameworks:\n",
    "1.  **The McCall Job Search Model**: A partial equilibrium model of an individual's decision to accept a job offer, which gives rise to the concept of a **reservation wage**.\n",
    "2.  **The Diamond-Mortensen-Pissarides (DMP) Matching Model**: A general equilibrium model of the entire labor market that explains how frictions in the matching process determine the equilibrium rates of unemployment and vacancies.\n",
    "3.  **The Burdett-Mortensen Model**: A model of on-the-job search that generates wage dispersion as an equilibrium outcome.\n",
    "4.  **Assortative Matching**: A framework for understanding who matches with whom when both workers and firms are heterogeneous."
   ]
  },
  {
   "cell_type": "markdown",
   "metadata": {},
   "source": [
    "### 1. The McCall Job Search Model\n",
    "\n",
    "The McCall model, first formulated by John McCall in 1970, is a foundational model of microeconomic job search. It elegantly captures the trade-off an unemployed individual faces: accept a known wage offer now, or reject it in the hope of receiving a better offer in the future, while foregoing income and incurring search costs. This decision-making process under uncertainty is a classic optimal stopping problem.\n",
    "\n",
    "The model's central prediction is that the worker's optimal policy is defined by a **reservation wage**, $w^*$. This is a threshold: any offer at or above $w^*$ is accepted, and any offer below it is rejected. The reservation wage is the precise value that makes the worker indifferent between the long-term value of accepting the job and the expected long-term value of continuing to search. It is the solution to the equation:\n",
    "$$ \\frac{w^*}{1-\\beta} = c + \\beta E[\\max(\\frac{w'}{1-\\beta}, \\frac{w^*}{1-\\beta})] $$\n",
    "where $c$ is the flow value of unemployment (benefits), $\\beta$ is the discount factor, and the expectation is over the distribution of future wage offers $w'$."
   ]
  },
  {
   "cell_type": "code",
   "execution_count": null,
   "metadata": {},
   "outputs": [],
   "source": [
    "sec(\"Solving for the McCall Reservation Wage\")\n",
     "# --- Model Parameters ---\n",
     "# BETA: The discount factor, representing the agent's patience. A value of 0.96 implies an annual discount rate of about 4%.\n",
     "# C: The flow value of unemployment, including unemployment benefits and the value of leisure.\n",
     "# WAGE_DIST_MEAN, WAGE_DIST_STD: The mean and standard deviation of the normal distribution from which wage offers are drawn.\n",
    "BETA, C = 0.96, 6.0\n",
    "WAGE_DIST_MEAN, WAGE_DIST_STD = 10, 2.5\n",
    "w_grid = np.linspace(WAGE_DIST_MEAN - 4*WAGE_DIST_STD, WAGE_DIST_MEAN + 4*WAGE_DIST_STD, 200)\n",
    "wage_dist_pdf = norm.pdf(w_grid, loc=WAGE_DIST_MEAN, scale=WAGE_DIST_STD)\n",
    "wage_dist_pdf /= np.sum(wage_dist_pdf)\n",
    "\n",
    "def reservation_wage_objective(w_bar):\n",
    "    integrand = np.maximum(w_grid, w_bar) * wage_dist_pdf\n",
    "    integral = np.sum(integrand)\n",
    "    v_continue = C + BETA * integral / (1 - BETA)\n",
    "    v_stop = w_bar / (1 - BETA)\n",
    "    return v_stop - v_continue\n",
    "\n",
    "reservation_wage = fsolve(reservation_wage_objective, x0=10.0)[0]\n",
    "note(f\"The reservation wage is w* = ${reservation_wage:.2f}\")\n",
    "\n",
    "plt.figure(figsize=(10, 6))\n",
    "plt.plot(w_grid, wage_dist_pdf, label='Wage Offer Distribution')\n",
    "plt.axvline(reservation_wage, color='r', ls='--', label=f'Reservation Wage w*')\n",
    "plt.fill_between(w_grid, wage_dist_pdf, where=w_grid < reservation_wage, color='red', alpha=0.2, label='Reject')\n",
    "plt.fill_between(w_grid, wage_dist_pdf, where=w_grid >= reservation_wage, color='green', alpha=0.2, label='Accept')\n",
    "plt.title('Optimal Policy in the McCall Search Model')\n",
    "plt.xlabel('Wage Offer (w)'); plt.ylabel('Probability Density'); plt.legend()\n",
    "plt.show()"
   ]
  },
  {
   "cell_type": "markdown",
   "metadata": {},
   "source": [
    "### 2. The Diamond-Mortensen-Pissarides (DMP) Matching Model\n",
    "The DMP model, for which its creators won the 2010 Nobel Prize, is the workhorse model of a frictional labor market. It describes an environment where unemployed workers search for jobs and firms post vacancies. The key friction is that this search-and-matching process takes time and is costly."
   ]
  },
  {
   "cell_type": "markdown",
   "metadata": {},
   "source": [
    "#### 2.1 The Model Environment and Bellman Equations\n",
    "The model consists of a large number of identical workers and firms. The core components are:\n",
    "- **Matching Function:** $M(u, v) = m u^\\alpha v^{1-\\alpha}$ determines the total number of new jobs formed as a function of the mass of unemployed workers, `u`, and vacant jobs, `v`.\n",
    "- **Market Tightness:** $\\theta = v/u$ is the key indicator of labor market conditions.\n",
    "- **Job-finding rate for workers:** $p(\\theta) = M/u = m\\theta^{1-\\alpha}$.\n",
    "- **Vacancy-filling rate for firms:** $q(\\theta) = M/v = m\\theta^{-\\alpha}$.\n",
    "- **Value Functions:** The values for an unemployed worker ($U$), an employed worker ($W$), a vacant firm ($V$), and a filled job ($J$) are given by the following asset-pricing equations:\n",
    "  $$ rU = b + p(\\theta)(W - U) $$ \n",
    "  $$ rW = w + s(U - W) $$\n",
    "  $$ rV = -\\kappa + q(\\theta)(J - V) $$\n",
    "  $$ rJ = y - w + s(V - J) $$\n",
    "  where:\n",
    "    - $r$: The interest rate, which also serves as the agent's discount rate.\n",
    "    - $b$: Unemployment benefits (the flow value of being unemployed).\n",
    "    - $w$: The wage paid to the worker.\n",
    "    - $s$: The exogenous rate at which jobs are destroyed.\n",
    "    - $\\kappa$: The per-period cost for a firm to maintain an open vacancy.\n",
    "    - $y$: The productivity of a filled job.\n",
    "- **Wage Determination:** The wage is determined by Nash bargaining. The total surplus of a match is $S = (W-U) + J$. The worker receives a fraction $\\phi$ (their bargaining power) of this surplus, leading to the wage equation: $w = \\phi(y + \\kappa\\theta) + (1-\\phi)b$. Notice that the worker's wage depends on their outside option ($b$) and their share of the match surplus, which itself includes the firm's saved search costs ($\\kappa\\theta$ represents the expected cost to find a new worker)."
   ]
  },
  {
   "cell_type": "markdown",
   "metadata": {},
   "source": [
    "#### 2.2 Solving for the General Equilibrium\n",
    "The equilibrium of the model is a market tightness $\\theta^*$ and a wage $w^*$ that satisfy three conditions simultaneously:\n",
    "1.  **Job Creation (Free Entry):** Firms post vacancies until the value of a vacancy is driven to zero ($V=0$). This implies that the cost of posting a vacancy equals the expected profit from filling it: $\\frac{\\kappa}{q(\\theta)} = J$.\n",
    "2.  **Wage Curve:** The wage equation from Nash bargaining.\n",
    "3.  **Surplus Sharing:** The value of a filled job, $J$, is consistent with the wage being paid.\n",
    "\n",
    "Combining these conditions gives us a system of two equations in two unknowns, $\\theta$ and $J$. We can solve this system numerically."
   ]
  },
  {
   "cell_type": "code",
   "execution_count": null,
   "metadata": {},
   "outputs": [],
   "source": [
    "sec(\"Solving the Full DMP Model Equilibrium\")\n",
     "# --- Model Parameters ---\n",
     "# s: Job separation rate\n",
     "# r: Interest rate (discount rate)\n",
     "# kappa: Vacancy posting cost\n",
     "# m: Matching efficiency\n",
     "# alpha: Elasticity of the matching function w.r.t. unemployment\n",
     "# phi: Worker's bargaining power\n",
     "# y: Productivity of a filled job\n",
     "# b: Unemployment benefits\n",
    "s, r, kappa, m, alpha, phi, y, b = 0.02, 0.01, 0.1, 0.5, 0.5, 0.5, 1.0, 0.4\n",
    "\n",
    "def solve_dmp(params):\n",
    "    s, r, kappa, m, alpha, phi, y, b = params\n",
    "    q = lambda theta: m * theta**(-alpha)\n",
    "    p = lambda theta: m * theta**(1 - alpha)\n",
    "    \n",
    "    def system(vars):\n",
    "        theta, J = vars\n",
    "        # Eq 1: Job Creation (V=0)\n",
    "        eq1 = kappa / q(theta) - J\n",
    "        # Eq 2: Surplus definition\n",
    "        w = phi * (y + kappa * theta) + (1 - phi) * b\n",
    "        eq2 = (y - w) / (r + s) - J\n",
    "        return [eq1, eq2]\n",
    "    \n",
    "    theta_star, J_star = root(system, [1.0, 1.0]).x\n",
    "    w_star = phi * (y + kappa * theta_star) + (1 - phi) * b\n",
    "    u_star = s / (s + p(theta_star))\n",
    "    v_star = theta_star * u_star\n",
    "    return {'tightness': theta_star, 'unemployment_rate': u_star, \n",
    "            'vacancy_rate': v_star, 'wage': w_star, 'job_value': J_star}\n",
    "\n",
    "params = [s, r, kappa, m, alpha, phi, y, b]\n",
    "eq = solve_dmp(params)\n",
    "note(f\"DMP Equilibrium found: Tightness θ*={eq['tightness']:.3f}, Unemployment u*={eq['unemployment_rate']:.2%}, Wage w*={eq['wage']:.3f}\")"
   ]
  },
  {
   "cell_type": "markdown",
   "metadata": {},
   "source": [
    "#### 2.3 The Beveridge Curve\n",
    "Solving the steady-state flow equation, $p(\\theta)u = s(1-u)$, gives the **Beveridge Curve**, a fundamental downward-sloping relationship between unemployment and vacancies ($v = \\theta u$).\n",
    "\n",
    "#### 2.4 Policy Implications\n",
    "The DMP model provides a powerful lens for analyzing labor market policies. For instance:\n",
    "- **Unemployment Benefits ($b$):** An increase in benefits raises the outside option of workers ($U$), allowing them to bargain for higher wages. This reduces the profitability of a job for a firm ($J$), leading firms to post fewer vacancies. The result is a lower market tightness ($\\theta$) and a higher equilibrium unemployment rate.\n",
    "- **Firing Costs:** Introducing firing costs (which increase the cost of job separation, $s$) has ambiguous effects. While it may reduce separations, it also makes firms more hesitant to hire, potentially lowering vacancy creation.\n",
    "- **Matching Efficiency ($m$):** Policies that improve the matching process (e.g., better job boards, retraining programs) increase $m$, shifting the Beveridge curve inwards and leading to lower unemployment for any given level of vacancies."
   ]
  },
  {
   "cell_type": "code",
   "execution_count": null,
   "metadata": {},
   "outputs": [],
   "source": [
    "sec(\"The Beveridge Curve\")\n",
    "p_theta = lambda theta: m * theta**(1 - alpha)\n",
    "u_ss = lambda theta: s / (s + p_theta(theta))\n",
    "theta_grid = np.linspace(0.1, 5, 200)\n",
    "u_bc = u_ss(theta_grid); v_bc = theta_grid * u_bc\n",
    "\n",
    "plt.plot(u_bc * 100, v_bc * 100, lw=2.5)\n",
    "plt.title('The Beveridge Curve'); plt.xlabel('Unemployment Rate (%)'); plt.ylabel('Vacancy Rate (%)')\n",
    "plt.grid(True); plt.show()"
   ]
  },
  {
   "cell_type": "markdown",
   "metadata": {},
   "source": [
    "### 3. On-the-Job Search and Wage Dispersion\n",
    "\n",
    "The basic DMP model, while powerful, predicts a single wage for all identical workers, which is counter-factual. The **Burdett-Mortensen (1998)** model extends the search framework to include **on-the-job search**, meaning that employed workers can continue to search for better offers. This single, realistic assumption has a profound consequence: it generates a non-degenerate, equilibrium wage distribution, even with identical workers and firms.\n",
    "\n",
    "The intuition is that firms, knowing that their workers might be poached by a competing offer, must decide on an optimal wage-posting strategy. A low-wage firm will have its workers hired away more frequently than a high-wage firm. This tension creates a continuous distribution of wages where firms trade off lower wage costs against shorter job durations."
   ]
  },
  {
   "cell_type": "code",
   "execution_count": null,
   "metadata": {},
   "outputs": [],
   "source": [
    "sec(\"The Burdett-Mortensen Equilibrium Wage Distribution\")\n",
     "# --- Model Parameters ---\n",
     "# lambda0: The Poisson arrival rate of job offers for unemployed workers.\n",
     "# lambda1: The Poisson arrival rate of job offers for employed workers.\n",
     "# delta: The exogenous job separation rate.\n",
     "# r: The interest rate (discount rate).\n",
     "# b: Unemployment benefits.\n",
     "# y: Productivity of a filled job.\n",
     "lambda0, lambda1, delta, r, b, y = 1.0, 0.2, 0.05, 0.01, 0.5, 1.0\n",
    "k = lambda1 / (r + delta)\n",
    "\n",
    "# Solve for reservation wage w_R\n",
    "w_R_obj = lambda w: b + (lambda0 * k / (1 + k)) * (y - w) - w\n",
    "w_R = fsolve(w_R_obj, 0.6)[0]\n",
    "\n",
    "# Define the CDF of the wage distribution G(w)\n",
    "G = lambda w: ((1 + k) / (k * (y - b))) * (w - b)\n",
    "\n",
    "w_vals = np.linspace(w_R, y, 100)\n",
    "cdf_vals = G(w_vals)\n",
    "pdf_vals = (1 + k) / (k * (y - b)) * np.ones_like(w_vals)\n",
    "\n",
    "fig, (ax1, ax2) = plt.subplots(1, 2, figsize=(16, 6))\n",
    "ax1.plot(w_vals, cdf_vals)\n",
    "ax1.set_title('Equilibrium Wage CDF, G(w)')\n",
    "ax1.set_xlabel('Wage (w)'); ax1.set_ylabel('CDF')\n",
    "ax2.plot(w_vals, pdf_vals)\n",
    "ax2.set_title('Equilibrium Wage PDF, g(w)')\n",
    "ax2.set_xlabel('Wage (w)'); ax2.set_ylabel('Density')\n",
    "plt.suptitle('Burdett-Mortensen Wage Distribution', fontsize=16)\n",
    "plt.show()"
   ]
  },
  {
   "cell_type": "markdown",
   "metadata": {},
   "source": [
    "### 4. Assortative Matching\n",
    "The theory of **assortative matching**, pioneered by Gary Becker, addresses the question of *who matches with whom* when agents are heterogeneous. The key concept is **supermodularity**. If the production function $F(k,h)$ (where $k$ is firm productivity and $h$ is worker skill) is supermodular, meaning $\\frac{\\partial^2 F}{\\partial k \\partial h} > 0$, then the marginal product of skill is higher at more productive firms. This creates an incentive for **Positive Assortative Matching (PAM)**, where high-skill workers match with high-productivity firms, as this maximizes the total surplus of the economy."
   ]
  },
  {
   "cell_type": "markdown",
   "metadata": {},
   "source": [
    "### 5. Chapter Summary\n",
    "- **McCall Model:** A partial equilibrium model of optimal stopping that gives rise to the **reservation wage**.\n",
    "- **DMP Model:** The workhorse general equilibrium model of a frictional labor market. The interaction of a matching function, free entry by firms, and wage bargaining determines the equilibrium unemployment and vacancy rates, which are linked by the **Beveridge Curve**.\n",
    "- **Burdett-Mortensen Model:** The canonical model of on-the-job search. It shows how search frictions can lead to a non-degenerate **equilibrium wage distribution** even with identical agents and firms.\n",
    "- **Assortative Matching:** Explains sorting patterns in markets with heterogeneous agents. If the production function is **supermodular**, we expect Positive Assortative Matching (high-types with high-types)."
   ]
  },
  {
   "cell_type": "markdown",
   "metadata": {},
   "source": [
    "### 6. Exercises\n",
    "\n",
    "1.  **Reservation Wage Dynamics:** In the McCall model, how would you expect the reservation wage to change if the wage offer distribution becomes riskier (i.e., has a higher variance but the same mean)? Explain the economic intuition and then verify it.\n",
    "\n",
    "2.  **DMP Equilibrium Effects (Bargaining Power):** In the DMP model, solve for the full equilibrium. Then, analyze the effect of an increase in worker bargaining power `phi` (from 0.5 to 0.7) on the equilibrium market tightness `theta` and the unemployment rate `u`. Explain the mechanism.\n",
    "\n",
    "3.  **Beveridge Curve Shifts:** Show that a decrease in matching efficiency `m` (from 0.5 to 0.4) causes the Beveridge curve to shift outwards (i.e., for any given vacancy rate, the unemployment rate is higher).\n",
    "\n",
    "4.  **Burdett-Mortensen and Labor Market Policy:** In the Burdett-Mortensen model, what is the effect of an increase in unemployment benefits `b` on the reservation wage and the wage distribution? Does this policy increase or decrease wage inequality (e.g., the 90-10 wage ratio)?\n",
    "\n",
    "5.  **Assortative Matching:** Consider a production function $F(k, h) = (k + h)^{0.5}$, where `k` is firm capital and `h` is worker human capital. Is this function supermodular or submodular? Would you expect positive or negative assortative matching in this economy? Verify your answer computationally."
   ]
  }
 ],
 "metadata": {
  "kernelspec": {
   "display_name": "Python 3",
   "language": "python",
   "name": "python3"
  },
  "language_info": {
   "codemirror_mode": {
    "name": "ipython",
    "version": 3
   },
   "file_extension": ".py",
   "mimetype": "text/x-python",
   "name": "python",
   "nbconvert_exporter": "python",
   "pygments_lexer": "ipython3",
   "version": "3.11.5"
  }
 },
 "nbformat": 4,
 "nbformat_minor": 4
}