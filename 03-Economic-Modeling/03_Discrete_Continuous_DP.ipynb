{
  "cells": [
    {
      "cell_type": "code",
      "execution_count": null,
      "metadata": {},
      "outputs": [],
      "source": [
        "# === Environment Setup ===\n",
        "import numpy as np\n",
        "import pandas as pd\n",
        "import matplotlib.pyplot as plt\n",
        "from scipy.optimize import minimize_scalar\n",
        "from IPython.display import display, Markdown\n",
        "\n",
        "# --- Configuration ---\n",
        "plt.style.use('seaborn-v0_8-whitegrid')\n",
        "plt.rcParams.update({'font.size': 12, 'figure.figsize': (11, 7), 'figure.dpi': 130})\n",
        "np.set_printoptions(suppress=True, linewidth=120, precision=4)\n",
        "\n",
        "# --- Utility Functions ---\n",
        "def note(msg): display(Markdown(f\"<div class='alert alert-block alert-info'>\ud83d\udcdd **Note:** {msg}</div>\"))\n",
        "def sec(title): print(f\"\\n{80*'='}\\n| {title.upper()} |\\n{80*'='}\")\n",
        "note(\"Environment initialized.\")"
      ]
    },
    {
      "cell_type": "markdown",
      "metadata": {},
      "source": [
        "# Chapter 3.3: Discrete-Continuous Dynamic Programming\n",
        "\n",
        "---\n",
        "### Introduction: Problems with Mixed Choice Variables\n",
        "\n",
        "Many important economic problems involve agents making both discrete and continuous choices. For example:\n",
        "- A consumer decides **whether** to buy a new car (discrete) and **how much** to spend on other goods (continuous).\n",
        "- A firm decides **whether** to replace a machine (discrete) and **how much** to spend on its maintenance (continuous).\n",
        "- An individual decides **whether** to work (discrete) and **how many hours** to supply (continuous).\n",
        "\n",
        "These problems are challenging because the state space includes both discrete and continuous variables, and the choice set is not a simple convex set. A powerful framework for solving such problems was developed by John Rust (1987) in his seminal paper on the optimal replacement of bus engines, which founded the field of **structural estimation of dynamic discrete choice models**."
      ]
    },
    {
      "cell_type": "markdown",
      "metadata": {},
      "source": [
        "### The Rust (1987) Model: A Canonical Example\n",
        "\n",
        "Rust's model provides a canonical example of a discrete-continuous DP problem. A manager, Harold Zurcher, must decide each period whether to replace a bus engine (`d=1`, a discrete choice) or to keep it and perform maintenance (`d=0`). If he keeps the engine, he must also decide on the optimal level of maintenance expenditure (`m`, a continuous choice).\n",
        "\n",
        "- **State Variable:** The state of the system is the odometer reading, `x`, which represents the engine's mileage.\n",
        "- **Flow Utility:** The utility in a period depends on the maintenance cost, which is a function of mileage, and the operating costs.\n",
        "- **Transition:** The mileage `x` evolves stochastically over time.\n",
        "\n",
        "The manager's problem is to choose a sequence of replacement and maintenance decisions to minimize the total expected discounted cost over the infinite horizon."
      ]
    },
    {
      "cell_type": "markdown",
      "metadata": {},
      "source": [
        "#### The Conditional Value Function\n",
        "\n",
        "The key to solving these models is to decompose the value function. The overall value function is:\n",
        "$$ V(x) = \\max_{d \\in \\{0, 1\\}} \\{ v(x, d) \\} $$\n",
        "where $v(x, d)$ is the **conditional value function**\u2014the value of committing to the discrete choice `d`.\n",
        "\n",
        "1.  **Value of Replacing (`d=1`):** If the manager replaces the engine, he pays a fixed replacement cost `RC` and gets a new engine with zero mileage. The value is:\n",
        "    $$ v(x, 1) = -RC + \\beta E[V(x')] $$\n",
        "\n",
        "2.  **Value of Keeping (`d=0`):** If the manager keeps the engine, he must choose the optimal maintenance level `m` to minimize the sum of current costs and the expected future value. The current cost is `c(x, m)`. The value is:\n",
        "    $$ v(x, 0) = \\max_m \\{ -c(x, m) + \\beta E[V(x')] \\}\n",
        "\n",
        "This structure creates a **nested fixed point problem**. To solve for the outer value function $V(x)$, we first need to solve the inner optimization problem for the optimal maintenance level for every possible state `x`."
      ]
    },
    {
      "cell_type": "code",
      "execution_count": null,
      "metadata": {},
      "outputs": [],
      "source": [
        "sec(\"Placeholder: Implementing a Discrete-Continuous DP Model\")\n",
        "note(\"This section will contain the Python code to set up and solve a simplified version of the Rust model. This is a placeholder for the full implementation.\")\n",
        "\n",
        "class OptimalReplacement:\n",
        "    \"\"\"A class to solve a discrete-continuous optimal replacement problem.\"\"\"\n",
        "    def __init__(self, **kwargs):\n",
        "        # Model parameters\n",
        "        self.beta = 0.95  # Discount factor\n",
        "        self.RC = 10      # Replacement cost\n",
        "        self.c1 = 0.5     # Maintenance cost parameter 1\n",
        "        self.c2 = 1.2     # Maintenance cost parameter 2\n",
        "        self.max_mileage = 100\n",
        "        self.x_grid = np.arange(self.max_mileage)\n",
        "        self.V = np.zeros(self.max_mileage) # Value function\n",
        "\n",
        "    def cost_func(self, x, m):\n",
        "        \"\"\"Cost of maintenance `m` at mileage `x`.\"\"\"\n",
        "        return self.c1 * m + self.c2 * x / (1 + m)\n",
        "\n",
        "    def solve_maintenance(self, x, EV):\n",
        "        \"\"\"Solves the inner continuous choice of optimal maintenance.\"\"\"\n",
        "        # For this simple model, we can solve it, but in general this is a numerical optimization\n",
        "        # In this placeholder, we'll assume a simple solution.\n",
        "        # For a full implementation, we'd use scipy.optimize.minimize_scalar here.\n",
        "        optimal_m = np.sqrt(self.c2 * x / self.c1) - 1\n",
        "        optimal_m = max(0, optimal_m) # Maintenance can't be negative\n",
        "        return -self.cost_func(x, optimal_m) + self.beta * EV\n",
        "    \n",
        "    def solve(self, tol=1e-6, max_iter=1000):\n",
        "        \"\"\"Solves the model using value function iteration.\"\"\"\n",
        "        # VFI loop will go here\n",
        "        pass\n",
        "\n",
        "dc_model = OptimalReplacement()\n",
        "print(\"Discrete-continuous DP model class structure defined (implementation to follow).\")"
      ]
    }
  ],
  "metadata": {
    "kernelspec": {
      "display_name": "Python 3",
      "language": "python",
      "name": "python3"
    },
    "language_info": {
      "codemirror_mode": {
        "name": "ipython",
        "version": 3
      },
      "file_extension": ".py",
      "mimetype": "text/x-python",
      "name": "python",
      "nbconvert_exporter": "python",
      "pygments_lexer": "ipython3",
      "version": "3.11.5"
    }
  },
  "nbformat": 4,
  "nbformat_minor": 4
}