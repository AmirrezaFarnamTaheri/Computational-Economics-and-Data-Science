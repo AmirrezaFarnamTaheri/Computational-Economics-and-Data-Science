{
  "cells": [
    {
      "cell_type": "code",
      "execution_count": null,
      "metadata": {
        "collapsed": true
      },
      "outputs": [],
      "source": [
        "# === Environment Setup ===\n",
        "import os, sys, math, time, random, json, textwrap, warnings\n",
        "import numpy as np, pandas as pd, matplotlib.pyplot as plt\n",
        "from scipy.optimize import minimize_scalar\n",
        "from mpl_toolkits.mplot3d import Axes3D\n",
        "from numba import njit\n",
        "\n",
        "# --- Configuration ---\n",
        "plt.style.use('seaborn-v0_8-whitegrid')\n",
        "plt.rcParams.update({'font.size': 12, 'figure.figsize': (10, 6), 'figure.dpi': 130,\n",
        "                     'axes.titlesize': 'x-large', 'axes.labelsize': 'large',\n",
        "                     'xtick.labelsize': 'medium', 'ytick.labelsize': 'medium'})\n",
        "np.set_printoptions(suppress=True, linewidth=120, precision=4)\n",
        "\n",
        "# --- Utility Functions ---\n",
        "def note(msg, **kwargs):\n",
        "    display(Markdown(f\"<div class='alert alert-info'>\ud83d\udcdd {textwrap.fill(msg, width=100)}</div>\"))\n",
        "def sec(title):\n",
        "    print(f\"\\n{100*'='}\\n| {title.upper()} |\\n{100*'='}\")\n",
        "\n",
        "note(\"Environment initialized.\")"
      ]
    },
    {
      "cell_type": "markdown",
      "metadata": {},
      "source": [
        "# Part 3: Dynamic Models\n",
        "## Chapter 3.5: Robust Control and Ambiguity\n",
        "\n",
        "### Table of Contents\n",
        "1.  [From Risk to Ambiguity](#1.-From-Risk-to-Ambiguity)\n",
        "    *   [1.1 Knightian Uncertainty](#1.1-Knightian-Uncertainty)\n",
        "    *   [1.2 Axiomatic Foundations: Why Max-Min?](#1.2-Axiomatic-Foundations:-Why-Max-Min?)\n",
        "2.  [The Hansen-Sargent Robust Control Framework](#2.-The-Hansen-Sargent-Robust-Control-Framework)\n",
        "    *   [2.1 The Multiplier Problem and the Robust Bellman Equation](#2.1-The-Multiplier-Problem-and-the-Robust-Bellman-Equation)\n",
        "    *   [2.2 The Worst-Case Belief](#2.2-The-Worst-Case-Belief)\n",
        "3.  [Application: Robust Precautionary Savings](#3.-Application:-Robust-Precautionary-Savings)\n",
        "4.  [Alternative: Smooth Ambiguity Aversion (KMM)](#4.-Alternative:-Smooth-Ambiguity-Aversion-(KMM))\n",
        "5.  [Chapter Summary](#5.-Chapter-Summary)\n",
        "6.  [Exercises](#6.-Exercises)"
      ]
    },
    {
      "cell_type": "markdown",
      "metadata": {},
      "source": [
        "### 1. From Risk to Ambiguity\n",
        "\n",
        "#### 1.1 Knightian Uncertainty\n",
        "The models we have studied so far assume the agent knows the true probability distribution governing random shocks. This is the world of **risk**. However, in many real-world situations, agents face a er form of uncertainty, often called **Knightian uncertainty** or **ambiguity**, where the true probability model itself is unknown. Agents may have a baseline model they believe is a good approximation, but they fear it might be misspecified in ways they cannot precisely quantify.\n",
        "\n",
        "**Robust control theory**, pioneered in macroeconomics by Lars Peter Hansen and Thomas Sargent, provides a framework for modeling decision-making in this environment. It models an agent who is not only risk-averse but also **ambiguity-averse**. Such an agent chooses policies that are **robust**\u2014that is, policies that perform reasonably well across a whole set of plausible alternative models, not just the single baseline model they think is most likely."
      ]
    },
    {
      "cell_type": "markdown",
      "metadata": {},
      "source": [
        "#### 1.2 Axiomatic Foundations: Why Max-Min?\n",
        "The standard expected utility model of von Neumann and Morgenstern is derived from a set of axioms about preference, including **completeness** (any two lotteries can be compared) and **transitivity**. However, the key axiom is the **independence axiom**, which states that if an agent prefers lottery A to lottery B, they must also prefer a mix of A and C to a mix of B and C.\n",
        "\n",
        "The famous **Ellsberg paradox** showed that people systematically violate this axiom in the presence of ambiguity. This led to the development of alternative axiomatic systems. The model of **Gilboa and Schmeidler (1989)** relaxes the independence axiom and replaces it with a weaker **uncertainty aversion axiom**. This new set of axioms leads not to a single expected utility representation, but to a **max-min expected utility** representation, where the agent has a set of plausible probability distributions and evaluates a choice by the worst possible expected utility across that set. This provides the theoretical justification for the max-min structure of robust control."
      ]
    },
    {
      "cell_type": "markdown",
      "metadata": {},
      "source": [
        "### 2. The Hansen-Sargent Robust Control Framework\n",
        "The core idea is to frame the agent's problem as a two-player game against a malevolent \"evil agent\" or \"nature.\" The agent chooses a policy (a control law), and then nature, seeking to minimize the agent's welfare, chooses the worst possible realization of the model from a set of plausible alternatives. The agent, anticipating this, chooses the policy that gives the best outcome in the worst-case scenario. This is a **minimax** strategy."
      ]
    },
    {
      "cell_type": "markdown",
      "metadata": {},
      "source": [
        "#### 2.1 The Multiplier Problem and the Robust Bellman Equation\n",
        "Let the agent have a baseline belief about the shock density, $\\phi_0(w)$. They fear the true density $\\phi(w)$ might be different. The set of alternative models is constrained by the **relative entropy**, $R(\\phi || \\phi_0) = \\int \\phi(w) \\ln(\\frac{\\phi(w)}{\\phi_0(w)}) dw$, which measures the statistical \"distance\" between the two distributions. The robust Bellman equation is a constrained optimization problem:\n",
        "$$ V(s) = \\max_{a} \\min_{\\phi} \\left\\{ r(s, a) + \\beta \\left( \\int V(s') \\phi(w) dw \\right) \\right\\} \\quad \\text{s.t.} \\quad R(\\phi || \\phi_0) \\le \\eta $$\n",
        "This can be solved using a Lagrange multiplier $\\theta$ and converted into an unconstrained saddle-point problem. Solving the inner minimization problem (nature's problem) leads to a more tractable form known as the **recursive entropy Bellman equation**:\n",
        "$$ V(s) = \\max_{a} \\left\\{ r(s, a) - \\beta \\theta \\ln E_{\\phi_0}[e^{-V(s')/\\theta}] \\right\\} $$ \n",
        "The parameter $\\theta$ is the **robustness parameter**. A small $\\theta$ means the agent is highly ambiguity-averse. As $\\theta \\to \\infty$, the agent becomes ambiguity-neutral, and we recover the standard Bellman equation."
      ]
    },
    {
      "cell_type": "markdown",
      "metadata": {},
      "source": [
        "#### 2.2 The Worst-Case Belief\n",
        "A key result from the theory is that the robust agent behaves *as if* they are an expected utility maximizer, but with a **pessimistically distorted** or **worst-case** belief. For a given continuation value function $V(s')$, the worst-case probability of state $i$ is:\n",
        "$$ p_{wc}(i) = \\frac{p_0(i) \\exp(-V_i / \\theta)}{\\sum_j p_0(j) \\exp(-V_j / \\theta)} $$\n",
        "The evil agent slants the probabilities towards states that deliver the lowest continuation utility. The robustness parameter $\\theta$ controls the degree of this slant."
      ]
    },
    {
      "cell_type": "markdown",
      "metadata": {},
      "source": [
        "### 3. Application: Robust Precautionary Savings\n",
        "We now solve a simple two-period savings problem to see how ambiguity aversion affects precautionary savings. An agent has wealth $W$ today. Tomorrow, their income can be high ($y_H$) or low ($y_L$) with baseline probabilities $p_0$ and $1-p_0$. They want to choose consumption today ($c_0$) to maximize lifetime utility. A robust agent fears the probability of the low-income state might be higher than their baseline belief."
      ]
    },
    {
      "cell_type": "code",
      "execution_count": null,
      "metadata": {},
      "outputs": [],
      "source": [
        "sec(\"Robust Precautionary Savings\")\n",
        "# --- Model Parameters ---\n",
        "W0, R, BETA, GAMMA = 100, 1.02, 0.96, 2.0\n",
        "Y_H, Y_L, P0_H = 15.0, 5.0, 0.5\n",
        "\n",
        "@njit\n",
        "def u(c, gamma=GAMMA): return (c**(1 - gamma)) / (1 - gamma)\n",
        "\n",
        "def solve_savings_problem(theta=np.inf):\n",
        "    \"\"\"Solves for optimal c0 given a robustness parameter theta.\"\"\"\n",
        "    def objective(c0):\n",
        "        # Payoffs in the two states tomorrow\n",
        "        c1_H = R * (W0 - c0) + Y_H\n",
        "        c1_L = R * (W0 - c0) + Y_L\n",
        "        # Utility from consumption tomorrow\n",
        "        u_outcomes = np.array([u(c1_H), u(c1_L)])\n",
        "        \n",
        "        if theta == np.inf: # Standard EU case\n",
        "            EV = P0_H * u_outcomes[0] + (1 - P0_H) * u_outcomes[1]\n",
        "            return -(u(c0) + BETA * EV)\n",
        "        else: # Robust case\n",
        "            # Use the risk-sensitive operator\n",
        "            p_baseline = np.array([P0_H, 1 - P0_H])\n",
        "            distorted_factors = p_baseline * np.exp(u_outcomes / theta) # Note: V = u, so -V/theta -> u/theta for max problem\n",
        "            risk_sensitive_EV = theta * np.log(np.sum(distorted_factors))\n",
        "            return -(u(c0) + BETA * risk_sensitive_EV)\n",
        "    \n",
        "    res = minimize_scalar(objective, bounds=(0.1, W0-0.1), method='bounded')\n",
        "    return res.x\n",
        "\n",
        "# --- Solve and Compare ---\n",
        "c0_eu = solve_savings_problem()\n",
        "c0_robust_low_theta = solve_savings_problem(theta=1.0) # High ambiguity aversion\n",
        "c0_robust_high_theta = solve_savings_problem(theta=50.0) # Low ambiguity aversion\n",
        "\n",
        "note(f\"Optimal Consumption (Standard EU):         c0 = {c0_eu:.2f}\")\n",
        "note(f\"Optimal Consumption (Robust, high aversion): c0 = {c0_robust_low_theta:.2f}\")\n",
        "note(f\"Optimal Consumption (Robust, low aversion):  c0 = {c0_robust_high_theta:.2f}\")\n",
        "note(\"The robust agent consumes less (saves more) than the standard agent. This extra saving is a buffer against their fear of model misspecification and is known as 'ambiguity-driven precautionary savings'.\")"
      ]
    },
    {
      "cell_type": "markdown",
      "metadata": {},
      "source": [
        "### 4. Alternative: Smooth Ambiguity Aversion (KMM)\n",
        "The Hansen-Sargent model has a \"kink\" in the utility function at the reference model, which can sometimes lead to counter-intuitive behavior. An influential alternative is the **smooth ambiguity aversion** model of **Klibanoff, Marinacci, and Mukerji (2005)**.\n",
        "\n",
        "The KMM model separates the agent's attitude towards risk from their attitude towards ambiguity. The agent has a utility function $u$ over consumption (capturing risk aversion) and a separate increasing and concave function $\\phi$ over expected utilities, which captures ambiguity aversion. The agent evaluates a choice by:\n",
        "$$ V_{KMM} = E_\\mu [\\phi(E_p[u(c)])] $$\n",
        "Here, the agent has a subjective prior $\\mu$ over a set of possible probability models $p$. The function $\\phi$ determines how they feel about the uncertainty over which model is correct. A more concave $\\phi$ implies higher ambiguity aversion. This framework leads to a smoother objective function and can better distinguish between risk and ambiguity in empirical applications."
      ]
    },
    {
      "cell_type": "markdown",
      "metadata": {},
      "source": [
        "### 5. Chapter Summary\n",
        "- **Risk vs. Ambiguity:** Risk refers to uncertainty with known probabilities; ambiguity refers to uncertainty where the probability model itself is unknown. Standard expected utility theory fails to capture aversion to ambiguity, as shown by the Ellsberg paradox.\n",
        "- **Robust Control:** The Hansen-Sargent framework models ambiguity aversion by having an agent play a game against a malevolent nature who chooses the worst possible model from a constrained set. The agent chooses a policy that is robust to this worst-case misspecification.\n",
        "- **Robust Bellman Equation:** This game leads to a modified Bellman equation featuring a **risk-sensitive operator**, $- \\theta \\ln E[e^{-V/\\theta}]$. The parameter $\\theta$ governs the agent's ambiguity aversion.\n",
        "- **Worst-Case Beliefs:** A robust agent behaves like an EU maximizer with pessimistically distorted beliefs, overweighting the probability of bad outcomes.\n",
        "- **Economic Implications:** Ambiguity aversion provides a powerful explanation for observed phenomena that are puzzling under standard models, such as high equity premia and strong precautionary savings motives.\n",
        "- **Alternative Models:** The smooth ambiguity model of KMM provides a related but distinct framework that separates risk aversion from ambiguity aversion."
      ]
    },
    {
      "cell_type": "markdown",
      "metadata": {},
      "source": [
        "### 6. Exercises\n",
        "\n",
        "1.  **Risk vs. Ambiguity:** Explain the difference between risk and ambiguity using the example of a clinical trial for a new drug. What aspects involve risk, and what aspects involve ambiguity?\n",
        "\n",
        "2.  **Risk Aversion and Ambiguity Aversion:** In the robust savings problem, re-run the analysis with a higher risk aversion parameter, `GAMMA = 5.0`. Does the precautionary savings motive (the gap between $c_0^{EU}$ and $c_0^{Robust}$) increase or decrease? Explain the interaction between the two aversions.\n",
        "\n",
        "3.  **The KMM Model:** The certainty equivalent for the KMM model with CARA-Normal assumptions takes the form $CE = E[W] - \\frac{1}{2}\\rho Var(W) - \\frac{1}{2}\\eta Var(E[W|p])$. The first two terms are standard risk aversion. The third term is the ambiguity premium, where $\\eta$ is the ambiguity aversion parameter. How does this decomposition differ from the Hansen-Sargent model?\n",
        "\n",
        "4.  **Robust Social Planner:** Consider a social planner setting carbon tax policy. The planner has a model of the economic damages from climate change, but is uncertain about the 'tail risk' (the probability of a catastrophic outcome). How would a robust social planner's optimal carbon tax differ from a standard expected-cost-benefit planner? Would it be higher or lower? Why?\n",
        "\n",
        "5.  **Worst-Case Probability:** For the savings problem, calculate and plot the worst-case probability of the low-income state as a function of the agent's savings choice, $c_0$. Does the agent's fear (the worst-case probability) get worse or better as they save more? Explain."
      ]
    }
  ],
  "metadata": {
    "kernelspec": {
      "display_name": "Python 3",
      "language": "python",
      "name": "python3"
    },
    "language_info": {
      "codemirror_mode": {
        "name": "ipython",
        "version": 3
      },
      "file_extension": ".py",
      "mimetype": "text/x-python",
      "name": "python",
      "nbconvert_exporter": "python",
      "pygments_lexer": "ipython3",
      "version": "3.11.5"
    }
  },
  "nbformat": 4,
  "nbformat_minor": 4
}