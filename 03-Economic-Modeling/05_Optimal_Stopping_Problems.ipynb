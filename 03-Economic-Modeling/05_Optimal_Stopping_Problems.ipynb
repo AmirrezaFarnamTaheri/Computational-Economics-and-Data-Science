{
 "cells": [
  {
   "cell_type": "code",
   "execution_count": null,
   "metadata": {
    "collapsed": true
   },
   "outputs": [],
   "source": [
    "# === Environment Setup ===\n",
    "import os, sys, math, time, random, json, textwrap, warnings\n",
    "from typing import Callable\n",
    "import numpy as np, pandas as pd, matplotlib.pyplot as plt\n",
    "from numba import njit\n",
    "from scipy.stats import beta as beta_dist, norm\n",
    "from scipy.optimize import brentq\n",
    "from IPython.display import Image, Markdown, display\n",
    "\n",
    "# --- Configuration ---\n",
    "plt.style.use('seaborn-v0_8-whitegrid')\n",
    "plt.rcParams.update({'font.size': 12, 'figure.figsize': (10, 6), 'figure.dpi': 130,\n",
    "                     'axes.titlesize': 'x-large', 'axes.labelsize': 'large',\n",
    "                     'xtick.labelsize': 'medium', 'ytick.labelsize': 'medium'})\n",
    "np.set_printoptions(suppress=True, linewidth=120, precision=4)\n",
    "\n",
    "# --- Utility Functions ---\n",
    "def note(msg, **kwargs):\n",
    "    display(Markdown(f\"<div class='alert alert-info'>\ud83d\udcdd {textwrap.fill(msg, width=100)}</div>\"))\n",
    "def sec(title):\n",
    "    print(f\"\\n{100*'='}\\n| {title.upper()} |\\n{100*'='}\")\n",
    "\n",
    "note(\"Environment initialized.\")"
   ]
  },
  {
   "cell_type": "markdown",
   "metadata": {},
   "source": [
    "# Part 3: Dynamic Models\n",
    "## Chapter 3.04: Optimal Stopping Problems\n",
    "\n",
    "### Table of Contents\n",
    "1.  [The Structure of Optimal Stopping Problems](#1.-The-Structure-of-Optimal-Stopping-Problems)\n",
    "    *   [1.1 The Secretary Problem: A Finite Horizon Example](#1.1-The-Secretary-Problem:-A-Finite-Horizon-Example)\n",
    "    *   [1.2 The Bellman Equation for Optimal Stopping](#1.2-The-Bellman-Equation-for-Optimal-Stopping)\n",
    "2.  [Application 1: The McCall Job Search Model](#2.-Application-1:-The-McCall-Job-Search-Model)\n",
    "3.  [Continuous Time: The HJB Equation and Real Options](#3.-Continuous-Time:-The-HJB-Equation-and-Real-Options)\n",
    "    *   [3.1 From Bellman to HJB](#3.1-From-Bellman-to-HJB)\n",
    "    *   [3.2 Application: Irreversible Investment under Uncertainty](#3.2-Application:-Irreversible-Investment-under-Uncertainty)\n",
    "4.  [Application 2: American Option Pricing](#4.-Application-2:-American-Option-Pricing)\n",
    "5.  [Chapter Summary](#5.-Chapter-Summary)\n",
    "6.  [Exercises](#6.-Exercises)"
   ]
  },
  {
   "cell_type": "markdown",
   "metadata": {},
   "source": [
    "### Introduction: The Economics of When to Act\n",
    "Many economic decisions are not about *how much* to do something, but *when* to do it. A firm decides when to make an irreversible investment. A job seeker decides when to accept a wage offer. A household decides when to sell their house. These are all **optimal stopping problems**.\n",
    "\n",
    "An optimal stopping problem is a special type of dynamic programming problem where, at each point in time, the agent faces a simple binary choice: **STOP** or **CONTINUE**.\n",
    "- **STOP:** End the process and receive a terminal payoff. This decision is irreversible.\n",
    "- **CONTINUE:** Forgo the stopping payoff, receive any flow payoff for the current period, and face the same decision again in the next period, where the state of the world may have changed.\n",
    "\n",
    "The agent must find a rule—a mapping from states to actions—that maximizes their total expected discounted payoff. This notebook introduces the formal structure of these problems and solves canonical applications from labor economics, corporate finance, and asset pricing."
   ]
  },
  {
   "cell_type": "markdown",
   "metadata": {},
   "source": [
    "### 1. The Structure of Optimal Stopping Problems"
   ]
  },
  {
   "cell_type": "markdown",
   "metadata": {},
   "source": [
    "#### 1.1 The Secretary Problem: A Finite Horizon Example\n",
    "The classic \"Secretary Problem\" provides a clean, analytical introduction to the logic of optimal stopping. An administrator wishes to hire the best secretary out of $N$ candidates, interviewed in random order. After each interview, the administrator must immediately decide to either hire the candidate (and stop the search) or reject them forever. The goal is to maximize the probability of hiring the single best candidate.\n",
    "\n",
    "The state is the information available: the number of candidates interviewed so far ($k$) and whether the current candidate is the best seen *so far*. The optimal strategy can be found via backward induction. It takes the form of a simple threshold rule: reject the first $r-1$ candidates, and then hire the first subsequent candidate who is better than all previous ones. The optimal threshold $r$ for large $N$ approaches $N/e$, where $e \\approx 2.718$. This means it is optimal to let the first $\\approx 37\\%$ of candidates go by to establish a benchmark, and then hire the next \"best so far\" candidate."
   ]
  },
  {
   "cell_type": "markdown",
   "metadata": {},
   "source": [
    "#### 1.2 The Bellman Equation for Optimal Stopping\n",
    "For an infinite horizon problem, the Bellman equation for an optimal stopping problem has a simple and elegant form. The value of being in state `s` is the maximum of the value of stopping and the value of continuing.\n",
    "$$ V(s) = \\max \\{ \\text{StopValue}(s), \\text{ContinueValue}(s) \\} $$ \n",
    "Where the `ContinueValue(s)` is the flow payoff (if any) plus the discounted expected value of facing the problem again in the next period: \n",
    "$$ \\text{ContinueValue}(s) = \\text{FlowPayoff}(s) + \\beta E[V(s')]$$\n",
    "This structure lends itself perfectly to solution by value function iteration. The set of states where the agent is indifferent forms the **optimal stopping boundary**."
   ]
  },
  {
   "cell_type": "markdown",
   "metadata": {},
   "source": [
    "### 2. Application 1: The McCall Job Search Model\n",
    "In the McCall model, an unemployed agent receives a benefit, `c`, and a wage offer, `w`, drawn from a distribution `p(w)`. The Bellman equation for an agent who has just received an offer `w` is:\n",
    "$$ V(w) = \\max \\left\\{ \\underbrace{\\frac{w}{1-\\beta}}_{\\text{StopValue}}, \\quad \\underbrace{c + \\beta \\int V(w') p(w') dw'}_{\\text{ContinueValue}} \\right\\} $$"
   ]
  },
  {
   "cell_type": "code",
   "execution_count": null,
   "metadata": {},
   "outputs": [],
   "source": [
    "sec(\"Solving for the McCall Reservation Wage\")\n",
    "BETA, C = 0.96, 25\n",
    "WAGE_A, WAGE_B, WAGE_SCALE = 2, 5, 60\n",
    "w_dist = beta_dist(a=WAGE_A, b=WAGE_B, scale=WAGE_SCALE)\n",
    "w_grid = np.linspace(0.01, WAGE_SCALE, 150)\n",
    "pdf_grid = w_dist.pdf(w_grid); pdf_grid /= np.sum(pdf_grid)\n",
    "\n",
    "def reservation_wage_objective(w_bar):\n",
    "    integrand = np.maximum(w_grid, w_bar) * pdf_grid\n",
    "    integral = np.sum(integrand)\n",
    "    v_continue = C + BETA * integral / (1 - BETA)\n",
    "    v_stop = w_bar / (1 - BETA)\n",
    "    return v_stop - v_continue\n",
    "\n",
    "w_bar = brentq(reservation_wage_objective, a=0, b=WAGE_SCALE)\n",
    "note(f\"The reservation wage is w_bar = ${w_bar:.2f}\")\n",
    "\n",
    "fig, ax = plt.subplots()\n",
    "ax.plot(w_grid, w_grid / (1 - BETA), lw=2.5, label='Value of Accepting Offer w')\n",
    "ax.axhline((1 - BETA) * w_bar, lw=2.5, color='orange', label='Value of Continuing Search')\n",
    "ax.axvline(w_bar, color='k', ls='--', label=f'Reservation Wage w* = {w_bar:.2f}')\n",
    "ax.set(xlabel='Wage Offer (w)', ylabel='Lifetime Value', title='Optimal Stopping Policy in Job Search'); ax.legend()\n",
    "plt.show()"
   ]
  },
  {
   "cell_type": "markdown",
   "metadata": {},
   "source": [
    "### 3. Continuous Time: The HJB Equation and Real Options\n",
    "\n",
    "#### 3.1 From Bellman to HJB\n",
    "As the time step $\\Delta t$ in a discrete model goes to zero, the Bellman equation converges to a differential equation known as the **Hamilton-Jacobi-Bellman (HJB) equation**. For an optimal stopping problem, the HJB equation partitions the state space into two regions:\n",
    "1.  A **continuation region**, where the value of waiting is positive. Here, the value function $V(s)$ must satisfy a partial differential equation.\n",
    "2.  A **stopping region**, where it is optimal to stop. Here, $V(s)$ is equal to the terminal payoff.\n",
    "\n",
    "The **free boundary** is the border between these two regions, representing the optimal stopping boundary."
   ]
  },
  {
   "cell_type": "markdown",
   "metadata": {},
   "source": [
    "#### 3.2 Application: Irreversible Investment under Uncertainty\n",
    "A cornerstone of modern corporate finance is the **real options** approach to investment. A firm has the option to pay a fixed, sunk cost $I$ to build a factory. The factory's value, $P_t$, follows a geometric Brownian motion: $dP = \\mu P dt + \\sigma P dZ_t$. The firm must choose the optimal time to invest.\n",
    "\n",
    "The value of the investment option, $F(P)$, must satisfy the HJB equation in the continuation region:\n",
    "$$ rF = \\mu P F'(P) + \\frac{1}{2} \\sigma^2 P^2 F''(P) $$\n",
    "This is an ODE with the general solution $F(P) = A_1 P^{\\gamma_1} + A_2 P^{\\gamma_2}$, where $\\gamma_1 > 1$ and $\\gamma_2 < 0$ are the roots of the characteristic quadratic. Economic conditions rule out the explosive positive root, so $F(P) = A P^\\gamma$. The solution is found by imposing boundary conditions (value matching and smooth pasting) at the optimal investment threshold $P^*$. This yields the solution for the investment threshold:\n",
    "$$ P^* = \\frac{\\gamma_1}{\\gamma_1 - 1} I $$\n",
    "where $\\gamma_1 = \\frac{1}{2} - \\frac{\\mu}{\\sigma^2} + \\sqrt{\\left(\\frac{\\mu}{\\sigma^2} - \\frac{1}{2}\\right)^2 + \\frac{2r}{\\sigma^2}} > 1$. The term $\\frac{\\gamma_1}{\\gamma_1 - 1} > 1$ is the **real options multiplier**. It shows that the firm should wait until the project's value $P$ is significantly greater than the investment cost $I$. This gap represents the **option value of waiting** and increases with uncertainty (volatility $\\sigma$)."
   ]
  },
  {
   "cell_type": "markdown",
   "metadata": {},
   "source": [
    "### 4. Application 2: American Option Pricing\n",
    "An American put option gives the right to sell an asset at a strike price $K$ at *any* time up to a finite expiration date $T$. This is a finite-horizon optimal stopping problem. We solve it via backward induction on a discretized state space, starting from the known terminal condition at expiration, $V_T(S) = \\max(K-S, 0)$."
   ]
  },
  {
   "cell_type": "code",
   "execution_count": null,
   "metadata": {},
   "outputs": [],
   "source": [
    "sec(\"Pricing an American Put Option via VFI\")\n",
    "K, R, SIGMA, T_exp = 100, 0.01, 0.2, 1.0\n",
    "N_periods, N_S = 100, 101 # Time steps and state space grid size\n",
    "dt = T_exp / N_periods\n",
    "S_grid = np.linspace(50, 150, N_S)\n",
    "\n",
    "# Discretize the shock distribution (approximating a random walk)\n",
    "p_up = 0.5 * (1 + (R - 0.5*SIGMA**2)*np.sqrt(dt)/SIGMA)\n",
    "p_down = 1 - p_up\n",
    "u, d = np.exp(SIGMA * np.sqrt(dt)), np.exp(-SIGMA * np.sqrt(dt))\n",
    "\n",
    "V = np.maximum(K - S_grid, 0) # Value at expiration\n",
    "\n",
    "for t in range(N_periods - 1, -1, -1):\n",
    "    # Calculate expected continuation value\n",
    "    S_up = S_grid * u; S_down = S_grid * d\n",
    "    V_up = np.interp(S_up, S_grid, V)\n",
    "    V_down = np.interp(S_down, S_grid, V)\n",
    "    EV = p_up * V_up + p_down * V_down\n",
    "    \n",
    "    # Bellman update\n",
    "    V = np.maximum(K - S_grid, np.exp(-R * dt) * EV)\n",
    "\n",
    "V_option = V\n",
    "exercise_boundary = S_grid[np.isclose(V_option, K - S_grid, atol=1e-3)]\n",
    "exercise_price = exercise_boundary[0] if len(exercise_boundary)>0 else np.nan\n",
    "note(f\"The optimal exercise boundary is at S* = ${exercise_price:.2f}\")\n",
    "\n",
    "plt.figure(figsize=(10, 7))\n",
    "plt.plot(S_grid, V_option, label='American Put Value (t=0)')\n",
    "plt.plot(S_grid, np.maximum(K - S_grid, 0), 'k--', label='Intrinsic Value')\n",
    "plt.axvline(exercise_price, color='r', ls='--', label=f'Exercise Boundary S*')\n",
    "plt.title('American Put Option Value and Exercise Boundary')\n",
    "plt.xlabel('Stock Price (S)'); plt.ylabel('Option Value'); plt.legend()\n",
    "plt.show()"
   ]
  },
  {
   "cell_type": "markdown",
   "metadata": {},
   "source": [
    "### 5. Chapter Summary\n",
    "- **Structure:** Optimal stopping problems involve a binary choice at each period: stop and receive a terminal payoff, or continue and receive a flow payoff plus the discounted expected value of facing the problem again.\n",
    "- **Bellman Equation:** The value function is the maximum of the stopping value and the continuation value. This structure is solvable with value function iteration.\n",
    "- **Reservation Value:** The optimal policy is often a simple threshold rule: stop if the state variable crosses a critical **reservation value** (or **optimal stopping boundary**).\n",
    "- **Continuous Time:** As $\\Delta t \\to 0$, the Bellman equation converges to the **HJB equation**, a PDE that governs the value function in the continuation region.\n",
    "- **Real Options:** The theory of irreversible investment under uncertainty is a key application. It shows that volatility creates an **option value of waiting**, causing firms to invest only when the project's value significantly exceeds its cost."
   ]
  },
  {
   "cell_type": "markdown",
   "metadata": {},
   "source": [
    "### 6. Exercises\n",
    "\n",
    "1.  **Secretary Problem Simulation:** Write a simulation to verify the optimality of the $N/e$ rule for the Secretary Problem. For $N=100$, simulate the process 10,000 times for different rejection thresholds `r`. Plot the success probability as a function of `r`. Does the maximum occur near $r=100/e$?\n",
    "\n",
    "2.  **Comparative Statics (Benefits):** How does the reservation wage in the McCall model change if unemployment benefits `c` increase from 25 to 35? Re-solve for the new reservation wage. Does the average unemployment duration increase or decrease? Explain the economic intuition.\n",
    "\n",
    "3.  **Comparative Statics (Volatility):** For the real options investment model, plot the optimal investment threshold $P^*$ as a function of volatility $\\sigma$. How does increased uncertainty affect the option value of waiting and the firm's willingness to invest? \n",
    "\n",
    "4.  **On-the-Job Search:** Extend the McCall model to include on-the-job search. An employed worker with wage `w` gets a new wage offer `w'` with some probability `λ` each period. The Bellman equation for an *employed* worker is now: $V(w) = w + \\beta [ (1-\\lambda)V(w) + \\lambda E[\\max(V(w'), V(w))] ]$. Solve this more complex problem using VFI. How does the possibility of on-the-job search affect the initial reservation wage of an unemployed worker?\n",
    "\n",
    "5.  **American Call Option:** An American *call* option gives the right to *buy* the asset at strike price K. Its stopping value is $\\max(S-K, 0)$. It is famously never optimal to exercise an American call option on a non-dividend-paying stock before expiration. Can you modify the VFI code for the American put to price a call option and verify this result? (Hint: The value of the American call should be identical to the value of a European call)."
   ]
  }
 ],
 "metadata": {
  "kernelspec": {
   "display_name": "Python 3",
   "language": "python",
   "name": "python3"
  },
  "language_info": {
   "codemirror_mode": {
    "name": "ipython",
    "version": 3
   },
   "file_extension": ".py",
   "mimetype": "text/x-python",
   "name": "python",
   "nbconvert_exporter": "python",
   "pygments_lexer": "ipython3",
   "version": "3.11.5"
  }
 },
 "nbformat": 4,
 "nbformat_minor": 4
}