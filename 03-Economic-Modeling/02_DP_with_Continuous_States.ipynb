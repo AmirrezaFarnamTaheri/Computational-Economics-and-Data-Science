{
 "cells": [
  {
   "cell_type": "code",
   "execution_count": null,
   "metadata": {
    "collapsed": true
   },
   "outputs": [],
   "source": [
    "# === Environment Setup ===\n",
    "import os, sys, math, time, random, json, textwrap, warnings\n",
    "import numpy as np, pandas as pd, matplotlib.pyplot as plt\n",
    "from numpy.polynomial import chebyshev\n",
    "from scipy.optimize import minimize_scalar, brentq\n",
    "from scipy.interpolate import interp1d\n",
    "from scipy.stats import norm\n",
    "from numba import njit\n",
    "from IPython.display import Image, Markdown, display\n",
    "\n",
    "# --- Configuration ---\n",
    "plt.style.use('seaborn-v0_8-whitegrid')\n",
    "plt.rcParams.update({'figure.dpi': 130, 'font.size': 12, 'axes.titlesize': 'x-large',\n",
    "    'axes.labelsize': 'large', 'xtick.labelsize': 'medium', 'ytick.labelsize': 'medium'})\n",
    "np.set_printoptions(suppress=True, linewidth=120, precision=6)\n",
    "\n",
    "# --- Utility Functions ---\n",
    "def note(msg, **kwargs):\n",
    "    display(Markdown(f\"<div class='alert alert-info'>\ud83d\udcdd {textwrap.fill(msg, width=100)}</div>\"))\n",
    "def sec(title):\n",
    "    print(f\"\\n{100*'='}\\n| {title.upper()} |\\n{100*'='}\")\n",
    "\n",
    "note(\"Environment initialized.\")"
   ]
  },
  {
   "cell_type": "markdown",
   "metadata": {},
   "source": [
    "# Part 3: Dynamic Models\n",
    "## Chapter 3.2: DP with Continuous States via Function Approximation\n",
    "\n",
    "### Table of Contents\n",
    "1.  [The Method of Function Approximation](#1.-The-Method-of-Function-Approximation)\n",
    "    *   [1.1 Projection Methods](#1.1-Projection-Methods)\n",
    "    *   [1.2 Basis Functions: Why Chebyshev?](#1.2-Basis-Functions:-Why-Chebyshev?)\n",
    "2.  [Solving the Stochastic Growth Model](#2.-Solving-the-Stochastic-Growth-Model)\n",
    "    *   [2.1 Method 1: VFI on Coefficients](#2.1-Method-1:-VFI-on-Coefficients)\n",
    "    *   [2.2 Method 2: Iterating on the Euler Equation Residuals](#2.2-Method-2:-Iterating-on-the-Euler-Equation-Residuals)\n",
    "    *   [2.3 Method 3: The Endogenous Grid Method (EGM)](#2.3-Method-3:-The-Endogenous-Grid-Method-(EGM))\n",
    "3.  [Performance Comparison](#3.-Performance-Comparison)\n",
    "4.  [Chapter Summary](#4.-Chapter-Summary)\n",
    "5.  [Exercises](#5.-Exercises)"
   ]
  },
  {
   "cell_type": "markdown",
   "metadata": {},
   "source": [
    "### Introduction: From Grids to Functions\n",
    "\n",
    "The dynamic programming methods we studied in the previous chapter all relied on **discretizing the state space**. We represented a continuous state variable with a finite grid of points and solved for the value/policy functions at these points, using interpolation to fill in the gaps. This chapter introduces a more advanced and scalable solution: **function approximation**.\n",
    "\n",
    "Instead of finding the value of the function at every grid point, we approximate the entire value function (or policy function) using a flexible, parameterized functional form, such as a linear combination of **Chebyshev polynomials**. The goal is to find the set of parameters that makes our approximation as close as possible to the true, unknown function. This chapter will introduce three powerful methods for doing so:\n",
    "1.  **Value Function Iteration on Coefficients**: The most direct extension of VFI to a continuous setting.\n",
    "2.  **Euler Equation Residual Iteration**: A more accurate method that directly targets the model's first-order condition.\n",
    "3.  **The Endogenous Grid Method (EGM)**: A highly efficient algorithm that exploits the structure of the Euler equation to dramatically speed up computation."
   ]
  },
  {
   "cell_type": "markdown",
   "metadata": {},
   "source": [
    "### 1. The Method of Function Approximation\n",
    "The core idea is to approximate a true, unknown function $f(s)$ with a parameterized function $\\hat{f}(s; \\boldsymbol{\\theta})$, where $\\boldsymbol{\\theta} = [\\theta_0, \\dots, \\theta_{N-1}]$ is a vector of coefficients for a set of $N$ basis functions, $\\phi_i(s)$:\n",
    "$$ f(s) \\approx \\hat{f}(s; \\boldsymbol{\\theta}) = \\sum_{i=0}^{N-1} \\theta_i \\phi_i(s) $$"
   ]
  },
  {
   "cell_type": "markdown",
   "metadata": {},
   "source": [
    "#### 1.1 Projection Methods\n",
    "We need a way to choose the coefficients $\\boldsymbol{\\theta}$ to make the approximation \"good.\" **Projection methods** do this by requiring that the residual of the relevant functional equation (e.g., the Bellman equation or the Euler equation) is \"close to zero.\" A common way to enforce this is **collocation**, where we demand that the functional equation holds exactly at a set of $N$ specific *collocation nodes*. This gives us a system of $N$ equations in $N$ unknown coefficients, which we can solve.\n",
    "\n",
    "This approach transforms an infinite-dimensional problem (finding a function) into a finite-dimensional one (finding the coefficient vector $\\boldsymbol{\\theta}^*$)."
   ]
  },
  {
   "cell_type": "markdown",
   "metadata": {},
   "source": [
    "#### 1.2 Basis Functions: Why Chebyshev?\n",
    "While we could use standard monomials ($1, x, x^2, ...$) as our basis functions, they are a poor choice as they are not orthogonal and lead to numerical instability (multicollinearity). **Chebyshev polynomials** are a special sequence of orthogonal polynomials defined on the interval `[-1, 1]` that are much better behaved. Approximating a function by fitting a polynomial at the **Chebyshev nodes** is a highly accurate and stable method that avoids the Runge phenomenon."
   ]
  },
  {
   "cell_type": "markdown",
   "metadata": {},
   "source": [
    "### 2. Solving the Stochastic Growth Model\n",
    "We return to the stochastic growth model. The state is $(a, y)$ and the Bellman equation is:\n",
    "$$ V(a, y) = \\max_{0 < a' \\le (1+r)a+y} \\left\\{ u((1+r)a+y-a') + \\beta E[V(a', y')|y] \\right\\} $$\n",
    "The corresponding Euler equation is:\n",
    "$$ u'(c(a,y)) = \\beta (1+r) E[u'(c(a',y'))|y] $$"
   ]
  },
  {
   "cell_type": "code",
   "execution_count": null,
   "metadata": {},
   "outputs": [],
   "source": [
    "sec(\"Model Setup\")\n",
    "# --- Model Primitives & Parameters ---\n",
    "PARAMS = {\n",
    "    'BETA': 0.96,\n",
    "    'GAMMA': 2.0,\n",
    "    'R_INTEREST': 0.03,\n",
    "    'A_MIN': 1e-3,\n",
    "    'A_MAX': 50.0,\n",
    "    'N_DEGREE': 25, # Degree of Chebyshev polynomial\n",
    "    'N_Y_STATES': 7, # Number of income states\n",
    "    'RHO_Y': 0.95, # Persistence of income shock\n",
    "    'SIGMA_Y': 0.1, # Std. dev. of income shock\n",
    "}\n",
    "\n",
    "@njit\n",
    "def u(c, gamma=PARAMS['GAMMA']): return (c**(1 - gamma)) / (1 - gamma) if gamma != 1 else np.log(c)\n",
    "@njit\n",
    "def u_prime(c, gamma=PARAMS['GAMMA']): return c**(-gamma)\n",
    "@njit\n",
    "def u_prime_inv(x, gamma=PARAMS['GAMMA']): return x**(-1/gamma)\n",
    "\n",
    "# --- Discretize income process ---\n",
    "@njit\n",
    "def tauchen(rho, sigma_e, n, m):\n",
    "    \"\"\"Discretizes an AR(1) process using the Tauchen (1986) method.\"\"\"\n",
    "    z_max = m * sigma_e / np.sqrt(1 - rho**2)\n",
    "    z_grid = np.linspace(-z_max, z_max, n)\n",
    "    step = (z_grid[1] - z_grid[0]) / 2\n",
    "    P = np.empty((n, n))\n",
    "    for i in range(n):\n",
    "        for j in range(n):\n",
    "            z_j_low = z_grid[j] - step\n",
    "            z_j_high = z_grid[j] + step\n",
    "            P[i, j] = norm.cdf((z_j_high - rho * z_grid[i]) / sigma_e) - \\\n",
    "                      norm.cdf((z_j_low - rho * z_grid[i]) / sigma_e)\n",
    "    return z_grid, P\n",
    "\n",
    "Z_GRID, P_TRANS = tauchen(rho=PARAMS['RHO_Y'], sigma_e=PARAMS['SIGMA_Y'], n=PARAMS['N_Y_STATES'], m=3)\n",
    "Y_STATES = np.exp(Z_GRID)\n",
    "\n",
    "# --- Chebyshev Approximation Setup ---\n",
    "cheb_nodes = chebyshev.chebpts1(PARAMS['N_DEGREE'])\n",
    "A_NODES = (cheb_nodes + 1) * (PARAMS['A_MAX'] - PARAMS['A_MIN']) / 2 + PARAMS['A_MIN']"
   ]
  },
  {
   "cell_type": "markdown",
   "metadata": {},
   "source": [
    "#### 2.1 Method 1: VFI on Coefficients\n",
    "Iterate on the coefficients of the value function's Chebyshev approximation."
   ]
  },
  {
   "cell_type": "code",
   "execution_count": null,
   "metadata": {},
   "outputs": [],
   "source": [
    "def solve_vfi_chebyshev(params, y_states, p_trans, a_nodes, tol=1e-6, max_iter=1000):\n",
    "    \"\"\"Solves the growth model using VFI on Chebyshev coefficients.\"\"\"\n",
    "    beta, r, a_min, n_degree, n_y_states = params['BETA'], params['R_INTEREST'], params['A_MIN'], params['N_DEGREE'], params['N_Y_STATES']\n",
    "    theta_guess = np.zeros((n_y_states, n_degree))\n",
    "    \n",
    "    for i in range(max_iter):\n",
    "        V_approx_funcs = [chebyshev.Chebyshev(theta, domain=[a_min, params['A_MAX']]) for theta in theta_guess]\n",
    "        EV = np.array([p_trans[i, :] @ np.array([V(a_nodes) for V in V_approx_funcs]) for i in range(n_y_states)])\n",
    "        \n",
    "        V_target_at_nodes = np.empty((n_y_states, n_degree))\n",
    "        for i in range(n_y_states):\n",
    "            ev_interp = lambda a_prime: np.interp(a_prime, a_nodes, EV[i, :])\n",
    "            for j in range(n_degree):\n",
    "                a, y = a_nodes[j], y_states[i]\n",
    "                def objective(a_prime):\n",
    "                    c = (1 + r) * a + y - a_prime\n",
    "                    if c <= 0: return 1e12\n",
    "                    return -(u(c) + beta * ev_interp(a_prime))\n",
    "                res = minimize_scalar(objective, bounds=(a_min, (1 + r) * a + y - 1e-6), method='bounded')\n",
    "                V_target_at_nodes[i, j] = -res.fun\n",
    "                \n",
    "        theta_new = np.array([chebyshev.chebfit(a_nodes, V_target_at_nodes[i, :], deg=n_degree-1) for i in range(n_y_states)])\n",
    "        if np.max(np.abs(theta_new - theta_guess)) < tol: break\n",
    "        theta_guess = theta_new\n",
    "    return theta_new\n",
    "\n",
    "note(\"VFI on Coefficients solver defined.\")"
   ]
  },
  {
   "cell_type": "markdown",
   "metadata": {},
   "source": [
    "#### 2.2 Method 2: Iterating on the Euler Equation Residuals\n",
    "A more accurate approach is to iterate on the policy function, finding the coefficients for $\\hat{c}(a, y; \\boldsymbol{\\theta})$ that make the Euler equation error as small as possible. \n",
    "\n",
    "**Algorithm:**\n",
    "1. Start with an initial guess for the policy function coefficients $\\boldsymbol{\\theta}^0$.\n",
    "2. Given the current policy $\\hat{c}_k$, compute the RHS of the Euler equation, which gives the conditional expectation of next period's marginal utility, $E_k = E[u'(c_k(a', y'))|y]$.\n",
    "3. Find the updated consumption level that satisfies the Euler equation: $c_{k+1}(a,y) = u'^{-1}(\\beta(1+r)E_k)$.\n",
    "4. Project this new consumption function onto the Chebyshev basis to get the new coefficients $\\boldsymbol{\\theta}^{k+1}$.\n",
    "5. Repeat until the coefficients converge."
   ]
  },
  {
   "cell_type": "code",
   "execution_count": null,
   "metadata": {},
   "outputs": [],
   "source": [
    "def solve_euler_residuals(params, y_states, p_trans, a_nodes, tol=1e-7, max_iter=500):\n",
    "    \"\"\"Solves the growth model by iterating on the Euler equation residuals.\"\"\"\n",
    "    beta, r, a_min, n_degree, n_y_states = params['BETA'], params['R_INTEREST'], params['A_MIN'], params['N_DEGREE'], params['N_Y_STATES']\n",
    "    policy_coeffs = np.zeros((n_y_states, n_degree))\n",
    "    \n",
    "    for i in range(max_iter):\n",
    "        policy_funcs = [chebyshev.Chebyshev(theta, domain=[a_min, params['A_MAX']]) for theta in policy_coeffs]\n",
    "        c_prime = np.array([p(a_nodes) for p in policy_funcs])\n",
    "        marginal_u_prime = u_prime(c_prime)\n",
    "        \n",
    "        E_u_prime = p_trans @ marginal_u_prime\n",
    "        c_target_at_nodes = u_prime_inv(beta * (1 + r) * E_u_prime)\n",
    "        \n",
    "        new_policy_coeffs = np.array([chebyshev.chebfit(a_nodes, c_target_at_nodes[i, :], deg=n_degree-1) for i in range(n_y_states)])\n",
    "        \n",
    "        if np.max(np.abs(new_policy_coeffs - policy_coeffs)) < tol: break\n",
    "        policy_coeffs = new_policy_coeffs\n",
    "    return new_policy_coeffs\n",
    "\n",
    "note(\"Euler Residual Iteration solver defined.\")"
   ]
  },
  {
   "cell_type": "markdown",
   "metadata": {},
   "source": [
    "#### 2.3 Method 3: The Endogenous Grid Method (EGM)"
   ]
  },
  {
   "cell_type": "markdown",
   "metadata": {},
   "source": [
    "##### The Problem with Value Function Iteration (VFI)"
   ]
  },
  {
   "cell_type": "markdown",
   "metadata": {},
   "source": [
    "In the previous notebooks, we solved dynamic programming problems using Value Function Iteration (VFI). VFI is robust and general, but it can be computationally expensive. The main bottleneck is the maximization step within the Bellman operator:\n",
    "$$ V(w) = \\max_{c} \\left\\{ u(c) + \\beta V(w') \\right\\} $$\n",
    "For each point on our state grid for wealth ($w$), we have to perform a numerical optimization to find the optimal consumption ($c$). If the grid for $w$ has 1000 points and the optimization for each point takes time, the total time can add up quickly, especially as the dimensionality of the state space increases.\n",
    "\n",
    "Can we do better? For a large class of problems, the answer is a resounding **yes**."
   ]
  },
  {
   "cell_type": "markdown",
   "metadata": {},
   "source": [
    "##### The Logic of the Endogenous Grid Method (EGM)"
   ]
  },
  {
   "cell_type": "markdown",
   "metadata": {},
   "source": [
    "The Endogenous Grid Method, developed by Carroll (2006), cleverly avoids the repeated maximization step. Instead of fixing a grid for the state variable (wealth, $w$) and finding the optimal consumption for each grid point, EGM fixes a grid for the agent's choice *at the end of the period* and finds the corresponding state that makes that choice optimal.\n",
    "\n",
    "The key insight comes from the Euler equation, which is the first-order condition of the Bellman equation:\n",
    "$$ u'(c_t) = \\beta R E_t[u'(c_{t+1})] $$\n",
    "\n",
    "EGM works backward from a known policy function in the next period ($c_{t+1}$) to find the optimal policy today ($c_t$). Here is the logic:\n",
    "1.  **Start at the end:** Assume we know the optimal consumption rule in the next period, $c_{t+1}(w')$.\n",
    "2.  **Choose an endogenous grid:** Instead of an exogenous grid on today's wealth ($w_t$), we create a grid for *end-of-period assets*, which we'll call $a_t$. This is the amount of wealth left *after* consumption today.\n",
    "3.  **Calculate future consumption:** For each point on our $a_t$ grid, we know that tomorrow's wealth will be $w_{t+1} = R a_t$. We can then use the known future consumption rule to find $c_{t+1}(R a_t)$.\n",
    "4.  **Invert the Euler Equation:** Now, we can use the Euler equation to find today's optimal consumption, $c_t$, that corresponds to each choice of $a_t$:\n",
    "    $$ c_t = (u')^{-1}(\\beta R E_t[u'(c_{t+1}(R a_t))]) $$\n",
    "    where $(u')^{-1}$ is the inverse of the marginal utility function. This step is analytical and fast—no numerical optimization is needed!\n",
    "5.  **Find the endogenous wealth grid:** We have a set of optimal consumption choices $c_t$ and the corresponding end-of-period assets $a_t$. We can find the level of wealth today, $w_t$, that would lead to these choices using the budget constraint: $w_t = c_t + a_t$. This gives us an \"endogenous\" grid of wealth points.\n",
    "6.  **Interpolate:** We now have the policy function $c(w_t)$ on an uneven, endogenous grid. We can use interpolation to get the policy function on our original, evenly spaced grid, and we are ready for the next iteration.\n",
    "\n",
    "By replacing the costly maximization step with an analytical inversion of the Euler equation and interpolation, EGM can be orders of magnitude faster than VFI."
   ]
  },
  {
   "cell_type": "markdown",
   "metadata": {},
   "source": [
    "##### Implementing EGM for a Consumption-Savings Model"
   ]
  },
  {
   "cell_type": "code",
   "execution_count": null,
   "metadata": {},
   "outputs": [],
   "source": [
    "@njit\n",
    "def egm_solver(R, beta, gamma, y_shocks, wealth_grid, tol=1e-6, max_iter=5000):\n",
    "    \"\"\"Solves the consumption-savings model with the Endogenous Grid Method.\"\"\"\n",
    "    \n",
    "    # 1. Utility functions\n",
    "    u_prime = lambda c: c**(-gamma)\n",
    "    inv_u_prime = lambda x: x**(-1/gamma)\n",
    "    \n",
    "    # 2. Set up grids\n",
    "    # We use the wealth_grid as our grid for end-of-period assets 'a'\n",
    "    a_grid = wealth_grid\n",
    "    \n",
    "    # 3. Initial guess for the policy function (consume everything)\n",
    "    policy = wealth_grid.copy()\n",
    "    \n",
    "    # 4. Main iteration loop\n",
    "    for i in range(max_iter):\n",
    "        policy_old = policy.copy()\n",
    "        \n",
    "        # 5. Calculate expected marginal utility for each grid point of 'a'\n",
    "        # This is the E[u'(c(Ra + y'))] part of the Euler equation\n",
    "        c_future = np.empty((len(a_grid), len(y_shocks)))\n",
    "        for j in prange(len(a_grid)):\n",
    "            w_future = R * a_grid[j] + y_shocks\n",
    "            c_future[j, :] = np.interp(w_future, wealth_grid, policy_old)\n",
    "        \n",
    "        expected_marginal_utility = np.mean(u_prime(c_future), axis=1)\n",
    "        \n",
    "        # 6. Invert the Euler equation to get current consumption\n",
    "        c_current = inv_u_prime(beta * R * expected_marginal_utility)\n",
    "        \n",
    "        # 7. Find the endogenous wealth grid\n",
    "        w_endogenous = a_grid + c_current\n",
    "        \n",
    "        # 8. Update the policy function by interpolating back to the original grid\n",
    "        policy = np.interp(wealth_grid, w_endogenous, c_current)\n",
    "        \n",
    "        # Enforce the borrowing constraint (cannot consume more than current wealth)\n",
    "        policy = np.minimum(policy, wealth_grid)\n",
    "        \n",
    "        # 9. Check for convergence\n",
    "        if np.max(np.abs(policy - policy_old)) < tol:\n",
    "            # print(f\"Converged in {i+1} iterations.\")\n",
    "            return policy\n",
    "            \n",
    "    # print(\"EGM did not converge.\")\n",
    "    return policy"
   ]
  },
  {
   "cell_type": "markdown",
   "metadata": {},
   "source": [
    "### 3. Performance Comparison and Visualization"
   ]
  },
  {
   "cell_type": "code",
   "execution_count": null,
   "metadata": {},
   "outputs": [],
   "source": [
    "sec(\"Solving and Comparing Runtimes\")\n",
    "A_GRID = np.linspace(PARAMS['A_MIN'], PARAMS['A_MAX'], 200)\n",
    "print(\"Solving with VFI on Coefficients...\")\n",
    "%time theta_vfi = solve_vfi_chebyshev(PARAMS, Y_STATES, P_TRANS, A_NODES)\n",
    "print(\"\\nSolving with Euler Residual Iteration...\")\n",
    "%time theta_euler = solve_euler_residuals(PARAMS, Y_STATES, P_TRANS, A_NODES)\n",
    "print(\"\\nSolving with Endogenous Grid Method (Grid-Based)...\")\n",
    "%time policy_egm = solve_egm(PARAMS, Y_STATES, P_TRANS, A_GRID)\n",
    "\n",
    "note(\"EGM is typically orders of magnitude faster because it avoids the costly optimization step inside the main loop.\")"
   ]
  },
  {
   "cell_type": "markdown",
   "metadata": {},
   "source": [
    "#### Visualizing the Policy Functions\n",
    "Let's compare the consumption policy functions produced by the different methods for the highest and lowest income states. They should be virtually identical, demonstrating that all three methods converge to the same solution, but at very different speeds."
   ]
  },
    {
   "cell_type": "code",
   "execution_count": null,
   "metadata": {},
   "outputs": [],
   "source": [
    "sec(\"Policy Function Visualization\")\n",
    "a_fine_grid = np.linspace(PARAMS['A_MIN'], PARAMS['A_MAX'], 200)\n",
    "\n",
    "# Create Chebyshev function objects from the solved coefficients\n",
    "policy_vfi = [chebyshev.Chebyshev(theta, domain=[PARAMS['A_MIN'], PARAMS['A_MAX']]) for theta in theta_vfi]\n",
    "policy_euler = [chebyshev.Chebyshev(theta, domain=[PARAMS['A_MIN'], PARAMS['A_MAX']]) for theta in theta_euler]\n",
    "policy_egm_interp = [interp1d(A_GRID, pol, bounds_error=False, fill_value=\"extrapolate\") for pol in policy_egm]\n",
    "\n",
    "fig, axes = plt.subplots(1, 2, figsize=(16, 6), sharey=True)\n",
    "\n",
    "# Low income state (y_0)\n",
    "axes[0].plot(a_fine_grid, policy_vfi[0](a_fine_grid), label='VFI', linestyle='--')\n",
    "axes[0].plot(a_fine_grid, policy_euler[0](a_fine_grid), label='Euler Iteration', linestyle=':')\n",
    "axes[0].plot(a_fine_grid, policy_egm_interp[0](a_fine_grid), label='EGM (Grid)', linestyle='-')\n",
    "axes[0].set_title(f'Consumption Policy: Low Income State (y={Y_STATES[0]:.2f})')\n",
    "axes[0].set_xlabel('Assets (a)')\n",
    "axes[0].set_ylabel('Consumption (c)')\n",
    "axes[0].legend()\n",
    "\n",
    "# High income state (y_N-1)\n",
    "axes[1].plot(a_fine_grid, policy_vfi[-1](a_fine_grid), label='VFI', linestyle='--')\n",
    "axes[1].plot(a_fine_grid, policy_euler[-1](a_fine_grid), label='Euler Iteration', linestyle=':')\n",
    "axes[1].plot(a_fine_grid, policy_egm_interp[-1](a_fine_grid), label='EGM (Grid)', linestyle='-')\n",
    "axes[1].set_title(f'Consumption Policy: High Income State (y={Y_STATES[-1]:.2f})')\n",
    "axes[1].set_xlabel('Assets (a)')\n",
    "axes[1].legend()\n",
    "\n",
    "plt.suptitle('Comparison of Policy Functions from Different Solvers', fontsize=18)\n",
    "plt.tight_layout(rect=[0, 0, 1, 0.96])\n",
    "plt.show()"
   ]
  },
  {
   "cell_type": "markdown",
   "metadata": {},
   "source": [
    "### 4. Chapter Summary\n",
    "- **Function Approximation:** For continuous state spaces, we can approximate the value or policy function using a parameterized functional form, most commonly a basis of **Chebyshev polynomials**.\n",
    "- **Projection Methods:** We solve for the unknown coefficients by requiring the relevant functional equation (Bellman or Euler) to hold at a set of **collocation nodes**.\n",
    "- **Solution Algorithms:**\n",
    "    - **VFI on Coefficients:** Conceptually simple but can be slow.\n",
    "    - **Euler Equation Iteration:** More accurate as it directly targets the first-order condition.\n",
    "    - **Endogenous Grid Method (EGM):** A highly efficient method that avoids the inner optimization loop by inverting the budget constraint. For models where it applies, it is often the best choice.\n",
    "- **Curse of Dimensionality:** Function approximation is the primary tool for combating the curse of dimensionality, but standard methods still face challenges. Advanced techniques like sparse grids and deep learning are active areas of research."
   ]
  },
  {
   "cell_type": "markdown",
   "metadata": {},
   "source": [
    "### 5. Exercises\n",
    "\n",
    "1.  **Accuracy vs. Degree:** Re-solve the stochastic growth model using the Euler Equation method with different degrees for the Chebyshev polynomial (e.g., N=10, 20, 30). How does the maximum absolute Euler equation residual (evaluated on a fine grid) change as you increase the degree? Plot the maximum residual for each degree.\n",
    "\n",
    "2.  **Log-Utility:** The log-utility function, $u(c) = \\ln(c)$, is the special case of CRRA where `γ=1`. Modify the EGM solver to work with log utility (you will need to change `u_prime` and `u_prime_inv`). How does the policy function change?\n",
    "\n",
    "3.  **The Role of Interest Rates:** Using the EGM solver, resolve the model for a higher interest rate (`R_INTEREST = 0.05`) and a lower one (`R_INTEREST = 0.01`). Plot the three policy functions (for the low, medium, and high interest rates) for the high-income state. How does the interest rate affect savings behavior? Explain the income and substitution effects at play.\n",
    "\n",
    "4.  **Implement Time Iteration:** The Euler Equation method shown is a form of time iteration. A simpler version iterates on the policy function directly. Given a policy approximation $\\hat{c}_k$, compute the RHS of the Euler equation to get the target consumption $c_{k+1}$. Then find the coefficients for the new policy approximation $\\hat{c}_{k+1}$. Implement this method and compare its convergence speed to the other methods.\n",
    "\n",
    "5.  **2D Approximation:** Consider a model where the agent has two assets, a liquid one ($a_1$) and an illiquid one ($a_2$). The value function is now $V(a_1, a_2, y)$. To approximate this, you would use a 2D basis of Chebyshev polynomials: $V(a_1, a_2) \\approx \\sum_{i=0}^{N-1}\\sum_{j=0}^{N-1} \\theta_{ij} T_i(a_1) T_j(a_2)$. How many coefficients would you need for a degree-5 approximation in each asset dimension? Why does this illustrate the curse of dimensionality?"
   ]
  }
 ],
 "metadata": {
  "kernelspec": {
   "display_name": "Python 3",
   "language": "python",
   "name": "python3"
  },
  "language_info": {
   "codemirror_mode": {
    "name": "ipython",
    "version": 3
   },
   "file_extension": ".py",
   "mimetype": "text/x-python",
   "name": "python",
   "nbconvert_exporter": "python",
   "pygments_lexer": "ipython3",
   "version": "3.11.5"
  }
 },
 "nbformat": 4,
 "nbformat_minor": 4
}