{
 "cells": [
  {
   "cell_type": "markdown",
   "id": "84cf9d83",
   "metadata": {},
   "source": [
    "> **License Notice**\n",
    "> \n",
    "> This notebook is part of the *Computational Economics and Data Science* course.\n",
    "> \n",
    "> - Code cells are released under the MIT License. You are free to use and adapt the code with attribution.\n",
    "> - Text, figures, and other non-code content are released under the Creative Commons Attribution 4.0 International License.\n",
    "> \n",
    "> Please retain this notice and credit Amirreza \"Farnam\" Taheri when sharing adaptations."
   ]
  },
  {
   "cell_type": "code",
   "execution_count": null,
   "metadata": {},
   "outputs": [],
   "source": [
    "# === Environment Setup ===\n",
    "import numpy as np\n",
    "import matplotlib.pyplot as plt\n",
    "from scipy import stats, linalg\n",
    "from scipy.optimize import fsolve\n",
    "import seaborn as sns\n",
    "from IPython.display import Markdown, display\n",
    "\n",
    "# --- Custom Display Functions ---\n",
    "def theorem(title, statement):\n",
    "    display(Markdown(f\"\"\"\n",
    "    <div style='background-color:#e7f3e7; padding:15px; border-left:5px solid #4CAF50'>\n",
    "    <strong>Theorem ({title}):</strong><br/>\n",
    "    {statement}\n",
    "    </div>\n",
    "    \"\"\"))\n",
    "\n",
    "def example(title, content):\n",
    "    display(Markdown(f\"\"\"\n",
    "    <div style='background-color:#e3f2fd; padding:15px; border-left:5px solid #2196F3'>\n",
    "    <strong>Example ({title}):</strong><br/>\n",
    "    {content}\n",
    "    </div>\n",
    "    \"\"\"))\n",
    "\n",
    "def econ_app(title, content):\n",
    "    display(Markdown(f\"\"\"\n",
    "    <div style='background-color:#fff3e0; padding:15px; border-left:5px solid #FF9800'>\n",
    "    <strong>💼 Economic Application ({title}):</strong><br/>\n",
    "    {content}\n",
    "    </div>\n",
    "    \"\"\"))\n",
    "\n",
    "def course_connection(content):\n",
    "    display(Markdown(f\"\"\"*📚 **Course Connection:** {content}*\"\"\"))\n",
    "\n",
    "# --- Plotting Configuration ---\n",
    "plt.style.use('seaborn-v0_8-whitegrid')\n",
    "plt.rcParams.update({'font.size': 14, 'figure.figsize': (10, 6), 'figure.dpi': 150})\n",
    "np.set_printoptions(suppress=True, linewidth=120, precision=4)"
   ]
  },
  {
   "cell_type": "markdown",
   "metadata": {},
   "source": [
    "# Appendix A1: Real Analysis Essentials\n",
    "\n",
    "---\n",
    "## Table of Contents\n",
    "\n",
    "- 1.1 The Real Number System\n",
    "- 1.2 Sequences and Limits\n",
    "- 1.3 Continuity and Limits of Functions\n",
    "- 1.4 Compactness\n",
    "- 1.5 Convexity\n",
    "- 1.6 Mean Value Theorem and Taylor Series\n"
   ]
  },
  {
   "cell_type": "markdown",
   "metadata": {},
   "source": [
    "**Purpose**: This section provides a review of the essential concepts from real analysis that form the theoretical bedrock for the economic models and numerical methods used throughout this course. A solid grasp of these ideas is crucial for understanding the conditions under which economic models have solutions and when our computational algorithms can be expected to find them."
   ]
  },
  {
   "cell_type": "markdown",
   "metadata": {},
   "source": [
    "## 1.1 The Real Number System"
   ]
  },
  {
   "cell_type": "markdown",
   "metadata": {},
   "source": [
    "### 1.1.1 Completeness and Supremum"
   ]
  },
  {
   "cell_type": "code",
   "execution_count": null,
   "metadata": {},
   "outputs": [],
   "source": [
    "theorem(\"Completeness Axiom\", \"Every non-empty set of real numbers that has an upper bound also has a least upper bound (or supremum) in the set of real numbers.\")"
   ]
  },
  {
   "cell_type": "markdown",
   "metadata": {},
   "source": [
    "**Motivation**: The completeness axiom is a subtle but foundational property of the real number system. It formally guarantees that there are no \"gaps\" or \"holes\" in the real number line. While this might seem abstract, it is the essential property that ensures that the solutions to economic optimization problems are well-defined. It ensures that if a set of possible outcomes for a model (like utility values or profits) is bounded, then there must be a specific least upper bound (supremum) that this outcome can achieve or approach. Without completeness, we could construct models where agents could always do slightly better, ad infinitum, without ever reaching an optimal solution."
   ]
  },
  {
   "cell_type": "code",
   "execution_count": null,
   "metadata": {},
   "outputs": [],
   "source": [
    "example(\"Supremum in R vs. Q\", \"Consider the set $S = \\\\{x \\\\in \\\\mathbb{Q} : x^2 < 2\\\\}$. This set is bounded above (e.g., by 1.5). In the real numbers $\\\\mathbb{R}$, the supremum of this set is $\\\\sqrt{2}$. However, in the rational numbers $\\\\mathbb{Q}$, this set has no supremum, because $\\\\sqrt{2}$ is irrational. This illustrates that $\\\\mathbb{Q}$ is not complete, while $\\\\mathbb{R}$ is.\")"
   ]
  },
  {
   "cell_type": "code",
   "execution_count": null,
   "metadata": {},
   "outputs": [],
   "source": [
    "econ_app(\"Existence of Optimal Utility\", \"A consumer's budget set defines a range of possible consumption bundles. The utility derived from these bundles forms a set of real numbers. If the utility function is continuous and the budget set is compact (which it typically is), the completeness of the real numbers ensures that a maximum utility value exists. Without this property, we could have a situation where a consumer could always find a slightly better bundle, never reaching an optimum.\")"
   ]
  },
  {
   "cell_type": "code",
   "execution_count": null,
   "metadata": {},
   "outputs": [],
   "source": [
    "# Demonstrate supremum approximation\n",
    "S = np.array([x for x in np.linspace(0, 2, 2000) if x**2 < 2])\n",
    "print(f\"Supremum approximation from a discretized set: {S[-1]:.6f}\")\n",
    "print(f\"True supremum (sqrt(2)): {np.sqrt(2):.6f}\")"
   ]
  },
  {
   "cell_type": "code",
   "execution_count": null,
   "metadata": {},
   "outputs": [],
   "source": [
    "course_connection(\"Used in Chapter 2.4 (Root Finding), Chapter 3.1 (Dynamic Programming existence proofs)\")"
   ]
  },
  {
   "cell_type": "markdown",
   "metadata": {},
   "source": [
    "### 1.1.2 Distance Metrics and Metric Spaces"
   ]
  },
  {
   "cell_type": "markdown",
   "metadata": {},
   "source": [
    "A **metric space** is a set $X$ equipped with a **metric** $d(x,y)$, which is a function that defines a concept of distance between any two elements of the set. A metric must satisfy:\n",
    "1. $d(x,y) \\ge 0$ (non-negativity)\n",
    "2. $d(x,y) = 0 \\iff x=y$\n",
    "3. $d(x,y) = d(y,x)$ (symmetry)\n",
    "4. $d(x,z) \\le d(x,y) + d(y,z)$ (triangle inequality)"
   ]
  },
  {
   "cell_type": "code",
   "execution_count": null,
   "metadata": {},
   "outputs": [],
   "source": [
    "example(\"Key Metrics in Economics\", \"- **Euclidean Distance:** The most common metric on $\\\\mathbb{R}^n$, given by $d(x,y) = \\\\|x-y\\\\|_2 = \\\\sqrt{\\\\sum_{i=1}^n (x_i - y_i)^2}$. This is the standard notion of 'as the crow flies' distance and is used pervasively when dealing with vectors of goods, characteristics, or returns.<br>- **Supremum Norm (or sup norm):** This metric is crucial when we work with spaces of functions, such as the value functions in dynamic programming or utility functions. The distance between two functions $f$ and $g$ is the largest absolute difference between them at any point in their domain: $d(f,g) = \\\\sup_x |f(x) - g(x)|$.<br><br> **Motivation**: The choice of metric defines the notion of 'closeness' in a model. The Contraction Mapping Theorem, which is the workhorse for proving the existence and uniqueness of solutions to dynamic programming problems, requires the underlying space to be a **complete metric space**. The combination of the space of bounded continuous functions and the supremum norm metric gives us such a space, allowing us to use this powerful theorem.\")"
   ]
  },
  {
   "cell_type": "code",
   "execution_count": null,
   "metadata": {},
   "outputs": [],
   "source": [
    "# Python demo: Compare different norms\n",
    "x = np.array([3, 4])\n",
    "y = np.array([1, 1])\n",
    "euclidean_dist = np.linalg.norm(x - y) # Defaults to L2 norm\n",
    "supremum_dist = np.linalg.norm(x - y, ord=np.inf)\n",
    "print(f\"Euclidean distance (L2 norm): {euclidean_dist:.4f}\")\n",
    "print(f\"Supremum distance (L-infinity norm): {supremum_dist:.4f}\")"
   ]
  },
  {
   "cell_type": "code",
   "execution_count": null,
   "metadata": {},
   "outputs": [],
   "source": [
    "course_connection(\"Chapter 2.4 (Contraction Mapping), Chapter 3.1 (Dynamic Programming convergence)\")"
   ]
  },
  {
   "cell_type": "markdown",
   "metadata": {},
   "source": [
    "## 1.2 Sequences and Limits"
   ]
  },
  {
   "cell_type": "markdown",
   "metadata": {},
   "source": [
    "### 1.2.1 Convergence of Sequences"
   ]
  },
  {
   "cell_type": "markdown",
   "metadata": {},
   "source": [
    "A sequence $\\{x_n\\}$ converges to a limit $x$ if, for any level of precision $\\epsilon > 0$, we can find a point in the sequence $N$ after which all terms are within $\\epsilon$ of $x$. Formally, $\\lim_{n \\to \\infty} x_n = x$ if $\\\\forall \\epsilon > 0, \\exists N \\in \\mathbb{N}$ such that $n > N \\implies |x_n - x| < \\epsilon$."
   ]
  },
  {
   "cell_type": "markdown",
   "metadata": {},
   "source": [
    "**Historical Note:** The formal, rigorous definition of a limit using the $\\epsilon-N$ (or $\\epsilon-\\delta$) formulation is a relatively recent development in the history of mathematics. While calculus was invented by Newton and Leibniz in the 17th century, its foundations were not fully solidified until the work of mathematicians like **Augustin-Louis Cauchy** and **Karl Weierstrass** in the 19th century. They introduced the precision that underpins modern analysis and is essential for proving many of the key theorems used in economics."
   ]
  },
  {
   "cell_type": "code",
   "execution_count": null,
   "metadata": {},
   "outputs": [],
   "source": [
    "theorem(\"Uniqueness of Limits\", \"If a sequence converges, its limit is unique.\")"
   ]
  },
  {
   "cell_type": "code",
   "execution_count": null,
   "metadata": {},
   "outputs": [],
   "source": [
    "example(\"Limit of 1/n\", \"To show $\\\\lim_{n \\to \\\\infty} \\\\frac{1}{n} = 0$, we need to find an $N$ for any given $\\\\epsilon$. We want $|1/n - 0| < \\\\epsilon$, which means $1/n < \\\\epsilon$, or $n > 1/\\\\epsilon$. So, we can choose $N = \\\\lceil 1/\\\\epsilon \\\\rceil$. For any $n > N$, the condition holds.\")"
   ]
  },
  {
   "cell_type": "markdown",
   "metadata": {},
   "source": [
    "**Visualizing Convergence Rates**\n",
    "\n",
    "The plot below illustrates different rates at which sequences can converge. \n",
    "- **Sublinear convergence** (like the harmonic series $d_k$) is very slow.\n",
    "- **Linear convergence** ($a_k$ and $b_k$) is common and proceeds at a geometric rate. The error is reduced by a constant factor at each step.\n",
    "- **Superlinear (or Quadratic) convergence** ($c_k$) is much faster. The number of correct decimal places roughly doubles at each iteration. This is characteristic of methods like Newton's method.\n",
    "\n",
    "![Convergence Rates of Sequences](images\png\convergence_rates.png)\n",
    "*<center>This image was programmatically generated for the course.</center>*"
   ]
  },
  {
   "cell_type": "code",
   "execution_count": null,
   "metadata": {},
   "outputs": [],
   "source": [
    "course_connection(\"All iterative algorithms in the course, such as Value Function Iteration, Policy Iteration, and Newton's method, rely on the concept of a convergent sequence.\")"
   ]
  },
  {
   "cell_type": "markdown",
   "metadata": {},
   "source": [
    "### 1.2.2 Monotone Convergence and Bounded Sequences"
   ]
  },
  {
   "cell_type": "code",
   "execution_count": null,
   "metadata": {},
   "outputs": [],
   "source": [
    "theorem(\"Monotone Convergence Theorem\", \"A sequence of real numbers that is both **monotone** (either non-decreasing or non-increasing) and **bounded** must converge to a limit.\")"
   ]
  },
  {
   "cell_type": "markdown",
   "metadata": {},
   "source": [
    "**Motivation**: This theorem is an exceptionally powerful tool for proving that a sequence converges without having to know or specify the limit in advance. In many economic models, particularly in dynamic programming or models of learning, we can construct an iterative process (e.g., the sequence of value functions generated by Value Function Iteration). If we can show that this sequence is both **monotone** (e.g., each new value function is greater than or equal to the previous one) and **bounded** (e.g., the utility is bounded by some finite value), then the theorem guarantees that the process will converge to a well-defined solution. This is often much easier than proving convergence directly."
   ]
  },
  {
   "cell_type": "code",
   "execution_count": null,
   "metadata": {},
   "outputs": [],
   "source": [
    "example(\"Convergent Sequence\", \"Consider the sequence defined by $x_0 = 0$ and $x_{n+1} = \\\\sqrt{2 + x_n}$. We can show by induction that this sequence is non-decreasing ($x_{n+1} \\\\ge x_n$) and bounded above by 2. By the Monotone Convergence Theorem, it must converge. The limit $L$ must satisfy $L = \\\\sqrt{2+L}$, which gives $L=2$.\"),\n",
    "econ_app(\"Savings Accumulation\", \"A standard model of capital accumulation with diminishing returns shows that the capital stock sequence, $k_{t+1} = s f(k_t) + (1-\\\\delta)k_t$, is monotone and bounded under certain conditions on the production function $f$. The theorem guarantees the economy converges to a steady-state capital stock.\"),\n",
    "course_connection(\"Proof that Value Function Iteration converges in Chapter 3.1.\")"
   ]
  },
  {
   "cell_type": "markdown",
   "metadata": {},
   "source": [
    "### 1.2.3 Cauchy Sequences and Completeness"
   ]
  },
  {
   "cell_type": "markdown",
   "metadata": {},
   "source": [
    "A sequence is a **Cauchy sequence** if its terms eventually become arbitrarily close to each other. Formally, $\\\\forall \\epsilon > 0, \\exists N$ such that for all $m, n > N$, we have $|x_n - x_m| < \\epsilon$. The key idea is that we can test for convergence by looking only at the terms of the sequence itself, without reference to a potential limit."
   ]
  },
  {
   "cell_type": "code",
   "execution_count": null,
   "metadata": {},
   "outputs": [],
   "source": [
    "theorem(\"Completeness of R^n\", \"In $\\\\mathbb{R}^n$, a sequence is a Cauchy sequence if and only if it is a convergent sequence. A metric space with this property is called a **complete** metric space.\")"
   ]
  },
  {
   "cell_type": "markdown",
   "metadata": {},
   "source": [
    "**Motivation**: The concept of a Cauchy sequence is more abstract but is the linchpin in the proof of the **Contraction Mapping Theorem**. The power of this concept is that it allows us to test for convergence by looking *only* at the terms of the sequence itself, without needing to know the potential limit. The Contraction Mapping Theorem works by showing that the sequence of iterates, $x_{n+1} = T(x_n)$, is a Cauchy sequence. In a complete metric space (like the space of bounded continuous functions with the sup norm), the fact that the sequence is Cauchy is *sufficient* to prove that it converges to a fixed point that lies within that space. This is the core logic that guarantees a unique solution to many dynamic programming problems."
   ]
  },
  {
   "cell_type": "code",
   "execution_count": null,
   "metadata": {},
   "outputs": [],
   "source": [
    "course_connection(\"The proof of the Contraction Mapping Theorem in Chapter 2.4 relies on this property.\")"
   ]
  },
  {
   "cell_type": "markdown",
   "metadata": {},
   "source": [
    "## 1.3 Continuity and Limits of Functions"
   ]
  },
  {
   "cell_type": "markdown",
   "metadata": {},
   "source": [
    "### 1.3.1 Definitions and Equivalences"
   ]
  },
  {
   "cell_type": "markdown",
   "metadata": {},
   "source": [
    "Continuity is a fundamental concept that formalizes the idea of a function having no sudden jumps or breaks. There are two equivalent, powerful definitions:"
   ]
  },
  {
   "cell_type": "markdown",
   "metadata": {},
   "source": [
    "**Definition 1 (ε-δ):** A function $f$ is continuous at a point $a$ if for any small $\\epsilon > 0$ you want the output $f(x)$ to be close to $f(a)$, you can find a small region $\\delta > 0$ around $a$ such that for any $x$ in that region, $f(x)$ is indeed within $\\epsilon$ of $f(a)$.\n",
    "$$ \\forall \\epsilon > 0, \\exists \\delta > 0 \\text{ such that } |x - a| < \\delta \\implies |f(x) - f(a)| < \\epsilon $$"
   ]
  },
  {
   "cell_type": "markdown",
   "metadata": {},
   "source": [
    "**Definition 2 (Sequential):** A function $f$ is continuous at a point $a$ if for every sequence $\\{x_n\\}$ that converges to $a$, the sequence of the function's values, $\\{f(x_n)\\}$, converges to $f(a)$.\n",
    "$$ x_n \\to a \\implies f(x_n) \\to f(a) $$"
   ]
  },
  {
   "cell_type": "code",
   "execution_count": null,
   "metadata": {},
   "outputs": [],
   "source": [
    "theorem(\"Equivalence of Definitions\", \"The $\\\\epsilon$-$\\\\delta$ definition and the sequential definition of continuity are equivalent.\")"
   ]
  },
  {
   "cell_type": "code",
   "execution_count": null,
   "metadata": {},
   "outputs": [],
   "source": [
    "example(\"Continuity of f(x) = x^2\", \"We can show $f(x)=x^2$ is continuous at $x=2$.<br> - **Sequentially**: If $x_n \\\\to 2$, then by the properties of limits, $f(x_n) = x_n^2 = x_n \\\\cdot x_n \\\\to 2 \\\\cdot 2 = 4 = f(2)$.<br> - **ε-δ**: Given $\\\\epsilon > 0$, we want $|x^2 - 4| < \\\\epsilon$. This is $|(x-2)(x+2)| < \\\\epsilon$. If we restrict $x$ to be in $(1,3)$, then $|x+2| < 5$. So we need $|x-2| < \\\\epsilon/5$. We can choose $\\\\delta = \\\\min(1, \\\\epsilon/5)$.\")"
   ]
  },
  {
   "cell_type": "markdown",
   "metadata": {},
   "source": [
    "### 1.3.2 Properties of Continuous Functions"
   ]
  },
  {
   "cell_type": "code",
   "execution_count": null,
   "metadata": {},
   "outputs": [],
   "source": [
    "theorem(\"Preservation of Limits\", \"If a function $f$ is continuous at $a$ and a sequence $\\{x_n\\}$ converges to $a$, then the sequence $\\{f(x_n)\\}$ converges to $f(a)$. This is essentially a restatement of the sequential definition of continuity.\")"
   ]
  },
  {
   "cell_type": "markdown",
   "metadata": {},
   "source": [
    "**Why it matters**: This property allows us to swap the order of limits and continuous functions, which is a common operation in economic proofs. For example, it allows us to say that the limit of the utility of a sequence of consumption bundles is the same as the utility of the limit of that sequence."
   ]
  },
  {
   "cell_type": "code",
   "execution_count": null,
   "metadata": {},
   "outputs": [],
   "source": [
    "econ_app(\"Continuous Preferences\", \"In consumer theory, if preferences are continuous, it means that small changes in a consumption bundle lead to small changes in utility. This ensures that the consumer's demand function will also be continuous—a small change in price will not cause a sudden, large jump in the quantity demanded.\"),\n",
    "course_connection(\"Used to justify swapping limits and function evaluations in dynamic programming proofs.\")"
   ]
  },
  {
   "cell_type": "markdown",
   "metadata": {},
   "source": [
    "### 1.3.3 Uniform Continuity"
   ]
  },
  {
   "cell_type": "markdown",
   "metadata": {},
   "source": [
    "**Uniform continuity** is a stronger condition than continuity. A function is uniformly continuous on a set if the same $\\delta$ can be used for any given $\\epsilon$, regardless of the point $a$ chosen in the set. The choice of $\\delta$ depends only on $\\epsilon$, not on the point $a$."
   ]
  },
  {
   "cell_type": "code",
   "execution_count": null,
   "metadata": {},
   "outputs": [],
   "source": [
    "example(\"Continuity vs. Uniform Continuity\", \"The function $f(x)=x^2$ is continuous on all of $\\\\mathbb{R}$, but it is not uniformly continuous. As $x$ gets larger, the function gets steeper, and a smaller and smaller $\\\\delta$ is required to keep the function's output within a given $\\\\epsilon$ band. However, on a compact set like $[0, 1]$, $f(x)=x^2$ is uniformly continuous.\")"
   ]
  },
  {
   "cell_type": "markdown",
   "metadata": {},
   "source": [
    "**Why it matters**: Uniform continuity is a technical condition required for certain theorems in approximation theory to hold. For example, it guarantees that the error from interpolating a function is well-behaved across the entire domain."
   ]
  },
  {
   "cell_type": "code",
   "execution_count": null,
   "metadata": {},
   "outputs": [],
   "source": [
    "course_connection(\"Used in the error analysis of interpolation methods in Chapter 2.6.\")"
   ]
  },
  {
   "cell_type": "markdown",
   "id": "ivt_header_1",
   "metadata": {},
   "source": [
    "### 1.3.4 Intermediate Value Theorem (IVT)"
   ]
  },
  {
   "cell_type": "code",
   "execution_count": null,
   "id": "ivt_theorem",
   "metadata": {},
   "outputs": [],
   "source": [
    "theorem(\"Intermediate Value Theorem\", \"If a function $f$ is continuous on a closed interval $[a, b]$, then it takes on every value between $f(a)$ and $f(b)$. More formally, for any $y$ between $f(a)$ and $f(b)$, there exists a $c \\\\in [a, b]$ such that $f(c) = y$. A common application is to guarantee the existence of a root: if $f(a)$ and $f(b)$ have opposite signs, there must be a $c \\\\in (a, b)$ such that $f(c)=0$.\");"
   ]
  },
  {
   "cell_type": "markdown",
   "id": "ivt_why_matters",
   "metadata": {},
   "source": [
    "**Motivation**: The IVT is the theoretical workhorse that guarantees the existence of solutions to many economic problems. It is the formal basis for the intuition that if a continuous process starts in one state and ends in another, it must pass through all the states in between. In economics, its most critical application is in proving the existence of **equilibria**. If we can define an 'excess demand' function that is continuous in price, and we can show that for some low price excess demand is positive and for some high price it is negative, then the IVT guarantees that there must be at least one price in between where excess demand is exactly zero. This is the definition of a market-clearing equilibrium. The theorem is also the foundation for simple and robust numerical root-finding algorithms like the bisection method."
   ]
  },
  {
   "cell_type": "markdown",
   "metadata": {},
   "source": [
    "The plot below provides a visual intuition. Since the function is continuous, it cannot get from $f(a)$ to $f(b)$ without passing through every value $y$ in between. This guarantees that for any such $y$, there must be at least one corresponding $c$ in the interval $[a, b]$.\n",
    "\n",
    "![Intermediate Value Theorem](images\png\intermediate_value_theorem.png)\n",
    "*<center>This image was programmatically generated for the course.</center>*"
   ]
  },
  {
   "cell_type": "code",
   "execution_count": null,
   "id": "ivt_econ_app",
   "metadata": {},
   "outputs": [],
   "source": [
    "econ_app(\"Existence of a Market-Clearing Price\", \"Let $D(p)$ be the demand for a good at price $p$, and $S(p)$ be the supply. Define the excess demand function as $Z(p) = D(p) - S(p)$. If demand and supply are continuous, so is $Z(p)$. Suppose at a low price $p_{low}$, demand exceeds supply ($Z(p_{low}) > 0$), and at a high price $p_{high}$, supply exceeds demand ($Z(p_{high}) < 0$). By the IVT, there must exist a price $p^* \\\\in (p_{low}, p_{high})$ such that $Z(p^*) = 0$, which is the market-clearing equilibrium price.\"),\n",
    "course_connection(\"Provides the theoretical guarantee for the bisection algorithm in Chapter 2.4 (Root Finding).\");"
   ]
  },
  {
   "cell_type": "markdown",
   "metadata": {},
   "source": [
    "## 1.4 Compactness"
   ]
  },
  {
   "cell_type": "markdown",
   "metadata": {},
   "source": [
    "### 1.4.1 Definition and Characterizations"
   ]
  },
  {
   "cell_type": "markdown",
   "metadata": {},
   "source": [
    "Compactness is a central concept in analysis that generalizes the idea of a closed and bounded interval on the real line to more abstract spaces. There are several equivalent ways to define it."
   ]
  },
  {
   "cell_type": "markdown",
   "metadata": {},
   "source": [
    "**Definition 1 (Open Cover):** A set $K$ is compact if every collection of open sets that covers $K$ has a finite sub-collection that also covers $K$.\n",
    "**Definition 2 (Sequential):** A set $K$ is sequentially compact if every sequence in $K$ has a subsequence that converges to a point within $K$.\n",
    "**Definition 3 (Heine-Borel):** In $\\mathbb{R}^n$, a set is compact if and only if it is **closed** and **bounded**."
   ]
  },
  {
   "cell_type": "code",
   "execution_count": null,
   "metadata": {},
   "outputs": [],
   "source": [
    "example(\"Compact vs. Non-Compact Sets\", \"- The interval $[0, 1]$ is compact. It is closed (includes its endpoints) and bounded.<br>- The interval $(0, 1)$ is not compact. It is not closed. The sequence $x_n = 1/n$ is in $(0,1)$, but its limit, 0, is not.<br>- The set $\\\\mathbb{R}$ is not compact. It is not bounded.\")"
   ]
  },
  {
   "cell_type": "markdown",
   "metadata": {},
   "source": [
    "### 1.4.2 The Extreme Value Theorem"
   ]
  },
  {
   "cell_type": "code",
   "execution_count": null,
   "metadata": {},
   "outputs": [],
   "source": [
    "theorem(\"Extreme Value Theorem (EVT)\", \"If a function $f: K \\\\to \\\\mathbb{R}$ is continuous and its domain $K$ is a compact set, then $f$ must attain its maximum and minimum values on $K$. That is, there exist points $c_{min}$ and $c_{max}$ in $K$ such that $f(c_{min}) \\\\le f(x) \\\\le f(c_{max})$ for all $x \\\\in K$.\")"
   ]
  },
  {
   "cell_type": "markdown",
   "metadata": {},
   "source": [
    "**Why it matters**: This is one of the most important theorems for economics. It guarantees that the optimization problems that economists pose (like maximizing utility or minimizing cost) have solutions, provided the choice set is compact (e.g., a closed and bounded budget set) and the objective function is continuous."
   ]
  },
  {
   "cell_type": "code",
   "execution_count": null,
   "metadata": {},
   "outputs": [],
   "source": [
    "econ_app(\"Existence of Optimal Consumption Bundle\", \"A consumer's budget set is the set of all affordable consumption bundles. In $\\\\mathbb{R}^n$, this set is closed and bounded, and therefore compact. If the consumer's utility function is continuous over this set, the EVT guarantees that there is at least one bundle that maximizes utility.\")"
   ]
  },
  {
   "cell_type": "code",
   "execution_count": null,
   "metadata": {},
   "outputs": [],
   "source": [
    "# Python Demo: Show maximum exists on a compact set\n",
    "x_compact = np.linspace(-1, 1, 1000)\n",
    "f_compact = -x_compact**2 + 2*x_compact\n",
    "print(f\"Max of f(x) = -x^2 + 2x on [-1, 1] is: {f_compact.max():.4f}\")\n",
    "\n",
    "# On a non-compact set, a maximum may not exist\n",
    "x_noncompact = np.linspace(0, 10, 1000)\n",
    "f_noncompact = x_noncompact # A linear function on a non-compact set\n",
    "print(f\"The maximum on [0, 10] is at the endpoint: {f_noncompact.max():.4f}\")\n",
    "print(\"If the domain were [0, infinity), there would be no maximum.\")"
   ]
  },
  {
   "cell_type": "code",
   "execution_count": null,
   "metadata": {},
   "outputs": [],
   "source": [
    "course_connection(\"Crucial for the existence of solutions to optimization problems in Chapter 2.5 and all of Chapter 5 (Micro Models). Also underpins the theory of dynamic programming in Chapter 3.1, where the Bellman operator maps a space of functions into a compact subset.\")"
   ]
  },
  {
   "cell_type": "markdown",
    "id": "brouwer_header",
   "metadata": {},
   "source": [
     "### 1.4.3 Brouwer's Fixed-Point Theorem"
    ]
   },
   {
    "cell_type": "code",
    "execution_count": null,
    "id": "brouwer_theorem",
    "metadata": {},
    "outputs": [],
    "source": [
     "theorem(\"Brouwer's Fixed-Point Theorem\", \"Let $K$ be a compact and convex subset of $\\\\mathbb{R}^n$. If a function $f: K \\\\to K$ is continuous, then there exists at least one point $x^* \\\\in K$ such that $f(x^*) = x^*$. Such a point is called a fixed point.\")"
    ]
   },
   {
    "cell_type": "markdown",
    "id": "brouwer_why_matters",
    "metadata": {},
    "source": [
    "**Historical Note**: The theorem is named after the Dutch mathematician **L.E.J. Brouwer** (1881-1966), a founder of the mathematical philosophy of intuitionism. The application of his fixed-point theorem to economics was pioneered by economists in the 1930s and was famously used by **John Nash** in his 1951 Ph.D. thesis to prove the existence of what is now known as the Nash Equilibrium.\n",
    "\n",
    "**Motivation**: This theorem is one of the most powerful existence results in economics. Its strength lies in its weak requirements: it only needs a continuous function mapping a compact, convex set into itself. It does *not* require the function to be a contraction, so it can be used in many situations where the Contraction Mapping Theorem does not apply. This makes it incredibly powerful for proving that an equilibrium exists, even if we cannot guarantee that the equilibrium is unique or provide a simple algorithm to find it. Its most celebrated application is in game theory, where it is used to prove that every finite game has at least one Nash Equilibrium in mixed strategies."
    ]
   },
   {
    "cell_type": "code",
    "execution_count": null,
    "id": "brouwer_econ_app",
    "metadata": {},
    "outputs": [],
    "source": [
     "econ_app(\"Existence of Nash Equilibrium\", \"In a finite game, the set of all mixed strategy profiles is a compact, convex set. The 'best response' correspondence defines a continuous mapping from this set to itself. Brouwer's Fixed-Point Theorem (or its extension, the Kakutani Fixed-Point Theorem) guarantees that there must be a point where a player's strategy is a best response to the other players' strategies, which are in turn best responses to the first player's strategy. This fixed point is a Nash Equilibrium.\"),\n",
     "course_connection(\"Provides the theoretical foundation for the existence of Nash Equilibrium in Chapter 5.3 (Game Theory) and the existence of a general equilibrium in Chapter 5.2 (General Equilibrium).\")"
    ]
   },
   {
    "cell_type": "markdown",
    "metadata": {},
    "source": [
     "### 1.4.4 Compactness in Function Spaces (Arzela-Ascoli Theorem)"
   ]
  },
  {
   "cell_type": "code",
   "execution_count": null,
   "metadata": {},
   "outputs": [],
   "source": [
    "theorem(\"Arzela-Ascoli (Statement only)\", \"A set of functions is relatively compact in the space of continuous functions if and only if it is **pointwise bounded** and **equicontinuous**.\")"
   ]
  },
  {
   "cell_type": "markdown",
   "metadata": {},
   "source": [
    "**Why it matters**: This theorem is the infinite-dimensional analogue of the Heine-Borel theorem. It is the key theoretical tool used to prove that the Bellman operator in dynamic programming is a contraction mapping on a complete metric space, which guarantees the existence and uniqueness of the value function."
   ]
  },
  {
   "cell_type": "code",
   "execution_count": null,
   "metadata": {},
   "outputs": [],
   "source": [
    "course_connection(\"This is the theoretical foundation for the convergence of value function iteration in Chapter 3.1.\")"
   ]
  },
  {
   "cell_type": "markdown",
   "metadata": {},
   "source": [
    "## 1.5 Convexity"
   ]
  },
  {
   "cell_type": "markdown",
   "metadata": {},
   "source": [
    "### 1.5.1 Convex Sets"
   ]
  },
  {
   "cell_type": "markdown",
   "metadata": {},
   "source": [
    "A set $C$ is **convex** if for any two points $x, y$ in the set, the straight line segment connecting them is also entirely contained within the set. Formally, for any $x, y \\in C$ and any $\\theta \\in [0, 1]$, the point $z = \\theta x + (1-\\theta)y$ is also in $C$."
   ]
  },
  {
   "cell_type": "code",
   "execution_count": null,
   "metadata": {},
   "outputs": [],
   "source": [
    "example(\"Convex and Non-Convex Sets\", \"- **Convex**: The entire space $\\\\mathbb{R}^n$, any half-space, balls, and intersections of convex sets.<br>- **Not Convex**: A donut shape (torus) or the union of two disjoint circles.\")"
   ]
  },
  {
   "cell_type": "code",
   "execution_count": null,
   "metadata": {},
   "outputs": [],
   "source": [
    "econ_app(\"Budget Sets\", \"A consumer's budget set is a classic example of a convex set. If two consumption bundles are affordable, any weighted average of those two bundles is also affordable. This convexity is crucial for ensuring that consumer choices are well-behaved.\")"
   ]
  },
  {
   "cell_type": "markdown",
   "metadata": {},
   "source": [
    "**Why Convexity is a Cornerstone of Economics**\n",
    "\n",
    "The assumption of convexity for sets (like budget sets) and functions (leading to concave utility functions) is one of the most powerful simplifying assumptions in economics. When the environment of an economic problem is convex, it often guarantees:\n",
    "1. **Existence of a solution**: A continuous objective function on a compact, convex set will have a maximum (by the Extreme Value Theorem).\n",
    "2. **Uniqueness of the solution**: If the objective function is strictly concave (on a convex set), the optimum is unique.\n",
    "3. **Local implies Global**: For convex optimization problems, any local optimum is also a global optimum. This is a huge advantage for numerical methods, as it means they won't get stuck in a suboptimal solution.\n",
    "\n",
    "While the real world is not always convex, these assumptions provide a baseline model that is well-understood and computationally tractable. Much of advanced economic theory involves studying the consequences of relaxing the convexity assumption."
   ]
  },
  {
   "cell_type": "markdown",
   "metadata": {},
   "source": [
    "![Convex and Non-Convex Sets](images\png\convex_set.png)\n",
    "*A convex set. Any line segment between two points in the set remains within the set.*"
   ]
  },
  {
   "cell_type": "markdown",
   "metadata": {},
   "source": [
    "![Convex and Non-Convex Sets](images\png\non_convex_set.png)\n",
    "*A non-convex set. A line segment can be drawn between two points that leaves the set.*"
   ]
  },
  {
   "cell_type": "code",
   "execution_count": null,
   "metadata": {},
   "outputs": [],
   "source": [
    "course_connection(\"Convex sets are the domains for most optimization problems in Chapter 2.5 and are fundamental to consumer theory in Chapter 5.1.\")"
   ]
  },
  {
   "cell_type": "markdown",
    "id": "sht_header",
   "metadata": {},
   "source": [
     "### 1.5.2 The Separating Hyperplane Theorem"
    ]
   },
   {
    "cell_type": "code",
    "execution_count": null,
    "id": "sht_theorem",
    "metadata": {},
    "outputs": [],
    "source": [
     "theorem(\"Separating Hyperplane Theorem (SHT)\", \"Let $A$ and $B$ be two disjoint, non-empty, and convex subsets of $\\\\mathbb{R}^n$. Then there exists a non-zero vector $p \\\\in \\\\mathbb{R}^n$ and a scalar $c \\\\in \\\\mathbb{R}$ such that $p \\\\cdot x \\\\ge c$ for all $x \\\\in A$ and $p \\\\cdot y \\\\le c$ for all $y \\\\in B$. The plane defined by $\\\\{z : p \\\\cdot z = c\\\\}$ is the 'separating hyperplane'. A stricter version (Hyperplane Separation Theorem) requires one of the sets to be compact to guarantee strict separation ($>$).\")"
    ]
   },
   {
    "cell_type": "markdown",
    "metadata": {},
    "source": [
     "The theorem is illustrated below. Two disjoint convex sets, A and B, can be perfectly separated by a line (or a hyperplane in higher dimensions). The vector $p$ is normal (perpendicular) to this hyperplane."
    ]
   },
   {
    "cell_type": "markdown",
    "metadata": {},
    "source": [
     "![Separating Hyperplane Theorem](images\png\separating_hyperplane_theorem.png)\n",
     "*<center>This image was programmatically generated for the course.</center>*"
    ]
   },
   {
    "cell_type": "markdown",
    "id": "sht_why_matters",
    "metadata": {},
    "source": [
     "**Why it matters**: This theorem is the mathematical core of the First and Second Fundamental Theorems of Welfare Economics. The vector $p$ can be interpreted as a vector of prices, and the hyperplane represents the budget constraint. The theorem shows that for any efficient allocation, there exist prices that 'support' it, meaning that agents maximizing their utility subject to the budget constraint defined by these prices will choose that allocation. It establishes a deep connection between market equilibria and Pareto efficiency."
    ]
   },
   {
    "cell_type": "code",
    "execution_count": null,
    "id": "sht_econ_app",
    "metadata": {},
    "outputs": [],
    "source": [
     "econ_app(\"The First Welfare Theorem\", \"The proof of the First Welfare Theorem uses the SHT. It considers the set of all allocations that are preferred to the competitive equilibrium allocation by all consumers. This set is convex. The theorem shows that this set is disjoint from the set of feasible allocations. The SHT then implies the existence of a hyperplane (prices) that separates these two sets, proving that the competitive equilibrium is Pareto efficient.\"),\n",
     "course_connection(\"Essential for understanding the theory of general equilibrium in Chapter 5.2.\")"
    ]
   },
   {
    "cell_type": "markdown",
    "metadata": {},
    "source": [
     "### 1.5.3 Convex Functions"
   ]
  },
  {
   "cell_type": "markdown",
   "metadata": {},
   "source": [
    "A function $f$ is **convex** if its domain is a convex set and for any two points $x, y$ in its domain, the line segment connecting $(x, f(x))$ and $(y, f(y))$ lies on or above the graph of the function. Formally, for any $\\theta \\in [0, 1]$:\n",
    "$$ f(\\theta x + (1-\\theta)y) \\le \\theta f(x) + (1-\\theta)f(y) $$\n",
    "A function is **concave** if $-f$ is convex.\n",
    "\n",
    "**Characterizations for Differentiable Functions:**\n",
    "- **First-Order:** A differentiable function $f$ is convex if and only if its graph lies on or above all of its tangents: $f(y) \\ge f(x) + \\nabla f(x)^T(y-x)$.\n",
    "- **Second-Order:** A twice-differentiable function $f$ is convex if and only if its Hessian matrix is positive semidefinite ($H_f(x) \\succeq 0$) for all $x$ in its domain."
   ]
  },
  {
   "cell_type": "code",
   "execution_count": null,
   "metadata": {},
   "outputs": [],
   "source": [
    "example(\"Convex and Concave Functions\", \"- **Convex**: $f(x)=x^2$, $f(x)=e^x$.<br>- **Concave**: $f(x)=\\\\log(x)$, $f(x)=\\\\sqrt{x}$. Most utility functions are concave, representing diminishing marginal utility.<br>- **Strictly Convex**: If the inequality is strict ($<$), the function is strictly convex. This implies it has at most one minimizer.\")"
   ]
  },
  {
   "cell_type": "markdown",
   "metadata": {},
   "source": [
    "### 1.5.3 Why Convexity Matters"
   ]
  },
  {
   "cell_type": "code",
   "execution_count": null,
   "metadata": {},
   "outputs": [],
   "source": [
    "theorem(\"Optimality for Convex Functions\", \"For a convex function, any local minimum is also a global minimum. If the function is strictly convex, the global minimum is unique.\")"
   ]
  },
  {
   "cell_type": "markdown",
   "metadata": {},
   "source": [
    "**Why it matters**: This is the single most important property for optimization. For general non-convex functions, numerical optimization algorithms can easily get stuck in local minima. For convex functions, we are guaranteed that any minimum we find is the best possible one. This is why **convex optimization** is a major field in itself and why economists often assume convex preferences and concave utility/profit functions."
   ]
  },
  {
   "cell_type": "code",
   "execution_count": null,
   "metadata": {},
   "outputs": [],
   "source": [
    "econ_app(\"Risk Aversion and Jensen's Inequality\", \"A utility function $U(c)$ is concave if an agent is risk-averse. By Jensen's Inequality (the probabilistic version of the convexity definition), this means $E[U(c)] \\le U(E[c])$. The expected utility of a lottery is less than the utility of its expected value. The difference, the **certainty equivalent**, is the amount an agent would pay to avoid risk.\"),\n",
    "course_connection(\"Crucial for optimization in Chapter 2.5 and all of Chapter 5 (Micro Models). The Bellman equation in Chapter 3.1 preserves concavity, which is key to the analysis of dynamic models.\")"
   ]
  },
  {
   "cell_type": "markdown",
   "metadata": {},
   "source": [
    "## 1.6 Mean Value Theorem and Taylor Series"
   ]
  },
  {
   "cell_type": "markdown",
   "metadata": {},
   "source": [
    "### 1.6.1 Rolle's Theorem and the Mean Value Theorem (MVT)"
   ]
  },
  {
   "cell_type": "code",
   "execution_count": null,
   "metadata": {},
   "outputs": [],
   "source": [
    "theorem(\"Mean Value Theorem\", \"If a function $f$ is continuous on the closed interval $[a, b]$ and differentiable on the open interval $(a, b)$, then there exists at least one point $c \\\\in (a, b)$ such that the tangent at $c$ is parallel to the secant line through $(a, f(a))$ and $(b, f(b))$. Formally, $f'(c) = \\\\frac{f(b) - f(a)}{b - a}$.\")"
   ]
  },
  {
   "cell_type": "markdown",
   "metadata": {},
   "source": [
    "### 1.6.2 Taylor's Theorem"
   ]
  },
  {
   "cell_type": "code",
   "execution_count": null,
   "metadata": {},
   "outputs": [],
   "source": [
    "theorem(\"Taylor's Theorem\", \"If a function $f$ has $n+1$ continuous derivatives on an interval containing $a$, then for any $x$ in that interval, $f(x)$ can be approximated by its $n$-th order Taylor polynomial, $P_n(x)$, with an explicit remainder term $R_n(x)$:\\n$$ f(x) = P_n(x) + R_n(x) = \\\\sum_{k=0}^n \\\\frac{f^{(k)}(a)}{k!}(x-a)^k + \\\\frac{f^{(n+1)}(c)}{(n+1)!}(x-a)^{n+1} $$ for some $c$ between $a$ and $x$.\")"
   ]
  },
  {
   "cell_type": "markdown",
   "metadata": {},
   "source": [
    "**Why it matters**: Taylor's theorem is the foundation of nearly all local approximation methods in economics. It allows us to replace a complex, non-linear function with a simpler polynomial (often linear or quadratic) that is accurate in a local neighborhood. This is the basis for linearization techniques used to solve DSGE models and for the derivation of many numerical methods."
   ]
  },
  {
   "cell_type": "markdown",
   "metadata": {},
   "source": [
    "The image below shows how the Taylor polynomials for `sin(x)` (centered at 0) become increasingly accurate as the degree of the polynomial rises. The approximations are very good near the expansion point `a=0` and get progressively worse further away.\n",
    "\n",
    "![Taylor Series Approximations of sin(x)](images\png\taylor_sin.png)\n",
    "*<center>This image was programmatically generated for the course.</center>*"
   ]
  },
  {
   "cell_type": "code",
   "execution_count": null,
   "metadata": {},
   "outputs": [],
   "source": [
    "econ_app(\"Log-Linearization in DSGE Models\", \"Dynamic Stochastic General Equilibrium (DSGE) models are often too complex to solve globally. Economists approximate the non-linear equilibrium conditions around the model's steady state using a first-order Taylor expansion. This process, known as log-linearization, results in a system of linear difference equations that can be solved with standard linear algebra methods.\"),\n",
    "course_connection(\"Fundamental for numerical differentiation (Chapter 2.2), Newton's method (Chapter 2.5), and log-linearization of RBC models (Chapter 4.3). The Delta method in econometrics (Chapter 6.1) is also an application of Taylor's theorem.\")"
   ]
  }
 ],
 "metadata": {
  "kernelspec": {
   "display_name": "Python 3",
   "language": "python",
   "name": "python3"
  },
  "language_info": {
   "codemirror_mode": {
    "name": "ipython",
    "version": 3
   },
   "file_extension": ".py",
   "mimetype": "text/x-python",
   "name": "python",
   "nbconvert_exporter": "python",
   "pygments_lexer": "ipython3",
   "version": "3.9.7"
  }
 },
 "nbformat": 4,
 "nbformat_minor": 4
}
