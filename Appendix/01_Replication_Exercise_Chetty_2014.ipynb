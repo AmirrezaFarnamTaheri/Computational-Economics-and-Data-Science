{
 "cells": [
  {
   "cell_type": "code",
   "execution_count": null,
   "metadata": {},
   "outputs": [],
   "source": [
    "# === Environment Setup ===\n",
    "import numpy as np\n",
    "import pandas as pd\n",
    "import matplotlib.pyplot as plt\n",
    "import seaborn as sns\n",
    "import statsmodels.formula.api as smf\n",
    "from IPython.display import display, Markdown\n",
    "from pathlib import Path\n",
    "\n",
    "# --- Configuration ---\n",
    "plt.style.use('seaborn-v0_8-whitegrid')\n",
    "plt.rcParams.update({'font.size': 12, 'figure.figsize': (11, 7), 'figure.dpi': 130})\n",
    "\n",
    "# --- Utility Functions ---\n",
    "def note(msg): display(Markdown(f\"<div class='alert alert-block alert-info'>\ud83d\udcdd **Note:** {msg}</div>\"))\n",
    "def sec(title): print(f\"\\n{80*'='}\\n| {title.upper()} |\\n{80*'='}\")\n",
    "note(\"Environment initialized.\")"
   ]
  },
  {
   "cell_type": "markdown",
   "metadata": {},
   "source": [
    "# Appendix 1: Replication Exercise - Chetty et al. (2014)\n",
    "\n",
    "---\n",
    "### Introduction: The Geography of Intergenerational Mobility\n",
    "\n",
    "This notebook provides a hands-on replication exercise for one of the most influential economics papers of the last decade: **\"Where is the Land of Opportunity? The Geography of Intergenerational Mobility in the United States\"** by Raj Chetty, Nathaniel Hendren, Patrick Kline, and Emmanuel Saez (2014).\n",
    "\n",
    "The authors use a massive dataset of administrative tax records to measure intergenerational income mobility for 741 \"commuting zones\" (CZs) across the United States. Their key finding is that a child's chances of moving up the income ladder depend dramatically on the city or region where they grow up.\n",
    "\n",
    "**Our Objective:** We will replicate a core result from the paper: the strong, negative correlation between a CZ's level of income inequality (as measured by the Gini coefficient) and its level of intergenerational mobility. This exercise will provide practical experience in data handling, regression analysis, and interpreting real-world economic results."
   ]
  },
  {
   "cell_type": "markdown",
   "metadata": {},
   "source": [
    "### 1. Data Acquisition\n",
    "\n",
    "The authors have made their data publicly available through the [Equality of Opportunity Project](https://opportunityinsights.org/). We will download the main dataset containing the CZ-level statistics.\n",
    "\n",
    "**Key Variables of Interest:**\n",
    "- `gini96`: The Gini coefficient in 1996, a measure of income inequality.\n",
    "- `rank_slope`: The slope of the rank-rank regression of child income rank on parent income rank. A higher slope means lower mobility (a child's income is more tied to their parent's).\n",
    "- `abs_mob_p25`: The absolute upward mobility for children with parents at the 25th percentile of the national income distribution. This is our primary measure of mobility."
   ]
  },
  {
   "cell_type": "code",
   "execution_count": null,
   "metadata": {},
   "outputs": [],
   "source": [
    "sec(\"Data Acquisition\")\n",
    "\n",
    "# Define local data path\n",
    "data_dir = Path(\"data/chetty_2014\")\n",
    "data_file = data_dir / \"cz_outcomes.csv\"\n",
    "data_url = 'https://opportunityinsights.org/wp-content/uploads/2018/10/cz_outcomes.csv'\n",
    "\n",
    "# Ensure the data directory exists\n",
    "data_dir.mkdir(exist_ok=True)\n",
    "\n",
    "if data_file.exists():\n",
    "    note(f\"Loading data from local file: {data_file}\")\n",
    "    df = pd.read_csv(data_file)\n",
    "else:\n",
    "    note(f\"Local data not found. Downloading from {data_url}...\")\n",
    "    try:\n",
    "        df = pd.read_csv(data_url)\n",
    "        df.to_csv(data_file, index=False)\n",
    "        note(f\"Successfully downloaded and saved data to {data_file}. Shape: {df.shape}\")\n",
    "    except Exception as e:\n",
    "        note(f\"Failed to download data. Error: {e}\")\n",
    "        df = None\n",
    "\n",
    "if df is not None:\n",
    "    display(df[['czname', 'gini96', 'rank_slope', 'abs_mob_p25']].head())"
   ]
  },
  {
   "cell_type": "markdown",
   "metadata": {},
   "source": [
    "### 2. Replicating the Core Result\n",
    "\n",
    "We will now replicate the central finding that inequality is negatively correlated with mobility. We will do this by running a simple OLS regression of the mobility measure (`abs_mob_p25`) on the inequality measure (`gini96`). We will also create a binned scatter plot, a powerful visualization technique used throughout the paper."
   ]
  },
  {
   "cell_type": "code",
   "execution_count": null,
   "metadata": {},
   "outputs": [],
   "source": [
    "sec(\"Regression Analysis: Mobility vs. Inequality\")\n",
    "\n",
    "# Placeholder for regression analysis\n",
    "if 'df' in locals():\n",
    "    model = smf.ols('abs_mob_p25 ~ gini96', data=df).fit(cov_type='HC1') # Use robust standard errors\n",
    "    print(model.summary())\n",
    "    note(\"The coefficient on `gini96` is negative and highly statistically significant, confirming the core result from the paper: higher inequality is associated with lower upward mobility.\")"
   ]
  },
  {
   "cell_type": "code",
   "execution_count": null,
   "metadata": {},
   "outputs": [],
   "source": [
    "sec(\"Visualization: Binned Scatter Plot\")\n",
    "\n",
    "# Placeholder for binned scatter plot\n",
    "if 'df' in locals():\n",
    "    # Create 20 bins of equal size based on the Gini coefficient\n",
    "    df['gini_bin'] = pd.qcut(df['gini96'], 20, labels=False, duplicates='drop')\n",
    "    bin_means = df.groupby('gini_bin')[['abs_mob_p25', 'gini96']].mean()\n",
    "\n",
    "    plt.figure(figsize=(12, 8))\n",
    "    sns.scatterplot(x='gini96', y='abs_mob_p25', data=bin_means, s=100, label='CZ Bins')\n",
    "    sns.regplot(x='gini96', y='abs_mob_p25', data=bin_means, scatter=False, color='red', label='Best-Fit Line')\n",
    "    \n",
    "    plt.title('Upward Mobility vs. Inequality Across the U.S.')\n",
    "    plt.xlabel('Income Inequality (Gini Coefficient)')\n",
    "    plt.ylabel('Absolute Upward Mobility (Parent at 25th Pctile)')\n",
    "    plt.legend()\n",
    "    plt.grid(True)\n",
    "    plt.show()"
   ]
  },
  {
   "cell_type": "markdown",
   "id": "other_correlates",
   "metadata": {},
   "source": [
    "### 3. Other Correlates of Mobility\n",
    "\n",
    "While income inequality is a powerful predictor, the authors identified several other factors that are strongly correlated with a region's level of upward mobility. In their summary, they highlight five key factors:\n",
    "\n",
    "1.  **Segregation:** Areas with higher levels of racial and economic segregation have lower mobility.\n",
    "2.  **Income Inequality:** As we replicated, regions with a smaller middle class and a higher Gini coefficient have lower mobility.\n",
    "3.  **School Quality:** Regions with higher-quality public schools (as measured by test scores and lower dropout rates) have higher mobility.\n",
    "4.  **Social Capital:** Areas with higher levels of social capital—measured using factors like religious participation and civic engagement—have higher mobility.\n",
    "5.  **Family Structure:** The strongest predictor is the fraction of single-parent households. Areas with fewer single parents have significantly higher upward mobility."
   ]
  },
  {
   "cell_type": "markdown",
   "id": "discussion_conclusion",
   "metadata": {},
   "source": [
    "### 4. Discussion and Conclusion\n",
    "\n",
    "This replication exercise confirms a key finding from Chetty et al. (2014): a strong negative relationship between income inequality and intergenerational mobility across the United States. The binned scatterplot is a particularly powerful tool for visualizing this robust relationship in a non-parametric way.\n",
    "\n",
    "**Thinking Critically:**\n",
    "- **Correlation vs. Causation:** It is crucial to remember that these findings are correlations. While inequality is a strong predictor of mobility, it may not be the direct causal factor. It could be that other factors, like segregation or family structure, cause both high inequality and low mobility. The authors' subsequent work delves deeper into the causal channels.\n",
    "- **Policy Implications:** If you were a policymaker, how might these findings inform your decisions? Would you focus on reducing Gini coefficients directly, or would you target other factors like school quality or residential segregation? This paper sparked a significant debate on which policies are most effective at improving opportunities for disadvantaged children."
   ]
  }
 ],
 "metadata": {
  "kernelspec": {
   "display_name": "Python 3",
   "language": "python",
   "name": "python3"
  },
  "language_info": {
   "codemirror_mode": {
    "name": "ipython",
    "version": 3
   },
   "file_extension": ".py",
   "mimetype": "text/x-python",
   "name": "python",
   "nbconvert_exporter": "python",
   "pygments_lexer": "ipython3",
   "version": "3.11.5"
  }
 },
 "nbformat": 4,
 "nbformat_minor": 4
}