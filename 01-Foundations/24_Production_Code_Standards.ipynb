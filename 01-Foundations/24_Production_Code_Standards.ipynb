{
 "cells": [
  {
   "cell_type": "code",
   "execution_count": null,
   "metadata": {},
   "outputs": [],
   "source": [
    "# === Environment Setup ===\n",
    "import logging\n",
    "import sys\n",
    "from IPython.display import display, Markdown\n",
    "\n",
    "# --- Utility Functions ---\n",
    "def note(msg): display(Markdown(f\"<div class='alert alert-block alert-info'>\ud83d\udcdd **Note:** {msg}</div>\"))\n",
    "def sec(title): print(f\"\\n{80*'='}\\n| {title.upper()} |\\n{80*'='}\")\n",
    "note(\"Environment initialized.\")"
   ]
  },
  {
   "cell_type": "markdown",
   "metadata": {},
   "source": [
    "# Chapter 8.20: From Research to Production\n",
    "\n",
    "---\n",
    "### Introduction: Beyond the Notebook\n",
    "\n",
    "The skills required to produce a high-quality research paper are not the same as those required to build a robust, reliable software system. This chapter bridges that gap, providing an introduction to the best practices required to turn the models developed in a research context into **production-ready** applications that can be deployed, monitored, and trusted in a live environment.\n",
    "\n",
    "**Why does this matter for economists?**\n",
    "- **Industry Careers:** Economists at tech firms, banks, and hedge funds are often tasked with deploying their models to make real-time decisions (e.g., dynamic pricing, fraud detection, algorithmic trading).\n",
    "- **Robust Research:** These practices improve the reliability and reproducibility of even purely academic research code.\n",
    "- **Scalability:** Production principles are essential for running large-scale simulations on the cloud or HPC clusters.\n",
    "\n",
    "This chapter will cover three pillars of production code: **Logging**, **API Design**, and **Continuous Integration/Continuous Deployment (CI/CD)**."
   ]
  },
  {
   "cell_type": "markdown",
   "metadata": {},
   "source": [
    "### 1. Logging: Your Model's Diary\n",
    "\n",
    "`print()` statements are for interactive exploration. For any code that runs non-interactively, **logging** is the professional standard. A good logging setup provides a structured, configurable, and permanent record of your application's behavior.\n",
    "\n",
    "**Key Advantages of Logging:**\n",
    "- **Different Severity Levels:** You can log messages at different levels (e.g., `DEBUG`, `INFO`, `WARNING`, `ERROR`, `CRITICAL`), allowing you to filter for important events.\n",
    "- **Configurability:** You can easily redirect log output to a file, the console, or a remote service without changing your code.\n",
    "- **Structured Information:** Logs can be configured to automatically include timestamps, the function name, and the line number where the event occurred, making debugging much easier."
   ]
  },
  {
   "cell_type": "code",
   "execution_count": null,
   "metadata": {},
   "outputs": [],
   "source": [
    "sec(\"Example of a Professional Logging Setup\")\n",
    "\n",
    "logger = logging.getLogger('MyEconomicModel')\n",
    "logger.setLevel(logging.DEBUG) # Set the lowest level to capture all messages\n",
    "\n",
    "# Create a handler to write logs to the console\n",
    "handler = logging.StreamHandler(sys.stdout)\n",
    "formatter = logging.Formatter('%(asctime)s - %(name)s - %(levelname)s - %(message)s')\n",
    "handler.setFormatter(formatter)\n",
    "\n",
    "# Add the handler to the logger\n",
    "if not logger.handlers:\n",
    "    logger.addHandler(handler)\n",
    "\n",
    "logger.info(\"Model initialization started.\")\n",
    "try:\n",
    "    x = 1 / 0\n",
    "except ZeroDivisionError:\n",
    "    logger.error(\"An attempt to divide by zero occurred.\", exc_info=True)\n",
    "logger.debug(\"This is a detailed debug message for developers.\")\n",
    "note(\"Check the console output to see the structured log messages.\")"
   ]
  },
  {
   "cell_type": "markdown",
   "metadata": {},
   "source": [
    "### 2. API Design: Serving Your Model\n",
    "\n",
    "A research script might be run manually. A production model needs an **Application Programming Interface (API)** so that other services can interact with it programmatically. For economic models, this often means creating a web API where a user can send a request with new data and receive the model's prediction or forecast in response.\n",
    "\n",
    "**FastAPI** is a modern, high-performance Python framework for building APIs. It is easy to use and provides automatic data validation and documentation.\n",
    "\n",
    "**(Conceptual Example - Code not runnable in notebook)**\n",
    "```python\n",
    "# main.py\n",
    "from fastapi import FastAPI\n",
    "from pydantic import BaseModel\n",
    "import joblib # For loading a pre-trained model\n",
    "\n",
    "app = FastAPI()\n",
    "model = joblib.load('my_model.pkl')\n",
    "\n",
    "class ModelInput(BaseModel):\n",
    "    feature1: float\n",
    "    feature2: int\n",
    "\n",
    "@app.post('/predict')\n",
    "def predict(data: ModelInput):\n",
    "    prediction = model.predict([[data.feature1, data.feature2]])\n",
    "    return {'prediction': prediction[0]}\n",
    "```\n",
    "You would run this with a server like `uvicorn main:app --reload`."
   ]
  },
  {
   "cell_type": "markdown",
   "metadata": {},
   "source": [
    "### 3. CI/CD: Automating Quality and Deployment\n",
    "\n",
    "**Continuous Integration (CI)** and **Continuous Deployment (CD)** are practices that automate the process of testing and deploying code. We have already seen the CI part in **Chapter 1.2** with GitHub Actions running our `pytest` suite.\n",
    "\n",
    "- **Continuous Integration:** Every time code is pushed to the repository, an automated pipeline runs to build the code, run tests, and check for quality issues. This ensures that bugs are caught early.\n",
    "- **Continuous Deployment:** If the CI pipeline passes, a CD pipeline can automatically deploy the new version of the application to a staging or production environment. This allows for rapid, reliable releases.\n",
    "\n",
    "A full CI/CD pipeline for an economic model might look like this:\n",
    "1.  **Commit:** A developer pushes a change to the model's code.\n",
    "2.  **CI Pipeline (GitHub Actions):**\n",
    "    a.  Install dependencies from `environment.yml`.\n",
    "    b.  Run `pytest` to check for correctness.\n",
    "    c.  Run `pre-commit` hooks to check for style.\n",
    "    d.  (Optional) Build a Docker container for the application.\n",
    "3.  **CD Pipeline:**\n",
    "    a.  If CI passes on the `main` branch, automatically deploy the new version to a cloud server (e.g., AWS, Google Cloud)."
   ]
  }
 ],
 "metadata": {
  "kernelspec": {
   "display_name": "Python 3",
   "language": "python",
   "name": "python3"
  },
  "language_info": {
   "codemirror_mode": {
    "name": "ipython",
    "version": 3
   },
   "file_extension": ".py",
   "mimetype": "text/x-python",
   "name": "python",
   "nbconvert_exporter": "python",
   "pygments_lexer": "ipython3",
   "version": "3.11.5"
  }
 },
 "nbformat": 4,
 "nbformat_minor": 4
}