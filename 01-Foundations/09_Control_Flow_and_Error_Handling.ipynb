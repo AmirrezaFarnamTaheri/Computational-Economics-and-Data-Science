{
 "cells": [
  {
   "cell_type": "code",
   "execution_count": null,
   "metadata": {
    "collapsed": true
   },
   "outputs": [],
   "source": [
    "# === Environment Setup ===\n",
    "import os, sys, math, time, random, json, textwrap, warnings, itertools\n",
    "from contextlib import contextmanager\n",
    "import numpy as np, pandas as pd, matplotlib.pyplot as plt\n",
    "\n",
    "# --- Configuration ---\n",
    "plt.style.use('seaborn-v0_8-whitegrid')\n",
    "plt.rcParams[\"figure.dpi\"] = 130\n",
    "\n",
    "# --- Utility Functions ---\n",
    "def note(msg, **kwargs):\n",
    "    \"\"\"Prints a formatted message with a notebook icon.\"\"\"\n",
    "    formatted_msg = textwrap.fill(msg, width=100, subsequent_indent='   ')\n",
    "    print(f\"\\n\ud83d\udcdd {formatted_msg}\", **kwargs)\n",
    "def sec(title):\n",
    "    \"\"\"Prints a formatted section title for code blocks.\"\"\"\n",
    "    print(f\"\\n{100*'='}\\n| {title.upper()} |\\n{100*'='}\")\n",
    "\n",
    "note(\"Environment initialized.\")"
   ]
  },
  {
   "cell_type": "markdown",
   "metadata": {},
   "source": [
    "# Part 1: Foundations\n",
    "## Chapter 1.9: Control Flow and Error Handling"
   ]
  },
  {
   "cell_type": "markdown",
   "metadata": {},
   "source": [
    "### Introduction: Directing Logic and Managing Failure\n",
    "\n",
    "A program is more than a static list of calculations; it is a dynamic process that must make decisions, repeat actions, and respond gracefully to unexpected situations. The constructs that govern this process are fundamental to programming. **Control flow** statements (`if`, `for`, `while`, `match`) direct the logical path of execution, forming the core of any algorithm. **Error handling** (`try...except`) provides the mechanism for building robust and resilient programs that can anticipate and manage failures without crashing.\n",
    "\n",
    "In computational economics, control flow directs everything from an agent's decision rule in a simulation to the iterative process of a numerical solver. Error handling is equally critical, ensuring that if a numerical routine fails to converge, a data file is missing, or an API call fails, the program can recover or terminate with a clear, informative message. This chapter covers the syntax and idiomatic application of these essential constructs, which form the verb structure of the Python language."
   ]
  },
  {
   "cell_type": "markdown",
   "metadata": {},
   "source": [
    "### 1. Conditional Logic: `if`, `elif`, and `else`\n",
    "\n",
    "The `if` statement is the fundamental tool for conditional execution. It allows a program to execute a block of code only if a certain condition evaluates to `True`. It can be chained with one or more `elif` (else if) clauses to check multiple conditions sequentially, and a final `else` clause can provide a default case that executes if none of the preceding conditions are met.\n",
    "\n",
    "Python's concept of \"truthiness\" is broad: in a boolean context, zero-valued numbers, empty containers (lists, dicts, sets, strings), and `None` all evaluate to `False`. All other objects are `True` by default."
   ]
  },
  {
   "cell_type": "code",
   "execution_count": null,
   "metadata": {},
   "outputs": [],
   "source": [
    "sec(\"Conditional Logic: A Simple Policy Rule\")\n",
    "\n",
    "def get_policy_rate(inflation_rate, target_rate=0.02):\n",
    "    \"\"\"Implements a simple Taylor-like rule based on inflation.\n",
    "    This function demonstrates a standard if/elif/else structure.\n",
    "    \"\"\"\n",
    "    if inflation_rate > target_rate + 0.01:\n",
    "        return 0.05  # High rate for significantly high inflation\n",
    "    elif inflation_rate > target_rate:\n",
    "        return 0.04  # Mildly higher rate\n",
    "    elif inflation_rate == target_rate:\n",
    "        return 0.03  # Neutral rate\n",
    "    else: # inflation_rate < target_rate\n",
    "        return 0.02  # Low rate for low inflation\n",
    "\n",
    "test_inflation_rates = [0.035, 0.025, 0.02, 0.01]\n",
    "for inf in test_inflation_rates:\n",
    "    rate = get_policy_rate(inf)\n",
    "    print(f\"Inflation: {inf:.2%} -> Policy Rate: {rate:.2%}\")"
   ]
  },
  {
   "cell_type": "markdown",
   "metadata": {},
   "source": [
    "#### Conditional Expressions (The Ternary Operator)\n",
    "For simple assignments based on a condition, Python provides a concise one-line syntax called a conditional expression.\n",
    "\n",
    "`value_if_true if condition else value_if_false`\n",
    "\n",
    "This should be used sparingly, primarily for simple assignments where it improves readability over a multi-line `if/else` block."
   ]
  },
  {
   "cell_type": "code",
   "execution_count": null,
   "metadata": {},
   "outputs": [],
   "source": [
    "sec(\"Conditional Expressions\")\n",
    "gdp_growth = -0.005\n",
    "status = \"Recession\" if gdp_growth < 0 else \"Expansion\"\n",
    "print(f\"GDP growth of {gdp_growth:.1%} indicates an economic {status}.\")"
   ]
  },
  {
   "cell_type": "markdown",
   "metadata": {},
   "source": [
    "### 2. Iteration: `for` and `while` Loops\n",
    "\n",
    "Loops are used to execute a block of code repeatedly. Python provides two main types of loops, each suited to different situations."
   ]
  },
  {
   "cell_type": "markdown",
   "metadata": {},
   "source": [
    "#### 2.1 The `for` Loop and the Iterator Protocol\n",
    "The `for` loop is Python's most common iteration construct. It works by iterating over the elements of any **iterable** object. An object is iterable if it implements the `__iter__` special method, which must return an **iterator** object. An iterator is an object that produces values one at a time, implementing the `__next__` method. When a `for` loop starts, it calls `iter(my_iterable)` to get an iterator, and then calls `next()` on that iterator repeatedly until a `StopIteration` exception is raised, which signals the end of the sequence. This process is visualized below.\n",
    "\n",
    "![The Iterator Protocol](images\png\1.9-iterator-protocol.png)\n",
    "\n",
    "This clear separation between the iterable (the data container) and the iterator (the object that keeps track of the position in the iteration) is what makes Python's iteration model so flexible and powerful.\n",
    "\n",
    "Idiomatic `for` loops often use helper functions that work with this protocol:\n",
    "- `enumerate(iterable)`: Yields pairs of `(index, value)`, useful when you need a counter.\n",
    "- `zip(iter1, iter2, ...)`: Yields tuples of corresponding elements from multiple iterables. Iteration stops when the shortest iterable is exhausted.\n",
    "- `reversed(sequence)`: Yields elements from a sequence in reverse order."
   ]
  },
  {
   "cell_type": "code",
   "execution_count": null,
   "metadata": {},
   "outputs": [],
   "source": [
    "sec(\"The `for` Loop with `enumerate` and `zip`\")\n",
    "countries = ['USA', 'DEU', 'JPN']\n",
    "gdps = [25.46, 4.07, 4.23]\n",
    "\n",
    "note(\"Using zip to iterate over parallel lists:\")\n",
    "for country, gdp in zip(countries, gdps):\n",
    "    print(f\"  - {country}: ${gdp} trillion\")\n",
    "\n",
    "note(\"\\nUsing enumerate to get an index:\")\n",
    "for i, country in enumerate(countries):\n",
    "    print(f\"  Ranking {i+1}: {country}\")"
   ]
  },
  {
   "cell_type": "markdown",
   "metadata": {},
   "source": [
    "#### 2.2 The `while` Loop: Repeating Until a Condition is False\n",
    "A `while` loop executes as long as a specified condition remains `True`. It is used for **indefinite iteration**, where the number of repetitions is not known in advance. This is the natural choice for numerical algorithms that iterate until a convergence criterion is met.\n",
    "\n",
    "**Economic Application:** Iterating the Bellman equation in a dynamic programming problem until the value function converges, or solving for the steady state of a growth model."
   ]
  },
  {
   "cell_type": "code",
   "execution_count": null,
   "metadata": {},
   "outputs": [],
   "source": [
    "sec(\"The `while` Loop for Numerical Convergence\")\n",
    "\n",
    "def find_solow_steady_state(s, alpha, delta, k_initial=1.0, tol=1e-7, max_iter=1000):\n",
    "    \"\"\"Finds the steady-state capital in the Solow model using a while loop.\"\"\"\n",
    "    k = k_initial\n",
    "    iteration = 0\n",
    "    distance = float('inf') # Initialize distance to a value larger than the tolerance\n",
    "    \n",
    "    # Loop continues as long as the distance is greater than the tolerance\n",
    "    # and we haven't exceeded the maximum number of iterations.\n",
    "    while distance > tol and iteration < max_iter:\n",
    "        k_next = s * (k**alpha) + (1 - delta) * k\n",
    "        distance = abs(k_next - k)\n",
    "        k = k_next\n",
    "        iteration += 1\n",
    "        \n",
    "    if distance <= tol:\n",
    "        print(f\"(Converged in {iteration} iterations)\")\n",
    "        return k\n",
    "    else:\n",
    "        # It's good practice to signal failure if max_iter is reached.\n",
    "        warnings.warn(f\"Failed to converge after {max_iter} iterations.\")\n",
    "        return None\n",
    "\n",
    "note(\"Calculating steady-state capital for s=0.2, alpha=0.3, delta=0.1:\")\n",
    "k_ss = find_solow_steady_state(s=0.2, alpha=0.3, delta=0.1)\n",
    "if k_ss is not None:\n",
    "    print(f\"  Steady-state capital (k_ss): {k_ss:.4f}\")"
   ]
  },
  {
   "cell_type": "markdown",
   "metadata": {},
   "source": [
    "#### 2.3 Advanced Control Flow: `break`, `continue`, and the `else` Clause\n",
    "- `break`: Immediately terminates the innermost `for` or `while` loop.\n",
    "- `continue`: Skips the rest of the current iteration and proceeds to the next one.\n",
    "- `else`: The loop `else` clause is an unusual but powerful feature. The `else` block executes only if the loop terminates **naturally** (i.e., by exhausting the iterable in a `for` loop or the condition becoming false in a `while` loop), and *not* by a `break` statement. It is best thought of as a **\"no-break\" clause** and is highly useful for search loops."
   ]
  },
  {
   "cell_type": "code",
   "execution_count": null,
   "metadata": {},
   "outputs": [],
   "source": [
    "sec(\"The Loop `else` Clause for Searches\")\n",
    "\n",
    "def find_first_negative_shock(shocks):\n",
    "    \"\"\"Finds the first negative shock in a series, demonstrating the loop-else pattern.\"\"\"\n",
    "    print(f\"Searching in: {shocks}\")\n",
    "    for i, shock in enumerate(shocks):\n",
    "        if shock < 0:\n",
    "            print(f\"  Found negative shock at index {i}: {shock:.2f}\")\n",
    "            break # Exit the loop immediately\n",
    "    else:\n",
    "        # This block only runs if the loop completes without a 'break'.\n",
    "        print(\"  No negative shocks were found in the series.\")\n",
    "\n",
    "note(\"Scenario 1: A negative shock is present\")\n",
    "find_first_negative_shock([0.5, 0.2, -0.1, 0.4])\n",
    "\n",
    "note(\"Scenario 2: No negative shock is present\")\n",
    "find_first_negative_shock([0.5, 0.2, 0.1, 0.4])"
   ]
  },
  {
   "cell_type": "markdown",
   "metadata": {},
   "source": [
    "#### 2.4 Memory-Efficient Iteration with Generators and `itertools`\n\n",
    "**Generators** provide a powerful and memory-efficient way to create iterators. Unlike a regular function that computes a result and `return`s it, a generator function can `yield` a value, pause its execution, and then resume from where it left off the next time a value is requested. This makes them ideal for working with sequences that are too large to fit in memory or are infinite.\n\n",
    "The **`itertools` module** is the standard library's powerhouse for creating and combining iterators in sophisticated ways. It provides fast, memory-efficient building blocks for creating complex iteration logic.\n\n",
    "- `itertools.product`: Cartesian product, equivalent to nested `for` loops. Essential for creating parameter grids for sensitivity analysis.\n",
    "- `itertools.combinations`: Creates subsequences of a specified length. Useful for combinatorial problems, like generating all possible pairs of regressors.\n",
    "- `itertools.accumulate`: Returns accumulated sums (or results of other binary functions). Excellent for simulations that depend on the previous state.\n",
    "- `itertools.chain`: Combines multiple iterables into a single, seamless sequence.\n",
    "\n",
    "**Economic Application:** A generator is perfect for simulating the path of an economic agent over time. You can `yield` the agent's state at each time period without having to store the entire history of the simulation in memory, which would be infeasible for a long simulation."
   ]
  },
  {
   "cell_type": "code",
   "execution_count": null,
   "metadata": {},
   "outputs": [],
   "source": [
    "sec(\"Creating a Parameter Grid with `itertools.product`\")\n",
    "beta_values = [0.95, 0.97, 0.99]\n",
    "alpha_values = [0.3, 0.33, 0.36]\n",
    "\n",
    "note(\"Iterating over all combinations of beta and alpha for a grid search:\")\n",
    "param_grid = itertools.product(beta_values, alpha_values)\n",
    "for i, (beta, alpha) in enumerate(param_grid):\n",
    "    print(f\"  Grid point {i+1}: (beta={beta}, alpha={alpha})\")\n",
    "\n",
    "sec(\"Generating Feature Interactions with `itertools.combinations`\")\n",
    "features = ['log_gdp', 'education', 'infant_mortality', 'political_stability']\n",
    "note(\"All possible pairs of features to test for interaction effects:\")\n",
    "for feature_pair in itertools.combinations(features, 2):\n",
    "    print(f\"  - {feature_pair[0]} * {feature_pair[1]}\")\n",
    "    \n",
    "sec(\"Simulating a Path with `itertools.accumulate`\")\n",
    "# Simulate a simple random walk: x_t = x_{t-1} + shock_t\n",
    "np.random.seed(123)\n",
    "shocks = np.random.randn(10)\n",
    "# The `accumulate` function performs a cumulative sum by default\n",
    "random_walk = list(itertools.accumulate(shocks, initial=0))\n",
    "note(\"A 10-step random walk simulated with `accumulate`:\")\n",
    "print([f\"{x:.2f}\" for x in random_walk])"
   ]
  },
  {
   "cell_type": "markdown",
   "metadata": {},
   "source": [
    "### 3. Exception Handling: The `try` Statement\n",
    "\n",
    "Robust programs must anticipate and handle errors. In Python, errors are managed with **exceptions**. When an error occurs during execution (e.g., dividing by zero, accessing a missing file), Python \"raises\" an exception object. If this exception is not handled, it propagates up the call stack and, if it remains unhandled, crashes the program with a traceback.\n",
    "\n",
    "The `try` statement is the mechanism for handling exceptions gracefully."
   ]
  },
  {
   "cell_type": "markdown",
   "metadata": {},
   "source": [
    "#### 3.1 The Full `try/except/else/finally` Structure\n",
    "\n",
    "The `try` statement has four distinct clauses, each with a specific purpose:\n",
    "\n",
    "1.  **`try`**: The code that might raise an exception is placed in this block. This is the \"normal\" execution path.\n",
    "2.  **`except`**: This block runs only if an exception occurs in the `try` block. You can have multiple `except` blocks to handle different types of exceptions specifically (e.g., `except ValueError:`, `except FileNotFoundError:`). Catching specific exceptions is a best practice; a bare `except:` that catches all exceptions can hide bugs.\n",
    "3.  **`else`**: This block is optional and runs only if the `try` block completes **without** raising any exceptions. It is useful for code that should only execute on success, separating it from the main `try` block for clarity.\n",
    "4.  **`finally`**: This block is optional and **always** runs, whether an exception occurred or not. It is essential for cleanup actions, such as closing a file or a database connection, ensuring that critical resources are released properly under all circumstances."
   ]
  },
  {
   "cell_type": "code",
   "execution_count": null,
   "metadata": {},
   "outputs": [],
   "source": [
    "sec(\"The Full `try` Statement\")\n",
    "\n",
    "def safe_inverse_and_log(x):\n",
    "    print(f\"\\n--- Processing input: {x} ---\")\n",
    "    try:\n",
    "        # Code that might fail is in the 'try' block.\n",
    "        inverse = 1 / x\n",
    "        result = math.log(inverse)\n",
    "    except ZeroDivisionError as e:\n",
    "        print(f\"  Error: Cannot divide by zero. ({e})\")\n",
    "    except TypeError as e:\n",
    "        print(f\"  Error: Input must be a number. ({e})\")\n",
    "    except ValueError as e:\n",
    "        # This can be triggered by math.log() if the inverse is negative.\n",
    "        print(f\"  Error: Math domain error. ({e})\")\n",
    "    else:\n",
    "        # Runs only if the 'try' block was successful.\n",
    "        print(f\"  Success! Result: {result:.2f}\")\n",
    "        return result\n",
    "    finally:\n",
    "        # Always runs, regardless of what happened above.\n",
    "        print(\"  Cleanup: Operation finished.\")\n",
    "\n",
    "safe_inverse_and_log(10)      # Success case\n",
    "safe_inverse_and_log(0)       # ZeroDivisionError case\n",
    "safe_inverse_and_log('five')  # TypeError case\n",
    "safe_inverse_and_log(-2)      # ValueError case"
   ]
  },
  {
   "cell_type": "markdown",
   "metadata": {},
   "source": [
    "#### 3.2 Context Managers: The `with` Statement\n",
    "\n",
    "The `try...finally` pattern is so common for resource management (like ensuring a file is always closed) that Python provides a dedicated, cleaner syntax for it: the **`with` statement**. It automates the process of acquiring and releasing resources.\n",
    "\n",
    "Any object that can be used in a `with` statement is a **context manager**. It must implement two special methods:\n",
    "- `__enter__(self)`: Called when entering the `with` block. Its return value is optionally bound to the variable specified in the `as` clause.\n",
    "- `__exit__(self, exc_type, exc_value, traceback)`: Called when exiting the block. It handles cleanup and can inspect and suppress exceptions.\n",
    "\n",
    "The `contextlib` module provides helpers like `@contextmanager` to easily create your own context managers from simple generator functions."
   ]
  },
  {
   "cell_type": "code",
   "execution_count": null,
   "metadata": {},
   "outputs": [],
   "source": [
    "sec(\"Context Manager for Reproducible Randomness\")\n",
    "\n",
    "@contextmanager\n",
    "def temporary_seed(seed):\n",
    "    \"\"\"A context manager to temporarily set NumPy's random seed.\"\"\"\n",
    "    # __enter__ part: Get the current state and set the new seed\n",
    "    original_state = np.random.get_state()\n",
    "    np.random.seed(seed)\n",
    "    print(f\"  (Entering context: seed set to {seed})\")\n",
    "    try:\n",
    "        yield # The code inside the 'with' block runs here\n",
    "    finally:\n",
    "        # __exit__ part: Always restore the original state\n",
    "        np.random.set_state(original_state)\n",
    "        print(f\"  (Exiting context: original random state restored)\")\n",
    "\n",
    "note(\"Generating random numbers outside the context:\")\n",
    "print(f\"  Draw 1: {np.random.rand(2)}\")\n",
    "print(f\"  Draw 2: {np.random.rand(2)}\")\n",
    "\n",
    "note(\"\\nUsing the context manager for a reproducible block:\")\n",
    "with temporary_seed(123):\n",
    "    print(f\"  Inside block, Draw 1: {np.random.rand(2)}\")\n",
    "    print(f\"  Inside block, Draw 2: {np.random.rand(2)}\")\n",
    "\n",
    "note(\"\\nGenerating random numbers again outside the context (should be different):\")\n",
    "print(f\"  Draw 3: {np.random.rand(2)}\")"
   ]
  },
  {
   "cell_type": "markdown",
   "metadata": {},
   "source": [
    "#### 3.3 LBYL vs. EAFP: Two Philosophies of Error Handling\n",
    "There are two main styles for writing code that deals with potential errors:\n",
    "1.  **LBYL (Look Before You Leap):** Explicitly check conditions *before* attempting an operation. This often involves `if` statements to validate inputs or state.\n",
    "2.  **EAFP (Easier to Ask for Forgiveness than Permission):** Assume the operation will succeed and wrap it in a `try` block, catching the specific exception if it fails.\n",
    "\n",
    "EAFP is generally considered more \"Pythonic\" for several reasons. It often leads to cleaner code by separating the \"happy path\" (the successful case in the `try` block) from the error-handling logic. It can also be more correct in concurrent applications, as it avoids race conditions where the state could change between the \"look\" and the \"leap.\" Finally, if errors are rare, EAFP can be more performant as it avoids executing explicit checks on every run."
   ]
  },
  {
   "cell_type": "code",
   "execution_count": null,
   "metadata": {},
   "outputs": [],
   "source": [
    "sec(\"LBYL vs. EAFP for Dictionary Access\")\n",
    "params = {'alpha': 0.33, 'beta': 0.99}\n",
    "\n",
    "note(\"LBYL Style: Explicitly check for key existence first\")\n",
    "if 'gamma' in params:\n",
    "    gamma_lbyl = params['gamma']\n",
    "else:\n",
    "    gamma_lbyl = 0.5\n",
    "print(f\"  Gamma value: {gamma_lbyl}\")\n",
    "\n",
    "note(\"\\nEAFP Style: Try to access, catch the KeyError if it fails\")\n",
    "try:\n",
    "    gamma_eafp = params['gamma']\n",
    "except KeyError:\n",
    "    gamma_eafp = 0.5 # default\n",
    "print(f\"  Gamma value: {gamma_eafp}\")\n",
    "note(\"The EAFP version is often considered cleaner and more direct.\")"
   ]
  },
  {
   "cell_type": "markdown",
   "metadata": {},
   "source": [
    "#### 3.4 Defining and Chaining Custom Exceptions\n",
    "For domain-specific problems, defining your own exception types is a best practice. This makes error handling more precise and program logic clearer. A custom exception is created by creating a class that inherits from a built-in exception, usually `Exception` or a more specific one like `ValueError`. For robust libraries, it is common to create a **custom exception hierarchy**.\n",
    "\n",
    "**Economic Application:** A numerical solver might fail to converge. Raising a custom `ModelNotConvergedError`, which inherits from a base `SolverError`, is far more informative than a generic `RuntimeError`. This allows calling code to handle all solver errors (`except SolverError:`) or specific ones (`except ModelNotConvergedError:`) gracefully.\n",
    "\n",
    "When you catch a low-level exception and raise a more specific, high-level one, it's a best practice to use **exception chaining** (`raise NewException from old_exception`) to preserve the original traceback."
   ]
  },
  {
   "cell_type": "code",
   "execution_count": null,
   "metadata": {},
   "outputs": [],
   "source": [
    "sec(\"Custom Exception Hierarchy and Chaining\")\n",
    "\n",
    "class ModelError(Exception):\n",
    "    \"\"\"Base class for all errors in our hypothetical modeling library.\"\"\"\n",
    "    pass\n",
    "\n",
    "class ModelNotConvergedError(ModelError):\n",
    "    \"\"\"Raised when a numerical model fails to converge.\"\"\"\n",
    "    pass\n",
    "\n",
    "class ParameterError(ModelError):\n",
    "    \"\"\"Raised when a model parameter is invalid.\"\"\"\n",
    "    pass\n",
    "\n",
    "def solve_model(params):\n",
    "    print(f\"\\nAttempting to solve model with params: {params}\")\n",
    "    try:\n",
    "        beta = params['beta']\n",
    "        if not (0 < beta < 1):\n",
    "             raise ValueError(f\"Invalid discount factor: beta={beta}\")\n",
    "        return \"Equilibrium found.\"\n",
    "    except KeyError as e:\n",
    "        raise ParameterError(\"Missing required parameter 'beta'\") from e\n",
    "    except ValueError as e:\n",
    "        raise ParameterError(str(e)) from e\n",
    "\n",
    "for p in [{'beta': 1.05}, {'alpha': 0.3}]:\n",
    "    try:\n",
    "        result = solve_model(p)\n",
    "    except ParameterError as e:\n",
    "        print(f\"  Caught a specific ParameterError: {e}\")\n",
    "    except ModelError as e:\n",
    "        print(f\"  Caught a general ModelError: {e}\")"
   ]
  },
  {
   "cell_type": "markdown",
   "metadata": {},
   "source": [
    "### 4. Structural Pattern Matching: The `match` Statement\n",
    "\n",
    "Introduced in Python 3.10, the `match` statement brings the concept of **structural pattern matching**, common in functional languages, to Python. It is a powerful control flow tool that compares a value against a series of patterns and executes a block of code corresponding to the first successful match. It can be thought of as a super-powered `if/elif/else` chain that can also deconstruct objects as part of the matching process.\n",
    "\n",
    "**Economic Application:** Analyzing the structure of commands or results from a simulation. For example, a result could be a tuple like `('CONVERGED', 0.98)` or `('ERROR', 'Matrix Singular')`. A `match` statement can elegantly handle these different structures in a way that is much cleaner than nested `if` statements."
   ]
  },
  {
   "cell_type": "code",
   "execution_count": null,
   "metadata": {},
   "outputs": [],
   "source": [
    "sec(\"Structural Pattern Matching with `match` (Python 3.10+)\")\n",
    "\n",
    "def process_command(command):\n",
    "    match command:\n",
    "        case ['run', model_name, *params]:\n",
    "            print(f\"Running model '{model_name}' with parameters: {params}\")\n",
    "        case ['load', filename]:\n",
    "            print(f\"Loading data from '{filename}'...\")\n",
    "        case ['plot', x_var, y_var, {'style': style, 'log_scale': log}]:\n",
    "            print(f\"Creating plot of {x_var} vs {y_var} with style '{style}' and log_scale={log}\")\n",
    "        case ['quit' | 'exit']:\n",
    "            print(\"Exiting program.\")\n",
    "        case _:\n",
    "            # The wildcard `_` matches anything and is used for the default case.\n",
    "            print(\"Unknown command.\")\n",
    "\n",
    "process_command(['run', 'RBC', '--iter', '1000'])\n",
    "process_command(['plot', 'gdp', 'consumption', {'style': 'line', 'log_scale': True}])\n",
    "process_command(['exit'])\n",
    "process_command('help') # This will hit the default case"
   ]
  },
  {
   "cell_type": "markdown",
   "metadata": {},
   "source": [
    "### 5. Exercises\n",
    "\n",
    "1.  **Search with `for...else`:** Write a function `check_for_bubble(prices, threshold=1.5)` that iterates through a list of asset prices. If it finds a price that is more than `threshold` times the previous price, it should print a warning with the price and the index and `break`. If the loop completes without finding any such jump, the `else` block should print \"No price bubble detected.\"\n",
    "\n",
    "2.  **Refactoring to EAFP:** The following code uses the LBYL style to get a configuration value. It first tries to access the value as a dictionary key, and if that fails, it tries to access it as an object attribute. Refactor this to use the more Pythonic EAFP style with a `try...except` block that handles both `KeyError` and `AttributeError`.\n",
    "    ```python\n",
    "    # LBYL Version to be refactored\n",
    "    class Config: pass\n",
    "    config_dict = {'value': 1}\n",
    "    config_obj = Config()\n",
    "    config_obj.value = 2\n",
    "\n",
    "    def get_config_value_lbyl(source, key, default=None):\n",
    "        if isinstance(source, dict) and key in source:\n",
    "            return source[key]\n",
    "        if hasattr(source, key):\n",
    "            return getattr(source, key)\n",
    "        return default\n",
    "    ```\n",
    "\n",
    "3.  **Custom Data Validation Exception:** You are reading a data file that is supposed to contain country ISO codes, which must be exactly three capital letters. Create a custom exception `InvalidISOCodeError`. Write a function `validate_iso_codes(codes)` that iterates through a list of codes. If it encounters a code that does not meet the criteria (is not a string, is not length 3, is not all uppercase), it should `raise` your custom exception with an informative message. Wrap the call to your function in a `try...except` block that specifically catches `InvalidISOCodeError`.\n",
    "\n",
    "4.  **Context Manager for Resource Cleanup:** Imagine a function `run_simulation()` that creates a temporary file to store results: `temp_file = open('sim_results.tmp', 'w')`. The simulation logic inside a `try` block might fail with an exception. Use a `finally` block to guarantee that `temp_file.close()` is always called and a message \"Temporary file closed.\" is printed, regardless of whether the simulation succeeded or failed. Then, refactor your solution to use a `with` statement, which is the idiomatic way to handle this.\n",
    "\n",
    "5.  **`itertools` for Parameter Grids:** Use `itertools.product` to create an iterator that yields all possible combinations of parameters for a grid search. The parameters are `alpha = [0.25, 0.3, 0.35]`, `beta = [0.95, 0.99]`, and `sigma = [1.5, 2.0]`. Write a `for` loop to iterate over the product and print each combination."
   ]
  }
 ],
 "metadata": {
  "kernelspec": {
   "display_name": "Python 3",
   "language": "python",
   "name": "python3"
  },
  "language_info": {
   "codemirror_mode": {
    "name": "ipython",
    "version": 3
   },
   "file_extension": ".py",
   "mimetype": "text/x-python",
   "name": "python",
   "nbconvert_exporter": "python",
   "pygments_lexer": "ipython3",
   "version": "3.11.5"
  }
 },
 "nbformat": 4,
 "nbformat_minor": 4
}