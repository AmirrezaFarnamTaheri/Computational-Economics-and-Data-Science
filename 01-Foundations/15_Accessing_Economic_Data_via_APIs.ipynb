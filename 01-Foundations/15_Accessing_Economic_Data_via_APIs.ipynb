{
 "cells": [
  {
   "cell_type": "markdown",
   "metadata": {},
   "source": [
    "# 15. Accessing Economic Data via APIs\n",
    "\n",
    "## Introduction: The Power of Programmatic Data Access\n",
    "\n",
    "In modern economic research, data is paramount. While manually downloading datasets from websites is feasible for small-scale projects, this approach quickly becomes inefficient, error-prone, and impossible to scale. The professional standard for acquiring up-to-date, reproducible data is through Application Programming Interfaces (APIs).\n",
    "\n",
    "An API is a structured interface that allows computer programs to communicate with each other. Major data providers like the Federal Reserve and the World Bank offer APIs that give us direct, programmatic access to their vast databases. Using an API offers several distinct advantages:\n",
    "\n",
    "1.  **Reproducibility:** Your data acquisition process is encoded in a script, making your research perfectly reproducible by others.\n",
    "2.  **Efficiency:** You can automate the process of downloading, updating, and merging hundreds of data series with just a few lines of code.\n",
    "3.  **Scale:** APIs allow you to query and retrieve datasets that are far too large to handle manually.\n",
    "4.  **Real-Time Access:** You can build applications and dashboards that always have access to the very latest data releases.\n",
    "\n",
    "This notebook provides a practical guide to using Python to access two of the most important data sources for economists:\n",
    "\n",
    "*   **Federal Reserve Economic Data (FRED):** A comprehensive database of over 800,000 U.S. and international time series, maintained by the St. Louis Fed.\n",
    "*   **World Bank Open Data:** A massive collection of global development indicators covering demographics, economics, finance, and more.\n",
    "\n",
    "We will use dedicated Python libraries that act as \"wrappers\" for these APIs, making it simple to send requests and process the data."
   ]
  },
  {
   "cell_type": "markdown",
   "metadata": {},
   "source": [
    "## Part 1: The FRED API for U.S. and International Economic Data\n",
    "\n",
    "The `fredapi` library provides a convenient Python wrapper for the FRED API."
   ]
  },
  {
   "cell_type": "markdown",
   "metadata": {},
   "source": [
    "### Getting Started: Installation and API Key\n",
    "\n",
    "First, you need to install the `fredapi` library. You also need a FRED API key. Requesting a key is a simple, free process.\n",
    "\n",
    "1.  Go to the [FRED API Keys page](https://fred.stlouisfed.org/docs/api/api_key.html).\n",
    "2.  Sign in or create an account.\n",
    "3.  Request an API key. It will be a 32-character alphanumeric string."
   ]
  },
  {
   "cell_type": "code",
   "execution_count": null,
   "metadata": {},
   "outputs": [],
   "source": [
    "import os\n",
    "from fredapi import Fred\n",
    "from IPython.display import display\n",
    "import matplotlib.pyplot as plt\n",
    "import pandas as pd\n",
    "\n",
    "# Replace 'YOUR_API_KEY' with the key you obtained from the FRED website.\n",
    "api_key = os.environ.get('FRED_API_KEY', 'YOUR_API_KEY_HERE')\n",
    "\n",
    "fred = None\n",
    "# This check ensures the user has replaced the placeholder key.\n",
    "if api_key != 'YOUR_API_KEY_HERE' and api_key != '':\n",
    "    try:\n",
    "        fred = Fred(api_key=api_key)\n",
    "        print(\"Successfully connected to FRED API.\")\n",
    "    except Exception as e:\n",
    "        print(f\"Error connecting to FRED. Please check your API key. Details: {e}\")\n",
    "else:\n",
    "    print(\"FRED API key not provided. The FRED-related cells will be skipped.\")"
   ]
  },
  {
   "cell_type": "markdown",
   "metadata": {},
   "source": [
    "### Searching for Data\n",
    "\n",
    "The most challenging part of using a large database is often finding the specific series you need. The `fred.search()` method is an invaluable tool for this. It returns a DataFrame of series that match your search query, along with their IDs, which you need for downloading."
   ]
  },
  {
   "cell_type": "code",
   "execution_count": null,
   "metadata": {},
   "outputs": [],
   "source": [
    "# Let's search for series related to the Consumer Price Index (CPI)\n",
    "if fred:\n",
    "    cpi_results = fred.search('Consumer Price Index')\n",
    "\n",
    "    # The search results can be quite large, so let's inspect the first 10 rows.\n",
    "    display(cpi_results.head(10))\n",
    "else:\n",
    "    print(\"Skipping FRED search as API key was not provided.\")"
   ]
  },
  {
   "cell_type": "markdown",
   "metadata": {},
   "source": [
    "### Downloading and Plotting a Single Series\n",
    "\n",
    "Once you have the ID of a series (e.g., 'CPIAUCSL' for the Consumer Price Index for All Urban Consumers), you can download it directly into a pandas Series or DataFrame using `get_series()`."
   ]
  },
  {
   "cell_type": "code",
   "execution_count": null,
   "metadata": {},
   "outputs": [],
   "source": [
    "cpi_data = None\n",
    "if fred:\n",
    "    # Download the seasonally adjusted CPI data\n",
    "    cpi_series_id = 'CPIAUCSL'\n",
    "    cpi_data = fred.get_series(cpi_series_id)\n",
    "\n",
    "    # Let's look at the most recent data\n",
    "    print(cpi_data.tail())\n",
    "\n",
    "    # Plot the data\n",
    "    plt.figure(figsize=(12, 6))\n",
    "    cpi_data.plot(title='Consumer Price Index (CPIAUCSL)', grid=True)\n",
    "    plt.ylabel('Index 1982-1984=100')\n",
    "    plt.show()\n",
    "else:\n",
    "    print(\"Skipping FRED data download as API key was not provided.\")"
   ]
  },
  {
   "cell_type": "markdown",
   "metadata": {},
   "source": [
    "### Practical Example: The Phillips Curve\n",
    "\n",
    "Let's recreate a classic macroeconomic relationship: the Phillips Curve, which shows a historical inverse relationship between unemployment and inflation. We need to download two series: the unemployment rate ('UNRATE') and an inflation measure. We'll calculate inflation as the year-over-year percentage change in the CPI."
   ]
  },
  {
   "cell_type": "code",
   "execution_count": null,
   "metadata": {},
   "outputs": [],
   "source": [
    "# This cell depends on the previous one, so we check both fred and cpi_data\n",
    "if fred and cpi_data is not None:\n",
    "    # Download the civilian unemployment rate\n",
    "    unemployment_data = fred.get_series('UNRATE')\n",
    "\n",
    "    # Calculate year-over-year inflation from the CPI data we already have\n",
    "    inflation_data = cpi_data.pct_change(12).dropna() # dropna() removes the first 12 months with no value\n",
    "\n",
    "    # To plot them together, we need to align the data. We'll create a DataFrame.\n",
    "    phillips_df = pd.DataFrame({\n",
    "        'Unemployment': unemployment_data,\n",
    "        'Inflation_YoY': inflation_data\n",
    "    }).dropna()\n",
    "\n",
    "    # Let's look at data from 2000 onwards\n",
    "    phillips_df_recent = phillips_df.loc['2000-01-01':]\n",
    "\n",
    "    # Create a scatter plot\n",
    "    plt.figure(figsize=(10, 7))\n",
    "    plt.scatter(phillips_df_recent['Unemployment'], phillips_df_recent['Inflation_YoY'])\n",
    "    plt.title('The Phillips Curve (2000-Present)')\n",
    "    plt.xlabel('Unemployment Rate (%)')\n",
    "    plt.ylabel('Year-over-Year Inflation (%)')\n",
    "    plt.grid(True)\n",
    "    plt.show()\n",
    "else:\n",
    "    print(\"Skipping Phillips Curve example as API key was not provided.\")"
   ]
  },
  {
   "cell_type": "markdown",
   "metadata": {},
   "source": [
    "## Part 2: The World Bank API for Global Development Data\n",
    "\n",
    "For cross-country analysis, the World Bank is an indispensable resource. The `wbdata` library provides a straightforward interface to its API."
   ]
  },
  {
   "cell_type": "code",
   "execution_count": null,
   "metadata": {},
   "outputs": [],
   "source": [
    "import wbdata"
   ]
  },
  {
   "cell_type": "markdown",
   "metadata": {},
   "source": [
    "### Searching for Indicators and Countries\n",
    "\n",
    "Similar to FRED, the first step is finding the indicators and country codes you need. `wbdata` provides search functions for this."
   ]
  },
  {
   "cell_type": "code",
   "execution_count": null,
   "metadata": {},
   "outputs": [],
   "source": [
    "# Search for indicators related to GDP per capita\n",
    "gdp_indicators = wbdata.get_indicators(query='gdp per capita')\n",
    "gdp_indicators"
   ]
  },
  {
   "cell_type": "markdown",
   "metadata": {},
   "source": [
    "### Downloading Data for Multiple Countries\n",
    "\n",
    "The real power here is downloading data for the same indicator across many countries simultaneously. The `wbdata.get_dataframe()` function is perfect for this. It requires a dictionary of indicator IDs and a list of country codes.\n",
    "\n",
    "Let's compare GDP per capita (constant 2015 USD) for the BRICS countries (Brazil, Russia, India, China, South Africa)."
   ]
  },
  {
   "cell_type": "code",
   "execution_count": null,
   "metadata": {},
   "outputs": [],
   "source": [
    "import datetime\n",
    "\n",
    "# Define indicators and countries\n",
    "# We'll use 'NY.GDP.PCAP.KD' for GDP per capita (constant 2015 US$)\n",
    "indicators = {'NY.GDP.PCAP.KD': 'GDP per Capita'}\n",
    "countries = ['BRA', 'RUS', 'IND', 'CHN', 'ZAF'] # BRICS countries\n",
    "\n",
    "# Define the time range\n",
    "start_date = datetime.datetime(1990, 1, 1)\n",
    "end_date = datetime.datetime(2022, 1, 1)\n",
    "\n",
    "# Download the data\n",
    "gdp_data = wbdata.get_dataframe(indicators, country=countries, date=(start_date, end_date))\n",
    "\n",
    "gdp_data.head()"
   ]
  },
  {
   "cell_type": "markdown",
   "metadata": {},
   "source": [
    "### Cleaning and Plotting the Data\n",
    "\n",
    "The data from `wbdata` often comes in a \"wide\" format, with countries as columns. For plotting with many libraries, we need to transform it into a \"long\" format. The `.unstack()` method is a powerful tool for this."
   ]
  },
  {
   "cell_type": "code",
   "execution_count": null,
   "metadata": {},
   "outputs": [],
   "source": [
    "# The DataFrame has a MultiIndex (country, date). Let's unstack it.\n",
    "gdp_unstacked = gdp_data.unstack(level=0)\n",
    "\n",
    "# Let's look at the result\n",
    "print(gdp_unstacked.head())\n",
    "\n",
    "# Now we can plot it\n",
    "plt.figure(figsize=(14, 8))\n",
    "gdp_unstacked.plot(ax=plt.gca())\n",
    "plt.title('GDP per Capita for BRICS Nations')\n",
    "plt.ylabel('Constant 2015 US$')\n",
    "plt.xlabel('Year')\n",
    "plt.legend(title='Country', labels=['Brazil', 'China', 'India', 'Russia', 'South Africa'])\n",
    "plt.grid(True, which='both', linestyle='--', linewidth=0.5)\n",
    "plt.show()"
   ]
  },
  {
   "cell_type": "markdown",
   "metadata": {},
   "source": [
    "## Conclusion\n",
    "\n",
    "In this notebook, you have learned the fundamentals of programmatic data access using Python. You are now equipped to:\n",
    "\n",
    "- Install and use the `fredapi` and `wbdata` libraries.\n",
    "- Search for specific data series and indicators within these vast databases.\n",
    "- Download and visualize data for single and multiple series/countries.\n",
    "- Perform basic data manipulation to prepare API data for analysis.\n",
    "\n",
    "These skills are foundational for modern, reproducible economic research. They allow you to move beyond static CSV files and build dynamic, scalable, and robust data analysis pipelines."
   ]
  }
 ],
 "metadata": {
  "kernelspec": {
   "display_name": "Python 3",
   "language": "python",
   "name": "python3"
  },
  "language_info": {
   "codemirror_mode": {
    "name": "ipython",
    "version": 3
   },
   "file_extension": ".py",
   "mimetype": "text/x-python",
   "name": "python",
   "nbconvert_exporter": "python",
   "pygments_lexer": "ipython3",
   "version": "3.12.11"
  }
 },
 "nbformat": 4,
 "nbformat_minor": 2
}
