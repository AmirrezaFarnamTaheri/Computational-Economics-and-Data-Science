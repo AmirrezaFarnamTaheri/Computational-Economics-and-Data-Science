{
 "cells": [
  {
   "cell_type": "code",
   "execution_count": null,
   "metadata": {
    "collapsed": true
   },
   "outputs": [],
   "source": [
    "# === Environment Setup ===\n",
    "import os, sys, math, time, random, json, textwrap, warnings, timeit\n",
    "from collections import defaultdict, Counter, ChainMap\n",
    "from types import MappingProxyType\n",
    "import numpy as np, pandas as pd, matplotlib.pyplot as plt\n",
    "from itertools import combinations, product\n",
    "\n",
    "# --- Configuration ---\n",
    "plt.style.use('seaborn-v0_8-whitegrid')\n",
    "plt.rcParams[\"figure.dpi\"] = 130\n",
    "\n",
    "# --- Utility Functions ---\n",
    "def note(msg, **kwargs):\n",
    "    \"\"\"Prints a formatted message with a notebook icon.\"\"\"\n",
    "    formatted_msg = textwrap.fill(msg, width=100, subsequent_indent='   ')\n",
    "    print(f\"\\n\ud83d\udcdd {formatted_msg}\", **kwargs)\n",
    "def sec(title):\n",
    "    \"\"\"Prints a formatted section title for code blocks.\"\"\"\n",
    "    print(f\"\\n{100*'='}\\n| {title.upper()} |\\n{100*'='}\")\n",
    "\n",
    "note(\"Environment initialized.\")"
   ]
  },
  {
   "cell_type": "markdown",
   "metadata": {},
   "source": [
    "# Part 1: Foundations\n",
    "## Chapter 1.8: Sets: The Mathematics of Unordered, Unique Collections"
   ]
  },
  {
   "cell_type": "markdown",
   "metadata": {},
   "source": [
    "### Introduction: Why Sets Matter in Computational Economics\n",
    "\n",
    "A `set` is an unordered collection of **unique, hashable** elements. While lists store items in sequence and dictionaries store key-value pairs, sets are designed to efficiently test for membership and perform mathematical set operations like union, intersection, and difference. Their performance for these operations is exceptional, with an average time complexity of **O(1)** for additions, removals, and membership tests, thanks to their underlying hash map implementation (similar to dictionaries).\n",
    "\n",
    "In computational economics, sets are indispensable tools for a variety of tasks:\n",
    "- **Managing Unique Items:** Tracking the unique agents in a simulation, the set of variables in a model, or the unique countries in a panel dataset.\n",
    "- **Data Cleaning:** Quickly finding the unique values in a column of data to identify categories or check for anomalies.\n",
    "- **Relational Logic:** Comparing the features of different models or the parameters used in different policy scenarios.\n",
    "- **Graph and Network Algorithms:** Representing the nodes or edges in a network, such as a trade network between countries.\n",
    "\n",
    "This chapter explores the creation, manipulation, and performance characteristics of Python's `set` and its immutable counterpart, `frozenset`. We will emphasize the powerful mathematical operations that make sets a cornerstone of clear, efficient, and expressive data manipulation."
   ]
  },
  {
   "cell_type": "markdown",
   "metadata": {},
   "source": [
    "### 1. Set Theory Fundamentals: A Quick Refresher\n",
    "\n",
    "Python's set operations are direct implementations of the concepts from mathematical set theory. A brief review of the core ideas is helpful.\n",
    "\n",
    "- **Set:** A collection of distinct objects, considered as an object in its own right. The order of elements does not matter, and duplicate elements are not stored.\n",
    "- **Element:** An object that is a member of a set.\n",
    "- **Subset (A ⊆ B):** Every element of set A is also an element of set B.\n",
    "- **Superset (A ⊇ B):** Set A contains every element of set B.\n",
    "- **Union (A ∪ B):** The set of all elements that are in A, or in B, or in both.\n",
    "- **Intersection (A ∩ B):** The set of all elements that are in both A and B.\n",
    "- **Difference (A \\\\B):** The set of all elements that are in A but not in B.\n",
    "- **Symmetric Difference (A Δ B):** The set of all elements that are in either A or B, but not in both. It is equivalent to `(A ∪ B) \\\\(A ∩ B)`.\n",
    "\n",
    "![Set Operations Venn Diagram](images\png\1.8-set-operations.png)\n",
    "*Caption: Venn diagrams illustrating the four primary set operations: union, intersection, difference, and symmetric difference. These visual representations map directly to the operators and methods available in Python.*"
   ]
  },
  {
   "cell_type": "markdown",
   "metadata": {},
   "source": [
    "### 2. Creating and Populating Sets\n",
    "\n",
    "Sets can be created using curly braces `{}` or the `set()` constructor. An important distinction: `_` creates an empty dictionary, not an empty set. To create an empty set, you must use `set()`."
   ]
  },
  {
   "cell_type": "code",
   "execution_count": null,
   "metadata": {},
   "outputs": [],
   "source": [
    "sec(\"Set Creation and Initialization\")\n",
    "\n",
    "note(\"Using the set() constructor on an iterable:\")\n",
    "countries_list = ['USA', 'China', 'USA', 'Germany', 'China']\n",
    "unique_countries = set(countries_list)\n",
    "print(f\"Original list: {countries_list}\")\n",
    "print(f\"Set of unique countries: {unique_countries}\")\n",
    "\n",
    "note(\"Using curly brace literal syntax:\")\n",
    "vowels = {'a', 'e', 'i', 'o', 'u'}\n",
    "print(f\"Set of vowels: {vowels}\")\n",
    "\n",
    "note(\"Creating an empty set requires the constructor:\")\n",
    "empty_dict = {}\n",
    "empty_set = set()\n",
    "print(f\"Type of {{}}: {type(empty_dict)}\")\n",
    "print(f\"Type of set(): {type(empty_set)}\")"
   ]
  },
  {
   "cell_type": "markdown",
   "metadata": {},
   "source": [
    "#### 2.1 Set Comprehensions\n",
    "\n",
    "Like lists and dictionaries, sets support comprehensions for a concise and readable way to create a set from an iterable. This is often more efficient than creating a list and then converting it to a set."
   ]
  },
  {
   "cell_type": "code",
   "execution_count": null,
   "metadata": {},
   "outputs": [],
   "source": [
    "sec(\"Creating Sets with Comprehensions\")\n",
    "\n",
    "note(\"Extracting unique squared values from a list of numbers\")\n",
    "data = [-2, -1, 0, 1, 2, 1, 0]\n",
    "unique_squares = {x**2 for x in data}\n",
    "print(f\"Original data: {data}\")\n",
    "print(f\"Unique squares: {unique_squares}\")"
   ]
  },
  {
   "cell_type": "markdown",
   "metadata": {},
   "source": [
    "### 3. Core Set Operations: The Power of Relational Logic\n",
    "\n",
    "Python provides two equivalent ways to perform set operations: through infix operators (like `|`, `&`, `-`) and through corresponding methods (like `.union()`, `.intersection()`). The operators are concise and readable for simple comparisons, while the methods can accept any iterable as an argument, converting it to a set automatically before performing the operation."
   ]
  },
  {
   "cell_type": "markdown",
   "metadata": {},
   "source": [
    "#### 3.1 Application: Comparing Model Features\n",
    "\n",
    "A common task in econometrics is to compare different model specifications. Sets provide an elegant way to analyze the variables included in each model."
   ]
  },
  {
   "cell_type": "code",
   "execution_count": null,
   "metadata": {},
   "outputs": [],
   "source": [
    "sec(\"Comparing Model Specifications Using Set Operations\")\n",
    "\n",
    "# Variables in a baseline regression model for wage prediction\n",
    "baseline_model = {'education', 'experience', 'age'}\n",
    "\n",
    "# An extended model with additional controls\n",
    "extended_model = {'education', 'experience', 'age', 'union_status', 'region'}\n",
    "\n",
    "note(\"--- Union (| or .union()): All variables used across both models ---\")\n",
    "all_vars_operator = baseline_model | extended_model\n",
    "print(f\"Operator result: {all_vars_operator}\")\n",
    "\n",
    "note(\"--- Intersection (& or .intersection()): Variables common to both models ---\")\n",
    "common_vars_operator = baseline_model & extended_model\n",
    "print(f\"Operator result: {common_vars_operator}\")\n",
    "\n",
    "note(\"--- Difference (- or .difference()): Variables in the extended model but NOT the baseline ---\")\n",
    "new_controls = extended_model - baseline_model\n",
    "print(f\"Operator result: {new_controls}\")\n",
    "\n",
    "note(\"--- Symmetric Difference (^ or .symmetric_difference()): Variables that are not in both models ---\")\n",
    "# This shows variables that are unique to either model (in this case, just the new controls).\n",
    "unique_to_each = baseline_model ^ extended_model\n",
    "print(f\"Operator result: {unique_to_each}\")"
   ]
  },
  {
   "cell_type": "markdown",
   "metadata": {},
   "source": [
    "#### 3.2 Subset and Superset Testing\n",
    "\n",
    "We can also test for subset and superset relationships using operators (`<=`, `>=`) or methods (`.issubset()`, `.issuperset()`). This is useful for verifying model hierarchies or data integrity."
   ]
  },
  {
   "cell_type": "code",
   "execution_count": null,
   "metadata": {},
   "outputs": [],
   "source": [
    "sec(\"Subset and Superset Checks\")\n",
    "\n",
    "note(\"Is the baseline model a subset of the extended model?\")\n",
    "is_subset = baseline_model <= extended_model\n",
    "print(f\"Using operator (<=): {is_subset}\")\n",
    "print(f\"Using method (.issubset()): {baseline_model.issubset(extended_model)}\")\n",
    "\n",
    "note(\"Is the extended model a superset of the baseline model?\")\n",
    "is_superset = extended_model >= baseline_model\n",
    "print(f\"Using operator (>=): {is_superset}\")"
   ]
  },
  {
   "cell_type": "markdown",
   "metadata": {},
   "source": [
    "### 4. Modifying Sets: In-Place Operations\n",
    "\n",
    "The standard operators (`|`, `&`, etc.) always create and return a *new* set. For performance, especially when working with large sets in a loop, it is often better to modify a set in-place. Python provides augmented assignment operators (`|=`, `&=`, etc.) and corresponding methods (`.update()`, `.intersection_update()`, etc.) for this purpose."
   ]
  },
  {
   "cell_type": "code",
   "execution_count": null,
   "metadata": {},
   "outputs": [],
   "source": [
    "sec(\"In-Place (Augmented) Set Operations\")\n",
    "\n",
    "note(\"Application: Aggregating required skills for different quantitative jobs\")\n",
    "\n",
    "data_scientist_skills = {'Python', 'SQL', 'Statistics', 'Machine Learning'}\n",
    "quant_trader_skills = {'Python', 'C++', 'Statistics', 'Stochastic Calculus'}\n",
    "\n",
    "# Start with a base set of skills\n",
    "required_skills = {'Python', 'Statistics'}\n",
    "print(f\"Initial skill set: {required_skills}\")\n",
    "\n",
    "# In-place union (update)\n",
    "required_skills.update(data_scientist_skills) # or required_skills |= data_scientist_skills\n",
    "print(f\"After adding DS skills: {required_skills}\")\n",
    "\n",
    "# In-place intersection\n",
    "core_quant_skills = data_scientist_skills.copy() # Work on a copy to preserve the original\n",
    "core_quant_skills.intersection_update(quant_trader_skills) # or core_quant_skills &= quant_trader_skills\n",
    "print(f\"Core skills common to both roles: {core_quant_skills}\")"
   ]
  },
  {
   "cell_type": "markdown",
   "metadata": {},
   "source": [
    "### 5. `frozenset`: The Immutable Set\n",
    "\n",
    "Just as a `tuple` is an immutable `list`, a `frozenset` is an immutable `set`. Once created, its contents cannot be changed. This has a critical consequence: **frozensets are hashable** and can therefore be used as elements in other sets or as keys in dictionaries.\n",
    "\n",
    "This is extremely useful when you need to associate data with a unique collection of items, regardless of their order.\n",
    "\n",
    "**Economic Application:** Mapping a specific combination of policy tools (e.g., `{tax_cut, subsidy}`) to an expected economic outcome. Since the order of tools doesn't matter, a `frozenset` is the perfect data structure for the key."
   ]
  },
  {
   "cell_type": "code",
   "execution_count": null,
   "metadata": {},
   "outputs": [],
   "source": [
    "sec(\"Using frozenset as a Dictionary Key\")\n",
    "\n",
    "# Define two sets of policy tools\n",
    "policy_mix_1 = frozenset(['interest_rate_hike', 'quantitative_tightening'])\n",
    "policy_mix_2 = frozenset(['fiscal_stimulus', 'tax_cuts'])\n",
    "\n",
    "# Map each policy mix to its predicted impact on GDP growth\n",
    "impact_forecast = {\n",
    "    policy_mix_1: -0.005, # -0.5% GDP growth\n",
    "    policy_mix_2:  0.012  # +1.2% GDP growth\n",
    "}\n",
    "\n",
    "note(\"We can now look up the forecast for a specific combination of policies:\")\n",
    "# The order of items in the lookup set doesn't matter\n",
    "query_policy = frozenset(['quantitative_tightening', 'interest_rate_hike'])\n",
    "forecast = impact_forecast[query_policy]\n",
    "\n",
    "print(f\"Policy mix: {query_policy}\")\n",
    "print(f\"Forecasted impact: {forecast:.3f}\")\n",
    "\n",
    "note(\"Attempting to use a mutable set as a key will fail:\")\n",
    "mutable_set = {'a', 'b'}\n",
    "try:\n",
    "    d = {mutable_set: 1}\n",
    "except TypeError as e:\n",
    "    print(f\"-> Caught expected error: {e}\")"
   ]
  },
  {
   "cell_type": "markdown",
   "metadata": {},
   "source": [
    "### 6. Performance Considerations: O(1) Membership Testing\n",
    "\n",
    "The most significant advantage of a set over a list is its **O(1) average time complexity for membership testing** (`x in my_set`). This is because sets are implemented as hash tables. To check for membership, Python hashes the element, computes the index where it should be, and checks that one location. \n",
    "\n",
    "In contrast, a list requires an O(n) linear scan: it must check every element one by one until it finds a match. For large collections, the difference is dramatic."
   ]
  },
  {
   "cell_type": "code",
   "execution_count": null,
   "metadata": {},
   "outputs": [],
   "source": [
    "sec(\"Performance: Set vs. List Membership Testing\")\n",
    "N = 10_000_000\n",
    "data_list = list(range(N))\n",
    "data_set = set(range(N))\n",
    "search_term = N - 1 # Worst-case for the list\n",
    "\n",
    "note(\"Timing membership test for a large LIST (O(n)):\")\n",
    "%timeit search_term in data_list\n",
    "\n",
    "note(\"Timing membership test for a large SET (O(1)):\")\n",
    "%timeit search_term in data_set"
   ]
  },
  {
   "cell_type": "markdown",
   "metadata": {},
   "source": [
    "### 7. Exercises\n\n",
    "#### Exercise 1: Data Cleaning with Sets\n",
    "You are given a pandas Series representing a country's trading partners, but the data is messy with duplicates and inconsistent capitalization.\n",
    "```python\n",
    "messy_partners = pd.Series(['USA', 'china', 'Germany', 'usa', 'Japan', 'China'])\n",
    "```\n",
    "- **Task:** Write a single line of code to produce a sorted list of the unique, uppercase trading partner names.\n",
    "- **Hint:** Think about combining a set comprehension with string methods and the `sorted()` function.\n\n",
    "#### Exercise 2: Identifying Overlapping Portfolios\n",
    "Two investment funds disclose their top holdings:\n",
    "```python\n",
    "fund_A_holdings = {'AAPL', 'MSFT', 'GOOG', 'AMZN', 'NVDA'}\n",
    "fund_B_holdings = {'TSLA', 'NVDA', 'JPM', 'GOOG', 'V'}\n",
    "```\n",
    "- **Task:** Using set operations, find:\n",
    "  a. The stocks held by both funds (the overlap).\n",
    "  b. The stocks held by either fund, but not both (the unique holdings).\n",
    "  c. The stocks held by Fund A but not Fund B.\n\n",
    "#### Exercise 3: `frozenset` for Caching Function Calls\n",
    "Imagine you have an expensive function `calculate_portfolio_risk(securities)` that takes a collection of securities as input. The order of securities does not affect the result. You want to cache the results to avoid re-computation.\n",
    "- **Task:** Explain why a `frozenset` is the ideal data structure to use as a key in your cache dictionary. Why would a `list` or a `set` be unsuitable?\n",
    "- **Implementation:** Create a simple cache (a dictionary). Define a list of securities `portfolio1 = ['AAPL', 'MSFT']` and a list `portfolio2 = ['MSFT', 'AAPL']`. Show how you would convert them to `frozenset`s to check your cache. Demonstrate that both lists would map to the same cache key.\n\n",
    "--- \n",
    "\n",
    "### Challenge Exercise: Generating a Power Set\n",
    "\n",
    "The **power set** of a set S is the set of all subsets of S, including the empty set and S itself. For example, the power set of `{a, b}` is `{{}, {a}, {b}, {a, b}}`. Power sets are fundamental in combinatorics and are used in economics to model all possible coalitions of agents or all possible combinations of features in a model.\n",
    "\n",
    "**Objective:** Write a function that takes a set as input and returns its power set, represented as a set of `frozenset`s (since sets cannot contain mutable sets).\n",
    "\n",
    "1.  **The Data:**\n",
    "    ```python\n",
    "    agents = {'Alice', 'Bob', 'Charlie'}\n",
    "    ```\n",
    "\n",
    "2.  **Build the Power Set Function:**\n",
    "    - **Task:** Write a function `get_power_set(input_set)`.\n",
    "    - **Hint:** The `itertools.combinations` function is extremely helpful here. You can iterate from length 0 up to the length of the input set, generating all combinations of each length. For each combination (which is a tuple), convert it to a `frozenset` and add it to your result set.\n",
    "\n",
    "3.  **Analyze the Result:**\n",
    "    - Call your function with the `agents` set.\n",
    "    - Print the resulting power set.\n",
    "    - Verify that the number of subsets is correct. For a set with *n* elements, its power set has **2<sup>n</sup>** elements. For the `agents` set (n=3), you should have 2<sup>3</sup> = 8 subsets.\n\n",
    "**Economic Interpretation:** In cooperative game theory, the elements of the power set represent all possible **coalitions** that can form among the agents. The empty set is the trivial coalition with no members, and the full set is the \"grand coalition\" of all agents."
   ]
  }
 ],
 "metadata": {
  "kernelspec": {
   "display_name": "Python 3",
   "language": "python",
   "name": "python3"
  },
  "language_info": {
   "codemirror_mode": {
    "name": "ipython",
    "version": 3
   },
   "file_extension": ".py",
   "mimetype": "text/x-python",
   "name": "python",
   "nbconvert_exporter": "python",
   "pygments_lexer": "ipython3",
   "version": "3.11.5"
  }
 },
 "nbformat": 4,
 "nbformat_minor": 4
}