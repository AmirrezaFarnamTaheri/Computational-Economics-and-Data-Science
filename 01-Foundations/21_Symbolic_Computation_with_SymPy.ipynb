{
 "cells": [
  {
   "cell_type": "markdown",
   "metadata": {},
   "source": [
    "# 21. Symbolic Computation with SymPy\n",
    "\n",
    "This notebook introduces SymPy, the Python library for symbolic mathematics. It's a powerful tool for economists who need to work with mathematical expressions in a symbolic form, which is invaluable for theoretical modeling."
   ]
  },
  {
   "cell_type": "markdown",
   "metadata": {},
   "source": [
    "## 1. Introduction to Symbolic Computation\n",
    "\n",
    "- What is symbolic computation?\n",
    "- Defining symbols and symbolic expressions."
   ]
  },
  {
   "cell_type": "code",
   "execution_count": null,
   "metadata": {},
   "outputs": [],
   "source": [
    "import sympy as sp\n",
    "\n",
    "# Define symbols\n",
    "x, y, z = sp.symbols('x y z')\n",
    "\n",
    "# Create a symbolic expression\n",
    "expr = x**2 + 2*y + z\n",
    "expr"
   ]
  },
  {
   "cell_type": "markdown",
   "metadata": {},
   "source": [
    "## 2. Symbolic Calculus\n",
    "\n",
    "SymPy can perform symbolic differentiation and integration, which is extremely useful for solving economic models."
   ]
  },
  {
   "cell_type": "code",
   "execution_count": null,
   "metadata": {},
   "outputs": [],
   "source": [
    "# Differentiate the expression with respect to x\n",
    "diff_expr = sp.diff(expr, x)\n",
    "print(f\"Derivative: {diff_expr}\")\n",
    "\n",
    "# Integrate the expression with respect to x\n",
    "int_expr = sp.integrate(expr, x)\n",
    "print(f\"Integral: {int_expr}\")"
   ]
  },
  {
   "cell_type": "markdown",
   "metadata": {},
   "source": [
    "## 3. Solving Equations\n",
    "\n",
    "SymPy can solve algebraic equations symbolically."
   ]
  },
  {
   "cell_type": "code",
   "execution_count": null,
   "metadata": {},
   "outputs": [],
   "source": [
    "# Solve a simple equation\n",
    "solution = sp.solve(x**2 - 4, x)\n",
    "print(f\"Solution: {solution}\")"
   ]
  },
  {
   "cell_type": "markdown",
   "metadata": {},
   "source": [
    "## 4. Application: Utility Maximization\n",
    "\n",
    "Let's use SymPy to solve a simple consumer utility maximization problem."
   ]
  },
  {
   "cell_type": "code",
   "execution_count": null,
   "metadata": {},
   "outputs": [],
   "source": [
    "# Define variables for the utility maximization problem\n",
    "x1, x2, p1, p2, I = sp.symbols('x1 x2 p1 p2 I')\n",
    "\n",
    "# Cobb-Douglas utility function\n",
    "U = x1**0.5 * x2**0.5\n",
    "\n",
    "# Budget constraint: p1*x1 + p2*x2 - I\n",
    "budget_constraint = p1*x1 + p2*x2 - I\n",
    "\n",
    "# Set up the Lagrangian\n",
    "lam = sp.symbols('lambda')\n",
    "L = U - lam * budget_constraint\n",
    "\n",
    "# First-order conditions\n",
    "foc_x1 = sp.diff(L, x1)\n",
    "foc_x2 = sp.diff(L, x2)\n",
    "foc_lam = sp.diff(L, lam)\n",
    "\n",
    "# Solve the system of equations (this can be complex)\n",
    "# print(f\"FOC w.r.t x1: {foc_x1} = 0\")\n",
    "# print(f\"FOC w.r.t x2: {foc_x2} = 0\")\n",
    "# print(f\"FOC w.r.t lambda: {foc_lam} = 0\")"
   ]
  }
 ],
 "metadata": {
  "kernelspec": {
   "display_name": "Python 3",
   "language": "python",
   "name": "python3"
  },
  "language_info": {
   "codemirror_mode": {
    "name": "ipython",
    "version": 3
   },
   "file_extension": ".py",
   "mimetype": "text/x-python",
   "name": "python",
   "nbconvert_exporter": "python",
   "pygments_lexer": "ipython3",
   "version": "3.10.9"
  }
 },
 "nbformat": 4,
 "nbformat_minor": 4
}