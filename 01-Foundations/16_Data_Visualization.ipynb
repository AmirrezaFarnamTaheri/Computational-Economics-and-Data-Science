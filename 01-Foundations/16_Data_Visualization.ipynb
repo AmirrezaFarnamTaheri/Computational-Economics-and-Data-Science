{
 "cells": [
  {
   "cell_type": "code",
   "execution_count": null,
   "metadata": {
    "collapsed": true
   },
   "outputs": [],
   "source": [
    "# === Environment Setup ===\n",
    "import os, sys, math, time, random, json, textwrap, warnings\n",
    "import numpy as np, pandas as pd\n",
    "import matplotlib.pyplot as plt\n",
    "import altair as alt\n",
    "import seaborn as sns\n",
    "from vega_datasets import data\n",
    "from IPython.display import display\n",
    "from plotnine import ggplot, aes, geom_point, geom_smooth, facet_wrap, theme_light\n",
    "\n",
    "# --- Configuration ---\n",
    "plt.style.use('seaborn-v0_8-whitegrid')\n",
    "plt.rcParams[\"figure.dpi\"] = 130\n",
    "plt.rcParams['axes.spines.right'] = False\n",
    "plt.rcParams['axes.spines.top'] = False\n",
    "alt.renderers.enable('default')\n",
    "\n",
    "# --- Utility Functions ---\n",
    "def note(msg, **kwargs):\n",
    "    \"\"\"Prints a formatted message with a notebook icon.\"\"\"\n",
    "    formatted_msg = textwrap.fill(msg, width=100, subsequent_indent='   ')\n",
    "    print(f\"\\n📝 {formatted_msg}\", **kwargs)\n",
    "def sec(title):\n",
    "    \"\"\"Prints a formatted section title for code blocks.\"\"\"\n",
    "    print(f\"\\n{100*'='}\\n| {title.upper()} |\\n{100*'='}\")\n",
    "\n",
    "note(\"Environment initialized.\")"
   ]
  },
  {
   "cell_type": "markdown",
   "metadata": {},
   "source": [
    "# Part 1: Foundations\n",
    "## Chapter 1.15: Data Visualization: A Grammar for Argument and Exploration"
   ]
  },
  {
   "cell_type": "markdown",
   "metadata": {},
   "source": [
    "### Introduction: From Data to Insight and Argument\n",
    "\n",
    "Data visualization is a critical tool for exploration, analysis, and, most importantly, **argumentation**. A well-designed plot is a form of non-verbal, quantitative reasoning. It can reveal patterns that tables of summary statistics hide, highlight outliers that might otherwise be missed, and communicate complex findings with an immediacy that words alone cannot achieve.\n",
    "\n",
    "This notebook introduces the core theories and dominant programming paradigms for visualization in Python. We will explore:\n",
    "- The foundational principles of effective visualization.\n",
    "- The **Grammar of Graphics**, a powerful theory for describing plots.\n",
    "- The imperative paradigm of **Matplotlib**, where you build a plot piece by piece.\n",
    "- The declarative paradigm of high-level libraries like **Seaborn** and **Altair**, where you specify *what* you want to visualize, not *how* to draw it."
   ]
  },
  {
   "cell_type": "markdown",
   "metadata": {},
   "source": [
    "### 1. Why Visualize? Anscombe's Quartet\n",
    "\n",
    "To understand *why* visualization is essential, consider Anscombe's Quartet. Constructed by statistician Francis Anscombe in 1973, it comprises four datasets that have nearly identical simple descriptive statistics yet are vastly different when graphed. It is the classic demonstration of the limitations of summary statistics and the power of graphical exploration."
   ]
  },
  {
   "cell_type": "code",
   "execution_count": null,
   "metadata": {},
   "outputs": [],
   "source": [
    "sec(\"Anscombe's Quartet: Identical Statistics, Different Stories\")\n",
    "anscombe = sns.load_dataset(\"anscombe\")\n",
    "\n",
    "note(\"The summary statistics are nearly identical for all four datasets:\")\n",
    "print(anscombe.groupby('dataset')[['x', 'y']].agg(['mean', 'std']))\n",
    "\n",
    "note(\"Visualization, however, immediately reveals the dramatic structural differences:\")\n",
    "g = sns.lmplot(x=\"x\", y=\"y\", col=\"dataset\", hue=\"dataset\", data=anscombe,\n",
    "               col_wrap=2, ci=None, palette=\"muted\", height=4,\n",
    "               scatter_kws={\"s\": 50, \"alpha\": 1})\n",
    "g.set_titles(\"Dataset: {col_name}\")\n",
    "plt.show()"
   ]
  },
  {
   "cell_type": "markdown",
   "metadata": {},
   "source": [
    "### 2. The Grammar of Graphics: A Theory of Visualization\n",
    "Leland Wilkinson's *The Grammar of Graphics* provides a formal theory for declarative visualization. The core idea is that any plot is a combination of independent components. This provides a powerful framework for thinking about and constructing graphics.\n",
    "\n",
    "1.  **Data**: The dataset being plotted.\n",
    "2.  **Aesthetics (Mappings)**: A mapping from data columns to visual properties. This is the heart of the grammar. Example: `map GDP to the x-axis`, `map Life Expectancy to the y-axis`, `map Continent to color`.\n",
    "3.  **Geometric Objects (Geoms)**: The shapes used to represent data (e.g., `points`, `lines`, `bars`).\n",
    "4.  **Statistical Transformations (Stats)**: Optional transformations of the data before plotting (e.g., `binning` for a histogram, `smoothing` for a regression line).\n",
    "5.  **Scales**: How data values are translated to visual properties (e.g., a linear or log scale for an axis).\n",
    "6.  **Coordinates**: The coordinate system used (e.g., Cartesian, polar).\n",
    "7.  **Faceting**: How to create subplots based on a categorical variable (e.g., creating a separate plot for each country).\n",
    "\n",
    "Libraries like `plotnine` (a Python port of R's famous ggplot2) and `altair` are direct implementations of this grammar.\n",
    "\n",
    "![Grammar of Graphics Components](../images/png/1.16-grammar-of-graphics.png)"
   ]
  },
  {
   "cell_type": "markdown",
   "metadata": {},
   "source": [
    "### 3. The Python Visualization Landscape\n",
    "\n",
    "The Python ecosystem offers several excellent libraries, each with different strengths. Choosing the right one depends on the task.\n",
    "\n",
    "- **Matplotlib (Imperative):** The foundational library. Use it when you need **full, fine-grained control** over every element of a plot. It is the best choice for creating complex, multi-panel, or heavily annotated static figures for publication. Its syntax is often verbose.\n",
    "\n",
    "- **Seaborn (High-Level Declarative):** Built on Matplotlib, Seaborn provides a high-level interface for creating beautiful and informative **statistical graphics** (e.g., violin plots, heatmaps, regression plots) with very little code. It's excellent for exploration and for plots with a statistical focus.\n",
    "\n",
    "- **Altair (Strictly Declarative):** A strict implementation of the Grammar of Graphics. Its key strength is producing **interactive charts** (zooming, panning, filtering) with a clean, JSON-based specification. It's ideal for web-based dashboards and exploratory analysis where interactivity is key.\n",
    "\n",
    "- **Plotnine (Strictly Declarative):** A Python implementation of R's `ggplot2`, offering a powerful and intuitive API based on the Grammar of Graphics."
   ]
  },
  {
   "cell_type": "markdown",
   "metadata": {},
   "source": [
    "#### 3.1 Matplotlib: The Imperative Workhorse\n",
    "The key to using Matplotlib effectively is understanding its object hierarchy: a `Figure` is the top-level container, which holds one or more `Axes` (the individual plots). The standard workflow is to create a `Figure` and `Axes` with `fig, ax = plt.subplots()` and then call methods directly on the `ax` object to build the plot piece by piece."
   ]
  },
  {
   "cell_type": "code",
   "execution_count": null,
   "metadata": {},
   "outputs": [],
   "source": [
    "sec(\"Publication-Quality Plot with Matplotlib\")\n",
    "\n",
    "gapminder = data.gapminder()\n",
    "df_eu = gapminder[gapminder.continent == 'Europe']\n",
    "countries = ['Germany', 'France', 'United Kingdom', 'Italy', 'Spain', 'Poland']\n",
    "df_subset = df_eu[df_eu.country.isin(countries)]\n",
    "\n",
    "# Create a 2x3 grid of subplots. sharey=True makes the y-axis consistent.\n",
    "fig, axes = plt.subplots(2, 3, figsize=(12, 6), sharey=True)\n",
    "\n",
    "# axes.flat provides a simple 1D iterator over the 2D grid of axes\n",
    "for ax, country in zip(axes.flat, countries):\n",
    "    country_data = df_subset[df_subset.country == country]\n",
    "    # Plot the data\n",
    "    ax.plot(country_data['year'], country_data['gdpPercap'], color='royalblue', lw=2)\n",
    "    # Add a horizontal line for the mean\n",
    "    mean_gdp = country_data['gdpPercap'].mean()\n",
    "    ax.axhline(mean_gdp, color='firebrick', linestyle='--', lw=1.5, label=f'Mean: ${mean_gdp:,.0f}')\n",
    "    \n",
    "    ax.set_title(country, fontsize=12, weight='bold')\n",
    "    ax.grid(True, which='major', linestyle='--', linewidth=0.5)\n",
    "    ax.tick_params(axis='x', rotation=45)\n",
    "    ax.legend(fontsize=8)\n",
    "\n",
    "# Use figure-level methods to set shared labels and a title\n",
    "fig.suptitle('GDP Per Capita for Major European Economies (1952-2007)', fontsize=16, weight='bold')\n",
    "fig.supxlabel('Year', fontsize=12)\n",
    "fig.supylabel('GDP Per Capita (USD)', fontsize=12)\n",
    "\n",
    "# Adjust layout to prevent titles/labels from overlapping\n",
    "fig.tight_layout(rect=[0, 0, 1, 0.96])\n",
    "plt.show()"
   ]
  },
  {
   "cell_type": "markdown",
   "metadata": {},
   "source": [
    "#### 3.2 Seaborn: High-Level Statistical Graphics\n",
    "Seaborn excels at making complex statistical plots simple. It takes DataFrames directly and handles much of the complexity of mapping data to visual properties automatically.\n",
    "\n",
    "**Economic Application:** A correlation heatmap is a vital tool for understanding the relationships between variables in a dataset before building a regression model. It visually highlights potential multicollinearity issues."
   ]
  },
  {
   "cell_type": "code",
   "execution_count": null,
   "metadata": {},
   "outputs": [],
   "source": [
    "sec(\"Correlation Heatmap with Seaborn\")\n",
    "cars = data.cars()\n",
    "cars_num = cars.select_dtypes(include=np.number)\n",
    "corr_matrix = cars_num.corr()\n",
    "\n",
    "plt.figure(figsize=(8, 6))\n",
    "sns.heatmap(\n",
    "    corr_matrix, \n",
    "    annot=True,     # Annotate cells with the correlation values\n",
    "    cmap='vlag',    # Use a diverging colormap (blue-white-red)\n",
    "    fmt='.2f',      # Format annotations to 2 decimal places\n",
    "    linewidths=.5\n",
    ")\n",
    "plt.title('Correlation Matrix of Car Features', fontsize=14, weight='bold')\n",
    "plt.show()"
   ]
  },
  {
   "cell_type": "markdown",
   "metadata": {},
   "source": [
    "#### 3.3 Altair: Declarative Interactive Visualization\n",
    "Altair's syntax directly mirrors the Grammar of Graphics. You define a `Chart` object, specify the `data`, and then `mark` it with a geometric object. The core of the library is the `.encode()` method, where you define the aesthetic mappings.\n",
    "\n",
    "The real power of Altair is its ability to create interactive charts with just a few extra lines of code."
   ]
  },
  {
   "cell_type": "code",
   "execution_count": null,
   "metadata": {},
   "outputs": [],
   "source": [
    "sec(\"Interactive Scatter Plot with Altair\")\n",
    "gapminder = data.gapminder()\n",
    "df_2007 = gapminder[gapminder.year == 2007]\n",
    "\n",
    "# Create a selection interval for brushing and linking\n",
    "interval = alt.selection_interval()\n",
    "\n",
    "# Base chart definition\n",
    "base = alt.Chart(df_2007).mark_point().encode(\n",
    "    x=alt.X('gdpPercap', scale=alt.Scale(type=\"log\"), title='GDP Per Capita (log scale)'),\n",
    "    y=alt.Y('life_expect', title='Life Expectancy'),\n",
    "    tooltip=['country', 'gdpPercap', 'life_expect'],\n",
    "    # Color changes based on the interactive selection\n",
    "    color=alt.condition(interval, 'continent', alt.value('lightgray'))\n",
    ").properties(\n",
    "    title='Life Expectancy vs. GDP Per Capita (2007)',\n",
    "    width=600,\n",
    "    height=400\n",
    ").add_params(\n",
    "    interval\n",
    ")\n",
    "\n",
    "# Display the chart (in a notebook, this will be interactive)\n",
    "display(base)"
   ]
  },
  {
   "cell_type": "markdown",
   "metadata": {},
   "source": [
    "#### 3.4 Plotnine: The Grammar of Graphics in Python\n",
    "Plotnine brings the power and elegance of R's `ggplot2` to Python, allowing you to build complex plots layer by layer, following the Grammar of Graphics."
   ]
  },
  {
   "cell_type": "code",
   "execution_count": null,
   "metadata": {},
   "outputs": [],
   "source": [
    "sec(\"Faceted Scatter Plot with Plotnine\")\n",
    "cars = data.cars()\n",
    "p = (\n",
    "    ggplot(cars, aes(x='Horsepower', y='Miles_per_Gallon', color='Origin'))\n",
    "    + geom_point(alpha=0.6)\n",
    "    + geom_smooth(method='lm', se=False)\n",
    "    + facet_wrap('~ Origin')\n",
    "    + theme_light()\n",
    ")\n",
    "display(p)"
   ]
  },
  {
   "cell_type": "markdown",
   "metadata": {},
   "source": [
    "### 4. Choosing the Right Plot for Your Data\n",
    "\n",
    "Knowing which plot to use for which kind of data is a crucial skill.\n",
    "\n",
    "| Data Type / Goal | Recommended Plots |\n",
    "| :--- | :--- |\n",
    "| **Distribution of one variable** | Histogram (`sns.histplot`), Density Plot (`sns.kdeplot`), Box Plot (`sns.boxplot`) |\n",
    "| **Relationship between two continuous variables** | Scatter Plot (`sns.scatterplot`, `sns.regplot`) |\n",
    "| **Relationship between a continuous and a categorical variable** | Box Plot (`sns.boxplot`), Violin Plot (`sns.violinplot`), Bar Plot (`sns.barplot`) |\n",
    "| **Relationship between two categorical variables** | Heatmap of counts (`sns.heatmap` on a `pd.crosstab`), Stacked Bar Chart |\n",
    "| **Time Series Data** | Line Plot (`plt.plot`, `sns.lineplot`) |\n",
    "| **Matrix / High-Dimensional Data** | Heatmap (`sns.heatmap`), Cluster Map (`sns.clustermap`) |"
   ]
  },
  {
   "cell_type": "code",
   "execution_count": null,
   "metadata": {},
   "outputs": [],
   "source": [
    "sec(\"Violin Plot: Continuous vs. Categorical\")\n",
    "\n",
    "note(\"A violin plot combines a box plot with a kernel density estimate, showing the full distribution of salaries for each continent.\")\n",
    "plt.figure(figsize=(10, 6))\n",
    "sns.violinplot(data=gapminder, x='continent', y='life_expect', palette='viridis')\n",
    "plt.title('Distribution of Life Expectancy by Continent', fontsize=14, weight='bold')\n",
    "plt.xlabel('Continent')\n",
    "plt.ylabel('Life Expectancy (Years)')\n",
    "plt.show()"
   ]
  },
  {
   "cell_type": "markdown",
   "metadata": {},
   "source": [
    "### 5. Exercises\n",
    "\n",
    "1.  **Theory and Critique:** Find a data visualization in a recent news article or economic report. Analyze it through the lens of the principles discussed. What is its primary message? Does it use encodings effectively according to the hierarchy of perceptual tasks? Deconstruct it using the Grammar of Graphics (what is the data, what are the aesthetics, what are the geoms?).\n",
    "\n",
    "2.  **Publication-Quality Matplotlib:** Using the `gapminder` dataset, create a 2x2 `matplotlib` subplot grid. Each subplot should show the relationship between `gdpPercap` and `life_expect` for a different continent ('Asia', 'Europe', 'Africa', 'Americas'). Customize the plots with titles, labels, and colors to make them publication-ready.\n",
    "\n",
    "3.  **Statistical Plot with Seaborn:** Using the `tips` dataset (`sns.load_dataset('tips')`), create a single figure that shows the relationship between the total bill and the tip amount. Use `sns.regplot` to show a scatter plot with a regression line. Additionally, color the points by whether the customer was a smoker or not. What does this plot tell you about tipping behavior?\n",
    "\n",
    "4.  **Interactive Exploration with Altair:** Using the `mpg` dataset (`from vega_datasets import data; mpg = data.mpg()`), create an interactive Altair chart. \n",
    "    a. The chart should be a scatter plot of `Horsepower` (x) vs. `Miles_per_Gallon` (y).\n",
    "    b. Add an interactive legend for the `Origin` column, such that clicking on a country in the legend filters the points shown on the plot.\n",
    "    c. Add tooltips to show the `Name` of the car on hover.\n",
    "\n",
    "5.  **Choosing the Right Plot:** You have a dataset of monthly unemployment rates for all 50 U.S. states over the last 20 years. You want to create a visualization that shows both the overall trend in unemployment for the entire country and highlights which states have unusually high or low unemployment in any given month. Describe what kind of plot or combination of plots you would create and which library you would use to do it. Justify your choices."
   ]
  }
 ],
 "metadata": {},
 "nbformat": 4,
 "nbformat_minor": 5
}
