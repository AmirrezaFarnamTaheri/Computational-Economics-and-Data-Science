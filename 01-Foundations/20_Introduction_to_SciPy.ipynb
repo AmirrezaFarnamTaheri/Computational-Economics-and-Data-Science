{
 "cells": [
  {
   "cell_type": "markdown",
   "metadata": {},
   "source": [
    "# 20. Introduction to SciPy\n",
    "\n",
    "This notebook provides an introduction to the SciPy library, a cornerstone of scientific and technical computing in Python. We will explore its key modules for optimization, linear algebra, interpolation, and statistics."
   ]
  },
  {
   "cell_type": "markdown",
   "metadata": {},
   "source": [
    "## 1. What is SciPy?\n",
    "\n",
    "- The SciPy ecosystem.\n",
    "- Core modules and their applications in economics."
   ]
  },
  {
   "cell_type": "markdown",
   "metadata": {},
   "source": [
    "## 2. Optimization with `scipy.optimize`\n",
    "\n",
    "This section will demonstrate how to use `scipy.optimize` to solve various optimization problems, such as finding the minimum of a function."
   ]
  },
  {
   "cell_type": "code",
   "execution_count": null,
   "metadata": {},
   "outputs": [],
   "source": [
    "from scipy.optimize import minimize\n",
    "import numpy as np\n",
    "\n",
    "# Define a simple quadratic function\n",
    "fun = lambda x: (x - 2)**2\n",
    "\n",
    "# Find the minimum\n",
    "result = minimize(fun, x0=0)\n",
    "print(result)"
   ]
  },
  {
   "cell_type": "markdown",
   "metadata": {},
   "source": [
    "## 3. Linear Algebra with `scipy.linalg`\n",
    "\n",
    "While NumPy provides basic linear algebra, `scipy.linalg` offers a more extensive set of functions."
   ]
  },
  {
   "cell_type": "code",
   "execution_count": null,
   "metadata": {},
   "outputs": [],
   "source": [
    "from scipy import linalg\n",
    "\n",
    "A = np.array([[1, 2], [3, 4]])\n",
    "print(f\"Determinant: {linalg.det(A)}\")\n",
    "\n",
    "inv_A = linalg.inv(A)\n",
    "print(f\"Inverse:\\n{inv_A}\")"
   ]
  },
  {
   "cell_type": "markdown",
   "metadata": {},
   "source": [
    "## 4. Statistical Functions with `scipy.stats`\n",
    "\n",
    "This section will cover common statistical distributions and tests available in `scipy.stats`."
   ]
  },
  {
   "cell_type": "code",
   "execution_count": null,
   "metadata": {},
   "outputs": [],
   "source": [
    "from scipy import stats\n",
    "\n",
    "# Generate some random data\n",
    "data = stats.norm.rvs(loc=5, scale=2, size=1000)\n",
    "\n",
    "# Perform a t-test\n",
    "t_statistic, p_value = stats.ttest_1samp(data, popmean=5)\n",
    "print(f\"T-statistic: {t_statistic:.4f}, P-value: {p_value:.4f}\")"
   ]
  }
 ],
 "metadata": {
  "kernelspec": {
   "display_name": "Python 3",
   "language": "python",
   "name": "python3"
  },
  "language_info": {
   "codemirror_mode": {
    "name": "ipython",
    "version": 3
   },
   "file_extension": ".py",
   "mimetype": "text/x-python",
   "name": "python",
   "nbconvert_exporter": "python",
   "pygments_lexer": "ipython3",
   "version": "3.10.9"
  }
 },
 "nbformat": 4,
 "nbformat_minor": 4
}