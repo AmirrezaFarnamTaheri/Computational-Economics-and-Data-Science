{
 "cells": [
  {
   "cell_type": "markdown",
   "metadata": {},
   "source": [
    "# 19. Introduction to SQL\n",
    "\n",
    "This notebook introduces the fundamentals of SQL (Structured Query Language) for economists. We will cover how to interact with relational databases to store, query, and manage data."
   ]
  },
  {
   "cell_type": "markdown",
   "metadata": {},
   "source": [
    "## 1. Introduction to Relational Databases\n",
    "\n",
    "- What is a relational database?\n",
    "- Schemas, tables, columns, and rows.\n",
    "- Introduction to SQLite."
   ]
  },
  {
   "cell_type": "markdown",
   "metadata": {},
   "source": [
    "## 2. Basic SQL Queries\n",
    "\n",
    "This section will cover the fundamental SQL commands: `SELECT`, `FROM`, `WHERE`, `GROUP BY`, `HAVING`, and `ORDER BY`."
   ]
  },
  {
   "cell_type": "code",
   "execution_count": null,
   "metadata": {},
   "outputs": [],
   "source": [
    "import sqlite3\n",
    "import pandas as pd\n",
    "\n",
    "# Create a connection to an in-memory database\n",
    "conn = sqlite3.connect(':memory:')\n",
    "\n",
    "# Create a sample DataFrame\n",
    "data = {'country': ['USA', 'Canada', 'Mexico'], 'gdp_trillions': [23.0, 1.64, 1.29]}\n",
    "df = pd.DataFrame(data)\n",
    "\n",
    "# Write the DataFrame to a SQL table\n",
    "df.to_sql('gdp_data', conn, index=False)\n",
    "\n",
    "# Query the data using pandas\n",
    "query_result = pd.read_sql('SELECT * FROM gdp_data WHERE gdp_trillions > 2.0', conn)\n",
    "print(query_result)"
   ]
  },
  {
   "cell_type": "markdown",
   "metadata": {},
   "source": [
    "## 3. Joining Tables\n",
    "\n",
    "This section will cover `INNER JOIN`, `LEFT JOIN`, and other join types for combining data from multiple tables."
   ]
  },
  {
   "cell_type": "code",
   "execution_count": null,
   "metadata": {},
   "outputs": [],
   "source": [
    "# Code examples for joins will be added here."
   ]
  }
 ],
 "metadata": {
  "kernelspec": {
   "display_name": "Python 3",
   "language": "python",
   "name": "python3"
  },
  "language_info": {
   "codemirror_mode": {
    "name": "ipython",
    "version": 3
   },
   "file_extension": ".py",
   "mimetype": "text/x-python",
   "name": "python",
   "nbconvert_exporter": "python",
   "pygments_lexer": "ipython3",
   "version": "3.10.9"
  }
 },
 "nbformat": 4,
 "nbformat_minor": 4
}