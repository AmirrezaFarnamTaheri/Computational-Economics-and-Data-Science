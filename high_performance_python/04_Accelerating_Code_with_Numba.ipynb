{
 "cells": [
  {
   "cell_type": "markdown",
   "metadata": {},
   "source": [
    "# 4. Accelerating Python Code with Numba\n",
    "\n",
    "## The Economist's Need for Speed\n",
    "\n",
    "Economic models, especially those involving simulation, optimization, or repeated estimation, are often computationally intensive. A common bottleneck is the execution speed of pure Python code. While Python is lauded for its readability and ease of use, it is an interpreted language, and its loops can be orders of magnitude slower than compiled languages like C, C++, or Fortran.\n",
    "\n",
    "Traditionally, overcoming this involved complex workflows: writing performance-critical code in a low-level language, compiling it, and then writing Python \"wrappers\" to call it. This process is time-consuming and requires multi-language expertise.\n",
    "\n",
    "**Numba** changes this paradigm. Numba is a **Just-In-Time (JIT) compiler** that translates a subset of Python and NumPy code into fast, native machine code. It allows you to achieve performance comparable to C or Fortran without ever leaving the Python ecosystem.\n",
    "\n",
    "In this notebook, you will learn:\n",
    "- What JIT compilation is and how it works.\n",
    "- How to use Numba's decorators to accelerate your functions with a single line of code.\n",
    "- How to benchmark and quantify the dramatic performance gains.\n",
    "- Best practices for using Numba effectively."
   ]
  },
  {
   "cell_type": "markdown",
   "metadata": {},
   "source": [
    "### Getting Started: Installation\n",
    "\n",
    "First, let's install Numba."
   ]
  },
  {
   "cell_type": "code",
   "execution_count": 1,
   "metadata": {
    "execution": {
     "iopub.execute_input": "2025-10-05T20:34:22.469900Z",
     "iopub.status.busy": "2025-10-05T20:34:22.469442Z",
     "iopub.status.idle": "2025-10-05T20:34:24.140404Z",
     "shell.execute_reply": "2025-10-05T20:34:24.138397Z"
    }
   },
   "outputs": [
    {
     "name": "stdout",
     "output_type": "stream",
     "text": [
      "Requirement already satisfied: numba in /home/jules/.pyenv/versions/3.12.11/lib/python3.12/site-packages (0.62.1)\r\n",
      "Requirement already satisfied: llvmlite<0.46,>=0.45.0dev0 in /home/jules/.pyenv/versions/3.12.11/lib/python3.12/site-packages (from numba) (0.45.1)\r\n",
      "Requirement already satisfied: numpy<2.4,>=1.22 in /home/jules/.pyenv/versions/3.12.11/lib/python3.12/site-packages (from numba) (2.3.3)\r\n"
     ]
    },
    {
     "name": "stdout",
     "output_type": "stream",
     "text": [
      "\r\n",
      "\u001b[1m[\u001b[0m\u001b[34;49mnotice\u001b[0m\u001b[1;39;49m]\u001b[0m\u001b[39;49m A new release of pip is available: \u001b[0m\u001b[31;49m25.1.1\u001b[0m\u001b[39;49m -> \u001b[0m\u001b[32;49m25.2\u001b[0m\r\n",
      "\u001b[1m[\u001b[0m\u001b[34;49mnotice\u001b[0m\u001b[1;39;49m]\u001b[0m\u001b[39;49m To update, run: \u001b[0m\u001b[32;49mpip install --upgrade pip\u001b[0m\r\n"
     ]
    },
    {
     "name": "stdout",
     "output_type": "stream",
     "text": [
      "Note: you may need to restart the kernel to use updated packages.\n"
     ]
    }
   ],
   "source": [
    "%pip install numba"
   ]
  },
  {
   "cell_type": "markdown",
   "metadata": {},
   "source": [
    "### A Canonical Example: The Monte Carlo Pi Simulation\n",
    "\n",
    "A simple way to demonstrate Numba's power is with a Monte Carlo simulation to estimate \\( \\pi \\). The logic is as follows:\n",
    "1. Imagine a square with side length 2, centered at the origin. Its area is 4.\n",
    "2. Inscribe a circle with radius 1 within this square. Its area is \\( \\pi r^2 = \\pi \\).\n",
    "3. Generate a large number of random points \\( (x, y) \\) within the square.\n",
    "4. The proportion of points that fall inside the circle should be equal to the ratio of the circle's area to the square's area: \\( \\frac{\\text{Points in Circle}}{\\text{Total Points}} \\approx \\frac{\\pi}{4} \\).\n",
    "5. Therefore, \\( \\pi \\approx 4 \\times \\frac{\\text{Points in Circle}}{\\text{Total Points}} \\).\n",
    "\n",
    "A point \\( (x, y) \\) is inside the circle if \\( x^2 + y^2 < 1 \\). This requires a loop, which is notoriously slow in pure Python."
   ]
  },
  {
   "cell_type": "markdown",
   "metadata": {},
   "source": [
    "#### Pure Python Implementation"
   ]
  },
  {
   "cell_type": "code",
   "execution_count": 2,
   "metadata": {
    "execution": {
     "iopub.execute_input": "2025-10-05T20:34:24.144974Z",
     "iopub.status.busy": "2025-10-05T20:34:24.144607Z",
     "iopub.status.idle": "2025-10-05T20:34:24.151085Z",
     "shell.execute_reply": "2025-10-05T20:34:24.150007Z"
    }
   },
   "outputs": [],
   "source": [
    "import random\n",
    "\n",
    "def monte_carlo_pi_python(num_samples):\n",
    "    acc = 0\n",
    "    for _ in range(num_samples):\n",
    "        x = random.random()\n",
    "        y = random.random()\n",
    "        if (x**2 + y**2) < 1.0:\n",
    "            acc += 1\n",
    "    return 4.0 * acc / num_samples"
   ]
  },
  {
   "cell_type": "markdown",
   "metadata": {},
   "source": [
    "Now, let's benchmark this function using the `%timeit` magic command."
   ]
  },
  {
   "cell_type": "code",
   "execution_count": 3,
   "metadata": {
    "execution": {
     "iopub.execute_input": "2025-10-05T20:34:24.154625Z",
     "iopub.status.busy": "2025-10-05T20:34:24.154230Z",
     "iopub.status.idle": "2025-10-05T20:34:59.246974Z",
     "shell.execute_reply": "2025-10-05T20:34:59.245630Z"
    }
   },
   "outputs": [
    {
     "name": "stdout",
     "output_type": "stream",
     "text": [
      "4.38 s ± 281 ms per loop (mean ± std. dev. of 7 runs, 1 loop each)\n"
     ]
    }
   ],
   "source": [
    "num_samples = 10_000_000\n",
    "%timeit monte_carlo_pi_python(num_samples)"
   ]
  },
  {
   "cell_type": "markdown",
   "metadata": {},
   "source": [
    "#### Numba Implementation\n",
    "\n",
    "To accelerate this function with Numba, we simply import it and apply the `@njit` decorator. `njit` stands for \"no-python JIT,\" which is Numba's highest-performance compilation mode. It compiles the function so that it runs entirely without the involvement of the Python interpreter."
   ]
  },
  {
   "cell_type": "code",
   "execution_count": 4,
   "metadata": {
    "execution": {
     "iopub.execute_input": "2025-10-05T20:34:59.250802Z",
     "iopub.status.busy": "2025-10-05T20:34:59.250475Z",
     "iopub.status.idle": "2025-10-05T20:34:59.720532Z",
     "shell.execute_reply": "2025-10-05T20:34:59.718869Z"
    }
   },
   "outputs": [],
   "source": [
    "from numba import njit\n",
    "\n",
    "@njit\n",
    "def monte_carlo_pi_numba(num_samples):\n",
    "    acc = 0\n",
    "    for _ in range(num_samples):\n",
    "        x = random.random()\n",
    "        y = random.random()\n",
    "        if (x**2 + y**2) < 1.0:\n",
    "            acc += 1\n",
    "    return 4.0 * acc / num_samples"
   ]
  },
  {
   "cell_type": "markdown",
   "metadata": {},
   "source": [
    "Let's benchmark the Numba-compiled version. The first time you run a Numba function, there's a slight overhead as the compiler does its work. Subsequent calls are much faster. `%timeit` is smart enough to account for this."
   ]
  },
  {
   "cell_type": "code",
   "execution_count": 5,
   "metadata": {
    "execution": {
     "iopub.execute_input": "2025-10-05T20:34:59.724702Z",
     "iopub.status.busy": "2025-10-05T20:34:59.724203Z",
     "iopub.status.idle": "2025-10-05T20:35:03.243013Z",
     "shell.execute_reply": "2025-10-05T20:35:03.241766Z"
    }
   },
   "outputs": [
    {
     "name": "stdout",
     "output_type": "stream",
     "text": [
      "First run result: 3.1412392\n"
     ]
    },
    {
     "name": "stdout",
     "output_type": "stream",
     "text": [
      "315 ms ± 1.4 ms per loop (mean ± std. dev. of 7 runs, 1 loop each)\n"
     ]
    }
   ],
   "source": [
    "# The first run compiles the function\n",
    "print(f\"First run result: {monte_carlo_pi_numba(num_samples)}\")\n",
    "\n",
    "# Now let's time it\n",
    "%timeit monte_carlo_pi_numba(num_samples)"
   ]
  },
  {
   "cell_type": "markdown",
   "metadata": {},
   "source": [
    "You should observe a speedup of 100x or more. This is the power of JIT compilation. You've achieved C-like speed with a single line of Python code."
   ]
  },
  {
   "cell_type": "markdown",
   "metadata": {},
   "source": [
    "### Numba with NumPy\n",
    "\n",
    "Numba is specifically designed to work well with NumPy arrays and functions. When Numba compiles code that uses NumPy arrays, it generates specialized, fast code that can operate directly on the underlying data buffers, avoiding the overhead of Python's object model."
   ]
  },
  {
   "cell_type": "code",
   "execution_count": 6,
   "metadata": {
    "execution": {
     "iopub.execute_input": "2025-10-05T20:35:03.246925Z",
     "iopub.status.busy": "2025-10-05T20:35:03.246598Z",
     "iopub.status.idle": "2025-10-05T20:35:04.057757Z",
     "shell.execute_reply": "2025-10-05T20:35:04.056525Z"
    }
   },
   "outputs": [],
   "source": [
    "import numpy as np\n",
    "\n",
    "def sum_of_squares_python(arr):\n",
    "    total = 0.0\n",
    "    for i in range(arr.shape[0]):\n",
    "        total += arr[i] ** 2\n",
    "    return total\n",
    "\n",
    "@njit\n",
    "def sum_of_squares_numba(arr):\n",
    "    total = 0.0\n",
    "    for i in range(arr.shape[0]):\n",
    "        total += arr[i] ** 2\n",
    "    return total\n",
    "\n",
    "my_array = np.random.randn(10_000_000)"
   ]
  },
  {
   "cell_type": "code",
   "execution_count": 7,
   "metadata": {
    "execution": {
     "iopub.execute_input": "2025-10-05T20:35:04.061634Z",
     "iopub.status.busy": "2025-10-05T20:35:04.061312Z",
     "iopub.status.idle": "2025-10-05T20:35:32.476145Z",
     "shell.execute_reply": "2025-10-05T20:35:32.474855Z"
    }
   },
   "outputs": [
    {
     "name": "stdout",
     "output_type": "stream",
     "text": [
      "3.58 s ± 190 ms per loop (mean ± std. dev. of 7 runs, 1 loop each)\n"
     ]
    }
   ],
   "source": [
    "%timeit sum_of_squares_python(my_array)"
   ]
  },
  {
   "cell_type": "code",
   "execution_count": 8,
   "metadata": {
    "execution": {
     "iopub.execute_input": "2025-10-05T20:35:32.480092Z",
     "iopub.status.busy": "2025-10-05T20:35:32.479764Z",
     "iopub.status.idle": "2025-10-05T20:35:46.312952Z",
     "shell.execute_reply": "2025-10-05T20:35:46.311702Z"
    }
   },
   "outputs": [
    {
     "name": "stdout",
     "output_type": "stream",
     "text": [
      "16.9 ms ± 45.3 μs per loop (mean ± std. dev. of 7 runs, 100 loops each)\n"
     ]
    }
   ],
   "source": [
    "%timeit sum_of_squares_numba(my_array)"
   ]
  },
  {
   "cell_type": "markdown",
   "metadata": {},
   "source": [
    "### Automatic Parallelization\n",
    "\n",
    "Numba can also automatically parallelize some loops, allowing you to take advantage of multi-core CPUs with minimal effort. By adding the `parallel=True` argument to the decorator, you can instruct Numba to attempt to parallelize the function. You can then use `numba.prange` to mark loops that are safe to run in parallel."
   ]
  },
  {
   "cell_type": "code",
   "execution_count": 9,
   "metadata": {
    "execution": {
     "iopub.execute_input": "2025-10-05T20:35:46.316935Z",
     "iopub.status.busy": "2025-10-05T20:35:46.316605Z",
     "iopub.status.idle": "2025-10-05T20:35:46.323160Z",
     "shell.execute_reply": "2025-10-05T20:35:46.321832Z"
    }
   },
   "outputs": [],
   "source": [
    "from numba import prange\n",
    "\n",
    "@njit(parallel=True)\n",
    "def sum_of_squares_parallel(arr):\n",
    "    total = 0.0\n",
    "    # prange indicates this loop can be parallelized\n",
    "    for i in prange(arr.shape[0]):\n",
    "        total += arr[i] ** 2\n",
    "    return total"
   ]
  },
  {
   "cell_type": "code",
   "execution_count": 10,
   "metadata": {
    "execution": {
     "iopub.execute_input": "2025-10-05T20:35:46.326527Z",
     "iopub.status.busy": "2025-10-05T20:35:46.326172Z",
     "iopub.status.idle": "2025-10-05T20:35:47.282723Z",
     "shell.execute_reply": "2025-10-05T20:35:47.279828Z"
    }
   },
   "outputs": [
    {
     "name": "stdout",
     "output_type": "stream",
     "text": [
      "4.83 ms ± 310 μs per loop (mean ± std. dev. of 7 runs, 1 loop each)\n"
     ]
    }
   ],
   "source": [
    "%timeit sum_of_squares_parallel(my_array)"
   ]
  },
  {
   "cell_type": "markdown",
   "metadata": {},
   "source": [
    "On a multi-core machine, you should see another significant speedup over the serial Numba version."
   ]
  },
  {
   "cell_type": "markdown",
   "metadata": {},
   "source": [
    "## When to Use Numba\n",
    "\n",
    "Numba is not a silver bullet. It works best on a specific type of problem:\n",
    "\n",
    "- **Numerically-Oriented Code:** It is designed for numerical data types (integers, floats) and NumPy arrays.\n",
    "- **Loops:** Numba's biggest advantage is in accelerating loops.\n",
    "- **Avoid Unsupported Python Features:** Numba does not support all of Python. It does not work well with pandas DataFrames, dictionaries, or complex class structures. The best practice is to isolate your slow, looping, numerical code into a dedicated function and apply Numba to that function.\n",
    "\n",
    "## Conclusion\n",
    "\n",
    "Numba is an essential tool for any computational economist. It provides a remarkably simple and powerful way to break through the performance barriers of pure Python. By using the `@njit` decorator on functions that contain computationally-heavy loops over numerical data, you can often achieve speedups of 100x or more, turning a coffee break-long computation into a near-instantaneous one. This allows for more complex models, more extensive simulations, and faster iteration in your research."
   ]
  }
 ],
 "metadata": {
  "kernelspec": {
   "display_name": "Python 3",
   "language": "python",
   "name": "python3"
  },
  "language_info": {
   "codemirror_mode": {
    "name": "ipython",
    "version": 3
   },
   "file_extension": ".py",
   "mimetype": "text/x-python",
   "name": "python",
   "nbconvert_exporter": "python",
   "pygments_lexer": "ipython3",
   "version": "3.12.11"
  }
 },
 "nbformat": 4,
 "nbformat_minor": 2
}
