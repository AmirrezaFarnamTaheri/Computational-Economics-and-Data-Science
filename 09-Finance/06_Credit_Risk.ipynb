{
 "cells": [
  {
   "cell_type": "code",
   "execution_count": null,
   "metadata": {
    "collapsed": true
   },
   "outputs": [],
   "source": [
    "# === Environment Setup ===\n",
    "import os, sys, math, time, random, json, textwrap, warnings\n",
    "import numpy as np, pandas as pd, matplotlib.pyplot as plt, seaborn as sns\n",
    "from scipy.stats import norm\n",
    "\n",
    "# --- Configuration ---\n",
    "plt.style.use('seaborn-v0_8-whitegrid')\n",
    "plt.rcParams.update({'figure.dpi': 130, 'font.size': 12, 'axes.titlesize': 'x-large',\n",
    "    'axes.labelsize': 'large', 'xtick.labelsize': 'medium', 'ytick.labelsize': 'medium'})\n",
    "\n",
    "# --- Utility Functions ---\n",
    "def note(msg, **kwargs):\n",
    "    from IPython.display import display, Markdown\n",
    "    display(Markdown(f\"<div class='alert alert-info'>\ud83d\udcdd {textwrap.fill(msg, width=100)}</div>\"))\n",
    "def sec(title):\n",
    "    print(f\"\\n{100*'='}\\n| {title.upper()} |\\n{100*'='}\")\n",
    "\n",
    "note(\"Environment initialized.\")"
   ]
  },
  {
   "cell_type": "markdown",
   "metadata": {},
   "source": [
    "# Part 9: Finance\n",
    "## Chapter 9.6: Credit Risk and Default Models\n",
    "\n",
    "### Introduction: Modeling the Risk of Default\n",
    "\n",
    "Credit risk—the risk that a borrower will fail to make required payments—is a central concern in finance. This notebook introduces the two main families of models used to quantify and manage this risk:\n",
    "1.  **Structural Models:** These models, pioneered by Merton (1974), view default as an endogenous event that occurs when the value of a firm's assets falls below its debt obligations. Default is modeled as an option held by the firm's equity holders.\n",
    "2.  **Reduced-Form Models:** These models, such as the Jarrow-Turnbull (1995) model, treat default as an exogenous, unpredictable event that arrives with a certain intensity (hazard rate). They focus on modeling the probability of default directly, without explicitly modeling the firm's capital structure."
   ]
  },
    {
   "cell_type": "markdown",
   "metadata": {},
   "source": [
    "### 1. The Merton (1974) Structural Model\n",
    "The Merton model provides a powerful intuition by linking credit risk to option pricing theory. It assumes that a firm's assets ($V_A$) follow a geometric Brownian motion. The firm has a single zero-coupon bond outstanding with face value $F$ maturing at time $T$.\n",
    "\n",
    "- If at maturity $T$, the asset value $V_A(T)$ is greater than the debt $F$, the equity holders pay off the debt and keep the residual. \n",
    "- If $V_A(T) < F$, the equity holders default, and the debtholders take over the firm's assets.\n",
    "\n",
    "This means that the value of the firm's equity is equivalent to a **call option** on the firm's assets with a strike price equal to the face value of the debt. The value of the firm's debt is equivalent to holding a risk-free bond and writing a put option on the firm's assets.\n",
    "\n",
    "![Merton Model Payoffs](images\png\merton_model_payoffs.png)"
   ]
  },
  {
   "cell_type": "code",
   "execution_count": null,
   "metadata": {},
   "outputs": [],
   "source": [
    "sec(\"Merton Model Implementation\")\n",
    "def merton_model(V, F, T, r, sigma):\n",
    "    \"\"\"Calculates the value of equity, debt, and default probability in the Merton model.\"\"\"\n",
    "    d1 = (np.log(V / F) + (r + 0.5 * sigma**2) * T) / (sigma * np.sqrt(T))\n",
    "    d2 = d1 - sigma * np.sqrt(T)\n",
    "    \n",
    "    # Value of equity (call option)\n",
    "    E = V * norm.cdf(d1) - np.exp(-r * T) * F * norm.cdf(d2)\n",
    "    # Value of debt\n",
    "    D = V - E\n",
    "    # Probability of default (prob that assets < debt at maturity)\n",
    "    prob_default = norm.cdf(-d2)\n",
    "    \n",
    "    return {'Equity Value': E, 'Debt Value': D, 'Default Probability': prob_default}\n",
    "\n",
    "# Example parameters\n",
    "V0 = 100 # Current asset value\n",
    "F_debt = 80 # Face value of debt\n",
    "T_maturity = 1 # Time to maturity\n",
    "r_riskfree = 0.05 # Risk-free rate\n",
    "sigma_assets = 0.2 # Asset volatility\n",
    "\n",
    "results = merton_model(V0, F_debt, T_maturity, r_riskfree, sigma_assets)\n",
    "note(f\"Merton Model Results: {results}\")\n",
    "\n",
    "sec(\"Sensitivity Analysis of Default Probability\")\n",
    "# 1. Sensitivity to Asset Volatility\n",
    "sigmas = np.linspace(0.05, 0.6, 100)\n",
    "default_probs_sigma = [merton_model(V0, F_debt, T_maturity, r_riskfree, s)['Default Probability'] for s in sigmas]\n",
    "\n",
    "# 2. Sensitivity to Leverage\n",
    "asset_values = np.linspace(85, 200, 100)\n",
    "leverage_ratios = F_debt / asset_values\n",
    "default_probs_leverage = [merton_model(v, F_debt, T_maturity, r_riskfree, sigma_assets)['Default Probability'] for v in asset_values]\n",
    "\n",
    "fig, (ax1, ax2) = plt.subplots(1, 2, figsize=(16, 6), constrained_layout=True)\n",
    "fig.suptitle(\"Merton Model: Sensitivity of Default Probability\", fontsize=18, y=1.03)\n",
    "\n",
    "ax1.plot(sigmas, default_probs_sigma, lw=2.5)\n",
    "ax1.set_title('a) Default Probability vs. Asset Volatility')\n",
    "ax1.set_xlabel('Asset Volatility ($\\sigma_A$)')\n",
    "ax1.set_ylabel('Probability of Default')\n",
    "ax1.grid(True)\n",
    "\n",
    "ax2.plot(leverage_ratios, default_probs_leverage, lw=2.5, color='orange')\n",
    "ax2.set_title('b) Default Probability vs. Leverage')\n",
    "ax2.set_xlabel('Leverage Ratio (F/V)')\n",
    "ax2.grid(True)\n",
    "\n",
    "plt.show()"
   ]
  },
  {
   "cell_type": "markdown",
   "metadata": {},
   "source": [
    "### 2. Reduced-Form Models: Jarrow-Turnbull (1995)\n",
    "Reduced-form models take a different approach. They do not model the firm's capital structure but instead model the default time as a random variable governed by a **hazard rate** (or default intensity), $\\lambda_t$. The probability of default over a small time interval $[t, t+dt]$ is approximately $\\lambda_t dt$. This approach is more flexible for fitting market prices of credit-sensitive instruments like corporate bonds.\n",
    "\n",
    "Assuming a constant hazard rate $\\lambda$, the probability of surviving until time $T$ is $e^{-\\lambda T}$. The value of a risky zero-coupon bond with face value $F$ and recovery rate $R$ (the fraction of face value recovered in default) is the sum of the discounted payoffs in the default and no-default states:\n",
    "$$ D(0,T) = \\underbrace{e^{-rT} F (1 - e^{-\\lambda T}) R}_{\\text{Value from default}} + \\underbrace{e^{-rT} F e^{-\\lambda T}}_{\\text{Value from survival}} = F e^{-rT} [R + (1-R)e^{-\\lambda T}] $$\n",
    "The **credit spread** is the extra yield the bond must offer over a risk-free bond to compensate for default risk. It is the yield $y$ that solves $D(0,T) = F e^{-yT}$. This gives:\n",
    "$$ s = y - r = -\\frac{1}{T} \\ln[R + (1-R)e^{-\\lambda T}] $$"
   ]
  },
  {
   "cell_type": "code",
   "execution_count": null,
   "metadata": {},
   "outputs": [],
   "source": [
    "sec(\"Reduced-Form Model Implementation\")\n",
    "\n",
    "def reduced_form_model(F, T, r, lam, R):\n",
    "    \"\"\"Calculates bond value and credit spread in a simple reduced-form model.\"\"\"\n",
    "    # Value of the risky debt\n",
    "    D = F * np.exp(-r * T) * (R + (1 - R) * np.exp(-lam * T))\n",
    "    # Yield to maturity of the risky debt\n",
    "    y = - (1/T) * np.log(D/F)\n",
    "    # Credit spread\n",
    "    spread = y - r\n",
    "    return {'Debt Value': D, 'Credit Spread (bps)': spread * 10000}\n",
    "\n",
    "# Example parameters\n",
    "F_debt_rf = 100 # Face value\n",
    "T_maturity_rf = 5 # Maturity\n",
    "r_riskfree_rf = 0.05 # Risk-free rate\n",
    "lambda_hazard = 0.02 # Hazard rate (2% per year)\n",
    "recovery_rate = 0.4 # Recovery rate (40%)\n",
    "\n",
    "rf_results = reduced_form_model(F_debt_rf, T_maturity_rf, r_riskfree_rf, lambda_hazard, recovery_rate)\n",
    "note(f\"Reduced-Form Model Results: {rf_results}\")\n",
    "\n",
    "sec(\"Sensitivity Analysis of Credit Spreads\")\n",
    "# 1. Sensitivity to Hazard Rate\n",
    "lambdas = np.linspace(0.001, 0.1, 100)\n",
    "spreads_lam = [reduced_form_model(F_debt_rf, T_maturity_rf, r_riskfree_rf, l, recovery_rate)['Credit Spread (bps)'] for l in lambdas]\n",
    "\n",
    "# 2. Sensitivity to Recovery Rate\n",
    "recoveries = np.linspace(0, 0.9, 100)\n",
    "spreads_rec = [reduced_form_model(F_debt_rf, T_maturity_rf, r_riskfree_rf, lambda_hazard, R)['Credit Spread (bps)'] for R in recoveries]\n",
    "\n",
    "fig, (ax1, ax2) = plt.subplots(1, 2, figsize=(16, 6), constrained_layout=True)\n",
    "fig.suptitle(\"Reduced-Form Model: Sensitivity of Credit Spreads\", fontsize=18, y=1.03)\n",
    "\n",
    "ax1.plot(lambdas * 100, spreads_lam, lw=2.5)\n",
    "ax1.set_title('a) Credit Spread vs. Hazard Rate')\n",
    "ax1.set_xlabel('Hazard Rate (λ) in %')\n",
    "ax1.set_ylabel('Credit Spread (bps)')\n",
    "ax1.grid(True)\n",
    "\n",
    "ax2.plot(recoveries, spreads_rec, lw=2.5, color='orange')\n",
    "ax2.set_title('b) Credit Spread vs. Recovery Rate')\n",
    "ax2.set_xlabel('Recovery Rate (R)')\n",
    "ax2.grid(True)\n",
    "\n",
    "plt.show()"
   ]
  },
  {
   "cell_type": "markdown",
   "metadata": {},
   "source": [
    "### 3. The Credit-Equity Puzzle\n",
    "While the Merton model provides a revolutionary theoretical link between a firm's structure and its credit risk, it performs poorly when taken literally to the data. Empirical studies (e.g., by Jones, Mason, and Rosenfeld, 1984) showed that when the model is calibrated with realistic parameters for a firm's asset volatility, it consistently predicts credit spreads that are far *lower* than those observed in the market. \n",
    "\n",
    "This is known as the **credit spread puzzle**. It arises because in the Merton model, the firm's equity acts as a perpetual call option, and even for very volatile assets, the probability of the asset value falling below the debt level over a short horizon is very low. This suggests that the simple GBM assumption for asset values is insufficient. Modern structural models address this by incorporating features that allow for more sudden, unexpected defaults, such as:\n",
    "- **Jump-diffusion processes:** Allow for sudden, large drops in asset values.\n",
    "- **Stochastic interest rates:** Acknowledge that the risk-free rate is not constant.\n",
    "- **Default barriers:** Assume default can be triggered at a level above the face value of debt (e.g., when a covenant is breached), as in the Black-Cox (1976) model."
   ]
  },
  {
   "cell_type": "markdown",
   "metadata": {},
   "source": [
    "### 3. Structural vs. Reduced-Form Models: A Comparison\n",
    "\n",
    "| Feature | Structural Models (Merton) | Reduced-Form Models (Jarrow-Turnbull) |\n",
    "| :--- | :--- | :--- |\n",
    "| **Default Cause** | Endogenous: Assets fall below debt | Exogenous: A random event | \n",
    "| **Key Inputs** | Firm's asset value, volatility, leverage | Default intensity (hazard rate), recovery rate |\n",
    "| **Primary Use** | Understanding economic drivers of default | Pricing credit derivatives, matching market prices |\n",
    "| **Pros** | Strong economic intuition, links default to firm value. | Flexible, can be calibrated to fit any term structure of credit spreads. |\n",
    "| **Cons** | Asset value and volatility are unobservable, difficult to apply in practice. | Default cause is a 'black box', hazard rate can be hard to justify economically. |"
   ]
  }
 ],
 "metadata": {
  "kernelspec": {
   "display_name": "Python 3",
   "language": "python",
   "name": "python3"
  },
  "language_info": {
   "codemirror_mode": {
    "name": "ipython",
    "version": 3
   },
   "file_extension": ".py",
   "mimetype": "text/x-python",
   "name": "python",
   "nbconvert_exporter": "python",
   "pygments_lexer": "ipython3",
   "version": "3.11.5"
  }
 },
 "nbformat": 4,
 "nbformat_minor": 4
}