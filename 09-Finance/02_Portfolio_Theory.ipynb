{
 "cells": [
  {
   "cell_type": "code",
   "execution_count": null,
   "metadata": {
    "collapsed": true
   },
   "outputs": [],
   "source": [
    "# === Environment Setup ===\n",
    "import os, sys, math, time, random, json, textwrap, warnings\n",
    "import numpy as np, pandas as pd, matplotlib.pyplot as plt\n",
    "import statsmodels.api as sm\n",
    "!pip install PyPortfolioOpt -q\n",
    "try:\n",
    "    import yfinance as yf\n",
    "    import pandas_datareader.data as web\n",
    "    YFINANCE_AVAILABLE = True\n",
    "except ImportError: YFINANCE_AVAILABLE = False\n",
    "try:\n",
    "    from pypfopt import expected_returns, risk_models, EfficientFrontier, plotting, black_litterman\n",
    "    PYPFOPT_AVAILABLE = True\n",
    "except ImportError: PYPFOPT_AVAILABLE = False\n",
    "from IPython.display import display, Markdown, Image\n",
    "\n",
    "# --- Configuration ---\n",
    "plt.style.use('seaborn-v0_8-whitegrid')\n",
    "plt.rcParams.update({'font.size': 14, 'figure.figsize': (12, 8), 'figure.dpi': 150})\n",
    "np.set_printoptions(suppress=True, linewidth=120, precision=4)\n",
    "\n",
    "# --- Utility Functions ---\n",
    "def note(msg): display(Markdown(f\"<div class='alert alert-info'>📝 {textwrap.fill(msg, width=100)}</div>\"))\n",
    "def sec(title): print(f\"\\n{80*'='}\\n| {title.upper()} |\\n{80*'='}\")\n",
    "\n",
    "note(\"Environment initialized for Modern Portfolio Theory.\")"
   ]
  },
  {
   "cell_type": "markdown",
   "metadata": {},
   "source": [
    "# Chapter 9.2: Modern Portfolio Theory and the CAPM\n",
    "\n",
    "---\n",
    "\n",
    "### Table of Contents\n",
    "\n",
    "1.  [**Mean-Variance Optimization: The Mathematics of Diversification**](#mvo)\n",
    "2.  [**The Capital Asset Pricing Model (CAPM)**](#capm)\n",
    "    - [From the Efficient Frontier to the Capital Market Line](#cml)\n",
    "    - [The Security Market Line (SML)](#sml)\n",
    "3.  [**Empirical Asset Pricing: The Fama-French Factor Zoo**](#fama-french)\n",
    "4.  [**Modern Portfolio Construction: Black-Litterman**](#black-litterman)\n",
    "5.  [**Unified Case Study**](#case-study)\n",
    "    - [Data Preparation](#data)\n",
    "    - [Part 1: Mean-Variance Optimization in Practice](#part1)\n",
    "    - [Part 2: Estimating Betas and the SML](#part2)\n",
    "    - [Part 3: Testing the CAPM with Fama-French Factors](#part3)\n",
    "    - [Part 4: Applying the Black-Litterman Model](#part4)\n",
    "6.  [**Exercises**](#exercises)\n",
    "7.  [**Summary and Key Takeaways**](#summary)\n"
   ]
  },
  {
   "cell_type": "markdown",
   "metadata": {},
   "source": [
    "### Intellectual Provenance: Black-Litterman\n",
    "\n",
    "A major practical challenge of MPT is its **instability**. The optimal weights are extremely sensitive to small changes in the estimates of expected returns, which are notoriously difficult to predict. This often leads to extreme, non-intuitive portfolio allocations.\n",
    "\n",
    "The **Black-Litterman model**, developed by Fischer Black and Robert Litterman at Goldman Sachs in the early 1990s, provides an elegant Bayesian solution. Instead of relying purely on historical data, it uses market equilibrium as a starting point. It calculates the set of expected returns that would make the current market capitalization weights optimal (the **implied equilibrium returns**, or the **prior**). The investor can then specify their own subjective **views** on the expected returns of certain assets. Bayes' theorem is used to combine the market's prior with the investor's views to create a new, blended set of **posterior returns**. This approach leads to much more stable, diversified, and intuitive portfolio weights.\n"
   ]
  },
  {
   "cell_type": "markdown",
   "metadata": {},
   "source": [
    "### First Principles: Factor Models\n",
    "\n",
    "Empirically, the single-factor CAPM performs poorly; market beta alone does not fully explain the observed differences in stock returns across firms. This led to the development of multi-factor models, which propose that an asset's expected return is driven by its exposure to several systematic risk factors.\n",
    "\n",
    "The most famous is the **Fama-French Three-Factor Model**. It augments the CAPM's market factor with two additional factors intended to capture other sources of systematic risk:\n",
    "\n",
    "1.  **Size (SMB: Small Minus Big):** This factor is the return of a portfolio of small-cap stocks minus the return of a portfolio of large-cap stocks. It is designed to capture the 'size effect,' the empirical observation that smaller companies have historically earned higher average returns.\n",
    "2.  **Value (HML: High Minus Low):** This factor is the return of a portfolio of high book-to-market stocks ('value' stocks) minus the return of a portfolio of low book-to-market stocks ('growth' stocks). It captures the 'value effect,' the observation that value stocks have historically outperformed growth stocks.\n",
    "\n",
    "The model is expressed as a regression:\n",
    "$$ E[R_i] - R_f = \\alpha_i + \\beta_{i,MKT} (E[R_m] - R_f) + \\beta_{i,SMB} E[SMB] + \\beta_{i,HML} E[HML] $$\n",
    "\n",
    "The intercept, \\(\\alpha_i\\), represents the abnormal return ('alpha') of the asset after accounting for its exposure to these common risk factors. In an efficient market, alpha should be zero for all assets.\n"
   ]
  },
  {
   "cell_type": "markdown",
   "metadata": {},
   "source": [
    "### First Principles: The Capital Asset Pricing Model (CAPM)\n",
    "\n",
    "The CAPM, developed independently by William Sharpe, John Lintner, and Jan Mossin, is a general equilibrium model that builds on MPT by introducing two key assumptions:\n",
    "\n",
    "1.  All investors are rational mean-variance optimizers with homogeneous expectations.\n",
    "2.  There exists a **risk-free asset** that all investors can borrow from and lend to at the same rate (\\(R_f\\)).\n",
    "\n",
    "The introduction of a risk-free asset fundamentally changes the investment decision. Instead of choosing from a curved efficient frontier of risky assets, all investors will now choose to hold a combination of the risk-free asset and a single, unique portfolio of risky assets known as the **tangency portfolio**. In equilibrium, since all investors hold this same risky portfolio, it must, by definition, be the **market portfolio** itself.\n"
   ]
  },
  {
   "cell_type": "markdown",
   "metadata": {},
   "source": [
    "### First Principles: Mean-Variance Optimization\n",
    "\n",
    "Mean-Variance Optimization (MVO) is the mathematical process of finding the optimal portfolio. An investor's goal is to choose a set of portfolio weights (the vector \\(\\mathbf{w}\\)) that achieves the best possible trade-off between maximizing the portfolio's expected return and minimizing its risk (variance).\n",
    "\n",
    "- **Portfolio Expected Return:** The expected return of the portfolio (\\(\\mu_p\\)) is the weighted average of the expected returns of the individual assets (\\(\\mathbf{\\mu}\\)):\n",
    "  $$ \\mu_p = \\mathbf{w}^T \\mathbf{\\mu} $$\n",
    "- **Portfolio Variance:** The variance of the portfolio (\\(\\sigma_p^2\\)) depends not only on the individual asset variances but also on their covariances, captured in the covariance matrix (\\(\\Sigma\\)):\n",
    "  $$ \\sigma_p^2 = \\mathbf{w}^T \\Sigma \\mathbf{w} $$\n",
    "\n",
    "The **efficient frontier** is the set of all portfolios that offer the highest possible expected return for a given level of variance. Any portfolio not on the frontier is 'inefficient' because another portfolio exists that offers either a higher return for the same risk, or lower risk for the same return.\n"
   ]
  },
  {
   "cell_type": "markdown",
   "metadata": {},
   "source": [
    "<a id='intro'></a>\n",
    "## Introduction: The Markowitz Revolution and Beyond\n",
    "This chapter explores **Modern Portfolio Theory (MPT)** and its evolution into empirical asset pricing. The foundational insight of Harry Markowitz (1952) was that the risk of a portfolio depends crucially on the **covariance** between its assets. This principle of **diversification** is the bedrock of modern asset allocation.\n",
    "\n",
    "We will develop the theory from its mathematical foundations to its modern applications, culminating in a unified case study.\n"
   ]
  },
  {
   "cell_type": "markdown",
   "metadata": {},
   "source": [
    "### Intellectual Provenance: The Markowitz Revolution\n",
    "\n",
    "Modern Portfolio Theory (MPT) was introduced by Harry Markowitz in his 1952 paper 'Portfolio Selection.' Before Markowitz, investment decisions were often based on the merits of individual securities, with little consideration for how they interact. Markowitz's foundational insight was that the risk of a portfolio is not just the average risk of its components; it depends crucially on the **covariance** between them. By combining assets that do not move perfectly together, an investor can reduce the portfolio's overall risk without sacrificing expected return. This principle of **diversification**, famously dubbed 'the only free lunch in finance,' revolutionized asset allocation and laid the mathematical groundwork for nearly all modern financial theory.\n"
   ]
  },
  {
   "cell_type": "markdown",
   "metadata": {},
   "source": [
    "<a id='mvo'></a>\n",
    "## 1. Mean-Variance Optimization: The Mathematics of Diversification\n",
    "An investor's goal is to choose a vector of portfolio weights $\\mathbf{w}$ to achieve the best possible risk-return trade-off. The portfolio's expected return is $\\mu_p = \\mathbf{w}^T \\mathbf{\\mu}$ and its variance is $\\sigma_p^2 = \\mathbf{w}^T \\Sigma \\mathbf{w}$.\n",
    "\n",
    "The **efficient frontier** is the set of portfolios with the highest possible expected return for a given level of variance. All portfolios on the frontier are combinations of two fundamental portfolios. A particularly important point is the **Global Minimum Variance (GMV)** portfolio:\n",
    "$$ \\mathbf{w}_{GMV} = \\frac{\\Sigma^{-1} \\mathbf{1}}{\\mathbf{1}^T \\Sigma^{-1} \\mathbf{1}} $$\n"
   ]
  },
  {
   "cell_type": "markdown",
   "metadata": {},
   "source": [
    "<a id='capm'></a>\n",
    "## 2. The Capital Asset Pricing Model (CAPM)\n",
    "\n",
    "<a id='cml'></a>\n",
    "### 2.1 From the Efficient Frontier to the Capital Market Line\n",
    "\n",
    "The CAPM is a general equilibrium model that arises from combining MPT with two key assumptions: 1) all investors are rational mean-variance optimizers, and 2) there exists a **risk-free asset**. The introduction of a risk-free asset transforms the curved efficient frontier into a straight line known as the **Capital Market Line (CML)**. All rational investors will hold a combination of the risk-free asset and a single, unique portfolio of risky assets called the **tangency portfolio**. In equilibrium, since all investors hold the same risky portfolio, it must be the **market portfolio** itself.\n",
    "\n",
    "The CML describes the expected return for any efficient portfolio (a mix of the risk-free asset and the market portfolio) as a function of its **total risk** (standard deviation, $\\sigma_p$):\n",
    "$$ E[R_p] = R_f + \\left( \\frac{E[R_m] - R_f}{\\sigma_m} \\right) \\sigma_p $$\n"
   ]
  },
  {
   "cell_type": "markdown",
   "metadata": {},
   "source": [
    "<a id='sml'></a>\n",
    "### 2.2 The Security Market Line (SML)\n",
    "The CML only applies to efficient portfolios. The **Security Market Line (SML)** is a more general result that applies to *any* individual asset or portfolio. It states that an asset's expected excess return is determined not by its total risk, but only by its non-diversifiable, **systematic risk**, as measured by its **beta** ($\\\beta_i$):\n",
    "$$ E[R_i] - R_f = \\beta_i (E[R_m] - R_f) \\quad \\text{where} \\quad \\beta_i = \\frac{Cov(R_i, R_m)}{Var(R_m)} $$ \n",
    "This is the most famous equation in finance. It implies that investors are not compensated for bearing idiosyncratic risk, as it can be diversified away.\n",
    "\n",
    "![CML vs SML Distinction](../images/09-Finance/cml_sml_distinction.png)\n"
   ]
  },
  {
   "cell_type": "markdown",
   "metadata": {},
   "source": [
    "<a id='fama-french'></a>\n",
    "## 3. Empirical Asset Pricing: The Fama-French Factor Zoo\n",
    "\n",
    "Empirically, the CAPM performs poorly. Other characteristics besides market beta seem to explain the cross-section of stock returns. This led to multi-factor models, most famously the **Fama-French Three-Factor Model**, which augmented the CAPM with factors for **Size (SMB: Small Minus Big)** and **Value (HML: High Minus Low)**.\n",
    "$$ E[R_i] - R_f = \\alpha_i + \\beta_{i,MKT} (E[R_m] - R_f) + \\beta_{i,SMB} E[SMB] + \\beta_{i,HML} E[HML] $$\n",
    "The intercept, $\\alpha_i$, represents the abnormal return of the asset after accounting for its exposure to the common risk factors. In an efficient market, alpha should be zero.\n"
   ]
  },
  {
   "cell_type": "markdown",
   "metadata": {},
   "source": [
    "<a id='black-litterman'></a>\n",
    "## 4. Modern Portfolio Construction: Black-Litterman\n",
    "A major practical challenge of MPT is **instability**: the optimal weights are extremely sensitive to the estimates of expected returns. The **Black-Litterman model** provides an elegant Bayesian solution. It starts with the returns implied by market equilibrium (the **prior**) and allows the investor to specify their own subjective **views**. Bayes' theorem is used to combine the prior and views into a new, blended set of expected returns that is more robust.\n"
   ]
  },
  {
   "cell_type": "code",
   "execution_count": null,
   "metadata": {},
   "outputs": [],
   "source": [
    "<a id='case-study'></a>\n",
    "<a id='data'></a>\n",
    "sec(\"Unified Case Study: Data Preparation\")\n",
    "\n",
    "if YFINANCE_AVAILABLE and PYPFOPT_AVAILABLE:\n",
    "    tickers = ['AAPL', 'MSFT', 'AMZN', 'JPM', 'XOM']\n",
    "    market_proxy = 'SPY'\n",
    "    start_date, end_date = '2015-01-01', '2022-12-31'\n",
    "    \n",
    "    # Download stock prices\n",
    "    prices = yf.download(tickers + [market_proxy], start=start_date, end=end_date)['Adj Close']\n",
    "    \n",
    "    # Download Fama-French 5 factors\n",
    "    note(\"Attempting to download Fama-French 5-factor data.\")\n",
    "    try:\n",
    "        ff_factors_raw = web.DataReader('F-F_Research_Data_5_Factors_2x3_daily', 'famafrench', start=start_date, end=end_date)\n",
    "        ff_factors = ff_factors_raw[0] / 100\n",
    "        ff_factors.index = ff_factors.index.to_timestamp()\n",
    "        note(\"Fama-French data downloaded successfully.\")\n",
    "    except Exception as e:\n",
    "        note(f\"Could not download Fama-French data ({e}). Falling back to local CSV.\")\n",
    "        ff_factors = pd.read_csv('data/fama_french_5_factors.csv', index_col='Date', parse_dates=True)\n",
    "        ff_factors = ff_factors / 100 # Convert to decimals\n",
    "    \n",
    "    # Calculate daily returns\n",
    "    returns = prices.pct_change().dropna()\n",
    "    \n",
    "    # Align data\n",
    "    df = pd.concat([returns, ff_factors], axis=1).dropna()\n",
    "    asset_returns = df[tickers]\n",
    "    market_returns = df[market_proxy]\n",
    "    risk_free_rate = df['RF'].mean() * 252 # Annualized risk-free rate\n",
    "    \n",
    "    note(f\"Data prepared for {len(tickers)} assets from {start_date} to {end_date}.\")\n",
    "else:\n",
    "    note(\"Skipping case study because yfinance and/or PyPortfolioOpt are not installed.\")"
   ]
  },
  {
   "cell_type": "code",
   "execution_count": null,
   "metadata": {},
   "outputs": [],
   "source": [
    "<a id='part1'></a>\n",
    "sec(\"Part 1: Mean-Variance Optimization\")\n",
    "if YFINANCE_AVAILABLE and PYPFOPT_AVAILABLE:\n",
    "    # 1. Estimate expected returns and covariance\n",
    "    mu = expected_returns.mean_historical_return(prices[tickers])\n",
    "    S = risk_models.sample_cov(prices[tickers])\n",
    "    \n",
    "    # 2. Find the efficient frontier\n",
    "    ef = EfficientFrontier(mu, S)\n",
    "    plotting.plot_efficient_frontier(ef)\n",
    "    plt.title('Efficient Frontier for Selected Stocks')\n",
    "    plt.show()\n",
    "    \n",
    "    # 3. Find the tangency portfolio (maximum Sharpe ratio)\n",
    "    ef_tangent = EfficientFrontier(mu, S)\n",
    "    weights_tan = ef_tangent.max_sharpe(risk_free_rate=risk_free_rate)\n",
    "    note(\"Tangency Portfolio (Max Sharpe Ratio) Weights:\")\n",
    "    display(pd.Series(weights_tan).to_frame('Weight').T)\n",
    "else:\n",
    "    note(\"Skipping MVO analysis.\")"
   ]
  },
  {
   "cell_type": "code",
   "execution_count": null,
   "metadata": {},
   "outputs": [],
   "source": [
    "<a id='part2'></a>\n",
    "sec(\"Part 2: Estimating Betas and the Security Market Line\")\n",
    "if YFINANCE_AVAILABLE and PYPFOPT_AVAILABLE:\n",
    "    # Calculate excess returns\n",
    "    excess_asset_returns = asset_returns.subtract(df['RF'], axis=0)\n",
    "    excess_market_returns = market_returns - df['RF']\n",
    "    \n",
    "    # Estimate betas via regression\n",
    "    betas = {}\n",
    "    for ticker in tickers:\n",
    "        model = sm.OLS(excess_asset_returns[ticker], sm.add_constant(excess_market_returns)).fit()\n",
    "        betas[ticker] = model.params[market_proxy]\n",
    "    betas = pd.Series(betas)\n",
    "    \n",
    "    # Plot SML\n",
    "    avg_excess_returns = excess_asset_returns.mean() * 252\n",
    "    plt.figure(figsize=(12, 7))\n",
    "    plt.scatter(betas, avg_excess_returns, s=100)\n",
    "    for i, txt in enumerate(betas.index):\n",
    "        plt.annotate(txt, (betas[i], avg_excess_returns[i]), xytext=(5,5), textcoords='offset points')\n",
    "    \n",
    "    sml_x = np.linspace(0, 2, 100)\n",
    "    sml_y = sml_x * (excess_market_returns.mean() * 252)\n",
    "    plt.plot(sml_x, sml_y, 'r--', label='Security Market Line (SML)')\n",
    "    plt.title('Security Market Line'); plt.xlabel('Beta (β)'); plt.ylabel('Annualized Expected Excess Return')\n",
    "    plt.legend(); plt.show()\n",
    "    note(\"Assets above the SML are considered 'undervalued' by the CAPM, while those below are 'overvalued'.\")\n",
    "else:\n",
    "    note(\"Skipping SML analysis.\")"
   ]
  },
  {
   "cell_type": "code",
   "execution_count": null,
   "metadata": {},
   "outputs": [],
   "source": [
    "<a id='part3'></a>\n",
    "sec(\"Part 3: Testing the CAPM with Fama-French Factors\")\n",
    "if YFINANCE_AVAILABLE and PYPFOPT_AVAILABLE:\n",
    "    results = []\n",
    "    for ticker in tickers:\n",
    "        model = sm.OLS(excess_asset_returns[ticker], sm.add_constant(df[['Mkt-RF', 'SMB', 'HML']])).fit()\n",
    "        results.append({\n",
    "            'Ticker': ticker,\n",
    "            'Alpha': model.params['const'] * 252, # Annualized Alpha\n",
    "            'Alpha_p_value': model.pvalues['const'],\n",
    "            'Beta_Mkt': model.params['Mkt-RF'],\n",
    "            'Beta_SMB': model.params['SMB'],\n",
    "            'Beta_HML': model.params['HML'],\n",
    "            'R-squared': model.rsquared\n",
    "        })\n",
    "    \n",
    "    results_df = pd.DataFrame(results).set_index('Ticker')\n",
    "    note(\"Fama-French 3-Factor Model Results for All Assets:\")\n",
    "    display(results_df.style.format({'Alpha': '{:.4f}', 'Alpha_p_value': '{:.3f}', 'R-squared': '{:.3f}'}))\n",
    "    note(\"The alpha (const) represents the excess return not explained by the model. For most assets, it is small and/or statistically insignificant (p > 0.05), suggesting the model does a good job of explaining their returns.\")\n",
    "else:\n",
    "    note(\"Skipping Fama-French analysis.\")"
   ]
  },
  {
   "cell_type": "code",
   "execution_count": null,
   "metadata": {},
   "outputs": [],
   "source": [
    "<a id='part4'></a>\n",
    "sec(\"Part 4: Applying the Black-Litterman Model\")\n",
    "if YFINANCE_AVAILABLE and PYPFOPT_AVAILABLE:\n",
    "    # 1. Get the market-implied prior returns (the market's 'opinion')\n",
    "    # This step deduces the expected returns that would make the current market portfolio optimal.\n",
    "    market_caps = yf.Tickers(tickers).tickers\n",
    "    market_caps_df = pd.DataFrame({ticker: [info.info['marketCap']] for ticker, info in market_caps.items()}).T.rename(columns={0:'Market Cap'})\n",
    "    mcaps = market_caps_df['Market Cap']\n",
    "    \n",
    "    delta = black_litterman.market_implied_risk_aversion(market_returns)\n",
    "    prior_returns = black_litterman.market_implied_prior_returns(mcaps, delta, S)\n",
    "    \n",
    "    # 2. Specify subjective views (the investor's 'opinion')\n",
    "    # View 1: Amazon (AMZN) will have an absolute return of 20%.\n",
    "    # View 2: Microsoft (MSFT) will outperform JPMorgan (JPM) by 5%.\n",
    "    view_dict = {\n",
    "        'AMZN': 0.20, \n",
    "    }\n",
    "    picking_matrix = np.array([ # This matrix defines the relative view\n",
    "        [0, 1, 0, -1, 0] # MSFT - JPM\n",
    "    ])\n",
    "    q = np.array([0.05]) # The expected outperformance\n",
    "    \n",
    "\n",
    "    # 3. Combine prior and views to get posterior returns\n",
    "    # The model uses Bayes' theorem to find a weighted average of the market's opinion and the investor's opinion,\n",
    "    # where the weights are determined by the confidence in each.\n",
    "    bl = black_litterman.BlackLittermanModel(S, pi=prior_returns, \n",
    "                                             absolute_views=view_dict, \n",
    "                                             Q=q, P=picking_matrix)\n",
    "    posterior_returns = bl.bl_returns()\n",
    "    \n",
    "    # 4. Re-optimize with the more robust posterior returns\n",
    "    ef_bl = EfficientFrontier(posterior_returns, S)\n",
    "    weights_bl = ef_bl.max_sharpe()\n",
    "    \n",
    "    note(\"Posterior Expected Returns (Black-Litterman):\")\n",
    "    display(posterior_returns.to_frame('Posterior Return').T)\n",
    "    note(\"New Optimal Weights based on Posterior Returns:\")\n",
    "    display(pd.Series(weights_bl).to_frame('Weight').T)\n",
    "else:\n",
    "    note(\"Skipping Black-Litterman analysis.\")"
   ]
  },
  {
   "cell_type": "markdown",
   "metadata": {},
   "source": [
    "<a id='exercises'></a>\n",
    "## 6. Exercises\\n\\n1.  **CAPM Assumptions:** The CAPM makes several strong assumptions. List three of these assumptions and explain why they are likely to be violated in the real world.\n",
    "\\n2.  **Factor Investing:** The Fama-French factors are often interpreted as capturing risk premia. What kind of underlying economic risks might the SMB (size) and HML (value) factors be proxies for?\n",
    "\\n3.  **Black-Litterman Confidence:** In the Black-Litterman model, how would the posterior returns change if the investor were much more confident in their view (i.e., the variance of their view, represented by the diagonal elements of $\\Omega$, was much smaller)?\n",
    "\\n4.  **SML vs CML:** Explain in your own words why an individual stock that is correctly priced according to the CAPM will lie on the SML but not, in general, on the CML.\n"
   ]
  },
  {
   "cell_type": "markdown",
   "metadata": {
    "collapsed": true
   },
   "source": [
    "<a id='summary'></a>\n",
    "## 7. Summary and Key Takeaways\\n\\nThis chapter provided a tour of Modern Portfolio Theory, from the foundational insights of Markowitz to the workhorse models of empirical asset pricing.\\n\\n**Key Concepts**:\\n- **Mean-Variance Optimization**: The statistical framework for finding the optimal trade-off between risk and return. The key insight is that diversification benefits depend on the covariance between assets.\\n- **Efficient Frontier**: The set of portfolios offering the highest return for a given level of risk.\\n- **CAPM**: A general equilibrium model that provides a theoretical justification for why only systematic risk (beta) should be priced. It gives rise to the Capital Market Line (for efficient portfolios) and the Security Market Line (for all assets).\\n- **Multi-Factor Models**: Empirical failures of the CAPM led to the development of multi-factor models, like the Fama-French models, which use additional factors (e.g., size, value) to better explain the cross-section of stock returns.\\n- **Black-Litterman**: A Bayesian approach to portfolio construction that provides a more stable and intuitive alternative to classical MVO by starting with market equilibrium returns and blending them with investor views.\n"
   ]
  },
  {
   "cell_type": "markdown",
   "metadata": {
    "collapsed": true
   },
   "source": [
    "### Solutions to Exercises\\n\\n---\\n\\n**1. CAPM Assumptions:**\\n   a. **Homogeneous Expectations:** The CAPM assumes all investors have the same beliefs about expected returns, variances, and covariances. In reality, investors have diverse opinions and information.\\n   b. **No Transaction Costs or Taxes:** The model assumes a frictionless market. In reality, trading incurs costs, and taxes affect returns, both of which can alter optimal portfolios.\\n   c. **Single-Period Horizon:** The model is static. It assumes all investors plan for the same single period. Real-world investment is a dynamic, multi-period problem.\\n\\n---\\n\\n**2. Factor Investing Risks:**\\n- **SMB (Size):** The small-stock premium may be compensation for the higher risk of smaller firms, which are often less diversified, have less access to credit, and are more vulnerable to economic downturns.\\n- **HML (Value):** The value premium (high book-to-market stocks outperforming growth stocks) may be compensation for the risk of financial distress. Value firms are often mature, slower-growing companies that may be more sensitive to business cycle risk.\\n\\n---\\n\\n**3. Black-Litterman Confidence:**\\nIf the investor is more confident in their view, the variance of that view (the diagonal elements of $\\Omega$) will be smaller. In the Bayesian updating formula, a smaller $\\Omega$ gives more weight to the investor's view ($Q$) and less weight to the market-implied prior ($\\Pi$). Therefore, the resulting posterior expected returns will be pulled further away from the prior and closer to the investor's specific view.\\n\\n---\\n\\n**4. SML vs CML:**\\nThe CML plots expected return against **total risk** ($\\sigma$). Only perfectly diversified portfolios (combinations of the risk-free asset and the market portfolio) lie on the CML. An individual stock has both systematic (market) risk and idiosyncratic (firm-specific) risk. Its total risk, $\\sigma_i$, will be higher than is justified by its expected return, so it will lie *below* the CML. The SML, however, plots expected return against **systematic risk** ($\\beta$). According to the CAPM, all assets and portfolios, efficient or not, must lie on the SML in equilibrium. The market only compensates investors for bearing systematic risk, as idiosyncratic risk can be diversified away for free.\n"
   ]
  }
 ],
 "metadata": {},
 "nbformat": 4,
 "nbformat_minor": 5
}
