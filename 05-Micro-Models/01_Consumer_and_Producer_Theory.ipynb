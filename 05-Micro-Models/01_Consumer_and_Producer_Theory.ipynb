{
 "cells": [
  {
   "cell_type": "code",
   "execution_count": null,
   "metadata": {
    "collapsed": true
   },
   "outputs": [],
   "source": [
    "# === Environment Setup ===\n",
    "import os, sys, math, time, random, json, textwrap, warnings\n",
    "import numpy as np, pandas as pd, matplotlib.pyplot as plt\n",
    "from scipy.optimize import minimize, brentq\n",
    "import sympy as sp\n",
    "from IPython.display import Image, display, Markdown\n",
    "\n",
    "# --- Configuration ---\n",
    "plt.style.use('seaborn-v0_8-whitegrid')\n",
    "plt.rcParams.update({'font.size': 12, 'figure.figsize': (10, 6), 'figure.dpi': 130,\n",
    "                     'axes.titlesize': 'x-large', 'axes.labelsize': 'large',\n",
    "                     'xtick.labelsize': 'medium', 'ytick.labelsize': 'medium'})\n",
    "np.set_printoptions(suppress=True, linewidth=120, precision=4)\n",
    "\n",
    "# --- Utility Functions ---\n",
    "def note(msg, **kwargs):\n",
    "    display(Markdown(f\"<div class='alert alert-block alert-info'>\ud83d\udcdd **Note:** {msg}</div>\"))\n",
    "def sec(title):\n",
    "    print(f\"\\n{100*'='}\\n| {title.upper()} |\\n{100*'='}\")\n",
    "\n",
    "note(\"Environment initialized for Advanced Microeconomic Theory.\")"
   ]
  },
  {
   "cell_type": "markdown",
   "metadata": {},
   "source": [
    "# Part 5: Microeconomic Theory\n",
    "## Chapter 5.01: Advanced Consumer and Producer Theory\n",
    "\n",
    "### Table of Contents\n",
    "1.  [Duality in Consumer Theory](#1.-Duality-in-Consumer-Theory)\n",
    "    *   [1.1 Primal and Dual Problems](#1.1-Primal-and-Dual-Problems)\n",
    "    *   [1.2 Key Results: Roy's Identity, Shephard's Lemma, and the Slutsky Equation](#1.2-Key-Results:-Roy's-Identity,-Shephard's-Lemma,-and-the-Slutsky-Equation)\n",
    "    *   [1.3 The Integrability Problem](#1.3-The-Integrability-Problem)\n",
    "2.  [Revealed Preference](#2.-Revealed-Preference)\n",
    "    *   [2.1 WARP and SARP](#2.1-WARP-and-SARP)\n",
    "    *   [2.2 Checking for WARP Violations](#2.2-Checking-for-WARP-Violations)\n",
    "3.  [Application: Labor Supply and Taxation](#3.-Application:-Labor-Supply-and-Taxation)\n",
    "4.  [Choice Under Uncertainty](#4.-Choice-Under-Uncertainty)\n",
    "    *   [4.1 Expected Utility and Risk Aversion](#4.1-Expected-Utility-and-Risk-Aversion)\n",
    "    *   [4.2 The Stochastic Discount Factor (SDF)](#4.2-The-Stochastic-Discount-Factor-(SDF))\n",
    "5.  [General Equilibrium](#5.-General-Equilibrium)\n",
    "6.  [Chapter Summary](#6.-Chapter-Summary)\n",
    "7.  [Exercises](#7.-Exercises)"
   ]
  },
  {
   "cell_type": "markdown",
   "metadata": {},
   "source": [
    "### Introduction: A Unifying Perspective on Economic Choice\n",
    "Microeconomic theory is built upon the foundational pillars of consumer and producer theory. This chapter explores the deep, unifying concepts that underpin modern microeconomics:\n",
    "1.  **Duality:** We explore the elegant symmetry between maximization and minimization problems, deriving key results like the Slutsky equation and the **integrability** conditions that allow us to recover preferences from demand behavior.\n",
    "2.  **Revealed Preference:** We introduce a non-parametric, behavioral approach to consumer choice that does not require assuming a utility function.\n",
    "3.  **Labor Supply:** We apply the theory to model the crucial economic decision of how much to work.\n",
    "4.  **Choice Under Uncertainty:** We introduce the von Neumann-Morgenstern (vNM) expected utility framework, the foundation of modern finance and macroeconomics.\n",
    "5.  **General Equilibrium:** We use the Edgeworth Box to illustrate how the choices of individual agents aggregate and interact to determine market-clearing prices and allocations."
   ]
  },
  {
   "cell_type": "markdown",
   "metadata": {},
   "source": [
    "### 1. Duality in Consumer Theory\n",
    "Duality asserts that every constrained optimization problem (the **primal problem**) has a corresponding **dual problem** that examines the same underlying choice from an inverted perspective."
   ]
  },
  {
   "cell_type": "markdown",
   "metadata": {},
   "source": [
    "#### 1.1 Primal and Dual Problems\n",
    "| | Primal Problem: Utility Maximization (UMP) | Dual Problem: Expenditure Minimization (EMP) |\n",
    "| :--- | :--- | :--- |\n",
    "| **Goal** | Maximize utility for a given budget. | Minimize spending for a given utility level. |\n",
    "| **Objective** | $\\max_{x_1, x_2} U(x_1, x_2)$ | $\\min_{x_1, x_2} p_1 x_1 + p_2 x_2$ |\n",
    "| **Constraint** | $p_1 x_1 + p_2 x_2 \\le M$ | $U(x_1, x_2) \\ge \\bar{U}$ |\n",
    "| **Solution** | Marshallian Demand $x(p, M)$ | Hicksian (Compensated) Demand $h(p, U)$ |\n",
    "| **Value Function**| Indirect Utility $v(p, M) = U(x(p,M))$ | Expenditure Function $e(p, U) = p \\cdot h(p,U)$ |"
   ]
  },
  {
   "cell_type": "markdown",
   "metadata": {},
   "source": [
    "#### 1.2 Key Results: Roy's Identity, Shephard's Lemma, and the Slutsky Equation\n",
    "- **Roy's Identity** recovers Marshallian demand from the indirect utility function: $x_i(p, M) = - \\frac{\\partial v(p, M) / \\partial p_i}{\\partial v(p, M) / \\partial M}$.\n",
    "- **Shephard's Lemma** recovers Hicksian demand from the expenditure function: $h_i(p, U) = \\frac{\\partial e(p, U)}{\\partial p_i}$.\n",
    "- The **Slutsky Equation** decomposes the total effect of a price change into a substitution effect and an income effect:\n",
    "$$ \\underbrace{\\frac{\\partial x_i(p,M)}{\\partial p_j}}_{\\text{Total Effect}} = \\underbrace{\\frac{\\partial h_i(p,U)}{\\partial p_j}}_{\\text{Substitution Effect}} - \\underbrace{x_j(p,M) \\frac{\\partial x_i(p,M)}{\\partial M}}_{\\text{Income Effect}} $$ "
   ]
  },
  {
   "cell_type": "markdown",
   "metadata": {},
   "source": [
    "#### 1.3 The Integrability Problem\n",
    "The theory so far starts with preferences and derives demand. The **integrability problem** asks the reverse: given an observed demand function, can we recover the utility function that generated it? This is crucial for empirical work.\n",
    "\n",
    "The answer is yes, provided the demand function satisfies certain conditions. From the Slutsky equation, we can derive the **Slutsky matrix**, $S(p,M)$, whose elements are $S_{ij} = \\frac{\\partial x_i}{\\partial p_j} + x_j \\frac{\\partial x_i}{\\partial M}$. For a demand function to be consistent with utility maximization, its Slutsky matrix must be **symmetric** and **negative semi-definite**. If these conditions hold, we can \"integrate\" the demand function to find the unique (up to a monotonic transformation) underlying expenditure and utility functions."
   ]
  },
  {
   "cell_type": "markdown",
   "metadata": {},
   "source": [
    "### 2. Revealed Preference\n",
    "The theory of **Revealed Preference**, developed by Paul Samuelson, provides a non-parametric, behavioral foundation for consumer theory that does not require assuming the existence of a utility function. It relies only on observing consumer choices at different prices."
   ]
  },
  {
   "cell_type": "markdown",
   "metadata": {},
   "source": [
    "#### 2.1 WARP and SARP\n",
    "- **Weak Axiom of Revealed Preference (WARP):** If a bundle $x^1$ is chosen when bundle $x^2$ was also affordable, then it can never be the case that $x^2$ is chosen when $x^1$ is also affordable. Formally: If $p^1 \\cdot x^1 \\ge p^1 \\cdot x^2$, then it must be that $p^2 \\cdot x^2 < p^2 \\cdot x^1$. A violation of WARP implies inconsistent choices.\n",
    "- **Strong Axiom of Revealed Preference (SARP):** This is the transitive closure of WARP. It rules out longer chains of inconsistent choices (e.g., $x^1$ revealed preferred to $x^2$, which is revealed preferred to $x^3$, which is then revealed preferred to $x^1$). If a consumer's choices satisfy SARP, then we can construct a utility function that rationalizes their behavior."
   ]
  },
  {
   "cell_type": "code",
   "execution_count": null,
   "metadata": {},
   "outputs": [],
   "source": [
    "sec(\"Checking for WARP Violations\")\n",
    "\n",
    "def check_warp(prices, quantities):\n",
    "    n_obs = len(prices)\n",
    "    for i in range(n_obs):\n",
    "        for j in range(n_obs):\n",
    "            if i == j: continue\n",
    "            # Check if bundle j was affordable when bundle i was chosen\n",
    "            if np.dot(prices[i], quantities[i]) >= np.dot(prices[i], quantities[j]):\n",
    "                # If so, check if bundle i was affordable when bundle j was chosen\n",
    "                if np.dot(prices[j], quantities[j]) >= np.dot(prices[j], quantities[i]):\n",
    "                    print(f\"WARP VIOLATION: Obs {i} and Obs {j} are inconsistent.\")\n",
    "                    return False\n",
    "    print(\"No WARP violations found. Choices are consistent.\")\n",
    "    return True\n",
    "\n",
    "# Dataset 1: Consistent Choices\n",
    "prices1 = np.array([[2, 1], [1, 2]])\n",
    "quantities1 = np.array([[10, 5], [5, 10]])\n",
    "note(\"Checking Dataset 1:\")\n",
    "check_warp(prices1, quantities1)\n",
    "\n",
    "# Dataset 2: Inconsistent Choices\n",
    "prices2 = np.array([[2, 1], [1, 2]])\n",
    "quantities2 = np.array([[10, 5], [8, 8]]) # Agent buys (8,8) when (10,5) is cheaper\n",
    "note(\"\\nChecking Dataset 2:\")\n",
    "check_warp(prices2, quantities2)"
   ]
  },
  {
   "cell_type": "markdown",
   "metadata": {},
   "source": [
    "### 3. Application: Labor Supply and Taxation\n",
    "The standard consumer theory framework can be applied to the crucial **labor supply** decision. An agent chooses how much to consume ($C$) and how much leisure to enjoy ($L$), subject to a time constraint and a budget constraint. The price of leisure is the wage ($w$) forgone by not working.\n",
    "\n",
    "Introducing a tax on labor income, $\\tau$, distorts this choice. The agent's effective wage becomes $w(1-\\tau)$. The tax creates a wedge between the marginal product of labor and the marginal rate of substitution between leisure and consumption. This leads to a **deadweight loss**, a measure of the welfare loss from the tax distortion."
   ]
  },
  {
   "cell_type": "code",
   "execution_count": null,
   "metadata": {},
   "outputs": [],
   "source": [
    "sec(\"Labor Supply and the Deadweight Loss of Taxation\")\n",
    "\n",
    "def u_labor(C, L, gamma=0.5): return np.log(C) + gamma * np.log(L)\n",
    "w, T_total = 20, 24 # Wage rate, total time\n",
    "\n",
    "def solve_labor_supply(tau):\n",
    "    # Maximize u(c, l) s.t. c = w*(1-tau)*(T-l)\n",
    "    # Analytical solution for this utility function:\n",
    "    L_opt = (gamma * w * (1-tau) * T_total) / (w * (1-tau) + gamma * w * (1-tau))\n",
    "    C_opt = w * (1-tau) * (T_total - L_opt)\n",
    "    return L_opt, C_opt\n",
    "\n",
    "# No tax case\n",
    "L_notax, C_notax = solve_labor_supply(0)\n",
    "U_notax = u_labor(C_notax, L_notax)\n",
    "# With tax case\n",
    "tax_rate = 0.3\n",
    "L_tax, C_tax = solve_labor_supply(tax_rate)\n",
    "U_tax = u_labor(C_tax, L_tax)\n",
    "tax_revenue = tax_rate * w * (T_total - L_tax)\n",
    "\n",
    "# Calculate deadweight loss\n",
    "C_equiv = np.exp(U_tax - u_labor(1, L_tax)) # Find C that gives same utility as after-tax bundle\n",
    "dwl = (w * (T_total - L_notax) - C_notax) - (w * (T_total - L_tax) - C_tax - tax_revenue)\n",
    "\n",
    "note(f\"With a {tax_rate:.0%} tax, labor supply falls from {T_total-L_notax:.2f} to {T_total-L_tax:.2f} hours.\")\n",
    "note(f\"The deadweight loss of the tax is approximately ${dwl:.2f}.\")"
   ]
  },
  {
   "cell_type": "markdown",
   "metadata": {},
   "source": [
    "### 4. Choice Under Uncertainty"
   ]
  },
  {
   "cell_type": "markdown",
   "metadata": {},
   "source": [
    "#### 4.1 Expected Utility and Risk Aversion\n",
    "Agents evaluate lotteries by their expected utility, $E[U(L)] = \\sum p_i u(x_i)$. The curvature of the Bernoulli utility function $u(x)$ determines the agent's attitude toward risk. The **Arrow-Pratt coefficient of relative risk aversion (RRA)** is $R(x) = -x u''(x) / u'(x)$."
   ]
  },
  {
   "cell_type": "markdown",
   "metadata": {},
   "source": [
    "#### 4.2 The Stochastic Discount Factor (SDF)\n",
    "The intertemporal choice problem under uncertainty gives rise to the fundamental asset pricing equation:\n",
    "$$ 1 = E_t [M_{t+1} R_{t+1}] \\quad \\text{where} \\quad M_{t+1} = \\beta \\frac{u'(c_{t+1})}{u'(c_t)} $$\n",
    "$M_{t+1}$ is the **Stochastic Discount Factor (SDF)**. It is high when future consumption is low, making future payoffs in those states particularly valuable. This implies that assets that pay off in \"bad times\" should have a lower expected return than assets that pay off in \"good times.\""
   ]
  },
  {
   "cell_type": "markdown",
   "metadata": {},
   "source": [
    "### 5. General Equilibrium\n",
    "We bring consumer and producer theory together in a general equilibrium framework. The **Edgeworth Box** is the classic tool for analyzing a pure exchange economy. The set of all **Pareto efficient** points forms the **contract curve**, where the agents' indifference curves are tangent ($MRS^A = MRS^B$). The **Fundamental Welfare Theorems** establish the deep connection between competitive equilibria and Pareto efficiency."
   ]
  },
  {
   "cell_type": "markdown",
   "metadata": {},
   "source": [
    "### 6. Chapter Summary\n",
    "- **Duality:** The UMP and EMP provide a symmetric view of consumer choice. Roy's Identity and Shephard's Lemma provide powerful ways to recover demand functions. The **integrability problem** asks when a demand system can be rationalized by a utility function.\n",
    "- **Revealed Preference:** Provides a non-parametric way to test for the consistency of consumer choices using WARP and SARP.\n",
    "- **Labor Supply:** The standard choice framework can be applied to the labor-leisure decision, providing a tool to analyze the welfare costs of taxation.\n",
    "- **Uncertainty:** The vNM framework and the concept of risk aversion are central to modern finance and macroeconomics. The SDF provides the unifying pricing kernel for all assets.\n",
    "- **General Equilibrium:** The welfare theorems establish the conditions under which market equilibria are socially efficient."
   ]
  },
  {
   "cell_type": "markdown",
   "metadata": {},
   "source": [
    "### 7. Exercises\n",
    "\n",
    "1.  **Deriving Demand:** For a consumer with Cobb-Douglas utility $U(x_1, x_2) = x_1^\\alpha x_2^{1-\\alpha}$, analytically derive the Marshallian demand functions and the expenditure function.\n",
    "\n",
    "2.  **Giffen Goods:** A Giffen good is a good for which demand increases as the price increases. Based on the Slutsky equation, what condition must be true for a good to be a Giffen good? Is it possible for a good to be Giffen if it is a normal good?\n",
    "\n",
    "3.  **Checking SARP:** The SARP requires checking for longer cycles of revealed preference. Write a function that takes a set of prices and quantities and checks for violations of SARP. (Hint: you can represent the revealed preference relations as a directed graph and check for cycles).\n",
    "\n",
    "4.  **Portfolio Choice with Background Risk:** Consider an agent choosing their portfolio share $\\alpha$ in a risky asset. Now, add an independent source of background risk: a 50% chance their wealth will be reduced by a fixed amount `L`, regardless of their portfolio choice. How does the presence of this uninsurable background risk affect their optimal holding of the risky asset $\\alpha^*$? Solve computationally and explain the intuition.\n",
    "\n",
    "5.  **Finding a Competitive Equilibrium:** For the Edgeworth box economy specified in the code, find the competitive equilibrium price ratio $p_1/p_2$ that clears the market, assuming the initial endowment is (5, 5) for each agent."
   ]
  }
 ],
 "metadata": {
  "kernelspec": {
   "display_name": "Python 3",
   "language": "python",
   "name": "python3"
  },
  "language_info": {
   "codemirror_mode": {
    "name": "ipython",
    "version": 3
   },
   "file_extension": ".py",
   "mimetype": "text/x-python",
   "name": "python",
   "nbconvert_exporter": "python",
   "pygments_lexer": "ipython3",
   "version": "3.11.5"
  }
 },
 "nbformat": 4,
 "nbformat_minor": 4
}