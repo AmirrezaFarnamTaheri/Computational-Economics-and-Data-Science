{
 "cells": [
  {
   "cell_type": "code",
   "execution_count": null,
   "metadata": {
    "collapsed": true
   },
   "outputs": [],
   "source": [
    "# === Environment Setup ===\n",
    "import os, sys, math, time, random, json, textwrap, warnings\n",
    "import numpy as np, pandas as pd, matplotlib.pyplot as plt\n",
    "import ipywidgets as widgets\n",
    "from IPython.display import display, Markdown\n",
    "\n",
    "# --- Configuration ---\n",
    "plt.style.use('seaborn-v0_8-whitegrid')\n",
    "plt.rcParams.update({'font.size': 12, 'figure.figsize': (10, 6), 'figure.dpi': 130,\n",
    "                     'axes.titlesize': 'x-large', 'axes.labelsize': 'large',\n",
    "                     'xtick.labelsize': 'medium', 'ytick.labelsize': 'medium'})\n",
    "np.set_printoptions(suppress=True, linewidth=120, precision=4)\n",
    "\n",
    "# --- Utility Functions ---\n",
    "def note(msg, **kwargs):\n",
    "    display(Markdown(f\"<div class='alert alert-info'>\ud83d\udcdd {textwrap.fill(msg, width=100)}</div>\"))\n",
    "def sec(title):\n",
    "    print(f\"\\n{100*'='}\\n| {title.upper()} |\\n{100*'='}\")\n",
    "\n",
    "note(\"Environment initialized for Advanced Information Economics.\")"
   ]
  },
  {
   "cell_type": "markdown",
   "metadata": {},
   "source": [
    "# Part 5: Microeconomic Theory\n",
    "## Chapter 5.06: Information Economics: Signaling and Screening\n",
    "\n",
    "### Table of Contents\n",
    "1.  [The Problem of Asymmetric Information](#1.-The-Problem-of-Asymmetric-Information)\n",
    "    *   [1.1 Akerlof's Market for Lemons](#1.1-Akerlof's-Market-for-Lemons)\n",
    "2.  [Signaling Games](#2.-Signaling-Games)\n",
    "    *   [2.1 The Spence Job-Market Model](#2.1-The-Spence-Job-Market-Model)\n",
    "    *   [2.2 Perfect Bayesian Equilibrium and Refinements](#2.2-Perfect-Bayesian-Equilibrium-and-Refinements)\n",
    "3.  [Screening Games](#3.-Screening-Games)\n",
    "    *   [3.1 The Rothschild-Stiglitz Insurance Model](#3.1-The-Rothschild-Stiglitz-Insurance-Model)\n",
    "4.  [Application: Reputational Models](#4.-Application:-Reputational-Models)\n",
    "5.  [The Theory of the Firm](#5.-The-Theory-of-the-Firm)\n",
    "6.  [Chapter Summary](#6.-Chapter-Summary)\n",
    "7.  [Exercises](#7.-Exercises)"
   ]
  },
  {
   "cell_type": "markdown",
   "metadata": {},
   "source": [
    "### 1. The Problem of Asymmetric Information\n",
    "In many economic relationships, one party has better information than another. This **asymmetric information** can cause markets to function poorly or even collapse entirely. The study of these problems, pioneered by Nobel laureates George Akerlof, Michael Spence, and Joseph Stiglitz, is a cornerstone of modern microeconomic theory.\n",
    "\n",
    "This chapter explores the market responses to **hidden information** (adverse selection), where one party has private information about their \"type.\"\n",
    "1.  **Signaling:** A solution where the *informed* party takes a costly, observable action to credibly reveal their hidden type.\n",
    "2.  **Screening:** An alternative solution where the *uninformed* party designs a menu of contracts to induce the informed party to self-select and reveal their type."
   ]
  },
  {
   "cell_type": "markdown",
   "metadata": {},
   "source": [
    "#### 1.1 Akerlof's Market for Lemons\n",
    "George Akerlof's (1970) model shows how adverse selection can destroy a market. When buyers cannot distinguish high-quality \"peaches\" from low-quality \"lemons,\" they will only offer a price based on the average quality in the market. If this average price is below the value at which peach-owners are willing to sell, high-quality goods will exit the market, leading to a collapse where only lemons are traded. This destroys the potential gains from trade for high-quality goods."
   ]
  },
  {
   "cell_type": "markdown",
   "metadata": {},
   "source": [
    "### 2. Signaling Games"
   ]
  },
  {
   "cell_type": "markdown",
   "metadata": {},
   "source": [
    "#### 2.1 The Spence Job-Market Model\n",
    "In Spence's (1973) model, education does not increase productivity. It serves purely as a **signal** of a worker's innate ability. The signal is credible because the cost of acquiring education is lower for high-ability workers. A **separating equilibrium** exists if high-ability workers choose to acquire a certain level of education $e^*$ and low-ability workers choose not to, and firms' beliefs are consistent with this. This requires two incentive compatibility constraints to hold:\n",
    "1.  **High-Ability ICC:** High-ability workers must prefer getting education for a high wage over getting no education for a low wage.\n",
    "2.  **Low-Ability ICC:** Low-ability workers must find it too costly to mimic the high-ability workers.\n",
    "These define a range of education levels that can support a separating equilibrium: $ e^* \\in [\\frac{w_H - w_L}{c_L}, \\frac{w_H - w_L}{c_H}] $."
   ]
  },
  {
   "cell_type": "markdown",
   "metadata": {},
   "source": [
    "#### 2.2 Perfect Bayesian Equilibrium and Refinements\n",
    "Signaling games are dynamic games of incomplete information. The appropriate solution concept is **Perfect Bayesian Equilibrium (PBE)**. A PBE consists of a set of strategies for all players and a set of beliefs for the uninformed player, such that:\n",
    "1.  **Sequential Rationality:** At every stage, each player's strategy is optimal given their beliefs.\n",
    "2.  **Belief Consistency:** Beliefs are updated from priors using Bayes' rule along the equilibrium path.\n",
    "\n",
    "A problem is that PBE places no restrictions on beliefs for *off-equilibrium* actions. This can lead to implausible equilibria. The **Intuitive Criterion** by Cho and Kreps (1987) is a **refinement** that rules out equilibria that are supported by unreasonable off-path beliefs. It argues that if an off-equilibrium action is taken, the uninformed player should not believe it was taken by a type who would have been worse off no matter how the receiver responded. In the Spence model, this refinement selects the most efficient separating equilibrium, where $e^*$ is at the lowest possible level that still deters low-ability types."
   ]
  },
  {
   "cell_type": "markdown",
   "metadata": {},
   "source": [
    "### 3. Screening Games"
   ]
  },
  {
   "cell_type": "markdown",
   "metadata": {},
   "source": [
    "#### 3.1 The Rothschild-Stiglitz Insurance Model\n",
    "In a **screening** game, the *uninformed* party moves first, designing a menu of contracts to induce agents to reveal their hidden type. The canonical model is **Rothschild and Stiglitz (1976)** on competitive insurance markets.\n",
    "\n",
    "An insurer faces high-risk and low-risk customers but cannot tell them apart. If the insurer offers a single contract based on average risk, only high-risk types will buy it (adverse selection), and the insurer will make a loss. The only possible equilibrium is a separating one, where the insurer offers a menu of two contracts:\n",
    "1.  **Full Insurance for High-Risk:** A contract with full insurance, priced actuarially for high-risk types.\n",
    "2.  **Partial Insurance for Low-Risk:** A contract with only partial insurance (e.g., a high deductible), priced for low-risk types. The coverage must be distorted downwards just enough to make this contract unattractive to the high-risk types.\n",
    "\n",
    "A key finding is that even this separating equilibrium may not exist if there is a large enough fraction of low-risk people, as a rival insurer could profitably offer a different contract that breaks the equilibrium."
   ]
  },
  {
   "cell_type": "code",
   "execution_count": null,
   "metadata": {},
   "outputs": [],
   "source": [
    "sec(\"Visualizing the Rothschild-Stiglitz Screening Equilibrium\")\n",
    "def u_rs(w): return np.sqrt(w)\n",
    "w0, loss = 100, 64\n",
    "p_H, p_L = 0.5, 0.1\n",
    "fig, ax = plt.subplots(figsize=(12, 8))\n",
    "w_sick = np.linspace(w0 - loss, w0, 100)\n",
    "w_healthy_H = (w0 - p_H * (w0 - w_sick)) / (1 - p_H)\n",
    "w_healthy_L = (w0 - p_L * (w0 - w_sick)) / (1 - p_L)\n",
    "ax.plot(w_sick, w_healthy_H, 'r--', label='Zero-Profit Line (High Risk)')\n",
    "ax.plot(w_sick, w_healthy_L, 'b--', label='Zero-Profit Line (Low Risk)')\n",
    "eu_H_no_ins = p_H * u_rs(w0 - loss) + (1 - p_H) * u_rs(w0)\n",
    "eu_L_no_ins = p_L * u_rs(w0 - loss) + (1 - p_L) * u_rs(w0)\n",
    "ic_H = ((eu_H_no_ins - p_H * u_rs(w_sick)) / (1 - p_H))**2\n",
    "ic_L = ((eu_L_no_ins - p_L * u_rs(w_sick)) / (1 - p_L))**2\n",
    "ax.plot(w_sick, ic_H, 'r-', label='High-Risk Indifference Curve')\n",
    "ax.plot(w_sick, ic_L, 'b-', label='Low-Risk Indifference Curve')\n",
    "idx_L = np.argmin(np.abs(ic_H - w_healthy_L))\n",
    "alpha_H = (w0 - loss, w0); alpha_L = (w_sick[idx_L], w_healthy_L[idx_L])\n",
    "ax.plot(alpha_H[0], alpha_H[1], 'o', ms=12, color='red', label='Contract $\\alpha_H$ (Full)')\n",
    "ax.plot(alpha_L[0], alpha_L[1], 'o', ms=12, color='blue', label='Contract $\\alpha_L$ (Partial)')\n",
    "ax.set_title('Rothschild-Stiglitz Screening Equilibrium')\n",
    "ax.set(xlabel='Wealth if Sick ($W_S$)', ylabel='Wealth if Healthy ($W_H$)', xlim=(35, 101), ylim=(95, 105))\n",
    "ax.plot([w0-loss, w0], [w0-loss, w0], 'k:', label='Certainty Line'); ax.legend()\n",
    "plt.show()"
   ]
  },
  {
   "cell_type": "markdown",
   "metadata": {},
   "source": [
    "### 4. Application: Reputational Models\n",
    "**Reputational models** are dynamic games of incomplete information where a long-lived player's actions can build a reputation that influences the behavior of short-lived players. The classic example is **limit pricing** (Milgrom & Roberts, 1982), where an incumbent monopolist may fight an entrant (by starting a price war) even if it is costly in the short run. This action serves as a signal to *future* potential entrants that the incumbent is a \"tough\" or low-cost type, thereby deterring future entry and preserving long-run monopoly profits."
   ]
  },
  {
   "cell_type": "markdown",
   "metadata": {},
   "source": [
    "### 5. The Theory of the Firm\n",
    "Asymmetric information is also central to the theory of the firm.\n",
    "- **Team Production (Alchian & Demsetz, 1972):** When output is the result of a team's effort, it is hard to measure individual contributions. This creates a free-rider problem. The classical solution is to introduce a monitor (a manager) who specializes in observing inputs and has a claim to the firm's residual profits, giving them an incentive to ensure effort.\n",
    "- **The Ratchet Effect (Holmström, 1999):** In a dynamic setting, a manager might be hesitant to reveal high productivity today for fear that the principal will demand more (i.e., \"ratchet up\" the performance target) in the future without a corresponding increase in pay. This can lead to a sub-optimal suppression of effort and information."
   ]
  },
  {
   "cell_type": "markdown",
   "metadata": {},
   "source": [
    "### 6. Chapter Summary\n",
    "- **Asymmetric Information** creates two main problems: **adverse selection** (pre-contractual hidden information) and **moral hazard** (post-contractual hidden action).\n",
    "- **Signaling** (by the informed party) and **Screening** (by the uninformed party) are two market-based solutions to adverse selection.\n",
    "- **Perfect Bayesian Equilibrium (PBE)** is the core solution concept for dynamic games of incomplete information. Refinements like the **Intuitive Criterion** can rule out implausible equilibria.\n",
    "- **Reputation** can serve as a powerful asset in dynamic games, allowing players to sustain outcomes that would be impossible in one-shot interactions.\n",
    "- **The Theory of the Firm** can be understood as an institutional response to the challenges of asymmetric information, such as free-riding in teams and the ratchet effect."
   ]
  },
  {
   "cell_type": "markdown",
   "metadata": {},
   "source": [
    "### 7. Exercises\n",
    "\n",
    "1.  **Signaling Failure:** What happens in the Spence model if the single-crossing property does not hold (i.e., $c_L \\le c_H$)? Can a separating equilibrium exist? Explain why or why not.\n",
    "\n",
    "2.  **Pooling Equilibrium:** A pooling equilibrium is one where both high- and low-ability types choose the same education level. Under what conditions could such an equilibrium exist? How could it be \"broken\" by a firm offering a slightly different contract?\n",
    "\n",
    "3.  **The Intuitive Criterion:** Explain in your own words how the Intuitive Criterion refinement rules out inefficient separating equilibria in the Spence model.\n",
    "\n",
    "4.  **VCG Mechanism:** Consider a public project (e.g., a park) with a cost of C=100. There are three residents with private valuations $v = [30, 40, 50]$. Is it efficient to build the park? If they all report their true values, what tax does each person pay under the VCG mechanism?\n",
    "\n",
    "5.  **The Ratchet Effect:** Describe a real-world example of the ratchet effect in a workplace or a planned economy. How does this informational problem lead to inefficiency?"
   ]
  }
 ],
 "metadata": {
  "kernelspec": {
   "display_name": "Python 3",
   "language": "python",
   "name": "python3"
  },
  "language_info": {
   "codemirror_mode": {
    "name": "ipython",
    "version": 3
   },
   "file_extension": ".py",
   "mimetype": "text/x-python",
   "name": "python",
   "nbconvert_exporter": "python",
   "pygments_lexer": "ipython3",
   "version": "3.11.5"
  }
 },
 "nbformat": 4,
 "nbformat_minor": 4
}