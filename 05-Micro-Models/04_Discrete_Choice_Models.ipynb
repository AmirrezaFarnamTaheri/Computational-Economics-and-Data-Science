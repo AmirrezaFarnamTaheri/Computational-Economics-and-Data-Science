{
 "cells": [
  {
   "cell_type": "code",
   "execution_count": null,
   "metadata": {
    "collapsed": true
   },
   "outputs": [],
   "source": [
    "# === Environment Setup ===\n",
    "import os, sys, math, time, random, json, textwrap, warnings\n",
    "import numpy as np, pandas as pd\n",
    "import matplotlib.pyplot as plt\n",
    "import seaborn as sns\n",
    "from scipy.optimize import minimize\n",
    "from scipy.stats import gumbel_r, norm\n",
    "from IPython.display import display, Markdown, Image\n",
    "from collections import OrderedDict\n",
    "try:\n",
    "    import pylogit as pl\n",
    "    PYLOGIT_AVAILABLE = True\n",
    "except ImportError:\n",
    "    PYLOGIT_AVAILABLE = False\n",
    "try:\n",
    "    import pymc as pm\n",
    "    import pytensor.tensor as pt\n",
    "    import arviz as az\n",
    "    PYMC_AVAILABLE = True\n",
    "except ImportError:\n",
    "    PYMC_AVAILABLE = False\n",
    "\n",
    "# --- Configuration ---\n",
    "plt.style.use('seaborn-v0_8-whitegrid')\n",
    "plt.rcParams.update({'font.size': 12, 'figure.figsize': (11, 7), 'figure.dpi': 130})\n",
    "np.set_printoptions(suppress=True, linewidth=120, precision=4)\n",
    "\n",
    "# --- Utility Functions ---\n",
    "def note(msg): display(Markdown(f\"<div class='alert alert-info'>\ud83d\udcdd {textwrap.fill(msg, width=100)}</div>\"))\n",
    "def sec(title): print(f\"\\n{100*'='}\\n| {title.upper()} |\\n{100*'='}\")\n",
    "\n",
    "note(f\"Environment initialized. PyLogit: {PYLOGIT_AVAILABLE}, PyMC: {PYMC_AVAILABLE}\")"
   ]
  },
  {
   "cell_type": "markdown",
   "metadata": {},
   "source": [
    "# Part 5: Microeconomic Theory\n",
    "## Chapter 5.04: Discrete Choice Models: Theory and Application\n",
    "\n",
    "### Table of Contents\n",
    "1.  [The Random Utility Model (RUM) Framework](#1.-The-Random-Utility-Model-(RUM)-Framework)\n",
    "2.  [The Multinomial Logit (MNL)](#2.-The-Multinomial-Logit-(MNL))\n",
    "    *   [2.1 Derivation from Gumbel Distributed Errors](#2.1-Derivation-from-Gumbel-Distributed-Errors)\n",
    "    *   [2.2 The IIA Property and its Limitations](#2.2-The-IIA-Property-and-its-Limitations)\n",
    "3.  [Relaxing the IIA Assumption: Nested and Mixed Logit](#3.-Relaxing-the-IIA-Assumption:-Nested-and-Mixed-Logit)\n",
    "    *   [3.1 The Nested Logit Model](#3.1-The-Nested-Logit-Model)\n",
    "    *   [3.2 The Mixed Logit Model](#3.2-The-Mixed-Logit-Model)\n",
    "4.  [Estimation Methods](#4.-Estimation-Methods)\n",
    "    *   [4.1 Maximum Likelihood (for MNL and Nested Logit)](#4.1-Maximum-Likelihood-(for-MNL-and-Nested-Logit))\n",
    "    *   [4.2 Maximum Simulated Likelihood (for Mixed Logit)](#4.2-Maximum-Simulated-Likelihood-(for-Mixed-Logit))\n",
    "    *   [4.3 Bayesian Estimation via MCMC](#4.3-Bayesian-Estimation-via-MCMC)\n",
    "5.  [Application: The BLP Model of Demand](#5.-Application:-The-BLP-Model-of-Demand)\n",
    "6.  [Chapter Summary](#6.-Chapter-Summary)\n",
    "7.  [Exercises](#7.-Exercises)"
   ]
  },
  {
   "cell_type": "markdown",
   "metadata": {},
   "source": [
    "### 1. The Random Utility Model (RUM) Framework\n",
    "\n",
    "Developed by Daniel McFadden, the RUM frames the choice problem from the perspective of an econometrician with imperfect information. The utility individual $n$ derives from choosing alternative $j$ is:\n",
    "$$ U_{nj} = V_{nj} + \\epsilon_{nj} $$ \n",
    "Where $V_{nj} = \\mathbf{X}_{nj}'\\beta$ is the systematic (observable) utility and $\\epsilon_{nj}$ is the stochastic (unobservable) utility. The probability that agent $n$ chooses alternative $i$ is the probability that its utility is the highest:\n",
    "$$ P_{ni} = \\text{Prob}(V_{ni} + \\epsilon_{ni} > V_{nj} + \\epsilon_{nj} \\quad \\forall j \\neq i) $$ \n",
    "The specific functional form of this probability depends entirely on the assumption made about the joint distribution of the error terms."
   ]
  },
  {
   "cell_type": "markdown",
   "metadata": {},
   "source": [
    "### 2. The Multinomial Logit (MNL)"
   ]
  },
  {
   "cell_type": "markdown",
   "metadata": {},
   "source": [
    "#### 2.1 Derivation from Gumbel Distributed Errors\n",
    "The **Multinomial Logit (MNL)** model arises from the assumption that the error terms $\\epsilon_{nj}$ are **independently and identically distributed (IID)** according to a **Type I Extreme Value (Gumbel)** distribution. The CDF of the Gumbel distribution is $F(\\epsilon) = \\exp(-e^{-\\epsilon})$.\n",
    "\n",
    "This assumption is powerful because the difference of two Gumbel variables follows a logistic distribution, and the maximum of several Gumbel variables also has a known, simple distribution. This allows the complex integral for the choice probability to be solved analytically, yielding the famous logit formula:\n",
    "$$ P_{ni} = \\frac{e^{V_{ni}}}{\\sum_{j \\in C_n} e^{V_{nj}}} $$"
   ]
  },
  {
   "cell_type": "markdown",
   "metadata": {},
   "source": [
    "#### 2.2 The IIA Property and its Limitations\n",
    "The IID assumption leads to the **Independence of Irrelevant Alternatives (IIA)** property. The ratio of probabilities for any two alternatives, $P_{ni}/P_{nk} = e^{V_{ni}}/e^{V_{nk}}$, depends only on the attributes of those two alternatives. This implies that introducing a new alternative reduces the probabilities of all existing alternatives proportionally. This is unrealistic in many settings (e.g., the \"red bus/blue bus\" problem), motivating more advanced models."
   ]
  },
  {
   "cell_type": "markdown",
   "metadata": {},
   "source": [
    "### 3. Relaxing the IIA Assumption: Nested and Mixed Logit"
   ]
  },
  {
   "cell_type": "markdown",
   "metadata": {},
   "source": [
    "#### 3.1 The Nested Logit Model\n",
    "The **Nested Logit** model partially relaxes the IIA assumption by grouping similar alternatives into \"nests.\" The error term $\\epsilon_{nj}$ is decomposed into a component common to the nest and a component specific to the alternative. This induces correlation among alternatives within the same nest.\n",
    "\n",
    "The choice probability becomes a product of the probability of choosing a nest and the probability of choosing an alternative within that nest:\n",
    "$$ P_{ni} = P(i | \\text{nest } k) \\times P(\\text{nest } k) $$\n",
    "The model estimates a **nesting parameter**, $\\lambda_k$, which measures the degree of correlation within the nest. If $\\lambda_k=1$, the model collapses to the standard MNL."
   ]
  },
  {
   "cell_type": "code",
   "execution_count": null,
   "metadata": {},
   "outputs": [],
   "source": [
    "sec(\"Nested Logit Example\")\n",
    "if not PYLOGIT_AVAILABLE:\n",
    "    note(\"Pylogit not installed. Skipping Nested Logit example.\")\n",
    "else:\n",
    "    # Create a long-format dataframe with a 'nest_id' column\n",
    "    # Choices 1,2 are 'bus' (nest 1), choice 3 is 'train' (nest 2)\n",
    "    long_df = pd.DataFrame({\n",
    "        'ind_id': np.repeat(np.arange(100), 3),\n",
    "        'alt_id': np.tile([1,2,3], 100),\n",
    "        'nest_id': np.tile([1,1,2], 100),\n",
    "        'price': np.random.rand(300)*5,\n",
    "        'time': np.random.rand(300)*2\n",
    "    })\n",
    "    # Dummy choice data\n",
    "    long_df['choice'] = (long_df['alt_id'] == np.repeat(np.random.randint(1,4,100), 3)).astype(int)\n",
    "    \n",
    "    spec = OrderedDict([('price', 'all_same'), ('time', 'all_same')])\n",
    "    nest_spec = OrderedDict([('nest_id', [1, 2])])\n",
    "    \n",
    "    model = pl.create_choice_model(data=long_df, alt_id_col='alt_id', obs_id_col='ind_id',\n",
    "                                   choice_col='choice', specification=spec, \n",
    "                                   model_type=\"Nested Logit\", nests=nest_spec)\n",
    "    # model.fit_mle(...) # Estimation would follow"
   ]
  },
  {
   "cell_type": "markdown",
   "metadata": {},
   "source": [
    "#### 3.2 The Mixed Logit Model\n",
    "The **Mixed Logit** (or Random Coefficients Logit) model is the most flexible and widely used discrete choice model. It fully overcomes the IIA property by allowing the coefficients ($\\\beta$) themselves to be random, varying across individuals according to a specified distribution (e.g., price sensitivity $\\beta_{price}$ is normally distributed in the population).\n",
    "\n",
    "The utility function becomes $U_{nj} = \\mathbf{X}_{nj}'\\beta_n + \\epsilon_{nj}$, where $\\beta_n \\sim f(\\beta | b, W)$ is a vector of coefficients for individual $n$. The overall choice probability is the integral of the logit probabilities over the distribution of $\\beta_n$:\n",
    "$$ P_{ni} = \\int \\frac{e^{\\mathbf{X}_{ni}'\\beta}}{\\sum_{j} e^{\\mathbf{X}_{nj}'\\beta}} f(\\beta | b, W) d\\beta $$"
   ]
  },
  {
   "cell_type": "markdown",
   "metadata": {},
   "source": [
    "### 4. Estimation Methods"
   ]
  },
  {
   "cell_type": "markdown",
   "metadata": {},
   "source": [
    "#### 4.1 Maximum Likelihood (for MNL and Nested Logit)\n",
    "For models with a closed-form choice probability, we can use standard Maximum Likelihood Estimation."
   ]
  },
  {
   "cell_type": "markdown",
   "metadata": {},
   "source": [
    "#### 4.2 Maximum Simulated Likelihood (for Mixed Logit)\n",
    "For models without a closed-form probability like the Mixed Logit, we use **Maximum Simulated Likelihood (MSL)**. We approximate the integral in the choice probability by taking many draws from the distribution of the random coefficients and averaging the resulting logit probabilities."
   ]
  },
  {
   "cell_type": "markdown",
   "metadata": {},
   "source": [
    "#### 4.3 Bayesian Estimation via MCMC\n",
    "An alternative to MSL for Mixed Logit is to use Bayesian MCMC methods. This approach treats the individual-level coefficients $\\beta_n$ as latent variables to be estimated along with the population-level parameters $(b, W)$. It can be more computationally robust and provides a richer characterization of uncertainty."
   ]
  },
  {
   "cell_type": "markdown",
   "metadata": {},
   "source": [
    "### 5. Application: The BLP Model of Demand\n",
    "The **Berry, Levinsohn, and Pakes (BLP, 1995)** model is the workhorse of modern empirical Industrial Organization. It combines a Mixed Logit demand model with instrumental variables to tackle the critical problem of **price endogeneity** (prices are correlated with unobserved product quality).\n",
    "\n",
    "**The BLP Algorithm:**\n",
    "1.  **Demand Side:** A Mixed Logit model relates consumer choices to product characteristics (including price) and unobserved quality, $\\xi_j$. The model allows for heterogeneous consumer tastes.\n",
    "2.  **Supply Side:** Firms are assumed to set prices in a Bertrand-Nash equilibrium, where price is a function of marginal cost and the prices of competing products.\n",
    "3.  **Inversion:** The key insight is to use the model to *invert* the observed market shares to back out the unobserved product quality shocks, $\\xi_j$, that are consistent with the data.\n",
    "4.  **GMM Estimation:** The final step is a GMM estimation. The moment condition is that the unobserved quality shocks, $\\xi_j$, must be uncorrelated with the instrumental variables. Common instruments include the characteristics of *other* firms' products, which are correlated with price but plausibly uncorrelated with the unobserved quality of a specific product."
   ]
  },
  {
   "cell_type": "markdown",
   "metadata": {},
   "source": [
    "### 6. Chapter Summary\n",
    "- **RUM:** The Random Utility Model is the theoretical foundation, where choice probabilities are determined by the distribution of unobserved utility.\n",
    "- **Logit Models:** Assuming IID Gumbel errors yields the simple **Multinomial Logit (MNL)**, but this implies the restrictive **IIA property**. The **Nested Logit** relaxes this by grouping alternatives, while the **Mixed Logit** is fully flexible by allowing for random taste coefficients.\n",
    "- **Estimation:** Simple logit models are estimated with MLE. More complex models like Mixed Logit require simulation methods, either **Maximum Simulated Likelihood (MSL)** or **Bayesian MCMC**.\n",
    "- **Endogeneity:** In real-world applications, price is often endogenous. The **BLP model** is the standard framework for tackling this, combining a Mixed Logit demand system with an instrumental variables (GMM) approach."
   ]
  },
  {
   "cell_type": "markdown",
   "metadata": {},
   "source": [
    "### 7. Exercises\n",
    "\n",
    "1.  **The IIA Property:** Explain the \"red bus/blue bus\" problem. Why does the Multinomial Logit model fail in this scenario, and how does the Nested Logit model solve the problem?\n",
    "\n",
    "2.  **Derivation of Logit:** Show that if $U_1 = V_1 + \\epsilon_1$ and $U_2 = V_2 + \\epsilon_2$, where $\\epsilon_1, \\epsilon_2$ are IID Gumbel, then the difference $\\epsilon_1 - \\epsilon_2$ follows a logistic distribution, and from this, derive the binary logit choice probability.\n",
    "\n",
    "3.  **Simulation Bias:** The MSL estimator is consistent, but it is biased in finite samples because of the simulation noise. How does the bias of the MSL estimator depend on the number of simulation draws, `R`? \n",
    "\n",
    "4.  **Welfare Calculation:** The **log-sum-exp term**, $\\ln(\\sum_j e^{V_{nj}})$, represents the expected maximum utility an individual gets from their choice set. Use estimated MNL parameters to calculate the change in consumer welfare (in dollar terms) if the price of one alternative increases by 10%. (Hint: The marginal utility of income is the negative of the price coefficient).\n",
    "\n",
    "5.  **BLP Instruments:** In the BLP model, why are the characteristics of other firms' products considered a valid instrument for price? Explain both the relevance and exogeneity conditions in this context."
   ]
  }
 ],
 "metadata": {
  "kernelspec": {
   "display_name": "Python 3",
   "language": "python",
   "name": "python3"
  },
  "language_info": {
   "codemirror_mode": {
    "name": "ipython",
    "version": 3
   },
   "file_extension": ".py",
   "mimetype": "text/x-python",
   "name": "python",
   "nbconvert_exporter": "python",
   "pygments_lexer": "ipython3",
   "version": "3.11.5"
  }
 },
 "nbformat": 4,
 "nbformat_minor": 4
}